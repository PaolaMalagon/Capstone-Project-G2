{
 "cells": [
  {
   "cell_type": "markdown",
   "metadata": {},
   "source": [
    "# Testing types of statistical analysis"
   ]
  },
  {
   "cell_type": "markdown",
   "metadata": {},
   "source": [
    "Using dataset im.db to work with duration of movies, ratings and number of votes"
   ]
  },
  {
   "cell_type": "code",
   "execution_count": 2,
   "metadata": {},
   "outputs": [],
   "source": [
    "# Import libraries\n",
    "import pandas as pd\n",
    "import sqlite3\n",
    "conn = sqlite3.connect('data/im.db')\n",
    "cur = conn.cursor()\n",
    "import seaborn as sbn\n",
    "\n",
    "import matplotlib.pyplot as plt\n",
    "%matplotlib inline\n",
    "\n",
    "import numpy as np"
   ]
  },
  {
   "cell_type": "code",
   "execution_count": 3,
   "metadata": {},
   "outputs": [
    {
     "data": {
      "text/html": [
       "<div>\n",
       "<style scoped>\n",
       "    .dataframe tbody tr th:only-of-type {\n",
       "        vertical-align: middle;\n",
       "    }\n",
       "\n",
       "    .dataframe tbody tr th {\n",
       "        vertical-align: top;\n",
       "    }\n",
       "\n",
       "    .dataframe thead th {\n",
       "        text-align: right;\n",
       "    }\n",
       "</style>\n",
       "<table border=\"1\" class=\"dataframe\">\n",
       "  <thead>\n",
       "    <tr style=\"text-align: right;\">\n",
       "      <th></th>\n",
       "      <th>runtime_minutes</th>\n",
       "      <th>numvotes</th>\n",
       "      <th>averagerating</th>\n",
       "    </tr>\n",
       "  </thead>\n",
       "  <tbody>\n",
       "    <tr>\n",
       "      <th>0</th>\n",
       "      <td>114.0</td>\n",
       "      <td>40009</td>\n",
       "      <td>2.7</td>\n",
       "    </tr>\n",
       "    <tr>\n",
       "      <th>1</th>\n",
       "      <td>113.0</td>\n",
       "      <td>40213</td>\n",
       "      <td>5.7</td>\n",
       "    </tr>\n",
       "    <tr>\n",
       "      <th>2</th>\n",
       "      <td>108.0</td>\n",
       "      <td>40229</td>\n",
       "      <td>6.7</td>\n",
       "    </tr>\n",
       "    <tr>\n",
       "      <th>3</th>\n",
       "      <td>97.0</td>\n",
       "      <td>40250</td>\n",
       "      <td>6.3</td>\n",
       "    </tr>\n",
       "    <tr>\n",
       "      <th>4</th>\n",
       "      <td>111.0</td>\n",
       "      <td>40290</td>\n",
       "      <td>7.0</td>\n",
       "    </tr>\n",
       "    <tr>\n",
       "      <th>...</th>\n",
       "      <td>...</td>\n",
       "      <td>...</td>\n",
       "      <td>...</td>\n",
       "    </tr>\n",
       "    <tr>\n",
       "      <th>1238</th>\n",
       "      <td>143.0</td>\n",
       "      <td>1183655</td>\n",
       "      <td>8.1</td>\n",
       "    </tr>\n",
       "    <tr>\n",
       "      <th>1239</th>\n",
       "      <td>165.0</td>\n",
       "      <td>1211405</td>\n",
       "      <td>8.4</td>\n",
       "    </tr>\n",
       "    <tr>\n",
       "      <th>1240</th>\n",
       "      <td>169.0</td>\n",
       "      <td>1299334</td>\n",
       "      <td>8.6</td>\n",
       "    </tr>\n",
       "    <tr>\n",
       "      <th>1241</th>\n",
       "      <td>164.0</td>\n",
       "      <td>1387769</td>\n",
       "      <td>8.4</td>\n",
       "    </tr>\n",
       "    <tr>\n",
       "      <th>1242</th>\n",
       "      <td>148.0</td>\n",
       "      <td>1841066</td>\n",
       "      <td>8.8</td>\n",
       "    </tr>\n",
       "  </tbody>\n",
       "</table>\n",
       "<p>1243 rows × 3 columns</p>\n",
       "</div>"
      ],
      "text/plain": [
       "      runtime_minutes  numvotes  averagerating\n",
       "0               114.0     40009            2.7\n",
       "1               113.0     40213            5.7\n",
       "2               108.0     40229            6.7\n",
       "3                97.0     40250            6.3\n",
       "4               111.0     40290            7.0\n",
       "...               ...       ...            ...\n",
       "1238            143.0   1183655            8.1\n",
       "1239            165.0   1211405            8.4\n",
       "1240            169.0   1299334            8.6\n",
       "1241            164.0   1387769            8.4\n",
       "1242            148.0   1841066            8.8\n",
       "\n",
       "[1243 rows x 3 columns]"
      ]
     },
     "execution_count": 3,
     "metadata": {},
     "output_type": "execute_result"
    }
   ],
   "source": [
    "# Calling runtime_minutes, numvotes, averagerating columns with more than 40000 number of votes\n",
    "allruntime= pd.read_sql(\"\"\"\n",
    "SELECT mb.runtime_minutes, mr.numvotes, mr.averagerating\n",
    "  FROM movie_basics mb\n",
    "  JOIN movie_ratings mr USING(movie_id) \n",
    "  WHERE mb.runtime_minutes AND mb.genres IS NOT Null  AND mr.numvotes > 40000\n",
    "  ORDER BY mr.numvotes, mb.runtime_minutes DESC\n",
    "  ;\n",
    "\"\"\", conn)\n",
    "#\n",
    "allruntime\n"
   ]
  },
  {
   "cell_type": "markdown",
   "metadata": {},
   "source": [
    "# Find out if there is a correlation"
   ]
  },
  {
   "cell_type": "code",
   "execution_count": 4,
   "metadata": {},
   "outputs": [],
   "source": [
    "# New variables tu runtime_minutes and numvotes\n",
    "run_time=list(allruntime[\"runtime_minutes\"])\n",
    "votes=list(allruntime[\"numvotes\"])\n"
   ]
  },
  {
   "cell_type": "code",
   "execution_count": 5,
   "metadata": {},
   "outputs": [
    {
     "data": {
      "text/plain": [
       "0.3236165839916023"
      ]
     },
     "execution_count": 5,
     "metadata": {},
     "output_type": "execute_result"
    }
   ],
   "source": [
    "# We want to know if number of votes and duration of movie have a correlation\n",
    "correlation = np.corrcoef(run_time,votes)\n",
    "correlation[0][1]"
   ]
  },
  {
   "cell_type": "markdown",
   "metadata": {},
   "source": [
    "The correlation is poor"
   ]
  },
  {
   "cell_type": "markdown",
   "metadata": {},
   "source": [
    "# Mean and standar desviation of population for a Z-test"
   ]
  },
  {
   "cell_type": "code",
   "execution_count": 9,
   "metadata": {},
   "outputs": [
    {
     "name": "stdout",
     "output_type": "stream",
     "text": [
      "Standar_desviation: 18.945068833245923 Mean: 112.4167337087691\n"
     ]
    }
   ],
   "source": [
    "rmean=sum(run_time)/len(run_time)\n",
    "rstandar=np.std(run_time)\n",
    "print(\"Standar_desviation:\", rstandar, \"Mean:\", rmean)"
   ]
  },
  {
   "cell_type": "markdown",
   "metadata": {},
   "source": [
    "# Sample"
   ]
  },
  {
   "cell_type": "code",
   "execution_count": 12,
   "metadata": {},
   "outputs": [
    {
     "data": {
      "text/html": [
       "<div>\n",
       "<style scoped>\n",
       "    .dataframe tbody tr th:only-of-type {\n",
       "        vertical-align: middle;\n",
       "    }\n",
       "\n",
       "    .dataframe tbody tr th {\n",
       "        vertical-align: top;\n",
       "    }\n",
       "\n",
       "    .dataframe thead th {\n",
       "        text-align: right;\n",
       "    }\n",
       "</style>\n",
       "<table border=\"1\" class=\"dataframe\">\n",
       "  <thead>\n",
       "    <tr style=\"text-align: right;\">\n",
       "      <th></th>\n",
       "      <th>runtime_minutes</th>\n",
       "      <th>numvotes</th>\n",
       "      <th>averagerating</th>\n",
       "    </tr>\n",
       "  </thead>\n",
       "  <tbody>\n",
       "    <tr>\n",
       "      <th>0</th>\n",
       "      <td>121.0</td>\n",
       "      <td>948394</td>\n",
       "      <td>8.1</td>\n",
       "    </tr>\n",
       "    <tr>\n",
       "      <th>1</th>\n",
       "      <td>138.0</td>\n",
       "      <td>1005960</td>\n",
       "      <td>8.1</td>\n",
       "    </tr>\n",
       "    <tr>\n",
       "      <th>2</th>\n",
       "      <td>180.0</td>\n",
       "      <td>1035358</td>\n",
       "      <td>8.2</td>\n",
       "    </tr>\n",
       "    <tr>\n",
       "      <th>3</th>\n",
       "      <td>143.0</td>\n",
       "      <td>1183655</td>\n",
       "      <td>8.1</td>\n",
       "    </tr>\n",
       "    <tr>\n",
       "      <th>4</th>\n",
       "      <td>165.0</td>\n",
       "      <td>1211405</td>\n",
       "      <td>8.4</td>\n",
       "    </tr>\n",
       "    <tr>\n",
       "      <th>5</th>\n",
       "      <td>169.0</td>\n",
       "      <td>1299334</td>\n",
       "      <td>8.6</td>\n",
       "    </tr>\n",
       "    <tr>\n",
       "      <th>6</th>\n",
       "      <td>164.0</td>\n",
       "      <td>1387769</td>\n",
       "      <td>8.4</td>\n",
       "    </tr>\n",
       "    <tr>\n",
       "      <th>7</th>\n",
       "      <td>148.0</td>\n",
       "      <td>1841066</td>\n",
       "      <td>8.8</td>\n",
       "    </tr>\n",
       "  </tbody>\n",
       "</table>\n",
       "</div>"
      ],
      "text/plain": [
       "   runtime_minutes  numvotes  averagerating\n",
       "0            121.0    948394            8.1\n",
       "1            138.0   1005960            8.1\n",
       "2            180.0   1035358            8.2\n",
       "3            143.0   1183655            8.1\n",
       "4            165.0   1211405            8.4\n",
       "5            169.0   1299334            8.6\n",
       "6            164.0   1387769            8.4\n",
       "7            148.0   1841066            8.8"
      ]
     },
     "execution_count": 12,
     "metadata": {},
     "output_type": "execute_result"
    }
   ],
   "source": [
    "# num of votes are 900000 Calling runtime_minutes, numvotes, averagerating columns with more than 900000 number of votes\n",
    "allruntime= pd.read_sql(\"\"\"\n",
    "SELECT mb.runtime_minutes, mr.numvotes, mr.averagerating\n",
    "  FROM movie_basics mb\n",
    "  JOIN movie_ratings mr USING(movie_id) \n",
    "  WHERE mb.runtime_minutes AND mb.genres IS NOT Null AND mr.numvotes > 900000\n",
    "  ORDER BY mr.numvotes, mb.runtime_minutes DESC\n",
    "  ;\n",
    "\"\"\", conn)\n",
    "#\n",
    "allruntime"
   ]
  },
  {
   "cell_type": "markdown",
   "metadata": {},
   "source": [
    "# Mean sample"
   ]
  },
  {
   "cell_type": "code",
   "execution_count": 19,
   "metadata": {},
   "outputs": [
    {
     "data": {
      "text/plain": [
       "153.5"
      ]
     },
     "execution_count": 19,
     "metadata": {},
     "output_type": "execute_result"
    }
   ],
   "source": [
    "# Mean\n",
    "run_time_sample=list(allruntime[\"runtime_minutes\"])\n",
    "rmean_sample=sum(run_time_sample)/len(run_time_sample)\n",
    "rmean_sample"
   ]
  },
  {
   "cell_type": "code",
   "execution_count": 14,
   "metadata": {},
   "outputs": [
    {
     "data": {
      "text/plain": [
       "18400446.545454547"
      ]
     },
     "execution_count": 14,
     "metadata": {},
     "output_type": "execute_result"
    }
   ],
   "source": [
    "# Standar desviation of sample\n",
    "vm=sum(votes)/11\n",
    "vst=np.std(votes)\n",
    "vm"
   ]
  },
  {
   "cell_type": "code",
   "execution_count": 18,
   "metadata": {},
   "outputs": [
    {
     "data": {
      "image/png": "[encoded data removed]",
      "text/plain": [
       "<Figure size 500x500 with 1 Axes>"
      ]
     },
     "metadata": {},
     "output_type": "display_data"
    }
   ],
   "source": [
    "# Finding if has normal distribution\n",
    "s1 = np.random.normal(vm, vst, 202)\n",
    "sbn.displot(s1);"
   ]
  },
  {
   "cell_type": "code",
   "execution_count": null,
   "metadata": {},
   "outputs": [],
   "source": []
  }
 ],
 "metadata": {
  "kernelspec": {
   "display_name": "Python 3 (ipykernel)",
   "language": "python",
   "name": "python3"
  },
  "language_info": {
   "codemirror_mode": {
    "name": "ipython",
    "version": 3
   },
   "file_extension": ".py",
   "mimetype": "text/x-python",
   "name": "python",
   "nbconvert_exporter": "python",
   "pygments_lexer": "ipython3",
   "version": "3.9.13"
  }
 },
 "nbformat": 4,
 "nbformat_minor": 4
}
