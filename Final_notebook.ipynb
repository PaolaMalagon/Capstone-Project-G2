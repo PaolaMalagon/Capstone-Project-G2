{
 "cells": [
  {
   "cell_type": "markdown",
   "id": "c83ab849",
   "metadata": {},
   "source": [
    "# Final notebook"
   ]
  },
  {
   "cell_type": "markdown",
   "id": "cd502b52",
   "metadata": {},
   "source": [
    "## Top 10 movies with best earnings"
   ]
  },
  {
   "cell_type": "code",
   "execution_count": 1,
   "id": "c426c59b",
   "metadata": {},
   "outputs": [],
   "source": [
    "# import libraries\n",
    "import pandas as pd\n",
    "import matplotlib.pyplot as plt\n",
    "%matplotlib inline\n",
    "import seaborn as sbn\n",
    "import sqlite3\n",
    "from scipy import stats\n",
    "import numpy as np"
   ]
  },
  {
   "cell_type": "markdown",
   "id": "68e54b6b",
   "metadata": {},
   "source": [
    "### Sakeholders need invest in good proyects, that's why understanding that the best proyects have big earnings, we tried to find which were the top ten movies with best earnings"
   ]
  },
  {
   "cell_type": "code",
   "execution_count": 2,
   "id": "a531cbfe",
   "metadata": {},
   "outputs": [
    {
     "data": {
      "text/html": [
       "<div>\n",
       "<style scoped>\n",
       "    .dataframe tbody tr th:only-of-type {\n",
       "        vertical-align: middle;\n",
       "    }\n",
       "\n",
       "    .dataframe tbody tr th {\n",
       "        vertical-align: top;\n",
       "    }\n",
       "\n",
       "    .dataframe thead th {\n",
       "        text-align: right;\n",
       "    }\n",
       "</style>\n",
       "<table border=\"1\" class=\"dataframe\">\n",
       "  <thead>\n",
       "    <tr style=\"text-align: right;\">\n",
       "      <th></th>\n",
       "      <th>release_date</th>\n",
       "      <th>movie</th>\n",
       "      <th>production_budget</th>\n",
       "      <th>domestic_gross</th>\n",
       "      <th>worldwide_gross</th>\n",
       "    </tr>\n",
       "    <tr>\n",
       "      <th>id</th>\n",
       "      <th></th>\n",
       "      <th></th>\n",
       "      <th></th>\n",
       "      <th></th>\n",
       "      <th></th>\n",
       "    </tr>\n",
       "  </thead>\n",
       "  <tbody>\n",
       "    <tr>\n",
       "      <th>1</th>\n",
       "      <td>Dec 18, 2009</td>\n",
       "      <td>Avatar</td>\n",
       "      <td>$425,000,000</td>\n",
       "      <td>$760,507,625</td>\n",
       "      <td>$2,776,345,279</td>\n",
       "    </tr>\n",
       "    <tr>\n",
       "      <th>2</th>\n",
       "      <td>May 20, 2011</td>\n",
       "      <td>Pirates of the Caribbean: On Stranger Tides</td>\n",
       "      <td>$410,600,000</td>\n",
       "      <td>$241,063,875</td>\n",
       "      <td>$1,045,663,875</td>\n",
       "    </tr>\n",
       "    <tr>\n",
       "      <th>3</th>\n",
       "      <td>Jun 7, 2019</td>\n",
       "      <td>Dark Phoenix</td>\n",
       "      <td>$350,000,000</td>\n",
       "      <td>$42,762,350</td>\n",
       "      <td>$149,762,350</td>\n",
       "    </tr>\n",
       "    <tr>\n",
       "      <th>4</th>\n",
       "      <td>May 1, 2015</td>\n",
       "      <td>Avengers: Age of Ultron</td>\n",
       "      <td>$330,600,000</td>\n",
       "      <td>$459,005,868</td>\n",
       "      <td>$1,403,013,963</td>\n",
       "    </tr>\n",
       "    <tr>\n",
       "      <th>5</th>\n",
       "      <td>Dec 15, 2017</td>\n",
       "      <td>Star Wars Ep. VIII: The Last Jedi</td>\n",
       "      <td>$317,000,000</td>\n",
       "      <td>$620,181,382</td>\n",
       "      <td>$1,316,721,747</td>\n",
       "    </tr>\n",
       "    <tr>\n",
       "      <th>6</th>\n",
       "      <td>Dec 18, 2015</td>\n",
       "      <td>Star Wars Ep. VII: The Force Awakens</td>\n",
       "      <td>$306,000,000</td>\n",
       "      <td>$936,662,225</td>\n",
       "      <td>$2,053,311,220</td>\n",
       "    </tr>\n",
       "    <tr>\n",
       "      <th>7</th>\n",
       "      <td>Apr 27, 2018</td>\n",
       "      <td>Avengers: Infinity War</td>\n",
       "      <td>$300,000,000</td>\n",
       "      <td>$678,815,482</td>\n",
       "      <td>$2,048,134,200</td>\n",
       "    </tr>\n",
       "    <tr>\n",
       "      <th>8</th>\n",
       "      <td>May 24, 2007</td>\n",
       "      <td>Pirates of the Caribbean: At Worldâs End</td>\n",
       "      <td>$300,000,000</td>\n",
       "      <td>$309,420,425</td>\n",
       "      <td>$963,420,425</td>\n",
       "    </tr>\n",
       "    <tr>\n",
       "      <th>9</th>\n",
       "      <td>Nov 17, 2017</td>\n",
       "      <td>Justice League</td>\n",
       "      <td>$300,000,000</td>\n",
       "      <td>$229,024,295</td>\n",
       "      <td>$655,945,209</td>\n",
       "    </tr>\n",
       "    <tr>\n",
       "      <th>10</th>\n",
       "      <td>Nov 6, 2015</td>\n",
       "      <td>Spectre</td>\n",
       "      <td>$300,000,000</td>\n",
       "      <td>$200,074,175</td>\n",
       "      <td>$879,620,923</td>\n",
       "    </tr>\n",
       "  </tbody>\n",
       "</table>\n",
       "</div>"
      ],
      "text/plain": [
       "    release_date                                        movie  \\\n",
       "id                                                              \n",
       "1   Dec 18, 2009                                       Avatar   \n",
       "2   May 20, 2011  Pirates of the Caribbean: On Stranger Tides   \n",
       "3    Jun 7, 2019                                 Dark Phoenix   \n",
       "4    May 1, 2015                      Avengers: Age of Ultron   \n",
       "5   Dec 15, 2017            Star Wars Ep. VIII: The Last Jedi   \n",
       "6   Dec 18, 2015         Star Wars Ep. VII: The Force Awakens   \n",
       "7   Apr 27, 2018                       Avengers: Infinity War   \n",
       "8   May 24, 2007   Pirates of the Caribbean: At Worldâs End   \n",
       "9   Nov 17, 2017                               Justice League   \n",
       "10   Nov 6, 2015                                      Spectre   \n",
       "\n",
       "   production_budget domestic_gross worldwide_gross  \n",
       "id                                                   \n",
       "1       $425,000,000   $760,507,625  $2,776,345,279  \n",
       "2       $410,600,000   $241,063,875  $1,045,663,875  \n",
       "3       $350,000,000    $42,762,350    $149,762,350  \n",
       "4       $330,600,000   $459,005,868  $1,403,013,963  \n",
       "5       $317,000,000   $620,181,382  $1,316,721,747  \n",
       "6       $306,000,000   $936,662,225  $2,053,311,220  \n",
       "7       $300,000,000   $678,815,482  $2,048,134,200  \n",
       "8       $300,000,000   $309,420,425    $963,420,425  \n",
       "9       $300,000,000   $229,024,295    $655,945,209  \n",
       "10      $300,000,000   $200,074,175    $879,620,923  "
      ]
     },
     "execution_count": 2,
     "metadata": {},
     "output_type": "execute_result"
    }
   ],
   "source": [
    "# dataset\n",
    "tn_budgets = pd.read_csv('data/tn.movie_budgets.csv.gz', index_col=0)\n",
    "tn_budgets.head(10)"
   ]
  },
  {
   "cell_type": "code",
   "execution_count": 3,
   "id": "d36525a1",
   "metadata": {},
   "outputs": [],
   "source": [
    "# Selecting columns no get earnings\n",
    "columns =  ['production_budget', 'domestic_gross','worldwide_gross']\n"
   ]
  },
  {
   "cell_type": "code",
   "execution_count": 4,
   "id": "5d2bd8c4",
   "metadata": {},
   "outputs": [],
   "source": [
    "# Cleaning signs and converting in integers\n",
    "def cleaning(columns):\n",
    "    for x in columns:\n",
    "        tn_budgets[x]=tn_budgets[x].apply(lambda x: x.replace(\",\",\"\").replace(\"$\",\"\"))\n",
    "        tn_budgets[x]=pd.to_numeric(tn_budgets[x])"
   ]
  },
  {
   "cell_type": "code",
   "execution_count": 5,
   "id": "ba4a3557",
   "metadata": {},
   "outputs": [],
   "source": [
    "# Calling funtion\n",
    "cleaning(columns)"
   ]
  },
  {
   "cell_type": "code",
   "execution_count": 6,
   "id": "673bf781",
   "metadata": {},
   "outputs": [
    {
     "data": {
      "text/html": [
       "<div>\n",
       "<style scoped>\n",
       "    .dataframe tbody tr th:only-of-type {\n",
       "        vertical-align: middle;\n",
       "    }\n",
       "\n",
       "    .dataframe tbody tr th {\n",
       "        vertical-align: top;\n",
       "    }\n",
       "\n",
       "    .dataframe thead th {\n",
       "        text-align: right;\n",
       "    }\n",
       "</style>\n",
       "<table border=\"1\" class=\"dataframe\">\n",
       "  <thead>\n",
       "    <tr style=\"text-align: right;\">\n",
       "      <th></th>\n",
       "      <th>release_date</th>\n",
       "      <th>movie</th>\n",
       "      <th>production_budget</th>\n",
       "      <th>domestic_gross</th>\n",
       "      <th>worldwide_gross</th>\n",
       "      <th>Earnings</th>\n",
       "    </tr>\n",
       "    <tr>\n",
       "      <th>id</th>\n",
       "      <th></th>\n",
       "      <th></th>\n",
       "      <th></th>\n",
       "      <th></th>\n",
       "      <th></th>\n",
       "      <th></th>\n",
       "    </tr>\n",
       "  </thead>\n",
       "  <tbody>\n",
       "    <tr>\n",
       "      <th>1</th>\n",
       "      <td>Dec 18, 2009</td>\n",
       "      <td>Avatar</td>\n",
       "      <td>425000000</td>\n",
       "      <td>760507625</td>\n",
       "      <td>2776345279</td>\n",
       "      <td>2351345279</td>\n",
       "    </tr>\n",
       "    <tr>\n",
       "      <th>43</th>\n",
       "      <td>Dec 19, 1997</td>\n",
       "      <td>Titanic</td>\n",
       "      <td>200000000</td>\n",
       "      <td>659363944</td>\n",
       "      <td>2208208395</td>\n",
       "      <td>2008208395</td>\n",
       "    </tr>\n",
       "    <tr>\n",
       "      <th>7</th>\n",
       "      <td>Apr 27, 2018</td>\n",
       "      <td>Avengers: Infinity War</td>\n",
       "      <td>300000000</td>\n",
       "      <td>678815482</td>\n",
       "      <td>2048134200</td>\n",
       "      <td>1748134200</td>\n",
       "    </tr>\n",
       "    <tr>\n",
       "      <th>6</th>\n",
       "      <td>Dec 18, 2015</td>\n",
       "      <td>Star Wars Ep. VII: The Force Awakens</td>\n",
       "      <td>306000000</td>\n",
       "      <td>936662225</td>\n",
       "      <td>2053311220</td>\n",
       "      <td>1747311220</td>\n",
       "    </tr>\n",
       "    <tr>\n",
       "      <th>34</th>\n",
       "      <td>Jun 12, 2015</td>\n",
       "      <td>Jurassic World</td>\n",
       "      <td>215000000</td>\n",
       "      <td>652270625</td>\n",
       "      <td>1648854864</td>\n",
       "      <td>1433854864</td>\n",
       "    </tr>\n",
       "    <tr>\n",
       "      <th>67</th>\n",
       "      <td>Apr 3, 2015</td>\n",
       "      <td>Furious 7</td>\n",
       "      <td>190000000</td>\n",
       "      <td>353007020</td>\n",
       "      <td>1518722794</td>\n",
       "      <td>1328722794</td>\n",
       "    </tr>\n",
       "    <tr>\n",
       "      <th>27</th>\n",
       "      <td>May 4, 2012</td>\n",
       "      <td>The Avengers</td>\n",
       "      <td>225000000</td>\n",
       "      <td>623279547</td>\n",
       "      <td>1517935897</td>\n",
       "      <td>1292935897</td>\n",
       "    </tr>\n",
       "    <tr>\n",
       "      <th>61</th>\n",
       "      <td>Jul 15, 2011</td>\n",
       "      <td>Harry Potter and the Deathly Hallows: Part II</td>\n",
       "      <td>125000000</td>\n",
       "      <td>381193157</td>\n",
       "      <td>1341693157</td>\n",
       "      <td>1216693157</td>\n",
       "    </tr>\n",
       "    <tr>\n",
       "      <th>42</th>\n",
       "      <td>Feb 16, 2018</td>\n",
       "      <td>Black Panther</td>\n",
       "      <td>200000000</td>\n",
       "      <td>700059566</td>\n",
       "      <td>1348258224</td>\n",
       "      <td>1148258224</td>\n",
       "    </tr>\n",
       "    <tr>\n",
       "      <th>13</th>\n",
       "      <td>Jun 22, 2018</td>\n",
       "      <td>Jurassic World: Fallen Kingdom</td>\n",
       "      <td>170000000</td>\n",
       "      <td>417719760</td>\n",
       "      <td>1305772799</td>\n",
       "      <td>1135772799</td>\n",
       "    </tr>\n",
       "  </tbody>\n",
       "</table>\n",
       "</div>"
      ],
      "text/plain": [
       "    release_date                                          movie  \\\n",
       "id                                                                \n",
       "1   Dec 18, 2009                                         Avatar   \n",
       "43  Dec 19, 1997                                        Titanic   \n",
       "7   Apr 27, 2018                         Avengers: Infinity War   \n",
       "6   Dec 18, 2015           Star Wars Ep. VII: The Force Awakens   \n",
       "34  Jun 12, 2015                                 Jurassic World   \n",
       "67   Apr 3, 2015                                      Furious 7   \n",
       "27   May 4, 2012                                   The Avengers   \n",
       "61  Jul 15, 2011  Harry Potter and the Deathly Hallows: Part II   \n",
       "42  Feb 16, 2018                                  Black Panther   \n",
       "13  Jun 22, 2018                 Jurassic World: Fallen Kingdom   \n",
       "\n",
       "    production_budget  domestic_gross  worldwide_gross    Earnings  \n",
       "id                                                                  \n",
       "1           425000000       760507625       2776345279  2351345279  \n",
       "43          200000000       659363944       2208208395  2008208395  \n",
       "7           300000000       678815482       2048134200  1748134200  \n",
       "6           306000000       936662225       2053311220  1747311220  \n",
       "34          215000000       652270625       1648854864  1433854864  \n",
       "67          190000000       353007020       1518722794  1328722794  \n",
       "27          225000000       623279547       1517935897  1292935897  \n",
       "61          125000000       381193157       1341693157  1216693157  \n",
       "42          200000000       700059566       1348258224  1148258224  \n",
       "13          170000000       417719760       1305772799  1135772799  "
      ]
     },
     "execution_count": 6,
     "metadata": {},
     "output_type": "execute_result"
    }
   ],
   "source": [
    "# Getting earnings and sorting in descent order\n",
    "tn_budgets[\"Earnings\"]=tn_budgets[\"worldwide_gross\"]-tn_budgets[\"production_budget\"]\n",
    "tn_budgets.sort_values(by=\"Earnings\", ascending=False).head(10)"
   ]
  },
  {
   "cell_type": "code",
   "execution_count": 7,
   "id": "ec4f0602",
   "metadata": {},
   "outputs": [],
   "source": [
    "# Getting top ten movies from dataframe\n",
    "tp1=tn_budgets.sort_values(by=\"Earnings\", ascending=False).head(10).copy()\n",
    "topten = tp1.loc[:,[\"movie\", \"Earnings\"]]"
   ]
  },
  {
   "cell_type": "code",
   "execution_count": 8,
   "id": "a86f5e9d",
   "metadata": {},
   "outputs": [
    {
     "data": {
      "image/png": "[encoded data removed]",
      "text/plain": [
       "<Figure size 1000x800 with 1 Axes>"
      ]
     },
     "metadata": {},
     "output_type": "display_data"
    }
   ],
   "source": [
    "# Graph top ten highest earnings\n",
    "fig= plt.subplots(figsize=(10, 8))\n",
    "sbn.barplot(y =\"movie\", x =\"Earnings\", data = topten)\n",
    "plt.title(\"Earning for top 10 movies\")\n",
    "plt.show()"
   ]
  },
  {
   "cell_type": "code",
   "execution_count": 9,
   "id": "531b13f4",
   "metadata": {},
   "outputs": [
    {
     "data": {
      "text/html": [
       "<div>\n",
       "<style scoped>\n",
       "    .dataframe tbody tr th:only-of-type {\n",
       "        vertical-align: middle;\n",
       "    }\n",
       "\n",
       "    .dataframe tbody tr th {\n",
       "        vertical-align: top;\n",
       "    }\n",
       "\n",
       "    .dataframe thead th {\n",
       "        text-align: right;\n",
       "    }\n",
       "</style>\n",
       "<table border=\"1\" class=\"dataframe\">\n",
       "  <thead>\n",
       "    <tr style=\"text-align: right;\">\n",
       "      <th></th>\n",
       "      <th>Title</th>\n",
       "      <th>Genre</th>\n",
       "      <th>Director</th>\n",
       "    </tr>\n",
       "  </thead>\n",
       "  <tbody>\n",
       "    <tr>\n",
       "      <th>0</th>\n",
       "      <td>Avatar</td>\n",
       "      <td>Action, Adventure, Sci-fi, Fantasy</td>\n",
       "      <td>James Cameron</td>\n",
       "    </tr>\n",
       "    <tr>\n",
       "      <th>1</th>\n",
       "      <td>Pirates of the Caribbean: On Stranger Tides</td>\n",
       "      <td>Drama</td>\n",
       "      <td>James Cameron</td>\n",
       "    </tr>\n",
       "    <tr>\n",
       "      <th>2</th>\n",
       "      <td>Dark Phoenix</td>\n",
       "      <td>Action, Sci-fi</td>\n",
       "      <td>Anthony Russo, Joe Russo</td>\n",
       "    </tr>\n",
       "    <tr>\n",
       "      <th>3</th>\n",
       "      <td>Avengers: Age of Ultron</td>\n",
       "      <td>Action, Sci-fi-, Adventure, Fantasy</td>\n",
       "      <td>J.J. Abrams</td>\n",
       "    </tr>\n",
       "    <tr>\n",
       "      <th>4</th>\n",
       "      <td>Star Wars Ep. VIII: The Last Jedi</td>\n",
       "      <td>Action, Sci-fi-, Thriller, Adventure</td>\n",
       "      <td>Colin Trevorrow</td>\n",
       "    </tr>\n",
       "    <tr>\n",
       "      <th>5</th>\n",
       "      <td>Star Wars Ep. VII: The Force Awakens</td>\n",
       "      <td>Action, Adventure</td>\n",
       "      <td>James Wan</td>\n",
       "    </tr>\n",
       "    <tr>\n",
       "      <th>6</th>\n",
       "      <td>Avengers: Infinity War</td>\n",
       "      <td>Action, Fantasy, Adventure, Sci-fi</td>\n",
       "      <td>Joss Whedon</td>\n",
       "    </tr>\n",
       "    <tr>\n",
       "      <th>7</th>\n",
       "      <td>Pirates of the Caribbean: At Worldâs End</td>\n",
       "      <td>Adventure, Fantasy, Mystery, Drama</td>\n",
       "      <td>David Yates</td>\n",
       "    </tr>\n",
       "    <tr>\n",
       "      <th>8</th>\n",
       "      <td>Justice League</td>\n",
       "      <td>Action, Fantasy, Adventure, Sci-fi</td>\n",
       "      <td>Ryan Coogler</td>\n",
       "    </tr>\n",
       "    <tr>\n",
       "      <th>9</th>\n",
       "      <td>Spectre</td>\n",
       "      <td>Action, Adventure, Sci-Fi</td>\n",
       "      <td>J.A. Bayona</td>\n",
       "    </tr>\n",
       "  </tbody>\n",
       "</table>\n",
       "</div>"
      ],
      "text/plain": [
       "                                         Title  \\\n",
       "0                                       Avatar   \n",
       "1  Pirates of the Caribbean: On Stranger Tides   \n",
       "2                                 Dark Phoenix   \n",
       "3                      Avengers: Age of Ultron   \n",
       "4            Star Wars Ep. VIII: The Last Jedi   \n",
       "5         Star Wars Ep. VII: The Force Awakens   \n",
       "6                       Avengers: Infinity War   \n",
       "7   Pirates of the Caribbean: At Worldâs End   \n",
       "8                               Justice League   \n",
       "9                                      Spectre   \n",
       "\n",
       "                                  Genre                  Director  \n",
       "0    Action, Adventure, Sci-fi, Fantasy             James Cameron  \n",
       "1                                 Drama             James Cameron  \n",
       "2                        Action, Sci-fi  Anthony Russo, Joe Russo  \n",
       "3   Action, Sci-fi-, Adventure, Fantasy               J.J. Abrams  \n",
       "4  Action, Sci-fi-, Thriller, Adventure           Colin Trevorrow  \n",
       "5                     Action, Adventure                 James Wan  \n",
       "6    Action, Fantasy, Adventure, Sci-fi               Joss Whedon  \n",
       "7    Adventure, Fantasy, Mystery, Drama               David Yates  \n",
       "8    Action, Fantasy, Adventure, Sci-fi              Ryan Coogler  \n",
       "9             Action, Adventure, Sci-Fi               J.A. Bayona  "
      ]
     },
     "execution_count": 9,
     "metadata": {},
     "output_type": "execute_result"
    }
   ],
   "source": [
    "# We couldn't join tables with dataset in.db in SQL, that's why we did a new dataframe.\n",
    "# Making dataframe with genres, directors and titles\n",
    "genres_tp=[\"Action, Adventure, Sci-fi, Fantasy\", \"Drama\",  \"Action, Sci-fi\",\n",
    "           \"Action, Sci-fi-, Adventure, Fantasy\", \"Action, Sci-fi-, Thriller, Adventure\",\n",
    "           \"Action, Adventure\", \"Action, Fantasy, Adventure, Sci-fi\", \"Adventure, Fantasy, Mystery, Drama\",\n",
    "          \"Action, Fantasy, Adventure, Sci-fi\", \"Action, Adventure, Sci-Fi\"]\n",
    "director_tp=[\"James Cameron\", \"James Cameron\", \"Anthony Russo, Joe Russo\", \"J.J. Abrams\", \"Colin Trevorrow\",\n",
    "            \"James Wan\", \"Joss Whedon\", \"David Yates\", \"Ryan Coogler\", \"J.A. Bayona\"]\n",
    "title = list(tn_budgets[\"movie\"])\n",
    "ID_df=pd.DataFrame(zip(title,genres_tp, director_tp), columns = [ \"Title\", \"Genre\", \"Director\"])\n",
    "\n",
    "ID_df"
   ]
  },
  {
   "cell_type": "code",
   "execution_count": 10,
   "id": "65d7e2c7",
   "metadata": {},
   "outputs": [
    {
     "data": {
      "text/html": [
       "<div>\n",
       "<style scoped>\n",
       "    .dataframe tbody tr th:only-of-type {\n",
       "        vertical-align: middle;\n",
       "    }\n",
       "\n",
       "    .dataframe tbody tr th {\n",
       "        vertical-align: top;\n",
       "    }\n",
       "\n",
       "    .dataframe thead th {\n",
       "        text-align: right;\n",
       "    }\n",
       "</style>\n",
       "<table border=\"1\" class=\"dataframe\">\n",
       "  <thead>\n",
       "    <tr style=\"text-align: right;\">\n",
       "      <th></th>\n",
       "      <th>Genre</th>\n",
       "    </tr>\n",
       "    <tr>\n",
       "      <th>Movie</th>\n",
       "      <th></th>\n",
       "    </tr>\n",
       "  </thead>\n",
       "  <tbody>\n",
       "    <tr>\n",
       "      <th>Avatar</th>\n",
       "      <td>Action, Adventure, Sci-fi, Fantasy</td>\n",
       "    </tr>\n",
       "    <tr>\n",
       "      <th>Pirates of the Caribbean: On Stranger Tides</th>\n",
       "      <td>Drama</td>\n",
       "    </tr>\n",
       "    <tr>\n",
       "      <th>Dark Phoenix</th>\n",
       "      <td>Action, Sci-fi</td>\n",
       "    </tr>\n",
       "    <tr>\n",
       "      <th>Avengers: Age of Ultron</th>\n",
       "      <td>Action, Sci-fi-, Adventure, Fantasy</td>\n",
       "    </tr>\n",
       "    <tr>\n",
       "      <th>Star Wars Ep. VIII: The Last Jedi</th>\n",
       "      <td>Action, Sci-fi-, Thriller, Adventure</td>\n",
       "    </tr>\n",
       "    <tr>\n",
       "      <th>Star Wars Ep. VII: The Force Awakens</th>\n",
       "      <td>Action, Adventure</td>\n",
       "    </tr>\n",
       "    <tr>\n",
       "      <th>Avengers: Infinity War</th>\n",
       "      <td>Action, Fantasy, Adventure, Sci-fi</td>\n",
       "    </tr>\n",
       "    <tr>\n",
       "      <th>Pirates of the Caribbean: At Worldâs End</th>\n",
       "      <td>Adventure, Fantasy, Mystery, Drama</td>\n",
       "    </tr>\n",
       "    <tr>\n",
       "      <th>Justice League</th>\n",
       "      <td>Action, Fantasy, Adventure, Sci-fi</td>\n",
       "    </tr>\n",
       "    <tr>\n",
       "      <th>Spectre</th>\n",
       "      <td>Action, Adventure, Sci-Fi</td>\n",
       "    </tr>\n",
       "  </tbody>\n",
       "</table>\n",
       "</div>"
      ],
      "text/plain": [
       "                                                                            Genre\n",
       "Movie                                                                            \n",
       "Avatar                                         Action, Adventure, Sci-fi, Fantasy\n",
       "Pirates of the Caribbean: On Stranger Tides                                 Drama\n",
       "Dark Phoenix                                                       Action, Sci-fi\n",
       "Avengers: Age of Ultron                       Action, Sci-fi-, Adventure, Fantasy\n",
       "Star Wars Ep. VIII: The Last Jedi            Action, Sci-fi-, Thriller, Adventure\n",
       "Star Wars Ep. VII: The Force Awakens                            Action, Adventure\n",
       "Avengers: Infinity War                         Action, Fantasy, Adventure, Sci-fi\n",
       "Pirates of the Caribbean: At Worldâs End     Adventure, Fantasy, Mystery, Drama\n",
       "Justice League                                 Action, Fantasy, Adventure, Sci-fi\n",
       "Spectre                                                 Action, Adventure, Sci-Fi"
      ]
     },
     "execution_count": 10,
     "metadata": {},
     "output_type": "execute_result"
    }
   ],
   "source": [
    "# data frame with movies and genres\n",
    "AB_df=pd.DataFrame(zip(title,genres_tp), columns = [\"Movie\", \"Genre\"])\n",
    "AB_df.set_index(\"Movie\")"
   ]
  },
  {
   "cell_type": "markdown",
   "id": "51f1bedd",
   "metadata": {},
   "source": [
    "#### Now that we know what are the top ten movies we will figure out if these genres have good ratings too"
   ]
  },
  {
   "cell_type": "markdown",
   "id": "63a059c4",
   "metadata": {},
   "source": [
    "# Z- Test"
   ]
  },
  {
   "cell_type": "code",
   "execution_count": 11,
   "id": "6686a22f",
   "metadata": {},
   "outputs": [],
   "source": [
    "# Calling dataset\n",
    "conn = sqlite3.connect('data/im.db')\n",
    "cur = conn.cursor()"
   ]
  },
  {
   "cell_type": "markdown",
   "id": "07194f77",
   "metadata": {},
   "source": [
    "### Problem\n",
    "We believe long movies arent popular, so we made a query with the duration time of movies with more than 100000, voters/viewers this is our population. its mean=116.59 minutes and standar desv=17.70 minutes.\n",
    "If we pick a sample of 100 movies between 90 and 130 minutes with a mean of 102 minutes, this movies could have more than 100000 voters/viewers. alpha = 0.05\n",
    "\n",
    "#### ho: the movies of the sample have less than 100000 voters/viewers\n",
    "\n",
    "\n",
    "#### ha: the movies of the sample haven't less than 100000 voters/viewers"
   ]
  },
  {
   "cell_type": "markdown",
   "id": "72831dea",
   "metadata": {},
   "source": [
    "### Population"
   ]
  },
  {
   "cell_type": "code",
   "execution_count": 12,
   "id": "9829df8d",
   "metadata": {},
   "outputs": [
    {
     "name": "stdout",
     "output_type": "stream",
     "text": [
      "<class 'pandas.core.frame.DataFrame'>\n",
      "RangeIndex: 618 entries, 0 to 617\n",
      "Data columns (total 3 columns):\n",
      " #   Column           Non-Null Count  Dtype  \n",
      "---  ------           --------------  -----  \n",
      " 0   runtime_minutes  618 non-null    float64\n",
      " 1   numvotes         618 non-null    int64  \n",
      " 2   averagerating    618 non-null    float64\n",
      "dtypes: float64(2), int64(1)\n",
      "memory usage: 14.6 KB\n"
     ]
    }
   ],
   "source": [
    "# Getting population with more than 100000 voters\n",
    "poblation= pd.read_sql(\"\"\"\n",
    "SELECT mb.runtime_minutes, mr.numvotes, mr.averagerating\n",
    "  FROM movie_basics mb\n",
    "  JOIN movie_ratings mr USING(movie_id) \n",
    "  WHERE mb.runtime_minutes AND mb.genres IS NOT Null \n",
    "  AND mr.numvotes > 100000\n",
    "  ;\n",
    "\"\"\", conn)\n",
    "poblation.info()"
   ]
  },
  {
   "cell_type": "markdown",
   "id": "952600a8",
   "metadata": {},
   "source": [
    "Mean and standar desviation from population"
   ]
  },
  {
   "cell_type": "code",
   "execution_count": 13,
   "id": "fac8b2ee",
   "metadata": {},
   "outputs": [
    {
     "name": "stdout",
     "output_type": "stream",
     "text": [
      "116.59223300970874 17.709031416454987\n"
     ]
    }
   ],
   "source": [
    "#mean\n",
    "p_mean=poblation[\"runtime_minutes\"].mean()\n",
    "#standar desviation\n",
    "p_std=poblation[\"runtime_minutes\"].std()\n",
    "print(p_mean,p_std)"
   ]
  },
  {
   "cell_type": "markdown",
   "id": "c33655bc",
   "metadata": {},
   "source": [
    "### Sample"
   ]
  },
  {
   "cell_type": "code",
   "execution_count": 14,
   "id": "20565c07",
   "metadata": {},
   "outputs": [
    {
     "name": "stdout",
     "output_type": "stream",
     "text": [
      "<class 'pandas.core.frame.DataFrame'>\n",
      "Int64Index: 100 entries, 13072 to 25852\n",
      "Data columns (total 1 columns):\n",
      " #   Column           Non-Null Count  Dtype  \n",
      "---  ------           --------------  -----  \n",
      " 0   runtime_minutes  100 non-null    float64\n",
      "dtypes: float64(1)\n",
      "memory usage: 1.6 KB\n"
     ]
    }
   ],
   "source": [
    "#getting sample, 100 movies with a duration between 90 and 130 minutes\n",
    "sample= pd.read_sql(\"\"\"\n",
    "SELECT mb.runtime_minutes\n",
    "  FROM movie_basics mb\n",
    "  JOIN movie_ratings mr USING(movie_id) \n",
    "  WHERE mb.runtime_minutes AND mb.genres IS NOT Null \n",
    "  AND mb.runtime_minutes < 130 AND mb.runtime_minutes > 90\n",
    "  \n",
    "  ;\n",
    "\"\"\", conn)\n",
    "sample=sample.sample(100)\n",
    "sample.info()"
   ]
  },
  {
   "cell_type": "markdown",
   "id": "ca193568",
   "metadata": {},
   "source": [
    "Sample mean"
   ]
  },
  {
   "cell_type": "code",
   "execution_count": 15,
   "id": "43a4be54",
   "metadata": {},
   "outputs": [
    {
     "name": "stdout",
     "output_type": "stream",
     "text": [
      "101.64\n"
     ]
    }
   ],
   "source": [
    "s_mean=sample[\"runtime_minutes\"].mean()\n",
    "s_std=sample[\"runtime_minutes\"].std()\n",
    "print(s_mean)"
   ]
  },
  {
   "cell_type": "markdown",
   "id": "b07593a4",
   "metadata": {},
   "source": [
    "#### Z - score"
   ]
  },
  {
   "cell_type": "code",
   "execution_count": 16,
   "id": "bfb01394",
   "metadata": {},
   "outputs": [
    {
     "data": {
      "text/plain": [
       "-8.443281090921396"
      ]
     },
     "execution_count": 16,
     "metadata": {},
     "output_type": "execute_result"
    }
   ],
   "source": [
    "# Getting z-score\n",
    "z = (s_mean - p_mean)/(p_std/np.sqrt(100))\n",
    "z"
   ]
  },
  {
   "cell_type": "markdown",
   "id": "94b987d8",
   "metadata": {},
   "source": [
    "#### P - value"
   ]
  },
  {
   "cell_type": "code",
   "execution_count": 17,
   "id": "bc773101",
   "metadata": {},
   "outputs": [
    {
     "name": "stdout",
     "output_type": "stream",
     "text": [
      "1.0\n"
     ]
    }
   ],
   "source": [
    "# Getting P-value\n",
    "#alpha = 0.05\n",
    "print(1 - stats.norm.cdf(z))"
   ]
  },
  {
   "cell_type": "markdown",
   "id": "73ce7aee",
   "metadata": {},
   "source": [
    "#### P > alpha, we fail to reject the null hypothesis"
   ]
  },
  {
   "cell_type": "code",
   "execution_count": null,
   "id": "ce5f6fb7",
   "metadata": {},
   "outputs": [],
   "source": []
  }
 ],
 "metadata": {
  "kernelspec": {
   "display_name": "Python 3 (ipykernel)",
   "language": "python",
   "name": "python3"
  },
  "language_info": {
   "codemirror_mode": {
    "name": "ipython",
    "version": 3
   },
   "file_extension": ".py",
   "mimetype": "text/x-python",
   "name": "python",
   "nbconvert_exporter": "python",
   "pygments_lexer": "ipython3",
   "version": "3.9.13"
  }
 },
 "nbformat": 4,
 "nbformat_minor": 5
}
