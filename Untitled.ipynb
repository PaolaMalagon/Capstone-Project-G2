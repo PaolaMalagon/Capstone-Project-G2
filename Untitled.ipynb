{
 "cells": [
  {
   "cell_type": "markdown",
   "metadata": {},
   "source": [
    "***\n",
    "# Final Project - Killer Pandas\n",
    "***"
   ]
  },
  {
   "cell_type": "markdown",
   "metadata": {},
   "source": [
    "*In this notebok you can find all our work, how we manipulate all data and how we made the data analysis and their statistics*"
   ]
  },
  {
   "cell_type": "markdown",
   "metadata": {},
   "source": [
    "![first.gif](https://media.giphy.com/media/vaRCdgM0fLNrW/giphy.gif)"
   ]
  },
  {
   "cell_type": "markdown",
   "metadata": {},
   "source": [
    "***\n",
    "## Business Understanding\n",
    "***"
   ]
  },
  {
   "cell_type": "markdown",
   "metadata": {},
   "source": [
    "![first.gif](https://media.giphy.com/media/xT5LMWNOjGqJzUfyve/giphy.gif)"
   ]
  },
  {
   "cell_type": "markdown",
   "metadata": {},
   "source": [
    "*Our team is currently tasked with generating valuable insights as computer vision ventures into the film industry:*\n",
    "\n",
    "* The movies who have the higher earnings and its categories\n",
    "* The best categories to develop a movie in\n",
    "* The most likely successful directors within these categories to make a successful movie\n",
    "* Find out if the duration of a movie has an influence in the earnings and engagement"
   ]
  },
  {
   "cell_type": "markdown",
   "metadata": {},
   "source": [
    "***\n",
    "## Data Understanding and Analysis\n",
    "***"
   ]
  },
  {
   "cell_type": "markdown",
   "metadata": {},
   "source": [
    "![gif2](https://media.giphy.com/media/AXorq76Tg3Vte/giphy.gif)"
   ]
  },
  {
   "cell_type": "markdown",
   "metadata": {},
   "source": [
    "*The data that we used is from pages about movies such as the moviedb.org and rotten tomatoes. We used them due to their records where we got info such as movie ratings, genres, directors, etc. We used data sets with more than 140,000 entries and using statistical measures such as mean or standard deviation to understand the behavior of data The conclusions and graphs we’re getting from the information of the datasets, such as the graph of the most popular genres in movies using columns from im.db dataset. We had to adjust our analysis due to limitations with some datasets that weren´t up to date and other ones had missing data Description of data*"
   ]
  },
  {
   "cell_type": "markdown",
   "metadata": {},
   "source": [
    "***\n",
    "# Data Analysis of Earnings\n",
    "***"
   ]
  },
  {
   "cell_type": "markdown",
   "metadata": {},
   "source": [
    "![gif3](https://media.giphy.com/media/3oEdvbpl0X32bXD2Vi/giphy.gif)"
   ]
  },
  {
   "cell_type": "code",
   "execution_count": 5,
   "metadata": {},
   "outputs": [],
   "source": [
    "import pandas as pd\n",
    "import sqlite3\n",
    "import matplotlib.pyplot as plt\n",
    "import seaborn\n",
    "\n",
    "tn_budgets = pd.read_csv('data/tn.movie_budgets.csv', index_col=0)\n",
    "tn_budgets.head(10)"
   ]
  },
  {
   "cell_type": "markdown",
   "metadata": {},
   "source": [
    "*Computer vision wants to make projects with big earning and that’s why we started studying the movies with highest earnings, if we identified them, we could find common points such as genres, directors, and another interesting data. We started with dataset “tn.movie_budget.csv” we cleaned to converting the data in integers, then we get the values “Earnings” subtracting values “Budget” from values “Gross”. We ordered the data in descent way, and we get the first 10 movies to graph.*"
   ]
  },
  {
   "cell_type": "code",
   "execution_count": 4,
   "metadata": {},
   "outputs": [],
   "source": [
    "columns =  ['production_budget', 'domestic_gross','worldwide_gross']\n",
    "def cleaning(columns):\n",
    "    for x in columns:\n",
    "        tn_budgets[x]=tn_budgets[x].apply(lambda x: x.replace(\",\",\"\").replace(\"$\",\"\"))\n",
    "        tn_budgets[x]=pd.to_numeric(tn_budgets[x])\n",
    "cleaning(columns)\n",
    "tn_budgets[\"earnings\"]=tn_budgets[\"worldwide_gross\"]-tn_budgets[\"production_budget\"]\n",
    "tn_budgets.sort_values(by=\"earnings\", ascending=False)"
   ]
  },
  {
   "cell_type": "code",
   "execution_count": null,
   "metadata": {},
   "outputs": [],
   "source": [
    "tn_budgets[\"Profit\"]=(tn_budgets[\"earnings\"]/tn_budgets[\"worldwide_gross\"])*100\n",
    "tp=tn_budgets.sort_values(by=\"earnings\", ascending=False).head(20).copy()\n",
    "tp"
   ]
  },
  {
   "cell_type": "code",
   "execution_count": null,
   "metadata": {},
   "outputs": [],
   "source": [
    "stopten = topten.stack().reset_index()\n",
    "stopten.columns = ['Movie ID', 'Gross', 'USD']\n",
    "stopten.head(3)"
   ]
  },
  {
   "cell_type": "markdown",
   "metadata": {},
   "source": [
    "## Ploting with Seaborn"
   ]
  },
  {
   "cell_type": "code",
   "execution_count": null,
   "metadata": {},
   "outputs": [],
   "source": [
    "tp1=tn_budgets.sort_values(by=\"earnings\", ascending=False).head(10).copy()\n",
    "topten1 = tp1.loc[:,[\"movie\", \"earnings\"]]\n",
    "\n",
    "fig= plt.subplots(figsize=(10, 8))\n",
    "seaborn.barplot(x =\"earnings\", y =\"movie\", data = topten1)\n",
    "plt.title(\"Earning for top 10 movies\")\n",
    "plt.show()"
   ]
  },
  {
   "cell_type": "markdown",
   "metadata": {},
   "source": [
    "*Then we got a data frame of the top ten movies with highest earnings and added the genres of each movie, in this way we could find more useful information about those genres.*"
   ]
  },
  {
   "cell_type": "code",
   "execution_count": null,
   "metadata": {},
   "outputs": [],
   "source": [
    "#Data Frame where you can see top 10 movies with best earnings and their genres.\n",
    "genres_tp=[\"Action, Adventure, Sci-fi, Fantasy\", \"Drama\",  \"Action, Sci-fi\",\n",
    "           \"Action, Sci-fi-, Adventure, Fantasy\", \"Action, Sci-fi-, Thriller, Adventure\",\n",
    "           \"Action, Adventure\", \"Action, Fantasy, Adventure, Sci-fi\", \"Adventure, Fantasy, Mystery, Drama\",\n",
    "          \"Action, Fantasy, Adventure, Sci-fi\", \"Action, Adventure, Sci-Fi\"]\n",
    "director_tp=[\"James Cameron\", \"James Cameron\", \"Anthony Russo, Joe Russo\", \"J.J. Abrams\", \"Colin Trevorrow\",\n",
    "            \"James Wan\", \"Joss Whedon\", \"David Yates\", \"Ryan Coogler\", \"J.A. Bayona\"]\n",
    "title = list(tp[\"movie\"])\n",
    "ID_df=pd.DataFrame(zip(MovieID,title,genres_tp, director_tp), columns = [\"MovieID\", \"Title\", \"Genre\", \"Director\"])\n",
    "ID_df.set_index(\"MovieID\")"
   ]
  },
  {
   "cell_type": "markdown",
   "metadata": {},
   "source": [
    "***\n",
    "# Data Analysis of Categories\n",
    "***"
   ]
  },
  {
   "cell_type": "markdown",
   "metadata": {},
   "source": [
    "![gifm](https://media.giphy.com/media/XZ0lh4zVU9fOuBAZK5/giphy.gif)"
   ]
  },
  {
   "cell_type": "markdown",
   "metadata": {},
   "source": [
    "***\n",
    "## Why is this data relevant?\n",
    "***\n",
    "* Is important because depends in how much rating and number of votes you can see wich category is more succesful\n",
    "* With this we can assume wich category is most relevant on these days"
   ]
  },
  {
   "cell_type": "code",
   "execution_count": null,
   "metadata": {},
   "outputs": [],
   "source": [
    "import pandas as pd\n",
    "import sqlite3\n",
    "import matplotlib.pyplot as plt\n",
    "import seaborn as sns\n",
    "import random\n",
    "import math\n",
    "conn = sqlite3.connect('data/im.db')"
   ]
  },
  {
   "cell_type": "markdown",
   "metadata": {},
   "source": [
    "*Here we can see the average rating of the category with the highest number of votes.\n",
    "The main reason to filter this way is to show that not always the best rated categories are the one who have more votes*"
   ]
  },
  {
   "cell_type": "code",
   "execution_count": null,
   "metadata": {},
   "outputs": [],
   "source": [
    "pd.read_sql(\"\"\"\n",
    "SELECT movie_basics.genres AS Category,movie_ratings.averagerating AS Rating,movie_ratings.numvotes as NumberVotes\n",
    "  FROM movie_basics\n",
    "  INNER JOIN movie_ratings ON movie_basics.movie_id = movie_ratings.movie_id\n",
    "  WHERE movie_ratings.numvotes >= 900000 AND movie_ratings.averagerating >= 8.1\n",
    "  GROUP BY movie_basics.genres \n",
    "  ORDER BY Rating  DESC  ;\n",
    "\"\"\", conn)"
   ]
  },
  {
   "cell_type": "markdown",
   "metadata": {},
   "source": [
    "*In the next graphic we can see that the best rating category is not the one that have the most votes.With that in mind we need to hear more to the audience to see what is the best option. Here I prefered to use matplotib only to show you the 3 main values and see the difference between them*"
   ]
  },
  {
   "cell_type": "code",
   "execution_count": null,
   "metadata": {},
   "outputs": [],
   "source": [
    "q= \"\"\"\n",
    "SELECT movie_basics.genres AS Category,movie_ratings.averagerating AS Rating,movie_ratings.numvotes as NumberVotes\n",
    "  FROM movie_basics\n",
    "  INNER JOIN movie_ratings ON movie_basics.movie_id = movie_ratings.movie_id\n",
    "  WHERE movie_ratings.numvotes >= 900000 AND movie_ratings.averagerating >= 8.1\n",
    "  GROUP BY movie_basics.genres \n",
    "  ORDER BY Rating  DESC\n",
    ";\n",
    "\"\"\"\n",
    "df=pd.read_sql(q, conn)\n",
    "df.pivot(index='Category',columns='Rating',values='NumberVotes').plot(kind='barh',figsize=(15,7))\n",
    "plt.xlabel('Name of the categories')\n",
    "plt.ylabel('Number Of Votes')\n",
    "plt.title('Best Rating Categories with the Most Votes')\n",
    "plt.show()"
   ]
  },
  {
   "cell_type": "markdown",
   "metadata": {},
   "source": [
    "*Now that we can see that not always the best rating category have the most votes so with that in mind we will see in the next graphic that only **Action and Thriller are the two with the most votes but they are together**, What if we only want to see the best categories with the most votes? We will see it after that!*"
   ]
  },
  {
   "cell_type": "code",
   "execution_count": null,
   "metadata": {},
   "outputs": [],
   "source": [
    "sns.barplot(data=df, x=\"NumberVotes\", y=\"Category\")\n",
    "plt.xticks(rotation=60)"
   ]
  },
  {
   "cell_type": "markdown",
   "metadata": {},
   "source": [
    "*First we need to filter the data between 900000 votes (the main reason we use this value is because the highest number of votes are 1800000)*"
   ]
  },
  {
   "cell_type": "code",
   "execution_count": null,
   "metadata": {},
   "outputs": [],
   "source": [
    "df4=pd.read_sql(\"\"\"\n",
    "SELECT movie_basics.genres AS Category,movie_ratings.averagerating AS Rating\n",
    "  FROM movie_basics\n",
    "  INNER JOIN movie_ratings ON movie_basics.movie_id = movie_ratings.movie_id\n",
    "  WHERE movie_ratings.numvotes >= 900000 AND movie_ratings.averagerating >= 8.1\n",
    "\"\"\", conn)\n",
    "df4"
   ]
  },
  {
   "cell_type": "markdown",
   "metadata": {},
   "source": [
    "*Then we are going to make the split of the values just to count the most voted ones!*"
   ]
  },
  {
   "cell_type": "code",
   "execution_count": null,
   "metadata": {},
   "outputs": [],
   "source": [
    "categories_cols = df4['Category'].str.split(',',expand=True)\n",
    "categories_cols.columns = ['genre1','genre2','genre3']\n",
    "counts1=categories_cols['genre1'].value_counts()\n",
    "counts2=categories_cols['genre2'].value_counts()\n",
    "counts3=categories_cols['genre3'].value_counts()\n",
    "total_counts = counts1.add(counts2, fill_value=0).add(counts3, fill_value=0)\n",
    "one_category = total_counts.sort_values(ascending=False)\n",
    "one_category.index\n",
    "dfone=pd.DataFrame(list(zip(one_category.values, one_category.index)), columns = [\"Frequency\", \"Category\"])\n",
    "dfone.head(5)"
   ]
  },
  {
   "cell_type": "markdown",
   "metadata": {},
   "source": [
    "*In the next graphic we will show you the top 5 of the most voted categories!*"
   ]
  },
  {
   "cell_type": "code",
   "execution_count": null,
   "metadata": {},
   "outputs": [],
   "source": [
    "sns.barplot(data=dfone, x=\"Frequency\", y=\"Category\")\n",
    "plt.xticks(rotation=60)"
   ]
  },
  {
   "cell_type": "markdown",
   "metadata": {},
   "source": [
    "*Our main value is the number of votes because this votes are provided by the community and the rating are provided by movie critics or people that is related with producers and movies.So if you want to be in this trend, you should make with our top 5!*"
   ]
  },
  {
   "cell_type": "markdown",
   "metadata": {},
   "source": [
    "***\n",
    "# Data Analysis Directors\n",
    "***"
   ]
  },
  {
   "cell_type": "markdown",
   "metadata": {},
   "source": [
    "![gifmi](https://media.giphy.com/media/26DOMQa5Ib2SmaRZm/giphy.gif)"
   ]
  },
  {
   "cell_type": "markdown",
   "metadata": {},
   "source": [
    "*We filtered the im.db database to only select directors that have a 7 or higher average rating for their body of work and over 400,000 votes on their films then limited the query to the top 20 in order of highest rating. On the next graph you will see that we worked on getting the Categories and film names for those top 20 directors. but the categories are grouped together i.e \"action,adventure,drama\".*"
   ]
  },
  {
   "cell_type": "code",
   "execution_count": null,
   "metadata": {},
   "outputs": [],
   "source": [
    "avg_rating = \"\"\"\n",
    "SELECT person_id , primary_name as Director , COUNT(DISTINCT directors.movie_id) as \"MoviesMade\", \n",
    "sum(movie_ratings.averagerating) / COUNT(movie_ratings.averagerating) as \"Average Rating\"\n",
    ", movie_ratings.numvotes as numvotes \n",
    "    FROM persons\n",
    "    JOIN directors \n",
    "      USING (person_id)\n",
    "    JOIN movie_basics\n",
    "      USING (movie_id)\n",
    "    JOIN movie_ratings\n",
    "      USING (movie_id)\n",
    "    GROUP BY person_id \n",
    "    HAVING \"Average Rating\" >= 7.0 AND numvotes >= 400000\n",
    "    ORDER BY \"Average Rating\" DESC\n",
    "    LIMIT 20\n",
    "    \n",
    ";\n",
    "\"\"\"\n",
    "pd.read_sql(avg_rating, conn)"
   ]
  },
  {
   "cell_type": "markdown",
   "metadata": {},
   "source": [
    "*Here is the graph with the top 20 directors with their average ratings. In the following function we ran a query to see what directors have a overall high average rating about 7 as well as a high number of votes to eliminate high rating but low voting outliers. We organized it into a top 20 by average rating of their movies made in descending order from highest to lowest.*"
   ]
  },
  {
   "cell_type": "code",
   "execution_count": null,
   "metadata": {},
   "outputs": [],
   "source": [
    "top_20_directors = pd.read_sql(avg_rating , conn) \n",
    "fig = plt.subplots(figsize = (16,7))\n",
    "sns.barplot(data=top_20_directors, x=\"Average Rating\" , y= \"Director\", orient=\"h\")\n",
    "\n",
    "plt.title(\"Top 20 Directors\")\n",
    "\n",
    "plt.show()"
   ]
  },
  {
   "cell_type": "markdown",
   "metadata": {},
   "source": [
    "***\n",
    "# Query for top 20 Director in terms of votes and the categories of the films\n",
    "***"
   ]
  },
  {
   "cell_type": "markdown",
   "metadata": {},
   "source": [
    "*In the following function we ran a query for the top 20 directors in term of number of votes and the catergories of the films they have directed. In order to see the patterns of categories for these directors.*"
   ]
  },
  {
   "cell_type": "code",
   "execution_count": null,
   "metadata": {},
   "outputs": [],
   "source": [
    "df4=pd.read_sql(\"\"\"\n",
    "SELECT movie_basics.genres AS Category, movie_ratings.averagerating AS Rating , movie_basics.movie_id , persons.primary_name AS Directors\n",
    ", movie_basics.primary_title \n",
    "  FROM movie_basics\n",
    "  INNER JOIN movie_ratings ON movie_basics.movie_id = movie_ratings.movie_id\n",
    "  INNER JOIN directors ON movie_basics.movie_id = directors.movie_id\n",
    "  INNER JOIN persons ON directors.person_id = persons.person_id\n",
    "  WHERE movie_ratings.numvotes >= 600000 \n",
    "  GROUP BY movie_basics.movie_id\n",
    "  ORDER BY persons.primary_name\n",
    "  LIMIT 20\n",
    "\"\"\", conn)\n",
    "df4"
   ]
  },
  {
   "cell_type": "markdown",
   "metadata": {},
   "source": [
    "***\n",
    "## Organizing splitting categories\n",
    "***\n",
    "*In the following section we split up the categories section of the dataframe to seperate the categories into individual rows and seeing the frequency.*"
   ]
  },
  {
   "cell_type": "code",
   "execution_count": null,
   "metadata": {},
   "outputs": [],
   "source": [
    "\"\"\"splitting the category string into individual categories\"\"\"\n",
    "genres_cols = df4['Category'].str.split(',',expand=True)\n",
    "genres_cols.columns = ['genre1','genre2','genre3']\n",
    "counts1=genres_cols['genre1'].value_counts()\n",
    "counts2=genres_cols['genre2'].value_counts()\n",
    "counts3=genres_cols['genre3'].value_counts()\n",
    "total_counts = counts1.add(counts2, fill_value=0).add(counts3, fill_value=0)\n",
    "one_category = total_counts.sort_values(ascending=False)\n",
    "one_category.index\n",
    "\"\"\"making a list of the zip with two columns of frequency and category\"\"\"\n",
    "cat_freq=pd.DataFrame(list(zip(one_category.values, one_category.index)), columns = [\"Frequency\", \"Category\"])\n",
    "cat_freq"
   ]
  },
  {
   "cell_type": "markdown",
   "metadata": {},
   "source": [
    "*So, in the next graph we then seperated those categories into individual strings and also listed the frequency showing that Adventure, Action, and Sci-fi were the top three most highly voted and rated categories for these directors.*"
   ]
  },
  {
   "cell_type": "code",
   "execution_count": null,
   "metadata": {},
   "outputs": [],
   "source": [
    "fig = plt.subplots(figsize = (16,7))\n",
    "sns.barplot(data=cat_freq, x=\"Category\" , y= \"Frequency\")\n",
    "\n",
    "plt.title(\"Frequency of Categories for Top Directors\")\n",
    "\n",
    "plt.show()\n"
   ]
  },
  {
   "cell_type": "markdown",
   "metadata": {},
   "source": [
    "*We filtered and sorted the data from the im.db database to extract various queries. We would recommend the client select a director such as one of the 20 we showed in the graph above due to their history of highly rated movies with a high number of votes in the category of either Adventure, Action , or Sci-Fi showing that it is popular amongst the population.*"
   ]
  },
  {
   "cell_type": "markdown",
   "metadata": {},
   "source": [
    "***\n",
    "# Statistical Communication\n",
    "***"
   ]
  },
  {
   "cell_type": "markdown",
   "metadata": {},
   "source": [
    "![gifp](https://media.giphy.com/media/dHn4QSRITpHtLxpgdv/giphy.gif)"
   ]
  },
  {
   "cell_type": "code",
   "execution_count": null,
   "metadata": {},
   "outputs": [],
   "source": []
  },
  {
   "cell_type": "code",
   "execution_count": null,
   "metadata": {},
   "outputs": [],
   "source": []
  },
  {
   "cell_type": "code",
   "execution_count": null,
   "metadata": {},
   "outputs": [],
   "source": []
  },
  {
   "cell_type": "code",
   "execution_count": null,
   "metadata": {},
   "outputs": [],
   "source": []
  },
  {
   "cell_type": "code",
   "execution_count": null,
   "metadata": {},
   "outputs": [],
   "source": []
  },
  {
   "cell_type": "code",
   "execution_count": null,
   "metadata": {},
   "outputs": [],
   "source": []
  },
  {
   "cell_type": "code",
   "execution_count": null,
   "metadata": {},
   "outputs": [],
   "source": []
  },
  {
   "cell_type": "code",
   "execution_count": null,
   "metadata": {},
   "outputs": [],
   "source": []
  },
  {
   "cell_type": "code",
   "execution_count": null,
   "metadata": {},
   "outputs": [],
   "source": []
  },
  {
   "cell_type": "code",
   "execution_count": null,
   "metadata": {},
   "outputs": [],
   "source": []
  },
  {
   "cell_type": "code",
   "execution_count": null,
   "metadata": {},
   "outputs": [],
   "source": []
  },
  {
   "cell_type": "code",
   "execution_count": null,
   "metadata": {},
   "outputs": [],
   "source": []
  }
 ],
 "metadata": {
  "kernelspec": {
   "display_name": "Python (learn-env)",
   "language": "python",
   "name": "learn-env"
  },
  "language_info": {
   "codemirror_mode": {
    "name": "ipython",
    "version": 3
   },
   "file_extension": ".py",
   "mimetype": "text/x-python",
   "name": "python",
   "nbconvert_exporter": "python",
   "pygments_lexer": "ipython3",
   "version": "3.8.5"
  }
 },
 "nbformat": 4,
 "nbformat_minor": 4
}
