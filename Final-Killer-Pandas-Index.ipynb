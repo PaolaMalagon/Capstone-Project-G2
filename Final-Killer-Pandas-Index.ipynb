{
 "cells": [
  {
   "cell_type": "markdown",
   "metadata": {},
   "source": [
    "***\n",
    "#            🐼 The killer Panda's Capstone Project 🐼\n",
    "\n",
    "***"
   ]
  },
  {
   "cell_type": "markdown",
   "metadata": {},
   "source": [
    "*In this notebok you can find all our work, how we manipulate all data and how we made the data analysis and their statistics*"
   ]
  },
  {
   "cell_type": "markdown",
   "metadata": {},
   "source": [
    "![first.gif](https://media.giphy.com/media/vaRCdgM0fLNrW/giphy.gif)"
   ]
  },
  {
   "cell_type": "markdown",
   "metadata": {},
   "source": [
    "***\n",
    "## Business Understanding\n",
    "***"
   ]
  },
  {
   "cell_type": "markdown",
   "metadata": {},
   "source": [
    "![first.gif](https://media.giphy.com/media/xT5LMWNOjGqJzUfyve/giphy.gif)"
   ]
  },
  {
   "cell_type": "markdown",
   "metadata": {},
   "source": [
    "*Our team is currently tasked with generating valuable insights as computer vision ventures into the film industry:*\n",
    "\n",
    "* The movies who have the higher earnings and its categories\n",
    "* The best categories to develop a movie in\n",
    "* The most likely successful directors within these categories to make a successful movie\n",
    "* Find out if the duration of a movie has an influence in the earnings and engagement"
   ]
  },
  {
   "cell_type": "markdown",
   "metadata": {},
   "source": [
    "***\n",
    "## Data Understanding and Analysis\n",
    "***"
   ]
  },
  {
   "cell_type": "markdown",
   "metadata": {},
   "source": [
    "![gif2](https://media.giphy.com/media/AXorq76Tg3Vte/giphy.gif)"
   ]
  },
  {
   "cell_type": "markdown",
   "metadata": {},
   "source": [
    "The data that we used is from pages about movies such as the moviedb.org and rotten tomatoes. We used them due to their records where we got info such as movie ratings, genres, directors, etc. We used data sets with more than 140,000 entries and using statistical measures such as mean or standard deviation to understand the behavior of data The conclusions and graphs we’re getting from the information of the datasets, such as the graph of the most popular genres in movies using columns from im.db dataset. We had to adjust our analysis due to limitations with some datasets that weren´t up to date and other ones had missing data Description of data"
   ]
  },
  {
   "cell_type": "markdown",
   "metadata": {},
   "source": [
    "***\n",
    "#  💸💲Budget/Gross/Profit 💸💲\n",
    "***"
   ]
  },
  {
   "cell_type": "markdown",
   "metadata": {},
   "source": [
    "![gif3](https://media.giphy.com/media/3oEdvbpl0X32bXD2Vi/giphy.gif)"
   ]
  },
  {
   "cell_type": "markdown",
   "metadata": {},
   "source": [
    "Computer vision wants to make projects with big earning and that’s why we started studying the movies with highest earnings, if we identified them, we could find common points such as genres, directors, and another interesting data. We started with dataset `tn.movie_budget.csv` we cleaned to converting the data in integers, then we get the values `Earnings` subtracting values `Budget` from values `Gross`. We ordered the data in descent way, and we get the first 10 movies to graph."
   ]
  },
  {
   "cell_type": "markdown",
   "metadata": {},
   "source": [
    "First we load all the libraries:"
   ]
  },
  {
   "cell_type": "code",
   "execution_count": 1,
   "metadata": {},
   "outputs": [],
   "source": [
    "import pandas as pd\n",
    "import sqlite3\n",
    "import matplotlib.pyplot as plt\n",
    "import seaborn \n",
    "import numpy as np\n",
    "from scipy import stats\n",
    "import math"
   ]
  },
  {
   "cell_type": "markdown",
   "metadata": {},
   "source": [
    "The first dataset we work was the from `tn.movie_budgets.csv`, let's import all the libraries we will need"
   ]
  },
  {
   "cell_type": "code",
   "execution_count": 2,
   "metadata": {},
   "outputs": [],
   "source": [
    "tn_budgets = pd.read_csv('data/tn.movie_budgets.csv', index_col=0)\n",
    "\n",
    "#We can make a checkout of the dataset, know their columns and kind of values\n",
    "#Also is useful if we check the information of our dataset\n",
    "#If think you may need see this information, plese uncomment the code below\n",
    "\n",
    "#tn_budgets.info()\n",
    "#tn_budgets.head(10)"
   ]
  },
  {
   "cell_type": "markdown",
   "metadata": {},
   "source": [
    "We can see we do not have missing values, all the type of data is object and we have four columns.\n",
    "As you can see, `production_budget`, `domestic_gross`, `worldwide_gross` are columns for money so we need them in type int, let's make a cleaning delenting the `$ and ,`"
   ]
  },
  {
   "cell_type": "code",
   "execution_count": 3,
   "metadata": {},
   "outputs": [],
   "source": [
    "'''\n",
    "We made this funtion to clear all the columns just calling it, in order to reuse it \n",
    "we also set as argument a list call columns, if we had another data ser we couls call\n",
    "the funtion and specify the columns we want to transform\n",
    "'''\n",
    "def cleaning(columns):\n",
    "    for x in columns:\n",
    "        # This part clean the symbols $ and , by replacing them with \"nothing\"\n",
    "        tn_budgets[x]=tn_budgets[x].apply(lambda x: x.replace(\",\",\"\").replace(\"$\",\"\"))\n",
    "        # ecause of the type of this rows and columns and in order we \n",
    "        # want to make some calculation it is needed to transform them to numeric\n",
    "        tn_budgets[x]=pd.to_numeric(tn_budgets[x])\n",
    "\n",
    "#The columns we want to clean are save them in a list\n",
    "columns =  ['production_budget', 'domestic_gross','worldwide_gross']\n",
    "\n",
    "#Call the funtion, and now all the columns are in good formart! :D\n",
    "cleaning(columns)\n",
    "\n",
    "#Now we want to add a column call \"earnings\"\n",
    "tn_budgets[\"earnings\"]=tn_budgets[\"worldwide_gross\"]-tn_budgets[\"production_budget\"]\n",
    "\n",
    "#As well as a column called \"Profit\"\n",
    "tn_budgets[\"Profit\"]=(tn_budgets[\"earnings\"]/tn_budgets[\"worldwide_gross\"])*100\n"
   ]
  },
  {
   "cell_type": "markdown",
   "metadata": {},
   "source": [
    "### Ploting with seaborn\n",
    "\n",
    "We have the new columns and the cleaning have been applied to all the data, but for a preview we only want to see the top ten movie sorted with more earnings\n",
    "\n",
    "#### Earning"
   ]
  },
  {
   "cell_type": "code",
   "execution_count": 4,
   "metadata": {},
   "outputs": [
    {
     "data": {
      "image/png": "[encoded data removed]",
      "text/plain": [
       "<Figure size 720x576 with 1 Axes>"
      ]
     },
     "metadata": {
      "needs_background": "light"
     },
     "output_type": "display_data"
    }
   ],
   "source": [
    "# Making a copy with the first 10 movies, you can use more than only 10 elemnts :D\n",
    "tp1=tn_budgets.sort_values(by=\"earnings\", ascending=False).head(10).copy()\n",
    "\n",
    "#Making a new dataframe with only the required columns\n",
    "topten1 = tp1.loc[:,[\"movie\", \"earnings\"]]\n",
    "\n",
    "fig= plt.subplots(figsize=(10, 8))\n",
    "\n",
    "##We decide to use seaborn and the bar kind\n",
    "seaborn.barplot(x =\"earnings\", y =\"movie\", data = topten1)\n",
    "plt.title(\"Earning for top 10 movies\")\n",
    "plt.show()"
   ]
  },
  {
   "cell_type": "markdown",
   "metadata": {},
   "source": [
    "#### Profit"
   ]
  },
  {
   "cell_type": "code",
   "execution_count": 5,
   "metadata": {},
   "outputs": [
    {
     "data": {
      "image/png": "[encoded data removed]",
      "text/plain": [
       "<Figure size 720x576 with 1 Axes>"
      ]
     },
     "metadata": {
      "needs_background": "light"
     },
     "output_type": "display_data"
    }
   ],
   "source": [
    "#We also want to see how it sees ploting the profit vs the movie\n",
    "tptw=tn_budgets.sort_values(by=\"Profit\", ascending=False).head(20).copy()\n",
    "\n",
    "#Repeat the process for new columns\n",
    "toptw = tptw.loc[:,[\"movie\", \"Profit\"]]\n",
    "\n",
    "\n",
    "fig= plt.subplots(figsize=(10, 8))\n",
    "seaborn.barplot(x =\"Profit\", y =\"movie\", data = toptw)\n",
    "plt.title(\"Profit for top 20 movies\")\n",
    "plt.show()"
   ]
  },
  {
   "cell_type": "markdown",
   "metadata": {},
   "source": [
    "#### Earning and budget\n",
    "\n",
    "Exploring other options for the plotting. The movie's name are large, let's try to use an ID, crating a list with the IDs.\n",
    "\n",
    "* How to use the method stack and how it works for seaborn by <a href=\"https://stackoverflow.com/users/1494637/stefan\">Stefan</a> \n",
    "on <a href=\"https://stackoverflow.com/questions/37174715/using-seaborn-barplot-to-plot-wide-form-dataframes\">Stack**overflow**</a>"
   ]
  },
  {
   "cell_type": "code",
   "execution_count": 6,
   "metadata": {},
   "outputs": [
    {
     "data": {
      "image/png": "[encoded data removed]",
      "text/plain": [
       "<Figure size 720x576 with 1 Axes>"
      ]
     },
     "metadata": {
      "needs_background": "light"
     },
     "output_type": "display_data"
    }
   ],
   "source": [
    "MovieID = [\"A\",\"B\",\"C\",\"D\",\"E\",\"F\",\"G\",\"H\",\"I\",\"J\"]\n",
    "tp2 = tp1\n",
    "\n",
    "#adding the IDs to the dataframe\n",
    "tp2[\"Movie ID\"]= MovieID\n",
    "topten2 = tp2.loc[:,[\"Movie ID\",\"production_budget\", \"worldwide_gross\"]]\n",
    "\n",
    "#For this plot we want to plot two values for each movie, so in order to do that we need the \"hue\" expression\n",
    "#In this expression the two values join \n",
    "\n",
    "#First let's set the ID columns as the index\n",
    "topten2 = topten2.set_index(\"Movie ID\")\n",
    "\n",
    "#In order to use \"hue\" we need to chage the structure of the datafram with .stack()\n",
    "stopten = topten2.stack().reset_index()\n",
    "\n",
    "#Settin the columns to the new structured dataframe\n",
    "stopten.columns = ['Movie ID', 'Gross', 'USD']\n",
    "\n",
    "fig= plt.subplots(figsize=(10, 8))\n",
    "seaborn.barplot(y =\"Movie ID\", x=\"USD\", hue=\"Gross\", data = stopten)\n",
    "plt.title(\"Earning vs budget for top 10 movies\")\n",
    "plt.show()"
   ]
  },
  {
   "cell_type": "markdown",
   "metadata": {},
   "source": [
    "#### Genres of the movies\n",
    "\n",
    "For the plot above we have the graph but we do not know what is A or B, etc, let's make a new DataFarame which include the name of the movie as well as the director and their categorie, this information was gathered from the `im.db`"
   ]
  },
  {
   "cell_type": "markdown",
   "metadata": {},
   "source": [
    "Then we got a data frame of the top ten movies with highest earnings and added the genres of each movie, in this way we could find more useful information about those genres."
   ]
  },
  {
   "cell_type": "code",
   "execution_count": 7,
   "metadata": {},
   "outputs": [
    {
     "data": {
      "text/html": [
       "<div>\n",
       "<style scoped>\n",
       "    .dataframe tbody tr th:only-of-type {\n",
       "        vertical-align: middle;\n",
       "    }\n",
       "\n",
       "    .dataframe tbody tr th {\n",
       "        vertical-align: top;\n",
       "    }\n",
       "\n",
       "    .dataframe thead th {\n",
       "        text-align: right;\n",
       "    }\n",
       "</style>\n",
       "<table border=\"1\" class=\"dataframe\">\n",
       "  <thead>\n",
       "    <tr style=\"text-align: right;\">\n",
       "      <th></th>\n",
       "      <th>Title</th>\n",
       "      <th>Genre</th>\n",
       "      <th>Director</th>\n",
       "    </tr>\n",
       "    <tr>\n",
       "      <th>MovieID</th>\n",
       "      <th></th>\n",
       "      <th></th>\n",
       "      <th></th>\n",
       "    </tr>\n",
       "  </thead>\n",
       "  <tbody>\n",
       "    <tr>\n",
       "      <th>A</th>\n",
       "      <td>Avatar</td>\n",
       "      <td>Action, Adventure, Sci-fi, Fantasy</td>\n",
       "      <td>James Cameron</td>\n",
       "    </tr>\n",
       "    <tr>\n",
       "      <th>B</th>\n",
       "      <td>Titanic</td>\n",
       "      <td>Drama</td>\n",
       "      <td>James Cameron</td>\n",
       "    </tr>\n",
       "    <tr>\n",
       "      <th>C</th>\n",
       "      <td>Avengers: Infinity War</td>\n",
       "      <td>Action, Sci-fi</td>\n",
       "      <td>Anthony Russo, Joe Russo</td>\n",
       "    </tr>\n",
       "    <tr>\n",
       "      <th>D</th>\n",
       "      <td>Star Wars Ep. VII: The Force Awakens</td>\n",
       "      <td>Action, Sci-fi-, Adventure, Fantasy</td>\n",
       "      <td>J.J. Abrams</td>\n",
       "    </tr>\n",
       "    <tr>\n",
       "      <th>E</th>\n",
       "      <td>Jurassic World</td>\n",
       "      <td>Action, Sci-fi-, Thriller, Adventure</td>\n",
       "      <td>Colin Trevorrow</td>\n",
       "    </tr>\n",
       "    <tr>\n",
       "      <th>F</th>\n",
       "      <td>Furious 7</td>\n",
       "      <td>Action, Adventure</td>\n",
       "      <td>James Wan</td>\n",
       "    </tr>\n",
       "    <tr>\n",
       "      <th>G</th>\n",
       "      <td>The Avengers</td>\n",
       "      <td>Action, Fantasy, Adventure, Sci-fi</td>\n",
       "      <td>Joss Whedon</td>\n",
       "    </tr>\n",
       "    <tr>\n",
       "      <th>H</th>\n",
       "      <td>Harry Potter and the Deathly Hallows: Part II</td>\n",
       "      <td>Adventure, Fantasy, Mystery, Drama</td>\n",
       "      <td>David Yates</td>\n",
       "    </tr>\n",
       "    <tr>\n",
       "      <th>I</th>\n",
       "      <td>Black Panther</td>\n",
       "      <td>Action, Fantasy, Adventure, Sci-fi</td>\n",
       "      <td>Ryan Coogler</td>\n",
       "    </tr>\n",
       "    <tr>\n",
       "      <th>J</th>\n",
       "      <td>Jurassic World: Fallen Kingdom</td>\n",
       "      <td>Action, Adventure, Sci-Fi</td>\n",
       "      <td>J.A. Bayona</td>\n",
       "    </tr>\n",
       "  </tbody>\n",
       "</table>\n",
       "</div>"
      ],
      "text/plain": [
       "                                                 Title  \\\n",
       "MovieID                                                  \n",
       "A                                               Avatar   \n",
       "B                                              Titanic   \n",
       "C                               Avengers: Infinity War   \n",
       "D                 Star Wars Ep. VII: The Force Awakens   \n",
       "E                                       Jurassic World   \n",
       "F                                            Furious 7   \n",
       "G                                         The Avengers   \n",
       "H        Harry Potter and the Deathly Hallows: Part II   \n",
       "I                                        Black Panther   \n",
       "J                       Jurassic World: Fallen Kingdom   \n",
       "\n",
       "                                        Genre                  Director  \n",
       "MovieID                                                                  \n",
       "A          Action, Adventure, Sci-fi, Fantasy             James Cameron  \n",
       "B                                       Drama             James Cameron  \n",
       "C                              Action, Sci-fi  Anthony Russo, Joe Russo  \n",
       "D         Action, Sci-fi-, Adventure, Fantasy               J.J. Abrams  \n",
       "E        Action, Sci-fi-, Thriller, Adventure           Colin Trevorrow  \n",
       "F                           Action, Adventure                 James Wan  \n",
       "G          Action, Fantasy, Adventure, Sci-fi               Joss Whedon  \n",
       "H          Adventure, Fantasy, Mystery, Drama               David Yates  \n",
       "I          Action, Fantasy, Adventure, Sci-fi              Ryan Coogler  \n",
       "J                   Action, Adventure, Sci-Fi               J.A. Bayona  "
      ]
     },
     "execution_count": 7,
     "metadata": {},
     "output_type": "execute_result"
    }
   ],
   "source": [
    "# DataFrame to explain what is A, B, C etc\n",
    "#First a list with the genres and then the list for directors\n",
    "genres_tp=[\"Action, Adventure, Sci-fi, Fantasy\", \n",
    "           \"Drama\",  \"Action, Sci-fi\",\n",
    "           \"Action, Sci-fi-, Adventure, Fantasy\", \n",
    "           \"Action, Sci-fi-, Thriller, Adventure\",\n",
    "           \"Action, Adventure\", \n",
    "           \"Action, Fantasy, Adventure, Sci-fi\", \n",
    "           \"Adventure, Fantasy, Mystery, Drama\",\n",
    "           \"Action, Fantasy, Adventure, Sci-fi\", \n",
    "           \"Action, Adventure, Sci-Fi\"]\n",
    "\n",
    "director_tp=[\"James Cameron\", \"James Cameron\", \n",
    "             \"Anthony Russo, Joe Russo\", \n",
    "             \"J.J. Abrams\", \"Colin Trevorrow\",\n",
    "             \"James Wan\", \"Joss Whedon\", \"David Yates\", \n",
    "             \"Ryan Coogler\", \"J.A. Bayona\"]\n",
    "\n",
    "#Gather the movie's name list from the previos Df\n",
    "title = list(tp2[\"movie\"])\n",
    "\n",
    "#Creating the new Df using .zip()\n",
    "ID_df=pd.DataFrame(zip(MovieID,title,genres_tp, director_tp), \n",
    "                   columns = [\"MovieID\", \"Title\", \"Genre\", \"Director\"])\n",
    "ID_df.set_index(\"MovieID\")"
   ]
  },
  {
   "cell_type": "markdown",
   "metadata": {},
   "source": [
    "Now a new table for only the MovieID and the Genre"
   ]
  },
  {
   "cell_type": "code",
   "execution_count": 8,
   "metadata": {},
   "outputs": [
    {
     "data": {
      "text/html": [
       "<div>\n",
       "<style scoped>\n",
       "    .dataframe tbody tr th:only-of-type {\n",
       "        vertical-align: middle;\n",
       "    }\n",
       "\n",
       "    .dataframe tbody tr th {\n",
       "        vertical-align: top;\n",
       "    }\n",
       "\n",
       "    .dataframe thead th {\n",
       "        text-align: right;\n",
       "    }\n",
       "</style>\n",
       "<table border=\"1\" class=\"dataframe\">\n",
       "  <thead>\n",
       "    <tr style=\"text-align: right;\">\n",
       "      <th></th>\n",
       "      <th>Genre</th>\n",
       "    </tr>\n",
       "    <tr>\n",
       "      <th>MovieID</th>\n",
       "      <th></th>\n",
       "    </tr>\n",
       "  </thead>\n",
       "  <tbody>\n",
       "    <tr>\n",
       "      <th>A</th>\n",
       "      <td>Action, Adventure, Sci-fi, Fantasy</td>\n",
       "    </tr>\n",
       "    <tr>\n",
       "      <th>B</th>\n",
       "      <td>Drama</td>\n",
       "    </tr>\n",
       "    <tr>\n",
       "      <th>C</th>\n",
       "      <td>Action, Sci-fi</td>\n",
       "    </tr>\n",
       "    <tr>\n",
       "      <th>D</th>\n",
       "      <td>Action, Sci-fi-, Adventure, Fantasy</td>\n",
       "    </tr>\n",
       "    <tr>\n",
       "      <th>E</th>\n",
       "      <td>Action, Sci-fi-, Thriller, Adventure</td>\n",
       "    </tr>\n",
       "    <tr>\n",
       "      <th>F</th>\n",
       "      <td>Action, Adventure</td>\n",
       "    </tr>\n",
       "    <tr>\n",
       "      <th>G</th>\n",
       "      <td>Action, Fantasy, Adventure, Sci-fi</td>\n",
       "    </tr>\n",
       "    <tr>\n",
       "      <th>H</th>\n",
       "      <td>Adventure, Fantasy, Mystery, Drama</td>\n",
       "    </tr>\n",
       "    <tr>\n",
       "      <th>I</th>\n",
       "      <td>Action, Fantasy, Adventure, Sci-fi</td>\n",
       "    </tr>\n",
       "    <tr>\n",
       "      <th>J</th>\n",
       "      <td>Action, Adventure, Sci-Fi</td>\n",
       "    </tr>\n",
       "  </tbody>\n",
       "</table>\n",
       "</div>"
      ],
      "text/plain": [
       "                                        Genre\n",
       "MovieID                                      \n",
       "A          Action, Adventure, Sci-fi, Fantasy\n",
       "B                                       Drama\n",
       "C                              Action, Sci-fi\n",
       "D         Action, Sci-fi-, Adventure, Fantasy\n",
       "E        Action, Sci-fi-, Thriller, Adventure\n",
       "F                           Action, Adventure\n",
       "G          Action, Fantasy, Adventure, Sci-fi\n",
       "H          Adventure, Fantasy, Mystery, Drama\n",
       "I          Action, Fantasy, Adventure, Sci-fi\n",
       "J                   Action, Adventure, Sci-Fi"
      ]
     },
     "execution_count": 8,
     "metadata": {},
     "output_type": "execute_result"
    }
   ],
   "source": [
    "AB_df=pd.DataFrame(zip(MovieID,genres_tp), columns = [\"MovieID\", \"Genre\"])\n",
    "AB_df.set_index(\"MovieID\")"
   ]
  },
  {
   "cell_type": "markdown",
   "metadata": {},
   "source": [
    "### Plotting whit matplotlib\n",
    "\n",
    "We also want to see how it sees the plot in matplotlib"
   ]
  },
  {
   "cell_type": "code",
   "execution_count": 9,
   "metadata": {},
   "outputs": [
    {
     "data": {
      "text/plain": [
       "Text(0.5, 1.0, 'Budget for each movie')"
      ]
     },
     "execution_count": 9,
     "metadata": {},
     "output_type": "execute_result"
    },
    {
     "data": {
      "image/png": "[encoded data removed]",
      "text/plain": [
       "<Figure size 1080x504 with 1 Axes>"
      ]
     },
     "metadata": {
      "needs_background": "light"
     },
     "output_type": "display_data"
    }
   ],
   "source": [
    "topten = tp1.loc[:,[\"movie\", \"earnings\", \"production_budget\"]]\n",
    "topten.plot.bar(figsize=(15,7))\n",
    "plt.xticks(rotation=67)\n",
    "plt.xlabel('Movie')\n",
    "plt.ylabel('MOney')\n",
    "plt.title('Budget for each movie')"
   ]
  },
  {
   "cell_type": "markdown",
   "metadata": {},
   "source": [
    "***\n",
    "#  🎥🎞 Data Analysis of Categories 🎞 🎥\n",
    "***"
   ]
  },
  {
   "cell_type": "markdown",
   "metadata": {},
   "source": [
    "![gifm](https://media.giphy.com/media/XZ0lh4zVU9fOuBAZK5/giphy.gif)"
   ]
  },
  {
   "cell_type": "markdown",
   "metadata": {},
   "source": [
    "***\n",
    "## Why is this data relevant?\n",
    "***\n",
    "* Is important because depends in how much rating and number of votes you can see wich category is more succesful\n",
    "* With this we can assume wich category is most relevant on these days"
   ]
  },
  {
   "cell_type": "markdown",
   "metadata": {},
   "source": [
    "*Here we can see the average rating of the category with the highest number of votes.\n",
    "The main reason to filter this way is to show that not always the best rated categories are the one who have more votes*"
   ]
  },
  {
   "cell_type": "code",
   "execution_count": 10,
   "metadata": {},
   "outputs": [],
   "source": [
    "#Doing the connection\n",
    "conn = sqlite3.connect('data/im.db')"
   ]
  },
  {
   "cell_type": "code",
   "execution_count": 11,
   "metadata": {},
   "outputs": [
    {
     "data": {
      "text/html": [
       "<div>\n",
       "<style scoped>\n",
       "    .dataframe tbody tr th:only-of-type {\n",
       "        vertical-align: middle;\n",
       "    }\n",
       "\n",
       "    .dataframe tbody tr th {\n",
       "        vertical-align: top;\n",
       "    }\n",
       "\n",
       "    .dataframe thead th {\n",
       "        text-align: right;\n",
       "    }\n",
       "</style>\n",
       "<table border=\"1\" class=\"dataframe\">\n",
       "  <thead>\n",
       "    <tr style=\"text-align: right;\">\n",
       "      <th></th>\n",
       "      <th>Category</th>\n",
       "      <th>Rating</th>\n",
       "      <th>NumberVotes</th>\n",
       "    </tr>\n",
       "  </thead>\n",
       "  <tbody>\n",
       "    <tr>\n",
       "      <th>0</th>\n",
       "      <td>Adventure,Drama,Sci-Fi</td>\n",
       "      <td>8.6</td>\n",
       "      <td>1299334</td>\n",
       "    </tr>\n",
       "    <tr>\n",
       "      <th>1</th>\n",
       "      <td>Drama,Western</td>\n",
       "      <td>8.4</td>\n",
       "      <td>1211405</td>\n",
       "    </tr>\n",
       "    <tr>\n",
       "      <th>2</th>\n",
       "      <td>Action,Thriller</td>\n",
       "      <td>8.4</td>\n",
       "      <td>1387769</td>\n",
       "    </tr>\n",
       "    <tr>\n",
       "      <th>3</th>\n",
       "      <td>Biography,Crime,Drama</td>\n",
       "      <td>8.2</td>\n",
       "      <td>1035358</td>\n",
       "    </tr>\n",
       "    <tr>\n",
       "      <th>4</th>\n",
       "      <td>Mystery,Thriller</td>\n",
       "      <td>8.1</td>\n",
       "      <td>1005960</td>\n",
       "    </tr>\n",
       "    <tr>\n",
       "      <th>5</th>\n",
       "      <td>Action,Adventure,Sci-Fi</td>\n",
       "      <td>8.1</td>\n",
       "      <td>1183655</td>\n",
       "    </tr>\n",
       "    <tr>\n",
       "      <th>6</th>\n",
       "      <td>Action,Adventure,Comedy</td>\n",
       "      <td>8.1</td>\n",
       "      <td>948394</td>\n",
       "    </tr>\n",
       "  </tbody>\n",
       "</table>\n",
       "</div>"
      ],
      "text/plain": [
       "                  Category  Rating  NumberVotes\n",
       "0   Adventure,Drama,Sci-Fi     8.6      1299334\n",
       "1            Drama,Western     8.4      1211405\n",
       "2          Action,Thriller     8.4      1387769\n",
       "3    Biography,Crime,Drama     8.2      1035358\n",
       "4         Mystery,Thriller     8.1      1005960\n",
       "5  Action,Adventure,Sci-Fi     8.1      1183655\n",
       "6  Action,Adventure,Comedy     8.1       948394"
      ]
     },
     "execution_count": 11,
     "metadata": {},
     "output_type": "execute_result"
    }
   ],
   "source": [
    "pd.read_sql(\"\"\"\n",
    "SELECT \n",
    "    mb.genres AS Category,\n",
    "    mr.averagerating AS Rating,\n",
    "    mr.numvotes as NumberVotes\n",
    "FROM \n",
    "    movie_basics mb\n",
    "INNER JOIN \n",
    "    movie_ratings mr\n",
    "ON \n",
    "    mb.movie_id = mr.movie_id\n",
    "WHERE \n",
    "    mr.numvotes >= 900000 \n",
    "AND \n",
    "    mr.averagerating >= 8.1\n",
    "GROUP BY \n",
    "    mb.genres \n",
    "ORDER BY Rating  DESC  \n",
    ";\"\"\", conn)"
   ]
  },
  {
   "cell_type": "markdown",
   "metadata": {},
   "source": [
    "*In the next graphic we can see that the best rating category is not the one that have the most votes.With that in mind we need to hear more to the audience to see what is the best option. Here I prefered to use matplotib only to show you the 3 main values and see the difference between them*"
   ]
  },
  {
   "cell_type": "code",
   "execution_count": 12,
   "metadata": {},
   "outputs": [
    {
     "data": {
      "image/png": "[encoded data removed]",
      "text/plain": [
       "<Figure size 1080x504 with 1 Axes>"
      ]
     },
     "metadata": {
      "needs_background": "light"
     },
     "output_type": "display_data"
    }
   ],
   "source": [
    "q= \"\"\"\n",
    "SELECT \n",
    "    mb.genres AS Category,\n",
    "    mr.averagerating AS Rating,\n",
    "    mr.numvotes as NumberVotes\n",
    "FROM \n",
    "    movie_basics mb\n",
    "INNER JOIN \n",
    "    movie_ratings mr\n",
    "ON \n",
    "    mb.movie_id = mr.movie_id\n",
    "WHERE \n",
    "    mr.numvotes >= 900000 \n",
    "AND \n",
    "    mr.averagerating >= 8.1\n",
    "GROUP BY \n",
    "    mb.genres \n",
    "ORDER BY \n",
    "    Rating  DESC\n",
    ";\n",
    "\"\"\"\n",
    "df=pd.read_sql(q, conn)\n",
    "df.pivot(index='Category',columns='Rating',values='NumberVotes').plot(kind='barh',figsize=(15,7))\n",
    "plt.xlabel('Name of the categories')\n",
    "plt.ylabel('Number Of Votes')\n",
    "plt.title('Best Rating Categories with the Most Votes')\n",
    "plt.show()"
   ]
  },
  {
   "cell_type": "markdown",
   "metadata": {},
   "source": [
    "*Now that we can see that not always the best rating category have the most votes so with that in mind we will see in the next graphic that only **Action and Thriller are the two with the most votes but they are together**, What if we only want to see the best categories with the most votes? We will see it after that!*"
   ]
  },
  {
   "cell_type": "code",
   "execution_count": 13,
   "metadata": {},
   "outputs": [
    {
     "data": {
      "image/png": "[encoded data removed]",
      "text/plain": [
       "<Figure size 432x288 with 1 Axes>"
      ]
     },
     "metadata": {
      "needs_background": "light"
     },
     "output_type": "display_data"
    }
   ],
   "source": [
    "seaborn.barplot(data=df, x=\"NumberVotes\", y=\"Category\")\n",
    "plt.xticks(rotation=60)\n",
    "plt.show()"
   ]
  },
  {
   "cell_type": "markdown",
   "metadata": {},
   "source": [
    "*First we need to filter the data between 900000 votes (the main reason we use this value is because the highest number of votes are 1800000)*"
   ]
  },
  {
   "cell_type": "code",
   "execution_count": 14,
   "metadata": {},
   "outputs": [
    {
     "data": {
      "text/html": [
       "<div>\n",
       "<style scoped>\n",
       "    .dataframe tbody tr th:only-of-type {\n",
       "        vertical-align: middle;\n",
       "    }\n",
       "\n",
       "    .dataframe tbody tr th {\n",
       "        vertical-align: top;\n",
       "    }\n",
       "\n",
       "    .dataframe thead th {\n",
       "        text-align: right;\n",
       "    }\n",
       "</style>\n",
       "<table border=\"1\" class=\"dataframe\">\n",
       "  <thead>\n",
       "    <tr style=\"text-align: right;\">\n",
       "      <th></th>\n",
       "      <th>Category</th>\n",
       "      <th>Rating</th>\n",
       "    </tr>\n",
       "  </thead>\n",
       "  <tbody>\n",
       "    <tr>\n",
       "      <th>0</th>\n",
       "      <td>Mystery,Thriller</td>\n",
       "      <td>8.1</td>\n",
       "    </tr>\n",
       "    <tr>\n",
       "      <th>1</th>\n",
       "      <td>Action,Thriller</td>\n",
       "      <td>8.4</td>\n",
       "    </tr>\n",
       "    <tr>\n",
       "      <th>2</th>\n",
       "      <td>Adventure,Drama,Sci-Fi</td>\n",
       "      <td>8.6</td>\n",
       "    </tr>\n",
       "    <tr>\n",
       "      <th>3</th>\n",
       "      <td>Action,Adventure,Comedy</td>\n",
       "      <td>8.1</td>\n",
       "    </tr>\n",
       "    <tr>\n",
       "      <th>4</th>\n",
       "      <td>Drama,Western</td>\n",
       "      <td>8.4</td>\n",
       "    </tr>\n",
       "    <tr>\n",
       "      <th>5</th>\n",
       "      <td>Biography,Crime,Drama</td>\n",
       "      <td>8.2</td>\n",
       "    </tr>\n",
       "    <tr>\n",
       "      <th>6</th>\n",
       "      <td>Action,Adventure,Sci-Fi</td>\n",
       "      <td>8.1</td>\n",
       "    </tr>\n",
       "    <tr>\n",
       "      <th>7</th>\n",
       "      <td>Action,Adventure,Sci-Fi</td>\n",
       "      <td>8.8</td>\n",
       "    </tr>\n",
       "  </tbody>\n",
       "</table>\n",
       "</div>"
      ],
      "text/plain": [
       "                  Category  Rating\n",
       "0         Mystery,Thriller     8.1\n",
       "1          Action,Thriller     8.4\n",
       "2   Adventure,Drama,Sci-Fi     8.6\n",
       "3  Action,Adventure,Comedy     8.1\n",
       "4            Drama,Western     8.4\n",
       "5    Biography,Crime,Drama     8.2\n",
       "6  Action,Adventure,Sci-Fi     8.1\n",
       "7  Action,Adventure,Sci-Fi     8.8"
      ]
     },
     "execution_count": 14,
     "metadata": {},
     "output_type": "execute_result"
    }
   ],
   "source": [
    "df4=pd.read_sql(\"\"\"\n",
    "SELECT \n",
    "    mb.genres AS Category,\n",
    "    mr.averagerating AS Rating\n",
    "FROM \n",
    "    movie_basics mb\n",
    "INNER JOIN \n",
    "    movie_ratings mr\n",
    "ON \n",
    "    mb.movie_id = mr.movie_id\n",
    "WHERE \n",
    "    mr.numvotes >= 900000 AND mr.averagerating >= 8.1\n",
    "\"\"\", conn)\n",
    "df4"
   ]
  },
  {
   "cell_type": "markdown",
   "metadata": {},
   "source": [
    "*Then we are going to make the split of the values just to count the most voted ones!*"
   ]
  },
  {
   "cell_type": "code",
   "execution_count": 15,
   "metadata": {},
   "outputs": [
    {
     "data": {
      "text/html": [
       "<div>\n",
       "<style scoped>\n",
       "    .dataframe tbody tr th:only-of-type {\n",
       "        vertical-align: middle;\n",
       "    }\n",
       "\n",
       "    .dataframe tbody tr th {\n",
       "        vertical-align: top;\n",
       "    }\n",
       "\n",
       "    .dataframe thead th {\n",
       "        text-align: right;\n",
       "    }\n",
       "</style>\n",
       "<table border=\"1\" class=\"dataframe\">\n",
       "  <thead>\n",
       "    <tr style=\"text-align: right;\">\n",
       "      <th></th>\n",
       "      <th>Frequency</th>\n",
       "      <th>Category</th>\n",
       "    </tr>\n",
       "  </thead>\n",
       "  <tbody>\n",
       "    <tr>\n",
       "      <th>0</th>\n",
       "      <td>4.0</td>\n",
       "      <td>Adventure</td>\n",
       "    </tr>\n",
       "    <tr>\n",
       "      <th>1</th>\n",
       "      <td>4.0</td>\n",
       "      <td>Action</td>\n",
       "    </tr>\n",
       "    <tr>\n",
       "      <th>2</th>\n",
       "      <td>3.0</td>\n",
       "      <td>Sci-Fi</td>\n",
       "    </tr>\n",
       "    <tr>\n",
       "      <th>3</th>\n",
       "      <td>3.0</td>\n",
       "      <td>Drama</td>\n",
       "    </tr>\n",
       "    <tr>\n",
       "      <th>4</th>\n",
       "      <td>2.0</td>\n",
       "      <td>Thriller</td>\n",
       "    </tr>\n",
       "  </tbody>\n",
       "</table>\n",
       "</div>"
      ],
      "text/plain": [
       "   Frequency   Category\n",
       "0        4.0  Adventure\n",
       "1        4.0     Action\n",
       "2        3.0     Sci-Fi\n",
       "3        3.0      Drama\n",
       "4        2.0   Thriller"
      ]
     },
     "execution_count": 15,
     "metadata": {},
     "output_type": "execute_result"
    }
   ],
   "source": [
    "#We separete the values with the methon split by the commas\n",
    "categories_cols = df4['Category'].str.split(',',expand=True)\n",
    "\n",
    "#Adding the columns in wich the genre will split\n",
    "categories_cols.columns = ['genre1','genre2','genre3']\n",
    "\n",
    "#for each category we need to sum each time the same appear\n",
    "counts1=categories_cols['genre1'].value_counts()\n",
    "counts2=categories_cols['genre2'].value_counts()\n",
    "counts3=categories_cols['genre3'].value_counts()\n",
    "\n",
    "total_counts = counts1.add(counts2, fill_value=0).add(counts3, fill_value=0)\n",
    "\n",
    "#Gathering the count in a dataframe and sorting them\n",
    "one_category = total_counts.sort_values(ascending=False)\n",
    "one_category.index\n",
    "\n",
    "#Now we can create the dataframe with the frecuency of each category\n",
    "dfone=pd.DataFrame(list(zip(one_category.values, one_category.index)), \n",
    "                   columns = [\"Frequency\", \"Category\"])\n",
    "dfone.head(5)"
   ]
  },
  {
   "cell_type": "markdown",
   "metadata": {},
   "source": [
    "*In the next graphic we will show you the top 5 of the most voted categories!*"
   ]
  },
  {
   "cell_type": "code",
   "execution_count": 16,
   "metadata": {},
   "outputs": [
    {
     "data": {
      "image/png": "[encoded data removed]",
      "text/plain": [
       "<Figure size 432x288 with 1 Axes>"
      ]
     },
     "metadata": {
      "needs_background": "light"
     },
     "output_type": "display_data"
    }
   ],
   "source": [
    "seaborn.barplot(data=dfone, x=\"Frequency\", y=\"Category\")\n",
    "plt.xticks(rotation=60)\n",
    "plt.show()"
   ]
  },
  {
   "cell_type": "markdown",
   "metadata": {},
   "source": [
    "*Our main value is the number of votes because this votes are provided by the community and the rating are provided by movie critics or people that is related with producers and movies.So if you want to be in this trend, you should make with our top 5!*"
   ]
  },
  {
   "cell_type": "markdown",
   "metadata": {},
   "source": [
    "***\n",
    "# 🎬👨 Data Analysis Directors 👩🏼🎬\n",
    "***"
   ]
  },
  {
   "cell_type": "markdown",
   "metadata": {},
   "source": [
    "![gifmi](https://media.giphy.com/media/26DOMQa5Ib2SmaRZm/giphy.gif)"
   ]
  },
  {
   "cell_type": "markdown",
   "metadata": {},
   "source": [
    "We filtered the im.db database to only select directors that have a 7 or higher average rating for their body of work and over 400,000 votes on their films then limited the query to the top 20 in order of highest rating. On the next graph you will see that we worked on getting the Categories and film names for those top 20 directors. but the categories are grouped together i.e \"action,adventure,drama\".\n",
    "\n",
    "In reference to:\n",
    "![erd-im](https://github.com/PaolaMalagon/dsc-ai-academy-semester1-capstone/blob/main/movie_data_erd.jpeg?raw=true)"
   ]
  },
  {
   "cell_type": "code",
   "execution_count": 17,
   "metadata": {},
   "outputs": [
    {
     "data": {
      "text/html": [
       "<div>\n",
       "<style scoped>\n",
       "    .dataframe tbody tr th:only-of-type {\n",
       "        vertical-align: middle;\n",
       "    }\n",
       "\n",
       "    .dataframe tbody tr th {\n",
       "        vertical-align: top;\n",
       "    }\n",
       "\n",
       "    .dataframe thead th {\n",
       "        text-align: right;\n",
       "    }\n",
       "</style>\n",
       "<table border=\"1\" class=\"dataframe\">\n",
       "  <thead>\n",
       "    <tr style=\"text-align: right;\">\n",
       "      <th></th>\n",
       "      <th>person_id</th>\n",
       "      <th>Director</th>\n",
       "      <th>MoviesMade</th>\n",
       "      <th>Average Rating</th>\n",
       "      <th>numvotes</th>\n",
       "    </tr>\n",
       "  </thead>\n",
       "  <tbody>\n",
       "    <tr>\n",
       "      <th>0</th>\n",
       "      <td>nm0000233</td>\n",
       "      <td>Quentin Tarantino</td>\n",
       "      <td>4</td>\n",
       "      <td>8.700000</td>\n",
       "      <td>1211405</td>\n",
       "    </tr>\n",
       "    <tr>\n",
       "      <th>1</th>\n",
       "      <td>nm0634240</td>\n",
       "      <td>Christopher Nolan</td>\n",
       "      <td>4</td>\n",
       "      <td>8.437500</td>\n",
       "      <td>1299334</td>\n",
       "    </tr>\n",
       "    <tr>\n",
       "      <th>2</th>\n",
       "      <td>nm0881279</td>\n",
       "      <td>Lee Unkrich</td>\n",
       "      <td>2</td>\n",
       "      <td>8.350000</td>\n",
       "      <td>682218</td>\n",
       "    </tr>\n",
       "    <tr>\n",
       "      <th>3</th>\n",
       "      <td>nm0751648</td>\n",
       "      <td>Joe Russo</td>\n",
       "      <td>4</td>\n",
       "      <td>8.246667</td>\n",
       "      <td>666252</td>\n",
       "    </tr>\n",
       "    <tr>\n",
       "      <th>4</th>\n",
       "      <td>nm0751577</td>\n",
       "      <td>Anthony Russo</td>\n",
       "      <td>4</td>\n",
       "      <td>8.246667</td>\n",
       "      <td>666252</td>\n",
       "    </tr>\n",
       "    <tr>\n",
       "      <th>5</th>\n",
       "      <td>nm0215455</td>\n",
       "      <td>Ronnie Del Carmen</td>\n",
       "      <td>1</td>\n",
       "      <td>8.200000</td>\n",
       "      <td>536181</td>\n",
       "    </tr>\n",
       "    <tr>\n",
       "      <th>6</th>\n",
       "      <td>nm1783265</td>\n",
       "      <td>Tim Miller</td>\n",
       "      <td>1</td>\n",
       "      <td>8.000000</td>\n",
       "      <td>820847</td>\n",
       "    </tr>\n",
       "    <tr>\n",
       "      <th>7</th>\n",
       "      <td>nm0154716</td>\n",
       "      <td>Stephen Chbosky</td>\n",
       "      <td>2</td>\n",
       "      <td>8.000000</td>\n",
       "      <td>422671</td>\n",
       "    </tr>\n",
       "    <tr>\n",
       "      <th>8</th>\n",
       "      <td>nm0230032</td>\n",
       "      <td>Pete Docter</td>\n",
       "      <td>2</td>\n",
       "      <td>7.977778</td>\n",
       "      <td>536181</td>\n",
       "    </tr>\n",
       "    <tr>\n",
       "      <th>9</th>\n",
       "      <td>nm0213450</td>\n",
       "      <td>Dean DeBlois</td>\n",
       "      <td>3</td>\n",
       "      <td>7.940000</td>\n",
       "      <td>611299</td>\n",
       "    </tr>\n",
       "    <tr>\n",
       "      <th>10</th>\n",
       "      <td>nm0000399</td>\n",
       "      <td>David Fincher</td>\n",
       "      <td>3</td>\n",
       "      <td>7.820000</td>\n",
       "      <td>568578</td>\n",
       "    </tr>\n",
       "    <tr>\n",
       "      <th>11</th>\n",
       "      <td>nm0821432</td>\n",
       "      <td>Chad Stahelski</td>\n",
       "      <td>3</td>\n",
       "      <td>7.816667</td>\n",
       "      <td>449942</td>\n",
       "    </tr>\n",
       "    <tr>\n",
       "      <th>12</th>\n",
       "      <td>nm0009190</td>\n",
       "      <td>J.J. Abrams</td>\n",
       "      <td>3</td>\n",
       "      <td>7.755556</td>\n",
       "      <td>445535</td>\n",
       "    </tr>\n",
       "    <tr>\n",
       "      <th>13</th>\n",
       "      <td>nm0001392</td>\n",
       "      <td>Peter Jackson</td>\n",
       "      <td>4</td>\n",
       "      <td>7.743750</td>\n",
       "      <td>719629</td>\n",
       "    </tr>\n",
       "    <tr>\n",
       "      <th>14</th>\n",
       "      <td>nm0190859</td>\n",
       "      <td>Alfonso Cuarón</td>\n",
       "      <td>2</td>\n",
       "      <td>7.725000</td>\n",
       "      <td>710018</td>\n",
       "    </tr>\n",
       "    <tr>\n",
       "      <th>15</th>\n",
       "      <td>nm0891216</td>\n",
       "      <td>Matthew Vaughn</td>\n",
       "      <td>4</td>\n",
       "      <td>7.500000</td>\n",
       "      <td>497363</td>\n",
       "    </tr>\n",
       "    <tr>\n",
       "      <th>16</th>\n",
       "      <td>nm1601644</td>\n",
       "      <td>Jennifer Lee</td>\n",
       "      <td>1</td>\n",
       "      <td>7.500000</td>\n",
       "      <td>516998</td>\n",
       "    </tr>\n",
       "    <tr>\n",
       "      <th>17</th>\n",
       "      <td>nm0420941</td>\n",
       "      <td>Patty Jenkins</td>\n",
       "      <td>1</td>\n",
       "      <td>7.500000</td>\n",
       "      <td>487527</td>\n",
       "    </tr>\n",
       "    <tr>\n",
       "      <th>18</th>\n",
       "      <td>nm0118333</td>\n",
       "      <td>Chris Buck</td>\n",
       "      <td>1</td>\n",
       "      <td>7.500000</td>\n",
       "      <td>516998</td>\n",
       "    </tr>\n",
       "    <tr>\n",
       "      <th>19</th>\n",
       "      <td>nm0923736</td>\n",
       "      <td>Joss Whedon</td>\n",
       "      <td>3</td>\n",
       "      <td>7.455556</td>\n",
       "      <td>1183655</td>\n",
       "    </tr>\n",
       "  </tbody>\n",
       "</table>\n",
       "</div>"
      ],
      "text/plain": [
       "    person_id           Director  MoviesMade  Average Rating  numvotes\n",
       "0   nm0000233  Quentin Tarantino           4        8.700000   1211405\n",
       "1   nm0634240  Christopher Nolan           4        8.437500   1299334\n",
       "2   nm0881279        Lee Unkrich           2        8.350000    682218\n",
       "3   nm0751648          Joe Russo           4        8.246667    666252\n",
       "4   nm0751577      Anthony Russo           4        8.246667    666252\n",
       "5   nm0215455  Ronnie Del Carmen           1        8.200000    536181\n",
       "6   nm1783265         Tim Miller           1        8.000000    820847\n",
       "7   nm0154716    Stephen Chbosky           2        8.000000    422671\n",
       "8   nm0230032        Pete Docter           2        7.977778    536181\n",
       "9   nm0213450       Dean DeBlois           3        7.940000    611299\n",
       "10  nm0000399      David Fincher           3        7.820000    568578\n",
       "11  nm0821432     Chad Stahelski           3        7.816667    449942\n",
       "12  nm0009190        J.J. Abrams           3        7.755556    445535\n",
       "13  nm0001392      Peter Jackson           4        7.743750    719629\n",
       "14  nm0190859     Alfonso Cuarón           2        7.725000    710018\n",
       "15  nm0891216     Matthew Vaughn           4        7.500000    497363\n",
       "16  nm1601644       Jennifer Lee           1        7.500000    516998\n",
       "17  nm0420941      Patty Jenkins           1        7.500000    487527\n",
       "18  nm0118333         Chris Buck           1        7.500000    516998\n",
       "19  nm0923736        Joss Whedon           3        7.455556   1183655"
      ]
     },
     "execution_count": 17,
     "metadata": {},
     "output_type": "execute_result"
    }
   ],
   "source": [
    "avg_rating = \"\"\"\n",
    "SELECT \n",
    "    person_id , \n",
    "    primary_name as Director , \n",
    "    COUNT(DISTINCT directors.movie_id) as \"MoviesMade\", \n",
    "SUM \n",
    "    (movie_ratings.averagerating) / \n",
    "COUNT\n",
    "    (movie_ratings.averagerating) as \"Average Rating\", \n",
    "    movie_ratings.numvotes as numvotes \n",
    "FROM \n",
    "    persons\n",
    "    JOIN \n",
    "        directors \n",
    "    USING \n",
    "        (person_id)\n",
    "        JOIN \n",
    "            movie_basics\n",
    "        USING \n",
    "            (movie_id)\n",
    "            JOIN \n",
    "                movie_ratings\n",
    "            USING \n",
    "                (movie_id)\n",
    "GROUP BY \n",
    "    person_id \n",
    "HAVING \n",
    "    \"Average Rating\" >= 7.0 \n",
    "AND \n",
    "    numvotes >= 400000\n",
    "ORDER BY \n",
    "    \"Average Rating\" DESC\n",
    "LIMIT 20\n",
    "    \n",
    ";\n",
    "\"\"\"\n",
    "pd.read_sql(avg_rating, conn)"
   ]
  },
  {
   "cell_type": "markdown",
   "metadata": {},
   "source": [
    "*Here is the graph with the top 20 directors with their average ratings. In the following function we ran a query to see what directors have a overall high average rating about 7 as well as a high number of votes to eliminate high rating but low voting outliers. We organized it into a top 20 by average rating of their movies made in descending order from highest to lowest.*"
   ]
  },
  {
   "cell_type": "code",
   "execution_count": 18,
   "metadata": {},
   "outputs": [
    {
     "data": {
      "image/png": "[encoded data removed]",
      "text/plain": [
       "<Figure size 1152x504 with 1 Axes>"
      ]
     },
     "metadata": {
      "needs_background": "light"
     },
     "output_type": "display_data"
    }
   ],
   "source": [
    "top_20_directors = pd.read_sql(avg_rating , conn) \n",
    "fig = plt.subplots(figsize = (16,7))\n",
    "seaborn.barplot(data=top_20_directors, \n",
    "            x=\"Average Rating\" , y= \"Director\", orient=\"h\")\n",
    "\n",
    "plt.title(\"Top 20 Directors\")\n",
    "\n",
    "plt.show()"
   ]
  },
  {
   "cell_type": "markdown",
   "metadata": {},
   "source": [
    "***\n",
    "# Query for top 20 Director in terms of votes and the categories of the films\n",
    "***"
   ]
  },
  {
   "cell_type": "markdown",
   "metadata": {},
   "source": [
    "*In the following function we ran a query for the top 20 directors in term of number of votes and the catergories of the films they have directed. In order to see the patterns of categories for these directors.*"
   ]
  },
  {
   "cell_type": "code",
   "execution_count": 19,
   "metadata": {},
   "outputs": [
    {
     "data": {
      "text/html": [
       "<div>\n",
       "<style scoped>\n",
       "    .dataframe tbody tr th:only-of-type {\n",
       "        vertical-align: middle;\n",
       "    }\n",
       "\n",
       "    .dataframe tbody tr th {\n",
       "        vertical-align: top;\n",
       "    }\n",
       "\n",
       "    .dataframe thead th {\n",
       "        text-align: right;\n",
       "    }\n",
       "</style>\n",
       "<table border=\"1\" class=\"dataframe\">\n",
       "  <thead>\n",
       "    <tr style=\"text-align: right;\">\n",
       "      <th></th>\n",
       "      <th>Category</th>\n",
       "      <th>Rating</th>\n",
       "      <th>movie_id</th>\n",
       "      <th>Directors</th>\n",
       "      <th>primary_title</th>\n",
       "    </tr>\n",
       "  </thead>\n",
       "  <tbody>\n",
       "    <tr>\n",
       "      <th>0</th>\n",
       "      <td>Action,Adventure,Biography</td>\n",
       "      <td>8.0</td>\n",
       "      <td>tt1663202</td>\n",
       "      <td>Alejandro G. Iñárritu</td>\n",
       "      <td>The Revenant</td>\n",
       "    </tr>\n",
       "    <tr>\n",
       "      <th>1</th>\n",
       "      <td>Drama,Sci-Fi,Thriller</td>\n",
       "      <td>7.7</td>\n",
       "      <td>tt1454468</td>\n",
       "      <td>Alfonso Cuarón</td>\n",
       "      <td>Gravity</td>\n",
       "    </tr>\n",
       "    <tr>\n",
       "      <th>2</th>\n",
       "      <td>Action,Adventure,Sci-Fi</td>\n",
       "      <td>7.8</td>\n",
       "      <td>tt1843866</td>\n",
       "      <td>Anthony Russo</td>\n",
       "      <td>Captain America: The Winter Soldier</td>\n",
       "    </tr>\n",
       "    <tr>\n",
       "      <th>3</th>\n",
       "      <td>Action,Adventure,Sci-Fi</td>\n",
       "      <td>8.5</td>\n",
       "      <td>tt4154756</td>\n",
       "      <td>Anthony Russo</td>\n",
       "      <td>Avengers: Infinity War</td>\n",
       "    </tr>\n",
       "    <tr>\n",
       "      <th>4</th>\n",
       "      <td>Action,Adventure,Sci-Fi</td>\n",
       "      <td>8.0</td>\n",
       "      <td>tt1877832</td>\n",
       "      <td>Bryan Singer</td>\n",
       "      <td>X-Men: Days of Future Past</td>\n",
       "    </tr>\n",
       "    <tr>\n",
       "      <th>5</th>\n",
       "      <td>Adventure,Drama,Sci-Fi</td>\n",
       "      <td>8.6</td>\n",
       "      <td>tt0816692</td>\n",
       "      <td>Christopher Nolan</td>\n",
       "      <td>Interstellar</td>\n",
       "    </tr>\n",
       "    <tr>\n",
       "      <th>6</th>\n",
       "      <td>Action,Thriller</td>\n",
       "      <td>8.4</td>\n",
       "      <td>tt1345836</td>\n",
       "      <td>Christopher Nolan</td>\n",
       "      <td>The Dark Knight Rises</td>\n",
       "    </tr>\n",
       "    <tr>\n",
       "      <th>7</th>\n",
       "      <td>Action,Adventure,Sci-Fi</td>\n",
       "      <td>8.8</td>\n",
       "      <td>tt1375666</td>\n",
       "      <td>Christopher Nolan</td>\n",
       "      <td>Inception</td>\n",
       "    </tr>\n",
       "    <tr>\n",
       "      <th>8</th>\n",
       "      <td>Drama,Music</td>\n",
       "      <td>8.5</td>\n",
       "      <td>tt2582802</td>\n",
       "      <td>Damien Chazelle</td>\n",
       "      <td>Whiplash</td>\n",
       "    </tr>\n",
       "    <tr>\n",
       "      <th>9</th>\n",
       "      <td>Drama,Thriller</td>\n",
       "      <td>8.0</td>\n",
       "      <td>tt0947798</td>\n",
       "      <td>Darren Aronofsky</td>\n",
       "      <td>Black Swan</td>\n",
       "    </tr>\n",
       "    <tr>\n",
       "      <th>10</th>\n",
       "      <td>Drama,Mystery,Thriller</td>\n",
       "      <td>8.1</td>\n",
       "      <td>tt2267998</td>\n",
       "      <td>David Fincher</td>\n",
       "      <td>Gone Girl</td>\n",
       "    </tr>\n",
       "    <tr>\n",
       "      <th>11</th>\n",
       "      <td>Comedy,Drama,Romance</td>\n",
       "      <td>7.7</td>\n",
       "      <td>tt1045658</td>\n",
       "      <td>David O. Russell</td>\n",
       "      <td>Silver Linings Playbook</td>\n",
       "    </tr>\n",
       "    <tr>\n",
       "      <th>12</th>\n",
       "      <td>Adventure,Drama,Fantasy</td>\n",
       "      <td>8.1</td>\n",
       "      <td>tt1201607</td>\n",
       "      <td>David Yates</td>\n",
       "      <td>Harry Potter and the Deathly Hallows: Part 2</td>\n",
       "    </tr>\n",
       "    <tr>\n",
       "      <th>13</th>\n",
       "      <td>Action,Adventure,Animation</td>\n",
       "      <td>8.1</td>\n",
       "      <td>tt0892769</td>\n",
       "      <td>Dean DeBlois</td>\n",
       "      <td>How to Train Your Dragon</td>\n",
       "    </tr>\n",
       "    <tr>\n",
       "      <th>14</th>\n",
       "      <td>Action,Adventure,Sci-Fi</td>\n",
       "      <td>7.2</td>\n",
       "      <td>tt1392170</td>\n",
       "      <td>Gary Ross</td>\n",
       "      <td>The Hunger Games</td>\n",
       "    </tr>\n",
       "    <tr>\n",
       "      <th>15</th>\n",
       "      <td>Action,Adventure,Sci-Fi</td>\n",
       "      <td>8.1</td>\n",
       "      <td>tt1392190</td>\n",
       "      <td>George Miller</td>\n",
       "      <td>Mad Max: Fury Road</td>\n",
       "    </tr>\n",
       "    <tr>\n",
       "      <th>16</th>\n",
       "      <td>Action,Adventure,Fantasy</td>\n",
       "      <td>8.0</td>\n",
       "      <td>tt2488496</td>\n",
       "      <td>J.J. Abrams</td>\n",
       "      <td>Star Wars: Episode VII - The Force Awakens</td>\n",
       "    </tr>\n",
       "    <tr>\n",
       "      <th>17</th>\n",
       "      <td>Action,Adventure,Comedy</td>\n",
       "      <td>8.1</td>\n",
       "      <td>tt2015381</td>\n",
       "      <td>James Gunn</td>\n",
       "      <td>Guardians of the Galaxy</td>\n",
       "    </tr>\n",
       "    <tr>\n",
       "      <th>18</th>\n",
       "      <td>Action,Adventure,Sci-Fi</td>\n",
       "      <td>6.9</td>\n",
       "      <td>tt0458339</td>\n",
       "      <td>Joe Johnston</td>\n",
       "      <td>Captain America: The First Avenger</td>\n",
       "    </tr>\n",
       "    <tr>\n",
       "      <th>19</th>\n",
       "      <td>Action,Adventure,Sci-Fi</td>\n",
       "      <td>7.0</td>\n",
       "      <td>tt1228705</td>\n",
       "      <td>Jon Favreau</td>\n",
       "      <td>Iron Man 2</td>\n",
       "    </tr>\n",
       "  </tbody>\n",
       "</table>\n",
       "</div>"
      ],
      "text/plain": [
       "                      Category  Rating   movie_id              Directors  \\\n",
       "0   Action,Adventure,Biography     8.0  tt1663202  Alejandro G. Iñárritu   \n",
       "1        Drama,Sci-Fi,Thriller     7.7  tt1454468         Alfonso Cuarón   \n",
       "2      Action,Adventure,Sci-Fi     7.8  tt1843866          Anthony Russo   \n",
       "3      Action,Adventure,Sci-Fi     8.5  tt4154756          Anthony Russo   \n",
       "4      Action,Adventure,Sci-Fi     8.0  tt1877832           Bryan Singer   \n",
       "5       Adventure,Drama,Sci-Fi     8.6  tt0816692      Christopher Nolan   \n",
       "6              Action,Thriller     8.4  tt1345836      Christopher Nolan   \n",
       "7      Action,Adventure,Sci-Fi     8.8  tt1375666      Christopher Nolan   \n",
       "8                  Drama,Music     8.5  tt2582802        Damien Chazelle   \n",
       "9               Drama,Thriller     8.0  tt0947798       Darren Aronofsky   \n",
       "10      Drama,Mystery,Thriller     8.1  tt2267998          David Fincher   \n",
       "11        Comedy,Drama,Romance     7.7  tt1045658       David O. Russell   \n",
       "12     Adventure,Drama,Fantasy     8.1  tt1201607            David Yates   \n",
       "13  Action,Adventure,Animation     8.1  tt0892769           Dean DeBlois   \n",
       "14     Action,Adventure,Sci-Fi     7.2  tt1392170              Gary Ross   \n",
       "15     Action,Adventure,Sci-Fi     8.1  tt1392190          George Miller   \n",
       "16    Action,Adventure,Fantasy     8.0  tt2488496            J.J. Abrams   \n",
       "17     Action,Adventure,Comedy     8.1  tt2015381             James Gunn   \n",
       "18     Action,Adventure,Sci-Fi     6.9  tt0458339           Joe Johnston   \n",
       "19     Action,Adventure,Sci-Fi     7.0  tt1228705            Jon Favreau   \n",
       "\n",
       "                                   primary_title  \n",
       "0                                   The Revenant  \n",
       "1                                        Gravity  \n",
       "2            Captain America: The Winter Soldier  \n",
       "3                         Avengers: Infinity War  \n",
       "4                     X-Men: Days of Future Past  \n",
       "5                                   Interstellar  \n",
       "6                          The Dark Knight Rises  \n",
       "7                                      Inception  \n",
       "8                                       Whiplash  \n",
       "9                                     Black Swan  \n",
       "10                                     Gone Girl  \n",
       "11                       Silver Linings Playbook  \n",
       "12  Harry Potter and the Deathly Hallows: Part 2  \n",
       "13                      How to Train Your Dragon  \n",
       "14                              The Hunger Games  \n",
       "15                            Mad Max: Fury Road  \n",
       "16    Star Wars: Episode VII - The Force Awakens  \n",
       "17                       Guardians of the Galaxy  \n",
       "18            Captain America: The First Avenger  \n",
       "19                                    Iron Man 2  "
      ]
     },
     "execution_count": 19,
     "metadata": {},
     "output_type": "execute_result"
    }
   ],
   "source": [
    "df4=pd.read_sql(\"\"\"\n",
    "SELECT \n",
    "    mb.genres AS Category, \n",
    "    mr.averagerating AS Rating , \n",
    "    mb.movie_id, \n",
    "    p.primary_name AS Directors,\n",
    "    mb.primary_title \n",
    "FROM \n",
    "    movie_basics mb\n",
    "INNER JOIN \n",
    "    movie_ratings mr\n",
    "ON mb.movie_id = mr.movie_id\n",
    "    INNER JOIN \n",
    "        directors d\n",
    "    ON mb.movie_id = d.movie_id\n",
    "        INNER JOIN \n",
    "            persons p\n",
    "        ON d.person_id = p.person_id\n",
    "WHERE \n",
    "    mr.numvotes >= 600000 \n",
    "GROUP BY \n",
    "    mb.movie_id\n",
    "ORDER BY \n",
    "    p.primary_name\n",
    "LIMIT 20\n",
    "\"\"\", conn)\n",
    "df4"
   ]
  },
  {
   "cell_type": "markdown",
   "metadata": {},
   "source": [
    "***\n",
    "## Organizing splitting categories\n",
    "***\n",
    "*In the following section we split up the categories section of the dataframe to seperate the categories into individual rows and seeing the frequency.*"
   ]
  },
  {
   "cell_type": "code",
   "execution_count": 20,
   "metadata": {},
   "outputs": [
    {
     "data": {
      "text/html": [
       "<div>\n",
       "<style scoped>\n",
       "    .dataframe tbody tr th:only-of-type {\n",
       "        vertical-align: middle;\n",
       "    }\n",
       "\n",
       "    .dataframe tbody tr th {\n",
       "        vertical-align: top;\n",
       "    }\n",
       "\n",
       "    .dataframe thead th {\n",
       "        text-align: right;\n",
       "    }\n",
       "</style>\n",
       "<table border=\"1\" class=\"dataframe\">\n",
       "  <thead>\n",
       "    <tr style=\"text-align: right;\">\n",
       "      <th></th>\n",
       "      <th>Frequency</th>\n",
       "      <th>Category</th>\n",
       "    </tr>\n",
       "  </thead>\n",
       "  <tbody>\n",
       "    <tr>\n",
       "      <th>0</th>\n",
       "      <td>14.0</td>\n",
       "      <td>Adventure</td>\n",
       "    </tr>\n",
       "    <tr>\n",
       "      <th>1</th>\n",
       "      <td>13.0</td>\n",
       "      <td>Action</td>\n",
       "    </tr>\n",
       "    <tr>\n",
       "      <th>2</th>\n",
       "      <td>10.0</td>\n",
       "      <td>Sci-Fi</td>\n",
       "    </tr>\n",
       "    <tr>\n",
       "      <th>3</th>\n",
       "      <td>7.0</td>\n",
       "      <td>Drama</td>\n",
       "    </tr>\n",
       "    <tr>\n",
       "      <th>4</th>\n",
       "      <td>4.0</td>\n",
       "      <td>Thriller</td>\n",
       "    </tr>\n",
       "    <tr>\n",
       "      <th>5</th>\n",
       "      <td>2.0</td>\n",
       "      <td>Fantasy</td>\n",
       "    </tr>\n",
       "    <tr>\n",
       "      <th>6</th>\n",
       "      <td>2.0</td>\n",
       "      <td>Comedy</td>\n",
       "    </tr>\n",
       "    <tr>\n",
       "      <th>7</th>\n",
       "      <td>1.0</td>\n",
       "      <td>Romance</td>\n",
       "    </tr>\n",
       "    <tr>\n",
       "      <th>8</th>\n",
       "      <td>1.0</td>\n",
       "      <td>Mystery</td>\n",
       "    </tr>\n",
       "    <tr>\n",
       "      <th>9</th>\n",
       "      <td>1.0</td>\n",
       "      <td>Music</td>\n",
       "    </tr>\n",
       "    <tr>\n",
       "      <th>10</th>\n",
       "      <td>1.0</td>\n",
       "      <td>Biography</td>\n",
       "    </tr>\n",
       "    <tr>\n",
       "      <th>11</th>\n",
       "      <td>1.0</td>\n",
       "      <td>Animation</td>\n",
       "    </tr>\n",
       "  </tbody>\n",
       "</table>\n",
       "</div>"
      ],
      "text/plain": [
       "    Frequency   Category\n",
       "0        14.0  Adventure\n",
       "1        13.0     Action\n",
       "2        10.0     Sci-Fi\n",
       "3         7.0      Drama\n",
       "4         4.0   Thriller\n",
       "5         2.0    Fantasy\n",
       "6         2.0     Comedy\n",
       "7         1.0    Romance\n",
       "8         1.0    Mystery\n",
       "9         1.0      Music\n",
       "10        1.0  Biography\n",
       "11        1.0  Animation"
      ]
     },
     "execution_count": 20,
     "metadata": {},
     "output_type": "execute_result"
    }
   ],
   "source": [
    "#splitting the category string into individual categories\n",
    "genres_cols = df4['Category'].str.split(',',expand=True)\n",
    "\n",
    "#Here we are going to do te same process as we did for the frecuency for each category\n",
    "genres_cols.columns = ['genre1','genre2','genre3']\n",
    "counts1=genres_cols['genre1'].value_counts()\n",
    "counts2=genres_cols['genre2'].value_counts()\n",
    "counts3=genres_cols['genre3'].value_counts()\n",
    "\n",
    "total_counts = counts1.add(counts2, fill_value=0).add(counts3, fill_value=0)\n",
    "one_category = total_counts.sort_values(ascending=False)\n",
    "one_category.index\n",
    "\n",
    "# making a list of the zip with two columns of frequency and category \n",
    "cat_freq=pd.DataFrame(list(zip(one_category.values, one_category.index)), \n",
    "                      columns = [\"Frequency\", \"Category\"])\n",
    "cat_freq"
   ]
  },
  {
   "cell_type": "markdown",
   "metadata": {},
   "source": [
    "*So, in the next graph we then seperated those categories into individual strings and also listed the frequency showing that Adventure, Action, and Sci-fi were the top three most highly voted and rated categories for these directors.*"
   ]
  },
  {
   "cell_type": "code",
   "execution_count": 21,
   "metadata": {},
   "outputs": [
    {
     "data": {
      "image/png": "[encoded data removed]",
      "text/plain": [
       "<Figure size 1152x504 with 1 Axes>"
      ]
     },
     "metadata": {
      "needs_background": "light"
     },
     "output_type": "display_data"
    }
   ],
   "source": [
    "fig = plt.subplots(figsize = (16,7))\n",
    "seaborn.barplot(data=cat_freq, x=\"Category\" , y= \"Frequency\")\n",
    "\n",
    "plt.title(\"Frequency of Categories for Top Directors\")\n",
    "\n",
    "plt.show()\n"
   ]
  },
  {
   "cell_type": "markdown",
   "metadata": {},
   "source": [
    "*We filtered and sorted the data from the im.db database to extract various queries. We would recommend the client select a director such as one of the 20 we showed in the graph above due to their history of highly rated movies with a high number of votes in the category of either Adventure, Action , or Sci-Fi showing that it is popular amongst the population.*"
   ]
  },
  {
   "cell_type": "markdown",
   "metadata": {},
   "source": [
    "***\n",
    "#  📈 Statistical insights📈\n",
    "***"
   ]
  },
  {
   "cell_type": "markdown",
   "metadata": {},
   "source": [
    "![gifp](https://media.giphy.com/media/dHn4QSRITpHtLxpgdv/giphy.gif)"
   ]
  },
  {
   "cell_type": "markdown",
   "metadata": {},
   "source": [
    "Our first query is for the poblation, so we do not want null values, lets exclude them. In reference to the previous ERD we could know what table join and what is the key"
   ]
  },
  {
   "cell_type": "code",
   "execution_count": 22,
   "metadata": {},
   "outputs": [],
   "source": [
    "prueba= pd.read_sql(\"\"\"\n",
    "SELECT \n",
    "    mb.runtime_minutes, mr.numvotes, \n",
    "    mr.averagerating,  mb.original_title, mb.genres\n",
    "  FROM \n",
    "      movie_basics mb\n",
    "  JOIN \n",
    "      movie_ratings mr USING(movie_id) \n",
    "  WHERE \n",
    "      mb.runtime_minutes AND mb.genres IS NOT Null \n",
    "  ;\n",
    "\"\"\", conn)\n",
    "#prueba.info()"
   ]
  },
  {
   "cell_type": "markdown",
   "metadata": {},
   "source": [
    "Ok, now we are sure we have no null values in the columns of our interest, also we can confirm by putting \n",
    "`prueba.info()` because it load as a dataframe, but maybe we have outlier, so in order to check that we can see the sactter between the `numvotes` and `runtime`"
   ]
  },
  {
   "cell_type": "code",
   "execution_count": 23,
   "metadata": {},
   "outputs": [
    {
     "data": {
      "text/plain": [
       "Text(0, 0.5, 'Number of votes')"
      ]
     },
     "execution_count": 23,
     "metadata": {},
     "output_type": "execute_result"
    },
    {
     "data": {
      "image/png": "[encoded data removed]",
      "text/plain": [
       "<Figure size 432x288 with 1 Axes>"
      ]
     },
     "metadata": {
      "needs_background": "light"
     },
     "output_type": "display_data"
    }
   ],
   "source": [
    "#In order to see the correlation we need the columns of runtime and votes as lists, so let's assing each to a new variables\n",
    "prueba_run=list(prueba[\"runtime_minutes\"])\n",
    "prueba_numv=list(prueba[\"numvotes\"])\n",
    "\n",
    "\n",
    "fig, ax = plt.subplots()\n",
    "#We use the method scatter\n",
    "ax.scatter(prueba_run, prueba_numv)\n",
    "\n",
    "#Setting labels and title\n",
    "ax.set_title(\"Looking outlier\")\n",
    "ax.set_xlabel(\"Runtime\")\n",
    "ax.set_ylabel(\"Number of votes\")"
   ]
  },
  {
   "cell_type": "markdown",
   "metadata": {},
   "source": [
    "We can see there is outliers in our data in runtime as well as in Number of votes, according to `prueba.info()`we have 65720 rows, so we actually do not need this data, let's exclude them in our query, in the chart below we can have and idea of this limits.\n",
    "\n",
    "## Poblation"
   ]
  },
  {
   "cell_type": "code",
   "execution_count": 24,
   "metadata": {},
   "outputs": [],
   "source": [
    "poblation= pd.read_sql(\"\"\"\n",
    "SELECT \n",
    "    mb.runtime_minutes, mr.numvotes, \n",
    "    mr.averagerating,  mb.original_title, mb.genres\n",
    "  FROM \n",
    "      movie_basics mb\n",
    "  JOIN \n",
    "      movie_ratings mr USING(movie_id) \n",
    "  WHERE \n",
    "      mb.runtime_minutes AND mb.genres IS NOT Null\n",
    "  AND \n",
    "      mr.numvotes < 948394\n",
    "  AND \n",
    "      mb.runtime_minutes < 600\n",
    "  ORDER \n",
    "      BY mr.numvotes DESC\n",
    "  ;\"\"\", conn)"
   ]
  },
  {
   "cell_type": "markdown",
   "metadata": {},
   "source": [
    "Let's confirm we do not have outliers anymore"
   ]
  },
  {
   "cell_type": "code",
   "execution_count": 25,
   "metadata": {},
   "outputs": [
    {
     "data": {
      "text/plain": [
       "Text(0, 0.5, 'Number of votes')"
      ]
     },
     "execution_count": 25,
     "metadata": {},
     "output_type": "execute_result"
    },
    {
     "data": {
      "image/png": "[encoded data removed]",
      "text/plain": [
       "<Figure size 432x288 with 1 Axes>"
      ]
     },
     "metadata": {
      "needs_background": "light"
     },
     "output_type": "display_data"
    }
   ],
   "source": [
    "sc_p_run=list(poblation[\"runtime_minutes\"])\n",
    "sc_p_nv=list(poblation[\"numvotes\"])\n",
    "\n",
    "\n",
    "fig, ax = plt.subplots()\n",
    "#We use the method scatter\n",
    "ax.scatter(sc_p_run, sc_p_nv)\n",
    "\n",
    "#Setting labels and title\n",
    "ax.set_title(\"Looking outlier\")\n",
    "ax.set_xlabel(\"Runtime\")\n",
    "ax.set_ylabel(\"Number of votes\")"
   ]
  },
  {
   "cell_type": "markdown",
   "metadata": {},
   "source": [
    "Ok, this data is cotinuos now :D, let's set our sample:\n",
    "## Sample\n",
    "For this query we want to set the proposed interval of time 90-130 minutes"
   ]
  },
  {
   "cell_type": "code",
   "execution_count": 26,
   "metadata": {},
   "outputs": [],
   "source": [
    "condition= pd.read_sql(\"\"\"\n",
    "SELECT \n",
    "    mb.runtime_minutes, \n",
    "    mr.numvotes, mr.averagerating\n",
    "FROM\n",
    "    movie_basics mb\n",
    "JOIN \n",
    "    movie_ratings mr USING(movie_id) \n",
    "WHERE \n",
    "    mb.runtime_minutes \n",
    "AND \n",
    "    mb.genres IS NOT Null \n",
    "AND \n",
    "    mb.runtime_minutes < 130 \n",
    "AND\n",
    "    mb.runtime_minutes > 90\n",
    "AND \n",
    "    mr.numvotes < 948394\n",
    "ORDER BY \n",
    "    mb.runtime_minutes DESC\n",
    "  ;\n",
    "\"\"\", conn)"
   ]
  },
  {
   "cell_type": "markdown",
   "metadata": {},
   "source": [
    "But this is not our actual sample because in order to be a sample we need to choose random data from `condition`"
   ]
  },
  {
   "cell_type": "code",
   "execution_count": 27,
   "metadata": {},
   "outputs": [],
   "source": [
    "sample1=condition.sample(650)"
   ]
  },
  {
   "cell_type": "code",
   "execution_count": 28,
   "metadata": {},
   "outputs": [],
   "source": [
    "sample_1=sample1.copy()"
   ]
  },
  {
   "cell_type": "markdown",
   "metadata": {},
   "source": [
    "Ok, now let's set our hypothesis:\n",
    "* **$H_a$** :\tThe mean of the number of votes when a movie has a runtime \tbetween 90 and 130 is significantly bigger than the mean of all the \tmovies in our dataset.\n",
    "* **$H_0$** :\tThere is no significantly difference between the sample mean and \tthe poblation mean.\n",
    "* **$\\alpha$** = 0.05."
   ]
  },
  {
   "cell_type": "markdown",
   "metadata": {},
   "source": [
    "## Z-score\n",
    "We can know the mean and standard desviation of our poblation and sample, let's get them"
   ]
  },
  {
   "cell_type": "code",
   "execution_count": 29,
   "metadata": {},
   "outputs": [
    {
     "data": {
      "text/plain": [
       "(       runtime_minutes       numvotes  averagerating\n",
       " count     65702.000000   65702.000000   65702.000000\n",
       " mean         93.635064    3804.866427       6.320407\n",
       " std          23.713557   28903.896286       1.458682\n",
       " min           3.000000       5.000000       1.000000\n",
       " 25%          81.000000      16.000000       5.500000\n",
       " 50%          91.000000      62.000000       6.500000\n",
       " 75%         104.000000     352.000000       7.300000\n",
       " max         500.000000  820847.000000      10.000000,\n",
       "        runtime_minutes       numvotes  averagerating\n",
       " count       650.000000     650.000000     650.000000\n",
       " mean        103.107692    6165.038462       6.322000\n",
       " std           9.923316   34433.896394       1.275993\n",
       " min          91.000000       5.000000       1.700000\n",
       " 25%          95.000000      26.000000       5.500000\n",
       " 50%         100.000000     114.000000       6.400000\n",
       " 75%         110.000000     738.000000       7.200000\n",
       " max         129.000000  452036.000000       9.600000)"
      ]
     },
     "execution_count": 29,
     "metadata": {},
     "output_type": "execute_result"
    }
   ],
   "source": [
    "#In advance we can see the basics for our sample and poblation\n",
    "poblation.describe(), sample_1.describe()"
   ]
  },
  {
   "cell_type": "code",
   "execution_count": 30,
   "metadata": {},
   "outputs": [
    {
     "name": "stdout",
     "output_type": "stream",
     "text": [
      "Z is equal to: 2.0818236993844654\n",
      " And p-value: 0.018679288093761737\n"
     ]
    }
   ],
   "source": [
    "#For the pupulation\n",
    "p_mean=poblation[\"numvotes\"].mean()\n",
    "p_std=poblation[\"numvotes\"].std()\n",
    "\n",
    "#For the sample\n",
    "s_mean=sample_1[\"numvotes\"].mean()\n",
    "s_std=sample_1[\"numvotes\"].std()\n",
    "\n",
    "#Z equation\n",
    "z = (s_mean - p_mean)/(p_std/np.sqrt(650))\n",
    "\n",
    "#P-value:\n",
    "#Positive z\n",
    "p_value=1 - stats.norm.cdf(z)\n",
    "\n",
    "#Negative z\n",
    "#p_value=1 - stats.norm.cdf(z)\n",
    "\n",
    "print(\"Z is equal to: \" + str(z) + \"\\n And p-value: \" +str(p_value) )"
   ]
  },
  {
   "cell_type": "markdown",
   "metadata": {},
   "source": [
    "With this P-value we was able to reject the Null Hypothesis and we can conclude if the movie has a runtime between 90 and 130 minutes will get bigger number of votes."
   ]
  },
  {
   "cell_type": "code",
   "execution_count": null,
   "metadata": {},
   "outputs": [],
   "source": []
  }
 ],
 "metadata": {
  "kernelspec": {
   "display_name": "Python (learn-env)",
   "language": "python",
   "name": "learn-env"
  },
  "language_info": {
   "codemirror_mode": {
    "name": "ipython",
    "version": 3
   },
   "file_extension": ".py",
   "mimetype": "text/x-python",
   "name": "python",
   "nbconvert_exporter": "python",
   "pygments_lexer": "ipython3",
   "version": "3.8.5"
  }
 },
 "nbformat": 4,
 "nbformat_minor": 4
}
