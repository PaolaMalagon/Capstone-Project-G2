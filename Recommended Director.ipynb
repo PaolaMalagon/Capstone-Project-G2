{
 "cells": [
  {
   "cell_type": "markdown",
   "metadata": {},
   "source": [
    "# Best Directors to work with"
   ]
  },
  {
   "cell_type": "markdown",
   "metadata": {},
   "source": [
    "## Introduction"
   ]
  },
  {
   "cell_type": "markdown",
   "metadata": {},
   "source": [
    "This notebook is focused on building data to support a recommendation for some directors that have created highly rated movies. The client company can then leverage this data to assist with choosing a director to hire. "
   ]
  },
  {
   "cell_type": "markdown",
   "metadata": {},
   "source": [
    "## Imports and necessary variables"
   ]
  },
  {
   "cell_type": "code",
   "execution_count": 172,
   "metadata": {},
   "outputs": [],
   "source": [
    "import pandas as pd\n",
    "import sqlite3\n",
    "import numpy as np\n",
    "import seaborn as sns\n",
    "import matplotlib.pyplot as plt\n",
    "sns.set_theme(style=\"white\", context=\"talk\")\n",
    "rs = np.random.RandomState(8)\n",
    "%matplotlib inline\n",
    "conn = sqlite3.connect('data/im.db')\n",
    "cur = conn.cursor()\n"
   ]
  },
  {
   "cell_type": "markdown",
   "metadata": {},
   "source": [
    "## Average ratings and number of votes for all movies\n",
    "In the following function we ran a query to see all the `movie_id` within the `im.db` database that has an average rating of 8 or higher and 5000 or more votes. "
   ]
  },
  {
   "cell_type": "code",
   "execution_count": 19,
   "metadata": {},
   "outputs": [
    {
     "data": {
      "text/html": [
       "<div>\n",
       "<style scoped>\n",
       "    .dataframe tbody tr th:only-of-type {\n",
       "        vertical-align: middle;\n",
       "    }\n",
       "\n",
       "    .dataframe tbody tr th {\n",
       "        vertical-align: top;\n",
       "    }\n",
       "\n",
       "    .dataframe thead th {\n",
       "        text-align: right;\n",
       "    }\n",
       "</style>\n",
       "<table border=\"1\" class=\"dataframe\">\n",
       "  <thead>\n",
       "    <tr style=\"text-align: right;\">\n",
       "      <th></th>\n",
       "      <th>movie_id</th>\n",
       "      <th>averagerating</th>\n",
       "      <th>numvotes</th>\n",
       "    </tr>\n",
       "  </thead>\n",
       "  <tbody>\n",
       "    <tr>\n",
       "      <th>0</th>\n",
       "      <td>tt1663202</td>\n",
       "      <td>8.0</td>\n",
       "      <td>621193</td>\n",
       "    </tr>\n",
       "    <tr>\n",
       "      <th>1</th>\n",
       "      <td>tt8108198</td>\n",
       "      <td>8.5</td>\n",
       "      <td>43409</td>\n",
       "    </tr>\n",
       "    <tr>\n",
       "      <th>2</th>\n",
       "      <td>tt1201607</td>\n",
       "      <td>8.1</td>\n",
       "      <td>691835</td>\n",
       "    </tr>\n",
       "    <tr>\n",
       "      <th>3</th>\n",
       "      <td>tt1255953</td>\n",
       "      <td>8.3</td>\n",
       "      <td>124156</td>\n",
       "    </tr>\n",
       "    <tr>\n",
       "      <th>4</th>\n",
       "      <td>tt1649431</td>\n",
       "      <td>8.2</td>\n",
       "      <td>5707</td>\n",
       "    </tr>\n",
       "    <tr>\n",
       "      <th>...</th>\n",
       "      <td>...</td>\n",
       "      <td>...</td>\n",
       "      <td>...</td>\n",
       "    </tr>\n",
       "    <tr>\n",
       "      <th>207</th>\n",
       "      <td>tt1424432</td>\n",
       "      <td>8.6</td>\n",
       "      <td>55318</td>\n",
       "    </tr>\n",
       "    <tr>\n",
       "      <th>208</th>\n",
       "      <td>tt1821700</td>\n",
       "      <td>8.1</td>\n",
       "      <td>28950</td>\n",
       "    </tr>\n",
       "    <tr>\n",
       "      <th>209</th>\n",
       "      <td>tt4154756</td>\n",
       "      <td>8.5</td>\n",
       "      <td>670926</td>\n",
       "    </tr>\n",
       "    <tr>\n",
       "      <th>210</th>\n",
       "      <td>tt3569782</td>\n",
       "      <td>8.3</td>\n",
       "      <td>8484</td>\n",
       "    </tr>\n",
       "    <tr>\n",
       "      <th>211</th>\n",
       "      <td>tt8130968</td>\n",
       "      <td>8.1</td>\n",
       "      <td>9988</td>\n",
       "    </tr>\n",
       "  </tbody>\n",
       "</table>\n",
       "<p>212 rows × 3 columns</p>\n",
       "</div>"
      ],
      "text/plain": [
       "      movie_id  averagerating  numvotes\n",
       "0    tt1663202            8.0    621193\n",
       "1    tt8108198            8.5     43409\n",
       "2    tt1201607            8.1    691835\n",
       "3    tt1255953            8.3    124156\n",
       "4    tt1649431            8.2      5707\n",
       "..         ...            ...       ...\n",
       "207  tt1424432            8.6     55318\n",
       "208  tt1821700            8.1     28950\n",
       "209  tt4154756            8.5    670926\n",
       "210  tt3569782            8.3      8484\n",
       "211  tt8130968            8.1      9988\n",
       "\n",
       "[212 rows x 3 columns]"
      ]
     },
     "execution_count": 19,
     "metadata": {},
     "output_type": "execute_result"
    }
   ],
   "source": [
    "pd.read_sql(\"\"\"\n",
    "SELECT * \n",
    "  FROM movie_ratings\n",
    "  where averagerating >= 8 AND numvotes >= 5000\n",
    "\"\"\", conn)\n",
    "\n",
    "\n",
    "\n",
    "\n",
    "\n"
   ]
  },
  {
   "cell_type": "markdown",
   "metadata": {},
   "source": [
    "## Query for basic movie data\n",
    "In the following function we ran a query to see `movie_id` , `primary_title` , `original_title` , `genres` from the `movie_basics` table in the `im.db` database."
   ]
  },
  {
   "cell_type": "code",
   "execution_count": 18,
   "metadata": {},
   "outputs": [
    {
     "data": {
      "text/html": [
       "<div>\n",
       "<style scoped>\n",
       "    .dataframe tbody tr th:only-of-type {\n",
       "        vertical-align: middle;\n",
       "    }\n",
       "\n",
       "    .dataframe tbody tr th {\n",
       "        vertical-align: top;\n",
       "    }\n",
       "\n",
       "    .dataframe thead th {\n",
       "        text-align: right;\n",
       "    }\n",
       "</style>\n",
       "<table border=\"1\" class=\"dataframe\">\n",
       "  <thead>\n",
       "    <tr style=\"text-align: right;\">\n",
       "      <th></th>\n",
       "      <th>movie_id</th>\n",
       "      <th>primary_title</th>\n",
       "      <th>original_title</th>\n",
       "      <th>genres</th>\n",
       "    </tr>\n",
       "  </thead>\n",
       "  <tbody>\n",
       "    <tr>\n",
       "      <th>0</th>\n",
       "      <td>tt0063540</td>\n",
       "      <td>Sunghursh</td>\n",
       "      <td>Sunghursh</td>\n",
       "      <td>Action,Crime,Drama</td>\n",
       "    </tr>\n",
       "    <tr>\n",
       "      <th>1</th>\n",
       "      <td>tt0066787</td>\n",
       "      <td>One Day Before the Rainy Season</td>\n",
       "      <td>Ashad Ka Ek Din</td>\n",
       "      <td>Biography,Drama</td>\n",
       "    </tr>\n",
       "    <tr>\n",
       "      <th>2</th>\n",
       "      <td>tt0069049</td>\n",
       "      <td>The Other Side of the Wind</td>\n",
       "      <td>The Other Side of the Wind</td>\n",
       "      <td>Drama</td>\n",
       "    </tr>\n",
       "    <tr>\n",
       "      <th>3</th>\n",
       "      <td>tt0069204</td>\n",
       "      <td>Sabse Bada Sukh</td>\n",
       "      <td>Sabse Bada Sukh</td>\n",
       "      <td>Comedy,Drama</td>\n",
       "    </tr>\n",
       "    <tr>\n",
       "      <th>4</th>\n",
       "      <td>tt0100275</td>\n",
       "      <td>The Wandering Soap Opera</td>\n",
       "      <td>La Telenovela Errante</td>\n",
       "      <td>Comedy,Drama,Fantasy</td>\n",
       "    </tr>\n",
       "    <tr>\n",
       "      <th>...</th>\n",
       "      <td>...</td>\n",
       "      <td>...</td>\n",
       "      <td>...</td>\n",
       "      <td>...</td>\n",
       "    </tr>\n",
       "    <tr>\n",
       "      <th>146139</th>\n",
       "      <td>tt9916538</td>\n",
       "      <td>Kuambil Lagi Hatiku</td>\n",
       "      <td>Kuambil Lagi Hatiku</td>\n",
       "      <td>Drama</td>\n",
       "    </tr>\n",
       "    <tr>\n",
       "      <th>146140</th>\n",
       "      <td>tt9916622</td>\n",
       "      <td>Rodolpho Teóphilo - O Legado de um Pioneiro</td>\n",
       "      <td>Rodolpho Teóphilo - O Legado de um Pioneiro</td>\n",
       "      <td>Documentary</td>\n",
       "    </tr>\n",
       "    <tr>\n",
       "      <th>146141</th>\n",
       "      <td>tt9916706</td>\n",
       "      <td>Dankyavar Danka</td>\n",
       "      <td>Dankyavar Danka</td>\n",
       "      <td>Comedy</td>\n",
       "    </tr>\n",
       "    <tr>\n",
       "      <th>146142</th>\n",
       "      <td>tt9916730</td>\n",
       "      <td>6 Gunn</td>\n",
       "      <td>6 Gunn</td>\n",
       "      <td>None</td>\n",
       "    </tr>\n",
       "    <tr>\n",
       "      <th>146143</th>\n",
       "      <td>tt9916754</td>\n",
       "      <td>Chico Albuquerque - Revelações</td>\n",
       "      <td>Chico Albuquerque - Revelações</td>\n",
       "      <td>Documentary</td>\n",
       "    </tr>\n",
       "  </tbody>\n",
       "</table>\n",
       "<p>146144 rows × 4 columns</p>\n",
       "</div>"
      ],
      "text/plain": [
       "         movie_id                                primary_title  \\\n",
       "0       tt0063540                                    Sunghursh   \n",
       "1       tt0066787              One Day Before the Rainy Season   \n",
       "2       tt0069049                   The Other Side of the Wind   \n",
       "3       tt0069204                              Sabse Bada Sukh   \n",
       "4       tt0100275                     The Wandering Soap Opera   \n",
       "...           ...                                          ...   \n",
       "146139  tt9916538                          Kuambil Lagi Hatiku   \n",
       "146140  tt9916622  Rodolpho Teóphilo - O Legado de um Pioneiro   \n",
       "146141  tt9916706                              Dankyavar Danka   \n",
       "146142  tt9916730                                       6 Gunn   \n",
       "146143  tt9916754               Chico Albuquerque - Revelações   \n",
       "\n",
       "                                     original_title                genres  \n",
       "0                                         Sunghursh    Action,Crime,Drama  \n",
       "1                                   Ashad Ka Ek Din       Biography,Drama  \n",
       "2                        The Other Side of the Wind                 Drama  \n",
       "3                                   Sabse Bada Sukh          Comedy,Drama  \n",
       "4                             La Telenovela Errante  Comedy,Drama,Fantasy  \n",
       "...                                             ...                   ...  \n",
       "146139                          Kuambil Lagi Hatiku                 Drama  \n",
       "146140  Rodolpho Teóphilo - O Legado de um Pioneiro           Documentary  \n",
       "146141                              Dankyavar Danka                Comedy  \n",
       "146142                                       6 Gunn                  None  \n",
       "146143               Chico Albuquerque - Revelações           Documentary  \n",
       "\n",
       "[146144 rows x 4 columns]"
      ]
     },
     "execution_count": 18,
     "metadata": {},
     "output_type": "execute_result"
    }
   ],
   "source": [
    "pd.read_sql(\"\"\"\n",
    "SELECT movie_id , primary_title , original_title , genres\n",
    "    FROM movie_basics\n",
    "\"\"\", conn)"
   ]
  },
  {
   "cell_type": "markdown",
   "metadata": {},
   "source": [
    "## Query for directors with most movie making experience\n",
    "In the following function we ran a query to see `person_id` , `primary_name` and `\"Movies Made\"` using several tables in the `im.db` database. We then grouped them by `person_id` and ordered them by the `\"Movies Made\"` alias in a descending order from most to least."
   ]
  },
  {
   "cell_type": "code",
   "execution_count": 287,
   "metadata": {},
   "outputs": [
    {
     "data": {
      "text/html": [
       "<div>\n",
       "<style scoped>\n",
       "    .dataframe tbody tr th:only-of-type {\n",
       "        vertical-align: middle;\n",
       "    }\n",
       "\n",
       "    .dataframe tbody tr th {\n",
       "        vertical-align: top;\n",
       "    }\n",
       "\n",
       "    .dataframe thead th {\n",
       "        text-align: right;\n",
       "    }\n",
       "</style>\n",
       "<table border=\"1\" class=\"dataframe\">\n",
       "  <thead>\n",
       "    <tr style=\"text-align: right;\">\n",
       "      <th></th>\n",
       "      <th>person_id</th>\n",
       "      <th>Director</th>\n",
       "      <th>Movies Made</th>\n",
       "    </tr>\n",
       "  </thead>\n",
       "  <tbody>\n",
       "    <tr>\n",
       "      <th>0</th>\n",
       "      <td>nm6935209</td>\n",
       "      <td>Tony Newton</td>\n",
       "      <td>238</td>\n",
       "    </tr>\n",
       "    <tr>\n",
       "      <th>1</th>\n",
       "      <td>nm2563700</td>\n",
       "      <td>Jason Impey</td>\n",
       "      <td>190</td>\n",
       "    </tr>\n",
       "    <tr>\n",
       "      <th>2</th>\n",
       "      <td>nm1546474</td>\n",
       "      <td>Shane Ryan</td>\n",
       "      <td>185</td>\n",
       "    </tr>\n",
       "    <tr>\n",
       "      <th>3</th>\n",
       "      <td>nm3877467</td>\n",
       "      <td>Ruben Rodriguez</td>\n",
       "      <td>180</td>\n",
       "    </tr>\n",
       "    <tr>\n",
       "      <th>4</th>\n",
       "      <td>nm3848412</td>\n",
       "      <td>Sam Mason-Bell</td>\n",
       "      <td>144</td>\n",
       "    </tr>\n",
       "    <tr>\n",
       "      <th>5</th>\n",
       "      <td>nm6078996</td>\n",
       "      <td>Martin Sonntag</td>\n",
       "      <td>135</td>\n",
       "    </tr>\n",
       "    <tr>\n",
       "      <th>6</th>\n",
       "      <td>nm4341114</td>\n",
       "      <td>Dustin Ferguson</td>\n",
       "      <td>121</td>\n",
       "    </tr>\n",
       "    <tr>\n",
       "      <th>7</th>\n",
       "      <td>nm4921301</td>\n",
       "      <td>Gav Chuckie Steel</td>\n",
       "      <td>119</td>\n",
       "    </tr>\n",
       "    <tr>\n",
       "      <th>8</th>\n",
       "      <td>nm3079464</td>\n",
       "      <td>Corey Norman</td>\n",
       "      <td>114</td>\n",
       "    </tr>\n",
       "    <tr>\n",
       "      <th>9</th>\n",
       "      <td>nm4542885</td>\n",
       "      <td>Evan Marlowe</td>\n",
       "      <td>101</td>\n",
       "    </tr>\n",
       "  </tbody>\n",
       "</table>\n",
       "</div>"
      ],
      "text/plain": [
       "   person_id           Director  Movies Made\n",
       "0  nm6935209        Tony Newton          238\n",
       "1  nm2563700        Jason Impey          190\n",
       "2  nm1546474         Shane Ryan          185\n",
       "3  nm3877467    Ruben Rodriguez          180\n",
       "4  nm3848412     Sam Mason-Bell          144\n",
       "5  nm6078996     Martin Sonntag          135\n",
       "6  nm4341114    Dustin Ferguson          121\n",
       "7  nm4921301  Gav Chuckie Steel          119\n",
       "8  nm3079464       Corey Norman          114\n",
       "9  nm4542885       Evan Marlowe          101"
      ]
     },
     "execution_count": 287,
     "metadata": {},
     "output_type": "execute_result"
    }
   ],
   "source": [
    "top_20_movies_made_directors = \"\"\"\n",
    "SELECT person_id , primary_name as Director , COUNT(directors.movie_id) as \"Movies Made\"  \n",
    "    FROM persons\n",
    "    JOIN directors \n",
    "      USING (person_id)\n",
    "    JOIN movie_basics\n",
    "      USING (movie_id)\n",
    "    GROUP BY person_id\n",
    "    ORDER BY \"Movies Made\" DESC\n",
    "    \n",
    ";\n",
    "\"\"\"\n",
    "pd.read_sql(top_20_movies_made_directors, conn).head(10)"
   ]
  },
  {
   "cell_type": "markdown",
   "metadata": {},
   "source": [
    "## Graph for Directors with most movies"
   ]
  },
  {
   "cell_type": "code",
   "execution_count": 289,
   "metadata": {},
   "outputs": [
    {
     "data": {
      "image/png": "[encoded data removed]",
      "text/plain": [
       "<Figure size 1008x576 with 1 Axes>"
      ]
     },
     "metadata": {
      "needs_background": "light"
     },
     "output_type": "display_data"
    }
   ],
   "source": [
    "most_movies_director=pd.read_sql(top_20_movies_made_directors, conn).head(10)\n",
    "fig = plt.subplots(figsize = (14,8))\n",
    "sns.barplot(data= most_movies_director, x=\"Movies Made\" , y=\"Director\", orient=\"h\")\n",
    "plt.title(\"Directors with most movies made\")\n",
    "plt.show()"
   ]
  },
  {
   "cell_type": "markdown",
   "metadata": {},
   "source": [
    "## Query for Top 10 Directors with high average rating as well as high vote counts\n",
    "In the following function we ran a query to see what directors have a overall high average rating about 7.5 as well as a high number of votes to eliminate high rating but low voting outliers. We organized it into a top 10 by average rating of their movies made in descending order from highest to lowest.   "
   ]
  },
  {
   "cell_type": "code",
   "execution_count": 235,
   "metadata": {},
   "outputs": [
    {
     "data": {
      "text/html": [
       "<div>\n",
       "<style scoped>\n",
       "    .dataframe tbody tr th:only-of-type {\n",
       "        vertical-align: middle;\n",
       "    }\n",
       "\n",
       "    .dataframe tbody tr th {\n",
       "        vertical-align: top;\n",
       "    }\n",
       "\n",
       "    .dataframe thead th {\n",
       "        text-align: right;\n",
       "    }\n",
       "</style>\n",
       "<table border=\"1\" class=\"dataframe\">\n",
       "  <thead>\n",
       "    <tr style=\"text-align: right;\">\n",
       "      <th></th>\n",
       "      <th>person_id</th>\n",
       "      <th>Director</th>\n",
       "      <th>MoviesMade</th>\n",
       "      <th>Average Rating</th>\n",
       "      <th>numvotes</th>\n",
       "    </tr>\n",
       "  </thead>\n",
       "  <tbody>\n",
       "    <tr>\n",
       "      <th>0</th>\n",
       "      <td>nm0000233</td>\n",
       "      <td>Quentin Tarantino</td>\n",
       "      <td>4</td>\n",
       "      <td>8.700000</td>\n",
       "      <td>1211405</td>\n",
       "    </tr>\n",
       "    <tr>\n",
       "      <th>1</th>\n",
       "      <td>nm0634240</td>\n",
       "      <td>Christopher Nolan</td>\n",
       "      <td>4</td>\n",
       "      <td>8.437500</td>\n",
       "      <td>1299334</td>\n",
       "    </tr>\n",
       "    <tr>\n",
       "      <th>2</th>\n",
       "      <td>nm0881279</td>\n",
       "      <td>Lee Unkrich</td>\n",
       "      <td>2</td>\n",
       "      <td>8.350000</td>\n",
       "      <td>682218</td>\n",
       "    </tr>\n",
       "    <tr>\n",
       "      <th>3</th>\n",
       "      <td>nm0751648</td>\n",
       "      <td>Joe Russo</td>\n",
       "      <td>4</td>\n",
       "      <td>8.246667</td>\n",
       "      <td>666252</td>\n",
       "    </tr>\n",
       "    <tr>\n",
       "      <th>4</th>\n",
       "      <td>nm0751577</td>\n",
       "      <td>Anthony Russo</td>\n",
       "      <td>4</td>\n",
       "      <td>8.246667</td>\n",
       "      <td>666252</td>\n",
       "    </tr>\n",
       "    <tr>\n",
       "      <th>5</th>\n",
       "      <td>nm0215455</td>\n",
       "      <td>Ronnie Del Carmen</td>\n",
       "      <td>1</td>\n",
       "      <td>8.200000</td>\n",
       "      <td>536181</td>\n",
       "    </tr>\n",
       "    <tr>\n",
       "      <th>6</th>\n",
       "      <td>nm1783265</td>\n",
       "      <td>Tim Miller</td>\n",
       "      <td>1</td>\n",
       "      <td>8.000000</td>\n",
       "      <td>820847</td>\n",
       "    </tr>\n",
       "    <tr>\n",
       "      <th>7</th>\n",
       "      <td>nm0230032</td>\n",
       "      <td>Pete Docter</td>\n",
       "      <td>2</td>\n",
       "      <td>7.977778</td>\n",
       "      <td>536181</td>\n",
       "    </tr>\n",
       "    <tr>\n",
       "      <th>8</th>\n",
       "      <td>nm0213450</td>\n",
       "      <td>Dean DeBlois</td>\n",
       "      <td>3</td>\n",
       "      <td>7.940000</td>\n",
       "      <td>611299</td>\n",
       "    </tr>\n",
       "    <tr>\n",
       "      <th>9</th>\n",
       "      <td>nm0000399</td>\n",
       "      <td>David Fincher</td>\n",
       "      <td>3</td>\n",
       "      <td>7.820000</td>\n",
       "      <td>568578</td>\n",
       "    </tr>\n",
       "  </tbody>\n",
       "</table>\n",
       "</div>"
      ],
      "text/plain": [
       "   person_id           Director  MoviesMade  Average Rating  numvotes\n",
       "0  nm0000233  Quentin Tarantino           4        8.700000   1211405\n",
       "1  nm0634240  Christopher Nolan           4        8.437500   1299334\n",
       "2  nm0881279        Lee Unkrich           2        8.350000    682218\n",
       "3  nm0751648          Joe Russo           4        8.246667    666252\n",
       "4  nm0751577      Anthony Russo           4        8.246667    666252\n",
       "5  nm0215455  Ronnie Del Carmen           1        8.200000    536181\n",
       "6  nm1783265         Tim Miller           1        8.000000    820847\n",
       "7  nm0230032        Pete Docter           2        7.977778    536181\n",
       "8  nm0213450       Dean DeBlois           3        7.940000    611299\n",
       "9  nm0000399      David Fincher           3        7.820000    568578"
      ]
     },
     "execution_count": 235,
     "metadata": {},
     "output_type": "execute_result"
    }
   ],
   "source": [
    "avg_rating = \"\"\"\n",
    "SELECT person_id , primary_name as Director , COUNT(DISTINCT directors.movie_id) as \"MoviesMade\",  sum(movie_ratings.averagerating) / COUNT(movie_ratings.averagerating) as \"Average Rating\"\n",
    ", movie_ratings.numvotes as numvotes\n",
    "    FROM persons\n",
    "    JOIN directors \n",
    "      USING (person_id)\n",
    "    JOIN movie_basics\n",
    "      USING (movie_id)\n",
    "    JOIN movie_ratings\n",
    "      USING (movie_id)\n",
    "    GROUP BY person_id \n",
    "    HAVING \"Average Rating\" >= 7.5 AND numvotes >= 500000\n",
    "    ORDER BY \"Average Rating\" DESC\n",
    "    LIMIT 10\n",
    "    \n",
    ";\n",
    "\"\"\"\n",
    "pd.read_sql(avg_rating, conn)"
   ]
  },
  {
   "cell_type": "markdown",
   "metadata": {},
   "source": [
    "## Graph for Top 10 Directors with high average rating as well as high vote counts"
   ]
  },
  {
   "cell_type": "code",
   "execution_count": 265,
   "metadata": {},
   "outputs": [
    {
     "data": {
      "image/png": "[encoded data removed]",
      "text/plain": [
       "<Figure size 1440x504 with 1 Axes>"
      ]
     },
     "metadata": {
      "needs_background": "light"
     },
     "output_type": "display_data"
    }
   ],
   "source": [
    "top_10_directors = pd.read_sql(avg_rating , conn) \n",
    "fig = plt.subplots(figsize = (20,7))\n",
    "sns.barplot(data=top_10_directors, x=\"Director\" , y=\"Average Rating\")\n",
    "plt.xticks(rotation=60)\n",
    "plt.title(\"Top 10 Directors\")\n",
    "\n",
    "plt.show()"
   ]
  },
  {
   "cell_type": "markdown",
   "metadata": {},
   "source": [
    "## Query for individual director with average rating of 7 or higher\n",
    "In the following function we ran a query to see an individual Director with their movie titles and average ratings. As an example we used Director `Joe Russo` who has 4 movies in the database with a score of 7 or higher. In order to query a different director you just change out the Directors name in the line of code that says `WHERE Director Like 'Joe Russo'` to another director. It is also possible to change the rating as well. "
   ]
  },
  {
   "cell_type": "code",
   "execution_count": 261,
   "metadata": {},
   "outputs": [
    {
     "data": {
      "text/html": [
       "<div>\n",
       "<style scoped>\n",
       "    .dataframe tbody tr th:only-of-type {\n",
       "        vertical-align: middle;\n",
       "    }\n",
       "\n",
       "    .dataframe tbody tr th {\n",
       "        vertical-align: top;\n",
       "    }\n",
       "\n",
       "    .dataframe thead th {\n",
       "        text-align: right;\n",
       "    }\n",
       "</style>\n",
       "<table border=\"1\" class=\"dataframe\">\n",
       "  <thead>\n",
       "    <tr style=\"text-align: right;\">\n",
       "      <th></th>\n",
       "      <th>person_id</th>\n",
       "      <th>Director</th>\n",
       "      <th>Movie Name</th>\n",
       "      <th>Average Rating</th>\n",
       "    </tr>\n",
       "  </thead>\n",
       "  <tbody>\n",
       "    <tr>\n",
       "      <th>0</th>\n",
       "      <td>nm0751648</td>\n",
       "      <td>Joe Russo</td>\n",
       "      <td>Avengers: Endgame</td>\n",
       "      <td>8.8</td>\n",
       "    </tr>\n",
       "    <tr>\n",
       "      <th>1</th>\n",
       "      <td>nm0751648</td>\n",
       "      <td>Joe Russo</td>\n",
       "      <td>Avengers: Infinity War</td>\n",
       "      <td>8.5</td>\n",
       "    </tr>\n",
       "    <tr>\n",
       "      <th>2</th>\n",
       "      <td>nm0751648</td>\n",
       "      <td>Joe Russo</td>\n",
       "      <td>Captain America: The Winter Soldier</td>\n",
       "      <td>7.8</td>\n",
       "    </tr>\n",
       "    <tr>\n",
       "      <th>3</th>\n",
       "      <td>nm0751648</td>\n",
       "      <td>Joe Russo</td>\n",
       "      <td>Captain America: Civil War</td>\n",
       "      <td>7.8</td>\n",
       "    </tr>\n",
       "  </tbody>\n",
       "</table>\n",
       "</div>"
      ],
      "text/plain": [
       "   person_id   Director                           Movie Name  Average Rating\n",
       "0  nm0751648  Joe Russo                    Avengers: Endgame             8.8\n",
       "1  nm0751648  Joe Russo               Avengers: Infinity War             8.5\n",
       "2  nm0751648  Joe Russo  Captain America: The Winter Soldier             7.8\n",
       "3  nm0751648  Joe Russo           Captain America: Civil War             7.8"
      ]
     },
     "execution_count": 261,
     "metadata": {},
     "output_type": "execute_result"
    }
   ],
   "source": [
    "Director = \"\"\"\n",
    "SELECT directors.person_id , persons.primary_name as Director,  movie_basics.primary_title as \"Movie Name\" ,  movie_ratings.averagerating as \"Average Rating\" \n",
    "FROM principals \n",
    "JOIN persons\n",
    "      USING (person_id)\n",
    "JOIN movie_basics\n",
    "      USING (movie_id)\n",
    "JOIN directors \n",
    "      USING (person_id)\n",
    "      JOIN movie_ratings\n",
    "      USING (movie_id)\n",
    "WHERE Director LIKE 'Joe Russo' AND averagerating >= 7\n",
    "GROUP BY movie_basics.primary_title\n",
    "ORDER BY movie_ratings.averagerating DESC\n",
    "\"\"\"\n",
    "pd.read_sql(Director, conn)\n"
   ]
  },
  {
   "cell_type": "markdown",
   "metadata": {},
   "source": [
    "## Example graph of Joe Russo's movies that have a 7 or higher average rating"
   ]
  },
  {
   "cell_type": "code",
   "execution_count": 274,
   "metadata": {
    "scrolled": false
   },
   "outputs": [
    {
     "data": {
      "image/png": "[encoded data removed]",
      "text/plain": [
       "<Figure size 1152x396 with 1 Axes>"
      ]
     },
     "metadata": {
      "needs_background": "light"
     },
     "output_type": "display_data"
    }
   ],
   "source": [
    "specific_director=pd.read_sql(Director, conn)\n",
    "fig = plt.subplots(figsize = (16,5.5))\n",
    "sns.barplot(data=specific_director, x=\"Movie Name\" , y=\"Average Rating\")\n",
    "plt.title(\"Joe Russo's Best Rated Movies\")\n",
    "plt.xticks(rotation=60)\n",
    "plt.show()"
   ]
  },
  {
   "cell_type": "markdown",
   "metadata": {},
   "source": [
    "# Summary\n",
    "In conclusion we would recommend the client select a director such as one of the top ten we showed in the graph above due to their history of highly rated movies with high number of votes showing that it is popular amongst the population. "
   ]
  },
  {
   "cell_type": "code",
   "execution_count": null,
   "metadata": {},
   "outputs": [],
   "source": []
  }
 ],
 "metadata": {
  "kernelspec": {
   "display_name": "Python (learn-env)",
   "language": "python",
   "name": "learn-env"
  },
  "language_info": {
   "codemirror_mode": {
    "name": "ipython",
    "version": 3
   },
   "file_extension": ".py",
   "mimetype": "text/x-python",
   "name": "python",
   "nbconvert_exporter": "python",
   "pygments_lexer": "ipython3",
   "version": "3.8.5"
  }
 },
 "nbformat": 4,
 "nbformat_minor": 4
}
