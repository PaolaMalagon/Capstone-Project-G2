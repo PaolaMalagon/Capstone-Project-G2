{
 "cells": [
  {
   "cell_type": "markdown",
   "metadata": {},
   "source": [
    "# Best movie Category based on Rating and Number of votes\n",
    "\n",
    "## Introduction\n",
    "In this Index you will find why is important to look at the movies categories with the best rating and the most votes\n",
    "## Why is this data relevant?\n",
    "* Is important because depends in how much rating and number of votes you can see wich category is more succesful\n",
    "* With this we can assume wich category is most relevant on these days\n"
   ]
  },
  {
   "cell_type": "markdown",
   "metadata": {},
   "source": [
    "![oscar.gif](https://media2.giphy.com/media/v1.Y2lkPTc5MGI3NjExYzQ5MjkxZjg5NjM3NjBiYjE1ZjQ4ZjA4NmFmOTM4NmYyYTljYTE3YyZjdD1n/V1fKEA5ojhDxiB7j9T/giphy.gif)"
   ]
  },
  {
   "cell_type": "markdown",
   "metadata": {},
   "source": [
    "# SQL Code"
   ]
  },
  {
   "cell_type": "code",
   "execution_count": 37,
   "metadata": {},
   "outputs": [],
   "source": [
    "import pandas as pd\n",
    "import sqlite3\n",
    "import matplotlib.pyplot as plt\n",
    "import seaborn as sns\n",
    "import random\n",
    "import math\n",
    "conn = sqlite3.connect('data/im.db')"
   ]
  },
  {
   "cell_type": "markdown",
   "metadata": {},
   "source": [
    "Here we can see the *average rating* of the *category* with the highest *number of votes*.\n",
    "\n",
    "The main reason to filter this way is to show that not always the best rated categories are the one who have more votes"
   ]
  },
  {
   "cell_type": "code",
   "execution_count": 18,
   "metadata": {},
   "outputs": [
    {
     "data": {
      "text/html": [
       "<div>\n",
       "<style scoped>\n",
       "    .dataframe tbody tr th:only-of-type {\n",
       "        vertical-align: middle;\n",
       "    }\n",
       "\n",
       "    .dataframe tbody tr th {\n",
       "        vertical-align: top;\n",
       "    }\n",
       "\n",
       "    .dataframe thead th {\n",
       "        text-align: right;\n",
       "    }\n",
       "</style>\n",
       "<table border=\"1\" class=\"dataframe\">\n",
       "  <thead>\n",
       "    <tr style=\"text-align: right;\">\n",
       "      <th></th>\n",
       "      <th>primary_title</th>\n",
       "      <th>genres</th>\n",
       "      <th>start_year</th>\n",
       "    </tr>\n",
       "  </thead>\n",
       "  <tbody>\n",
       "    <tr>\n",
       "      <th>0</th>\n",
       "      <td>The Avengers</td>\n",
       "      <td>Action,Adventure,Sci-Fi</td>\n",
       "      <td>2012</td>\n",
       "    </tr>\n",
       "    <tr>\n",
       "      <th>1</th>\n",
       "      <td>The Avengers Assemble Premiere</td>\n",
       "      <td>Action</td>\n",
       "      <td>2012</td>\n",
       "    </tr>\n",
       "    <tr>\n",
       "      <th>2</th>\n",
       "      <td>Scavengers</td>\n",
       "      <td>Sci-Fi</td>\n",
       "      <td>2013</td>\n",
       "    </tr>\n",
       "    <tr>\n",
       "      <th>3</th>\n",
       "      <td>Scavengers' Union</td>\n",
       "      <td>Documentary,News</td>\n",
       "      <td>2011</td>\n",
       "    </tr>\n",
       "    <tr>\n",
       "      <th>4</th>\n",
       "      <td>Avengers: Age of Ultron</td>\n",
       "      <td>Action,Adventure,Sci-Fi</td>\n",
       "      <td>2015</td>\n",
       "    </tr>\n",
       "    <tr>\n",
       "      <th>5</th>\n",
       "      <td>Los Scavengers</td>\n",
       "      <td>Adventure,Family</td>\n",
       "      <td>2014</td>\n",
       "    </tr>\n",
       "    <tr>\n",
       "      <th>6</th>\n",
       "      <td>Avengers: Infinity War</td>\n",
       "      <td>Action,Adventure,Sci-Fi</td>\n",
       "      <td>2018</td>\n",
       "    </tr>\n",
       "    <tr>\n",
       "      <th>7</th>\n",
       "      <td>Avengers: Endgame</td>\n",
       "      <td>Action,Adventure,Sci-Fi</td>\n",
       "      <td>2019</td>\n",
       "    </tr>\n",
       "    <tr>\n",
       "      <th>8</th>\n",
       "      <td>Avengers of Justice: Farce Wars</td>\n",
       "      <td>Action,Comedy,Family</td>\n",
       "      <td>2018</td>\n",
       "    </tr>\n",
       "    <tr>\n",
       "      <th>9</th>\n",
       "      <td>Avengers: Reassembled</td>\n",
       "      <td>Sci-Fi</td>\n",
       "      <td>2018</td>\n",
       "    </tr>\n",
       "    <tr>\n",
       "      <th>10</th>\n",
       "      <td>Avengers: Legacy</td>\n",
       "      <td>Sci-Fi</td>\n",
       "      <td>2019</td>\n",
       "    </tr>\n",
       "  </tbody>\n",
       "</table>\n",
       "</div>"
      ],
      "text/plain": [
       "                      primary_title                   genres  start_year\n",
       "0                      The Avengers  Action,Adventure,Sci-Fi        2012\n",
       "1    The Avengers Assemble Premiere                   Action        2012\n",
       "2                        Scavengers                   Sci-Fi        2013\n",
       "3                 Scavengers' Union         Documentary,News        2011\n",
       "4           Avengers: Age of Ultron  Action,Adventure,Sci-Fi        2015\n",
       "5                    Los Scavengers         Adventure,Family        2014\n",
       "6            Avengers: Infinity War  Action,Adventure,Sci-Fi        2018\n",
       "7                 Avengers: Endgame  Action,Adventure,Sci-Fi        2019\n",
       "8   Avengers of Justice: Farce Wars     Action,Comedy,Family        2018\n",
       "9             Avengers: Reassembled                   Sci-Fi        2018\n",
       "10                 Avengers: Legacy                   Sci-Fi        2019"
      ]
     },
     "execution_count": 18,
     "metadata": {},
     "output_type": "execute_result"
    }
   ],
   "source": [
    "# pd.read_sql(\"\"\"\n",
    "# SELECT movie_basics.genres AS Category,movie_ratings.averagerating AS Rating,movie_ratings.numvotes as NumberVotes\n",
    "#   FROM movie_basics\n",
    "#   INNER JOIN movie_ratings ON movie_basics.movie_id = movie_ratings.movie_id\n",
    "#   WHERE movie_ratings.numvotes >= 700000 AND movie_ratings.averagerating >= 8.1\n",
    "#   GROUP BY movie_basics.genres \n",
    "#   ORDER BY Rating  DESC \n",
    "#   ;\n",
    "# \"\"\", conn)\n",
    "pd.read_sql(\"\"\"\n",
    "SELECT primary_title,genres,start_year\n",
    "  FROM movie_basics\n",
    "  WHERE primary_title LIKE '%Avengers%'\n",
    "  ;\n",
    "\"\"\", conn)"
   ]
  },
  {
   "cell_type": "markdown",
   "metadata": {},
   "source": [
    "# Graphic with Matplotib"
   ]
  },
  {
   "cell_type": "code",
   "execution_count": 11,
   "metadata": {
    "scrolled": false
   },
   "outputs": [
    {
     "data": {
      "image/png": "[encoded data removed]",
      "text/plain": [
       "<Figure size 576x360 with 1 Axes>"
      ]
     },
     "metadata": {
      "needs_background": "light"
     },
     "output_type": "display_data"
    }
   ],
   "source": [
    "q= \"\"\"\n",
    "SELECT movie_basics.genres AS Category,movie_ratings.averagerating AS Rating,movie_ratings.numvotes as NumberVotes\n",
    "  FROM movie_basics\n",
    "  INNER JOIN movie_ratings ON movie_basics.movie_id = movie_ratings.movie_id\n",
    "  WHERE movie_ratings.numvotes >= 900000 AND movie_ratings.averagerating >= 8.1\n",
    "  GROUP BY movie_basics.genres \n",
    "  ORDER BY Rating  DESC\n",
    ";\n",
    "\"\"\"\n",
    "df=pd.read_sql(q, conn)\n",
    "df.pivot(index='Category',columns='Rating',values='NumberVotes').plot(kind='bar',figsize=(8,5))\n",
    "plt.xlabel('Name of the categories')\n",
    "plt.ylabel('Number Of Votes')\n",
    "plt.title('Best Rating Categories with the Most Votes')\n",
    "plt.show()\n"
   ]
  },
  {
   "cell_type": "markdown",
   "metadata": {},
   "source": [
    "# Graphic with Seaborn"
   ]
  },
  {
   "cell_type": "code",
   "execution_count": 5,
   "metadata": {},
   "outputs": [
    {
     "data": {
      "text/plain": [
       "(array([0, 1, 2, 3, 4, 5, 6]),\n",
       " [Text(0, 0, 'Adventure,Drama,Sci-Fi'),\n",
       "  Text(1, 0, 'Drama,Western'),\n",
       "  Text(2, 0, 'Action,Thriller'),\n",
       "  Text(3, 0, 'Biography,Crime,Drama'),\n",
       "  Text(4, 0, 'Mystery,Thriller'),\n",
       "  Text(5, 0, 'Action,Adventure,Sci-Fi'),\n",
       "  Text(6, 0, 'Action,Adventure,Comedy')])"
      ]
     },
     "execution_count": 5,
     "metadata": {},
     "output_type": "execute_result"
    },
    {
     "data": {
      "image/png": "[encoded data removed]",
      "text/plain": [
       "<Figure size 432x288 with 1 Axes>"
      ]
     },
     "metadata": {
      "needs_background": "light"
     },
     "output_type": "display_data"
    }
   ],
   "source": [
    "sns.barplot(data=df, x=\"Category\", y=\"NumberVotes\")\n",
    "plt.xticks(rotation=60)"
   ]
  },
  {
   "cell_type": "code",
   "execution_count": 6,
   "metadata": {},
   "outputs": [
    {
     "data": {
      "text/plain": [
       "<AxesSubplot:xlabel='Rating', ylabel='Category'>"
      ]
     },
     "execution_count": 6,
     "metadata": {},
     "output_type": "execute_result"
    },
    {
     "data": {
      "image/png": "[encoded data removed]",
      "text/plain": [
       "<Figure size 432x288 with 1 Axes>"
      ]
     },
     "metadata": {
      "needs_background": "light"
     },
     "output_type": "display_data"
    }
   ],
   "source": [
    "sns.barplot(\n",
    "    data=df, x=\"Rating\", y=\"Category\", capsize=.4, errcolor=\".5\",\n",
    "    linewidth=1, edgecolor=\".5\"\n",
    ")"
   ]
  },
  {
   "cell_type": "markdown",
   "metadata": {},
   "source": [
    "# Explanation"
   ]
  },
  {
   "cell_type": "markdown",
   "metadata": {},
   "source": [
    "## Graphics Explanation\n",
    "* The first one is about the average votes each category have, but what this mean? Well this mean that for every category the sume of each movie are the total votes per category and we can see that the category with the most votes are Action,Thriller.\n",
    "* The second one is about the rating per category as we can se the best rating category is Action,Adventura,Sci-Fi."
   ]
  },
  {
   "cell_type": "markdown",
   "metadata": {},
   "source": [
    "# But what if we only need one category?"
   ]
  },
  {
   "cell_type": "markdown",
   "metadata": {},
   "source": [
    "![scream.gif](https://media.giphy.com/media/o1ncFNtD5eDUk/giphy.gif)"
   ]
  },
  {
   "cell_type": "markdown",
   "metadata": {},
   "source": [
    "We already have the most voted categories so now with that in mind what are the most relevant in this final filter? Well here is the answer!"
   ]
  },
  {
   "cell_type": "markdown",
   "metadata": {},
   "source": [
    "# SQL Code"
   ]
  },
  {
   "cell_type": "markdown",
   "metadata": {},
   "source": [
    "First we need to filter the data between 900000 votes (the main reason we use this value is because the highest number of votes are 1800000) and with a movie average of 8.1"
   ]
  },
  {
   "cell_type": "code",
   "execution_count": 7,
   "metadata": {},
   "outputs": [
    {
     "data": {
      "text/html": [
       "<div>\n",
       "<style scoped>\n",
       "    .dataframe tbody tr th:only-of-type {\n",
       "        vertical-align: middle;\n",
       "    }\n",
       "\n",
       "    .dataframe tbody tr th {\n",
       "        vertical-align: top;\n",
       "    }\n",
       "\n",
       "    .dataframe thead th {\n",
       "        text-align: right;\n",
       "    }\n",
       "</style>\n",
       "<table border=\"1\" class=\"dataframe\">\n",
       "  <thead>\n",
       "    <tr style=\"text-align: right;\">\n",
       "      <th></th>\n",
       "      <th>Category</th>\n",
       "      <th>Rating</th>\n",
       "    </tr>\n",
       "  </thead>\n",
       "  <tbody>\n",
       "    <tr>\n",
       "      <th>0</th>\n",
       "      <td>Mystery,Thriller</td>\n",
       "      <td>8.1</td>\n",
       "    </tr>\n",
       "    <tr>\n",
       "      <th>1</th>\n",
       "      <td>Action,Thriller</td>\n",
       "      <td>8.4</td>\n",
       "    </tr>\n",
       "    <tr>\n",
       "      <th>2</th>\n",
       "      <td>Adventure,Drama,Sci-Fi</td>\n",
       "      <td>8.6</td>\n",
       "    </tr>\n",
       "    <tr>\n",
       "      <th>3</th>\n",
       "      <td>Action,Adventure,Comedy</td>\n",
       "      <td>8.1</td>\n",
       "    </tr>\n",
       "    <tr>\n",
       "      <th>4</th>\n",
       "      <td>Drama,Western</td>\n",
       "      <td>8.4</td>\n",
       "    </tr>\n",
       "    <tr>\n",
       "      <th>5</th>\n",
       "      <td>Biography,Crime,Drama</td>\n",
       "      <td>8.2</td>\n",
       "    </tr>\n",
       "    <tr>\n",
       "      <th>6</th>\n",
       "      <td>Action,Adventure,Sci-Fi</td>\n",
       "      <td>8.1</td>\n",
       "    </tr>\n",
       "    <tr>\n",
       "      <th>7</th>\n",
       "      <td>Action,Adventure,Sci-Fi</td>\n",
       "      <td>8.8</td>\n",
       "    </tr>\n",
       "  </tbody>\n",
       "</table>\n",
       "</div>"
      ],
      "text/plain": [
       "                  Category  Rating\n",
       "0         Mystery,Thriller     8.1\n",
       "1          Action,Thriller     8.4\n",
       "2   Adventure,Drama,Sci-Fi     8.6\n",
       "3  Action,Adventure,Comedy     8.1\n",
       "4            Drama,Western     8.4\n",
       "5    Biography,Crime,Drama     8.2\n",
       "6  Action,Adventure,Sci-Fi     8.1\n",
       "7  Action,Adventure,Sci-Fi     8.8"
      ]
     },
     "execution_count": 7,
     "metadata": {},
     "output_type": "execute_result"
    }
   ],
   "source": [
    "df4=pd.read_sql(\"\"\"\n",
    "SELECT movie_basics.genres AS Category,movie_ratings.averagerating AS Rating\n",
    "  FROM movie_basics\n",
    "  INNER JOIN movie_ratings ON movie_basics.movie_id = movie_ratings.movie_id\n",
    "  WHERE movie_ratings.numvotes >= 900000 AND movie_ratings.averagerating >= 8.1\n",
    "\"\"\", conn)\n",
    "df4"
   ]
  },
  {
   "cell_type": "markdown",
   "metadata": {},
   "source": [
    "# DataFrame"
   ]
  },
  {
   "cell_type": "code",
   "execution_count": 60,
   "metadata": {},
   "outputs": [
    {
     "data": {
      "text/html": [
       "<div>\n",
       "<style scoped>\n",
       "    .dataframe tbody tr th:only-of-type {\n",
       "        vertical-align: middle;\n",
       "    }\n",
       "\n",
       "    .dataframe tbody tr th {\n",
       "        vertical-align: top;\n",
       "    }\n",
       "\n",
       "    .dataframe thead th {\n",
       "        text-align: right;\n",
       "    }\n",
       "</style>\n",
       "<table border=\"1\" class=\"dataframe\">\n",
       "  <thead>\n",
       "    <tr style=\"text-align: right;\">\n",
       "      <th></th>\n",
       "      <th>Frequency</th>\n",
       "      <th>Category</th>\n",
       "    </tr>\n",
       "  </thead>\n",
       "  <tbody>\n",
       "    <tr>\n",
       "      <th>0</th>\n",
       "      <td>4.0</td>\n",
       "      <td>Adventure</td>\n",
       "    </tr>\n",
       "    <tr>\n",
       "      <th>1</th>\n",
       "      <td>4.0</td>\n",
       "      <td>Action</td>\n",
       "    </tr>\n",
       "    <tr>\n",
       "      <th>2</th>\n",
       "      <td>3.0</td>\n",
       "      <td>Sci-Fi</td>\n",
       "    </tr>\n",
       "    <tr>\n",
       "      <th>3</th>\n",
       "      <td>3.0</td>\n",
       "      <td>Drama</td>\n",
       "    </tr>\n",
       "    <tr>\n",
       "      <th>4</th>\n",
       "      <td>2.0</td>\n",
       "      <td>Thriller</td>\n",
       "    </tr>\n",
       "  </tbody>\n",
       "</table>\n",
       "</div>"
      ],
      "text/plain": [
       "   Frequency   Category\n",
       "0        4.0  Adventure\n",
       "1        4.0     Action\n",
       "2        3.0     Sci-Fi\n",
       "3        3.0      Drama\n",
       "4        2.0   Thriller"
      ]
     },
     "execution_count": 60,
     "metadata": {},
     "output_type": "execute_result"
    }
   ],
   "source": [
    "genres_cols = df4['Category'].str.split(',',expand=True)\n",
    "genres_cols.columns = ['genre1','genre2','genre3']\n",
    "counts1=genres_cols['genre1'].value_counts()\n",
    "counts2=genres_cols['genre2'].value_counts()\n",
    "counts3=genres_cols['genre3'].value_counts()\n",
    "total_counts = counts1.add(counts2, fill_value=0).add(counts3, fill_value=0)\n",
    "one_category = total_counts.sort_values(ascending=False)\n",
    "one_category.index\n",
    "dfone=pd.DataFrame(list(zip(one_category.values, one_category.index)), columns = [\"Frequency\", \"Category\"])\n",
    "dfone.head(5)"
   ]
  },
  {
   "cell_type": "markdown",
   "metadata": {},
   "source": [
    "# Graphic"
   ]
  },
  {
   "cell_type": "code",
   "execution_count": 61,
   "metadata": {},
   "outputs": [
    {
     "data": {
      "text/plain": [
       "(array([0, 1, 2, 3, 4, 5, 6, 7, 8, 9]),\n",
       " [Text(0, 0, 'Adventure'),\n",
       "  Text(1, 0, 'Action'),\n",
       "  Text(2, 0, 'Sci-Fi'),\n",
       "  Text(3, 0, 'Drama'),\n",
       "  Text(4, 0, 'Thriller'),\n",
       "  Text(5, 0, 'Western'),\n",
       "  Text(6, 0, 'Mystery'),\n",
       "  Text(7, 0, 'Crime'),\n",
       "  Text(8, 0, 'Comedy'),\n",
       "  Text(9, 0, 'Biography')])"
      ]
     },
     "execution_count": 61,
     "metadata": {},
     "output_type": "execute_result"
    },
    {
     "data": {
      "image/png": "[encoded data removed]",
      "text/plain": [
       "<Figure size 432x288 with 1 Axes>"
      ]
     },
     "metadata": {
      "needs_background": "light"
     },
     "output_type": "display_data"
    }
   ],
   "source": [
    "sns.barplot(data=dfone, x=\"Category\", y=\"Frequency\")\n",
    "plt.xticks(rotation=60)"
   ]
  },
  {
   "cell_type": "markdown",
   "metadata": {},
   "source": [
    "# Now how many possible category combinations we can use to make a movie?"
   ]
  },
  {
   "cell_type": "markdown",
   "metadata": {},
   "source": [
    "![movie.gif](https://media.giphy.com/media/UDjF1zMreMld6/giphy.gif)"
   ]
  },
  {
   "cell_type": "markdown",
   "metadata": {},
   "source": [
    "Here I make a simple function to show how many possible combinations you can have with 2 genres o 3 genres!"
   ]
  },
  {
   "cell_type": "code",
   "execution_count": 59,
   "metadata": {},
   "outputs": [
    {
     "name": "stdout",
     "output_type": "stream",
     "text": [
      "Number of possible combinations of categorie movies with 2 genres :  120.0\n"
     ]
    }
   ],
   "source": [
    "def combinations(m,n):\n",
    "    if m<n:\n",
    "        return 0\n",
    "    else:\n",
    "        comb=math.factorial(m)/(math.factorial(n) * math.factorial(m-n))\n",
    "        return comb\n",
    "print(\"Number of possible combinations of categorie movies with 2 genres : \",combinations(16,2))"
   ]
  },
  {
   "cell_type": "code",
   "execution_count": 63,
   "metadata": {},
   "outputs": [
    {
     "data": {
      "text/plain": [
       "['SciFi', 'Drama']"
      ]
     },
     "execution_count": 63,
     "metadata": {},
     "output_type": "execute_result"
    }
   ],
   "source": [
    "#Combinaning Diferrent Categories only with 2 genders in a random way\n",
    "movie_genres=[\"Adventure\",\"Action\",\"SciFi\",\"Drama\",\"Thriller\"]\n",
    "random.sample(movie_genres,2)"
   ]
  },
  {
   "cell_type": "code",
   "execution_count": 57,
   "metadata": {},
   "outputs": [
    {
     "name": "stdout",
     "output_type": "stream",
     "text": [
      "Number of possible combinations of categorie movies with 3 genres:  560.0\n"
     ]
    }
   ],
   "source": [
    "def combinations1(m,n):\n",
    "    if m<n:\n",
    "        return 0\n",
    "    else:\n",
    "        comb=math.factorial(m)/(math.factorial(n) * math.factorial(m-n))\n",
    "        return comb\n",
    "print(\"Number of possible combinations of categorie movies with 3 genres: \",combinations1(16,3))\n"
   ]
  },
  {
   "cell_type": "code",
   "execution_count": 62,
   "metadata": {},
   "outputs": [
    {
     "data": {
      "text/plain": [
       "['Adventure', 'Thriller', 'Drama']"
      ]
     },
     "execution_count": 62,
     "metadata": {},
     "output_type": "execute_result"
    }
   ],
   "source": [
    "#Combinaning Diferrent Categories only with 2 genders in a random way\n",
    "movie_genres1=[\"Adventure\",\"Action\",\"SciFi\",\"Drama\",\"Thriller\"]\n",
    "random.sample(movie_genres,3)"
   ]
  },
  {
   "cell_type": "markdown",
   "metadata": {},
   "source": [
    "# Summary/Recommendation\n",
    "* The best rating category probably wont be the one with the most votes. We think the category that could have more impact will be Action,Thriller because they have the most votes.\n",
    "* Now the best Category to make a movie will be Adventure and Action and the main reason is because they have the best raiting and the most votes! With that in mind you can make a succesful movie with popular categories"
   ]
  },
  {
   "cell_type": "markdown",
   "metadata": {},
   "source": [
    "# Extra activities"
   ]
  },
  {
   "cell_type": "markdown",
   "metadata": {},
   "source": [
    "\n",
    "# Working with my team-mate Miguel Cruz"
   ]
  },
  {
   "cell_type": "markdown",
   "metadata": {},
   "source": [
    "I just helped my team-mate Miguel Cruz in the part of the query and the part of making his graphic of the query\n",
    "Code of the graphic:\n",
    "df=pd.read_sql(Director, conn)\n",
    "df.pivot(index='primary_title',columns='averagerating',values='averagerating').plot(kind='bar',figsize=(15,8))\n",
    "plt.figure(figsize=(15,8))\n",
    "plt.bar('primary_title', 'averagerating',data=df)\n",
    "plt.xlabel(\"Movie Title\", size=15)\n",
    "plt.ylabel('Average Rating', size=15)\n",
    "plt.title(\"Director's movies\", size=15)\n",
    "plt.show()"
   ]
  },
  {
   "cell_type": "code",
   "execution_count": null,
   "metadata": {},
   "outputs": [],
   "source": [
    "pd.read_sql(\"\"\"\n",
    "SELECT directors.person_id AS DirectorName,directors.movie_id AS IDM,movie_basics.movie_id,movie_basics.primary_title AS namemovie \n",
    "  FROM directors\n",
    "  INNER JOIN movie_basics ON directors.movie_id = movie_basics.movie_id\n",
    "  WHERE directors.person_id ='nm0751577'\n",
    "  GROUP BY namemovie\n",
    "\n",
    "  ;\n",
    "\"\"\", conn)"
   ]
  },
  {
   "cell_type": "code",
   "execution_count": null,
   "metadata": {},
   "outputs": [],
   "source": [
    "pd.read_sql(\"\"\"\n",
    "SELECT *\n",
    "  FROM movie_basics\n",
    "  WHERE primary_title = \"Cherry\"\n",
    "\n",
    "  ;\n",
    "\"\"\", conn)"
   ]
  },
  {
   "cell_type": "code",
   "execution_count": null,
   "metadata": {},
   "outputs": [],
   "source": [
    "pd.read_sql(\"\"\"\n",
    "SELECT *\n",
    "  FROM movie_ratings\n",
    "  WHERE movie_id = 'tt9130508'\n",
    "  ;\n",
    "\"\"\", conn)"
   ]
  },
  {
   "cell_type": "code",
   "execution_count": null,
   "metadata": {},
   "outputs": [],
   "source": [
    "avg_rating = \"\"\"\n",
    "SELECT person_id , primary_name as Director , COUNT(DISTINCT directors.movie_id) as \"MoviesMade\",  sum(movie_ratings.averagerating) / COUNT(movie_ratings.averagerating) as \"Average Rating\"\n",
    ", movie_ratings.numvotes as numvotes\n",
    "FROM persons\n",
    "JOIN directors \n",
    "  USING (person_id)\n",
    "JOIN movie_basics\n",
    "  USING (movie_id)\n",
    "JOIN movie_ratings\n",
    "  USING (movie_id)\n",
    "GROUP BY person_id \n",
    "HAVING \"Movies Made\" >= 5 AND \"Average Rating\" >= 8 AND numvotes >= 20000\n",
    "ORDER BY \"Average Rating\" DESC\n",
    "\n",
    ";\n",
    "\"\"\"\n",
    "pd.read_sql(avg_rating, conn)"
   ]
  },
  {
   "cell_type": "markdown",
   "metadata": {},
   "source": [
    "\n",
    "\n",
    "# Working with a person outside of our team, I helped Juan Varguez "
   ]
  },
  {
   "cell_type": "markdown",
   "metadata": {},
   "source": [
    "The main activity making his query and how he can solved the problem\n",
    "of the query he was assigned to. The query only requires extra information like the use of the WHERE LIKE %example\n",
    "Also just helped with problems on the Kernel that only was to activate the learn-env"
   ]
  }
 ],
 "metadata": {
  "kernelspec": {
   "display_name": "Python (learn-env)",
   "language": "python",
   "name": "learn-env"
  },
  "language_info": {
   "codemirror_mode": {
    "name": "ipython",
    "version": 3
   },
   "file_extension": ".py",
   "mimetype": "text/x-python",
   "name": "python",
   "nbconvert_exporter": "python",
   "pygments_lexer": "ipython3",
   "version": "3.8.5"
  }
 },
 "nbformat": 4,
 "nbformat_minor": 4
}
