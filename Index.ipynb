{
 "cells": [
  {
   "cell_type": "markdown",
   "metadata": {},
   "source": [
    "# Best movie Category based on Rating and Number of votes\n",
    "\n",
    "## Introduction\n",
    "In this Index you will find why is important to look at the movies categories with the best rating and the most votes\n",
    "## Why is this data relevant?\n",
    "* Is important because depends in how much rating and number of votes you can see wich category is more succesful\n",
    "* With this we can assume wich category is most relevant on these days\n"
   ]
  },
  {
   "cell_type": "markdown",
   "metadata": {},
   "source": [
    "![oscar.gif](https://media2.giphy.com/media/v1.Y2lkPTc5MGI3NjExYzQ5MjkxZjg5NjM3NjBiYjE1ZjQ4ZjA4NmFmOTM4NmYyYTljYTE3YyZjdD1n/V1fKEA5ojhDxiB7j9T/giphy.gif)"
   ]
  },
  {
   "cell_type": "markdown",
   "metadata": {},
   "source": [
    "# Code SQL"
   ]
  },
  {
   "cell_type": "code",
   "execution_count": 94,
   "metadata": {},
   "outputs": [],
   "source": [
    "import pandas as pd\n",
    "import sqlite3\n",
    "import matplotlib.pyplot as plt\n",
    "import seaborn as sbn\n",
    "conn = sqlite3.connect('data/im.db')"
   ]
  },
  {
   "cell_type": "markdown",
   "metadata": {},
   "source": [
    "Here we can see the *average rating* of the *category* with the highest *number of votes*.\n",
    "\n",
    "The main reason to filter this way is to show that not always the best rated categories are the one who have more votes"
   ]
  },
  {
   "cell_type": "code",
   "execution_count": 111,
   "metadata": {},
   "outputs": [
    {
     "data": {
      "text/html": [
       "<div>\n",
       "<style scoped>\n",
       "    .dataframe tbody tr th:only-of-type {\n",
       "        vertical-align: middle;\n",
       "    }\n",
       "\n",
       "    .dataframe tbody tr th {\n",
       "        vertical-align: top;\n",
       "    }\n",
       "\n",
       "    .dataframe thead th {\n",
       "        text-align: right;\n",
       "    }\n",
       "</style>\n",
       "<table border=\"1\" class=\"dataframe\">\n",
       "  <thead>\n",
       "    <tr style=\"text-align: right;\">\n",
       "      <th></th>\n",
       "      <th>Category</th>\n",
       "      <th>Rating</th>\n",
       "      <th>NumberVotes</th>\n",
       "    </tr>\n",
       "  </thead>\n",
       "  <tbody>\n",
       "    <tr>\n",
       "      <th>0</th>\n",
       "      <td>Adventure,Drama,Sci-Fi</td>\n",
       "      <td>8.6</td>\n",
       "      <td>1299334</td>\n",
       "    </tr>\n",
       "    <tr>\n",
       "      <th>1</th>\n",
       "      <td>Drama,Western</td>\n",
       "      <td>8.4</td>\n",
       "      <td>1211405</td>\n",
       "    </tr>\n",
       "    <tr>\n",
       "      <th>2</th>\n",
       "      <td>Action,Thriller</td>\n",
       "      <td>8.4</td>\n",
       "      <td>1387769</td>\n",
       "    </tr>\n",
       "    <tr>\n",
       "      <th>3</th>\n",
       "      <td>Biography,Crime,Drama</td>\n",
       "      <td>8.2</td>\n",
       "      <td>1035358</td>\n",
       "    </tr>\n",
       "    <tr>\n",
       "      <th>4</th>\n",
       "      <td>Mystery,Thriller</td>\n",
       "      <td>8.1</td>\n",
       "      <td>1005960</td>\n",
       "    </tr>\n",
       "    <tr>\n",
       "      <th>5</th>\n",
       "      <td>Drama,Mystery,Thriller</td>\n",
       "      <td>8.1</td>\n",
       "      <td>761592</td>\n",
       "    </tr>\n",
       "    <tr>\n",
       "      <th>6</th>\n",
       "      <td>Action,Adventure,Sci-Fi</td>\n",
       "      <td>8.1</td>\n",
       "      <td>780910</td>\n",
       "    </tr>\n",
       "    <tr>\n",
       "      <th>7</th>\n",
       "      <td>Action,Adventure,Comedy</td>\n",
       "      <td>8.1</td>\n",
       "      <td>948394</td>\n",
       "    </tr>\n",
       "  </tbody>\n",
       "</table>\n",
       "</div>"
      ],
      "text/plain": [
       "                  Category  Rating  NumberVotes\n",
       "0   Adventure,Drama,Sci-Fi     8.6      1299334\n",
       "1            Drama,Western     8.4      1211405\n",
       "2          Action,Thriller     8.4      1387769\n",
       "3    Biography,Crime,Drama     8.2      1035358\n",
       "4         Mystery,Thriller     8.1      1005960\n",
       "5   Drama,Mystery,Thriller     8.1       761592\n",
       "6  Action,Adventure,Sci-Fi     8.1       780910\n",
       "7  Action,Adventure,Comedy     8.1       948394"
      ]
     },
     "execution_count": 111,
     "metadata": {},
     "output_type": "execute_result"
    }
   ],
   "source": [
    "pd.read_sql(\"\"\"\n",
    "SELECT movie_basics.genres AS Category,movie_ratings.averagerating AS Rating,movie_ratings.numvotes as NumberVotes\n",
    "  FROM movie_basics\n",
    "  INNER JOIN movie_ratings ON movie_basics.movie_id = movie_ratings.movie_id\n",
    "  WHERE movie_ratings.numvotes >= 700000 AND movie_ratings.averagerating >= 8.1\n",
    "  GROUP BY movie_basics.genres \n",
    "  ORDER BY Rating  DESC \n",
    "  ;\n",
    "\"\"\", conn)"
   ]
  },
  {
   "cell_type": "markdown",
   "metadata": {},
   "source": [
    "# Graphic with Matplotib"
   ]
  },
  {
   "cell_type": "code",
   "execution_count": 112,
   "metadata": {
    "scrolled": false
   },
   "outputs": [
    {
     "data": {
      "image/png": "[encoded data removed]",
      "text/plain": [
       "<Figure size 576x360 with 1 Axes>"
      ]
     },
     "metadata": {
      "needs_background": "light"
     },
     "output_type": "display_data"
    }
   ],
   "source": [
    "q= \"\"\"\n",
    "SELECT movie_basics.genres AS Category,movie_ratings.averagerating AS Rating,movie_ratings.numvotes as NumberVotes\n",
    "  FROM movie_basics\n",
    "  INNER JOIN movie_ratings ON movie_basics.movie_id = movie_ratings.movie_id\n",
    "  WHERE movie_ratings.numvotes >= 700000 AND movie_ratings.averagerating >= 8.1\n",
    "  GROUP BY movie_basics.genres \n",
    "  ORDER BY Rating  DESC\n",
    ";\n",
    "\"\"\"\n",
    "df=pd.read_sql(q, conn)\n",
    "df.pivot(index='Category',columns='Rating',values='NumberVotes').plot(kind='bar',figsize=(8,5))\n",
    "plt.xlabel('Name of the categories')\n",
    "plt.ylabel('Number Of Votes')\n",
    "plt.title('Best Rating Categories with the Most Votes')\n",
    "plt.show()\n"
   ]
  },
  {
   "cell_type": "markdown",
   "metadata": {},
   "source": [
    "# Graphic with Seaborn"
   ]
  },
  {
   "cell_type": "code",
   "execution_count": 100,
   "metadata": {},
   "outputs": [
    {
     "data": {
      "text/plain": [
       "(array([0, 1, 2, 3, 4, 5, 6, 7]),\n",
       " [Text(0, 0, 'Adventure,Drama,Sci-Fi'),\n",
       "  Text(1, 0, 'Drama,Western'),\n",
       "  Text(2, 0, 'Action,Thriller'),\n",
       "  Text(3, 0, 'Biography,Crime,Drama'),\n",
       "  Text(4, 0, 'Mystery,Thriller'),\n",
       "  Text(5, 0, 'Drama,Mystery,Thriller'),\n",
       "  Text(6, 0, 'Action,Adventure,Sci-Fi'),\n",
       "  Text(7, 0, 'Action,Adventure,Comedy')])"
      ]
     },
     "execution_count": 100,
     "metadata": {},
     "output_type": "execute_result"
    },
    {
     "data": {
      "image/png": "[encoded data removed]",
      "text/plain": [
       "<Figure size 1440x360 with 1 Axes>"
      ]
     },
     "metadata": {
      "needs_background": "light"
     },
     "output_type": "display_data"
    }
   ],
   "source": [
    "fig= plt.subplots(figsize=(20, 5))\n",
    "sns.barplot(data=df, x=\"Category\", y=\"NumberVotes\")\n",
    "plt.xticks(rotation=60)"
   ]
  },
  {
   "cell_type": "code",
   "execution_count": 88,
   "metadata": {},
   "outputs": [
    {
     "data": {
      "text/plain": [
       "<AxesSubplot:xlabel='NumberVotes', ylabel='Category'>"
      ]
     },
     "execution_count": 88,
     "metadata": {},
     "output_type": "execute_result"
    },
    {
     "data": {
      "image/png": "[encoded data removed]",
      "text/plain": [
       "<Figure size 432x288 with 1 Axes>"
      ]
     },
     "metadata": {
      "needs_background": "light"
     },
     "output_type": "display_data"
    }
   ],
   "source": [
    "sns.barplot(\n",
    "    data=df, x=\"Rating\", y=\"Category\", capsize=.4, errcolor=\".5\",\n",
    "    linewidth=1, edgecolor=\".5\"\n",
    ")"
   ]
  },
  {
   "cell_type": "markdown",
   "metadata": {},
   "source": [
    "# Explanation"
   ]
  },
  {
   "cell_type": "markdown",
   "metadata": {},
   "source": [
    "## Graphics Explanation\n",
    "* The first one is about the average votes each category have, but what this mean? Well this mean that for every category the sume of each movie are the total votes per category and we can see that the category with the most votes are Action,Thriller.\n",
    "* The second one is about the rating per category as we can se the best rating category is Action,Adventura,Sci-Fi."
   ]
  },
  {
   "cell_type": "markdown",
   "metadata": {},
   "source": [
    "# Summary/Recommendation\n",
    "* The best rating category probably wont be the one with the most votes. We think the category that could have more impact will be Action,Thriller because have the most votes."
   ]
  },
  {
   "cell_type": "code",
   "execution_count": 2,
   "metadata": {},
   "outputs": [],
   "source": [
    "#IN PROGRESS QUERY WHERE WE CAN SPECIFY ONLY ONE CATEGORY"
   ]
  },
  {
   "cell_type": "code",
   "execution_count": 118,
   "metadata": {},
   "outputs": [],
   "source": [
    "# pd.read_sql(\"\"\"\n",
    "# SELECT genres\n",
    "# FROM movie_basics\n",
    "# CROSS APPLY string_split(genres,',');\n",
    "# GROUP BY genres\n",
    "# \"\"\", conn)"
   ]
  },
  {
   "cell_type": "markdown",
   "metadata": {},
   "source": [
    "# Extra activities"
   ]
  },
  {
   "cell_type": "markdown",
   "metadata": {},
   "source": [
    "\n",
    "# Working with my team-mate Miguel Cruz"
   ]
  },
  {
   "cell_type": "markdown",
   "metadata": {},
   "source": [
    "I just helped my team-mate Miguel Cruz in the part of the query and the part of making his graphic of the query\n",
    "Code of the graphic:\n",
    "df=pd.read_sql(Director, conn)\n",
    "df.pivot(index='primary_title',columns='averagerating',values='averagerating').plot(kind='bar',figsize=(15,8))\n",
    "plt.figure(figsize=(15,8))\n",
    "plt.bar('primary_title', 'averagerating',data=df)\n",
    "plt.xlabel(\"Movie Title\", size=15)\n",
    "plt.ylabel('Average Rating', size=15)\n",
    "plt.title(\"Director's movies\", size=15)\n",
    "plt.show()"
   ]
  },
  {
   "cell_type": "code",
   "execution_count": 64,
   "metadata": {},
   "outputs": [
    {
     "data": {
      "text/html": [
       "<div>\n",
       "<style scoped>\n",
       "    .dataframe tbody tr th:only-of-type {\n",
       "        vertical-align: middle;\n",
       "    }\n",
       "\n",
       "    .dataframe tbody tr th {\n",
       "        vertical-align: top;\n",
       "    }\n",
       "\n",
       "    .dataframe thead th {\n",
       "        text-align: right;\n",
       "    }\n",
       "</style>\n",
       "<table border=\"1\" class=\"dataframe\">\n",
       "  <thead>\n",
       "    <tr style=\"text-align: right;\">\n",
       "      <th></th>\n",
       "      <th>DirectorName</th>\n",
       "      <th>IDM</th>\n",
       "      <th>movie_id</th>\n",
       "      <th>namemovie</th>\n",
       "    </tr>\n",
       "  </thead>\n",
       "  <tbody>\n",
       "    <tr>\n",
       "      <th>0</th>\n",
       "      <td>nm0751577</td>\n",
       "      <td>tt4154796</td>\n",
       "      <td>tt4154796</td>\n",
       "      <td>Avengers: Endgame</td>\n",
       "    </tr>\n",
       "    <tr>\n",
       "      <th>1</th>\n",
       "      <td>nm0751577</td>\n",
       "      <td>tt4154756</td>\n",
       "      <td>tt4154756</td>\n",
       "      <td>Avengers: Infinity War</td>\n",
       "    </tr>\n",
       "    <tr>\n",
       "      <th>2</th>\n",
       "      <td>nm0751577</td>\n",
       "      <td>tt3498820</td>\n",
       "      <td>tt3498820</td>\n",
       "      <td>Captain America: Civil War</td>\n",
       "    </tr>\n",
       "    <tr>\n",
       "      <th>3</th>\n",
       "      <td>nm0751577</td>\n",
       "      <td>tt1843866</td>\n",
       "      <td>tt1843866</td>\n",
       "      <td>Captain America: The Winter Soldier</td>\n",
       "    </tr>\n",
       "    <tr>\n",
       "      <th>4</th>\n",
       "      <td>nm0751577</td>\n",
       "      <td>tt9130508</td>\n",
       "      <td>tt9130508</td>\n",
       "      <td>Cherry</td>\n",
       "    </tr>\n",
       "  </tbody>\n",
       "</table>\n",
       "</div>"
      ],
      "text/plain": [
       "  DirectorName        IDM   movie_id                            namemovie\n",
       "0    nm0751577  tt4154796  tt4154796                    Avengers: Endgame\n",
       "1    nm0751577  tt4154756  tt4154756               Avengers: Infinity War\n",
       "2    nm0751577  tt3498820  tt3498820           Captain America: Civil War\n",
       "3    nm0751577  tt1843866  tt1843866  Captain America: The Winter Soldier\n",
       "4    nm0751577  tt9130508  tt9130508                               Cherry"
      ]
     },
     "execution_count": 64,
     "metadata": {},
     "output_type": "execute_result"
    }
   ],
   "source": [
    "pd.read_sql(\"\"\"\n",
    "SELECT directors.person_id AS DirectorName,directors.movie_id AS IDM,movie_basics.movie_id,movie_basics.primary_title AS namemovie \n",
    "  FROM directors\n",
    "  INNER JOIN movie_basics ON directors.movie_id = movie_basics.movie_id\n",
    "  WHERE directors.person_id ='nm0751577'\n",
    "  GROUP BY namemovie\n",
    "\n",
    "  ;\n",
    "\"\"\", conn)"
   ]
  },
  {
   "cell_type": "code",
   "execution_count": 65,
   "metadata": {},
   "outputs": [
    {
     "data": {
      "text/html": [
       "<div>\n",
       "<style scoped>\n",
       "    .dataframe tbody tr th:only-of-type {\n",
       "        vertical-align: middle;\n",
       "    }\n",
       "\n",
       "    .dataframe tbody tr th {\n",
       "        vertical-align: top;\n",
       "    }\n",
       "\n",
       "    .dataframe thead th {\n",
       "        text-align: right;\n",
       "    }\n",
       "</style>\n",
       "<table border=\"1\" class=\"dataframe\">\n",
       "  <thead>\n",
       "    <tr style=\"text-align: right;\">\n",
       "      <th></th>\n",
       "      <th>movie_id</th>\n",
       "      <th>primary_title</th>\n",
       "      <th>original_title</th>\n",
       "      <th>start_year</th>\n",
       "      <th>runtime_minutes</th>\n",
       "      <th>genres</th>\n",
       "    </tr>\n",
       "  </thead>\n",
       "  <tbody>\n",
       "    <tr>\n",
       "      <th>0</th>\n",
       "      <td>tt1315350</td>\n",
       "      <td>Cherry</td>\n",
       "      <td>Cherry</td>\n",
       "      <td>2010</td>\n",
       "      <td>99.0</td>\n",
       "      <td>Comedy,Drama</td>\n",
       "    </tr>\n",
       "    <tr>\n",
       "      <th>1</th>\n",
       "      <td>tt9130508</td>\n",
       "      <td>Cherry</td>\n",
       "      <td>Cherry</td>\n",
       "      <td>2020</td>\n",
       "      <td>NaN</td>\n",
       "      <td>Drama</td>\n",
       "    </tr>\n",
       "  </tbody>\n",
       "</table>\n",
       "</div>"
      ],
      "text/plain": [
       "    movie_id primary_title original_title  start_year  runtime_minutes  \\\n",
       "0  tt1315350        Cherry         Cherry        2010             99.0   \n",
       "1  tt9130508        Cherry         Cherry        2020              NaN   \n",
       "\n",
       "         genres  \n",
       "0  Comedy,Drama  \n",
       "1         Drama  "
      ]
     },
     "execution_count": 65,
     "metadata": {},
     "output_type": "execute_result"
    }
   ],
   "source": [
    "pd.read_sql(\"\"\"\n",
    "SELECT *\n",
    "  FROM movie_basics\n",
    "  WHERE primary_title = \"Cherry\"\n",
    "\n",
    "  ;\n",
    "\"\"\", conn)"
   ]
  },
  {
   "cell_type": "code",
   "execution_count": 66,
   "metadata": {},
   "outputs": [
    {
     "data": {
      "text/html": [
       "<div>\n",
       "<style scoped>\n",
       "    .dataframe tbody tr th:only-of-type {\n",
       "        vertical-align: middle;\n",
       "    }\n",
       "\n",
       "    .dataframe tbody tr th {\n",
       "        vertical-align: top;\n",
       "    }\n",
       "\n",
       "    .dataframe thead th {\n",
       "        text-align: right;\n",
       "    }\n",
       "</style>\n",
       "<table border=\"1\" class=\"dataframe\">\n",
       "  <thead>\n",
       "    <tr style=\"text-align: right;\">\n",
       "      <th></th>\n",
       "      <th>movie_id</th>\n",
       "      <th>averagerating</th>\n",
       "      <th>numvotes</th>\n",
       "    </tr>\n",
       "  </thead>\n",
       "  <tbody>\n",
       "  </tbody>\n",
       "</table>\n",
       "</div>"
      ],
      "text/plain": [
       "Empty DataFrame\n",
       "Columns: [movie_id, averagerating, numvotes]\n",
       "Index: []"
      ]
     },
     "execution_count": 66,
     "metadata": {},
     "output_type": "execute_result"
    }
   ],
   "source": [
    "pd.read_sql(\"\"\"\n",
    "SELECT *\n",
    "  FROM movie_ratings\n",
    "  WHERE movie_id = 'tt9130508'\n",
    "  ;\n",
    "\"\"\", conn)"
   ]
  },
  {
   "cell_type": "code",
   "execution_count": 72,
   "metadata": {},
   "outputs": [
    {
     "data": {
      "text/html": [
       "<div>\n",
       "<style scoped>\n",
       "    .dataframe tbody tr th:only-of-type {\n",
       "        vertical-align: middle;\n",
       "    }\n",
       "\n",
       "    .dataframe tbody tr th {\n",
       "        vertical-align: top;\n",
       "    }\n",
       "\n",
       "    .dataframe thead th {\n",
       "        text-align: right;\n",
       "    }\n",
       "</style>\n",
       "<table border=\"1\" class=\"dataframe\">\n",
       "  <thead>\n",
       "    <tr style=\"text-align: right;\">\n",
       "      <th></th>\n",
       "      <th>person_id</th>\n",
       "      <th>Director</th>\n",
       "      <th>MoviesMade</th>\n",
       "      <th>Average Rating</th>\n",
       "      <th>numvotes</th>\n",
       "    </tr>\n",
       "  </thead>\n",
       "  <tbody>\n",
       "    <tr>\n",
       "      <th>0</th>\n",
       "      <td>nm0000233</td>\n",
       "      <td>Quentin Tarantino</td>\n",
       "      <td>4</td>\n",
       "      <td>8.700000</td>\n",
       "      <td>1211405</td>\n",
       "    </tr>\n",
       "    <tr>\n",
       "      <th>1</th>\n",
       "      <td>nm2336554</td>\n",
       "      <td>Aditya Dhar</td>\n",
       "      <td>1</td>\n",
       "      <td>8.600000</td>\n",
       "      <td>30292</td>\n",
       "    </tr>\n",
       "    <tr>\n",
       "      <th>2</th>\n",
       "      <td>nm2130108</td>\n",
       "      <td>Bob Persichetti</td>\n",
       "      <td>1</td>\n",
       "      <td>8.500000</td>\n",
       "      <td>210869</td>\n",
       "    </tr>\n",
       "    <tr>\n",
       "      <th>3</th>\n",
       "      <td>nm0745247</td>\n",
       "      <td>Rodney Rothman</td>\n",
       "      <td>1</td>\n",
       "      <td>8.500000</td>\n",
       "      <td>210869</td>\n",
       "    </tr>\n",
       "    <tr>\n",
       "      <th>4</th>\n",
       "      <td>nm0294825</td>\n",
       "      <td>Ron Fricke</td>\n",
       "      <td>1</td>\n",
       "      <td>8.500000</td>\n",
       "      <td>29725</td>\n",
       "    </tr>\n",
       "    <tr>\n",
       "      <th>5</th>\n",
       "      <td>nm0634240</td>\n",
       "      <td>Christopher Nolan</td>\n",
       "      <td>4</td>\n",
       "      <td>8.437500</td>\n",
       "      <td>1299334</td>\n",
       "    </tr>\n",
       "    <tr>\n",
       "      <th>6</th>\n",
       "      <td>nm2937122</td>\n",
       "      <td>Adrian Molina</td>\n",
       "      <td>1</td>\n",
       "      <td>8.400000</td>\n",
       "      <td>277194</td>\n",
       "    </tr>\n",
       "    <tr>\n",
       "      <th>7</th>\n",
       "      <td>nm0881279</td>\n",
       "      <td>Lee Unkrich</td>\n",
       "      <td>2</td>\n",
       "      <td>8.350000</td>\n",
       "      <td>682218</td>\n",
       "    </tr>\n",
       "    <tr>\n",
       "      <th>8</th>\n",
       "      <td>nm1484791</td>\n",
       "      <td>Joshua Oppenheimer</td>\n",
       "      <td>2</td>\n",
       "      <td>8.250000</td>\n",
       "      <td>31115</td>\n",
       "    </tr>\n",
       "    <tr>\n",
       "      <th>9</th>\n",
       "      <td>nm0751648</td>\n",
       "      <td>Joe Russo</td>\n",
       "      <td>4</td>\n",
       "      <td>8.246667</td>\n",
       "      <td>666252</td>\n",
       "    </tr>\n",
       "    <tr>\n",
       "      <th>10</th>\n",
       "      <td>nm0751577</td>\n",
       "      <td>Anthony Russo</td>\n",
       "      <td>4</td>\n",
       "      <td>8.246667</td>\n",
       "      <td>666252</td>\n",
       "    </tr>\n",
       "    <tr>\n",
       "      <th>11</th>\n",
       "      <td>nm2850440</td>\n",
       "      <td>Bilal Lashari</td>\n",
       "      <td>2</td>\n",
       "      <td>8.233333</td>\n",
       "      <td>28950</td>\n",
       "    </tr>\n",
       "    <tr>\n",
       "      <th>12</th>\n",
       "      <td>nm0215455</td>\n",
       "      <td>Ronnie Del Carmen</td>\n",
       "      <td>1</td>\n",
       "      <td>8.200000</td>\n",
       "      <td>536181</td>\n",
       "    </tr>\n",
       "    <tr>\n",
       "      <th>13</th>\n",
       "      <td>nm5256112</td>\n",
       "      <td>Anonymous</td>\n",
       "      <td>1</td>\n",
       "      <td>8.200000</td>\n",
       "      <td>31115</td>\n",
       "    </tr>\n",
       "    <tr>\n",
       "      <th>14</th>\n",
       "      <td>nm2964327</td>\n",
       "      <td>Christine Cynn</td>\n",
       "      <td>1</td>\n",
       "      <td>8.200000</td>\n",
       "      <td>31115</td>\n",
       "    </tr>\n",
       "    <tr>\n",
       "      <th>15</th>\n",
       "      <td>nm0070594</td>\n",
       "      <td>Malik Bendjelloul</td>\n",
       "      <td>1</td>\n",
       "      <td>8.200000</td>\n",
       "      <td>58654</td>\n",
       "    </tr>\n",
       "    <tr>\n",
       "      <th>16</th>\n",
       "      <td>nm0149196</td>\n",
       "      <td>Nuri Bilge Ceylan</td>\n",
       "      <td>3</td>\n",
       "      <td>8.100000</td>\n",
       "      <td>34691</td>\n",
       "    </tr>\n",
       "    <tr>\n",
       "      <th>17</th>\n",
       "      <td>nm1167933</td>\n",
       "      <td>Damián Szifron</td>\n",
       "      <td>1</td>\n",
       "      <td>8.100000</td>\n",
       "      <td>151123</td>\n",
       "    </tr>\n",
       "    <tr>\n",
       "      <th>18</th>\n",
       "      <td>nm0000154</td>\n",
       "      <td>Mel Gibson</td>\n",
       "      <td>1</td>\n",
       "      <td>8.100000</td>\n",
       "      <td>366904</td>\n",
       "    </tr>\n",
       "    <tr>\n",
       "      <th>19</th>\n",
       "      <td>nm3211470</td>\n",
       "      <td>Robert Eggers</td>\n",
       "      <td>2</td>\n",
       "      <td>8.066667</td>\n",
       "      <td>154278</td>\n",
       "    </tr>\n",
       "    <tr>\n",
       "      <th>20</th>\n",
       "      <td>nm0386246</td>\n",
       "      <td>Rajkumar Hirani</td>\n",
       "      <td>2</td>\n",
       "      <td>8.020000</td>\n",
       "      <td>138012</td>\n",
       "    </tr>\n",
       "    <tr>\n",
       "      <th>21</th>\n",
       "      <td>nm2612991</td>\n",
       "      <td>Banksy</td>\n",
       "      <td>1</td>\n",
       "      <td>8.000000</td>\n",
       "      <td>58721</td>\n",
       "    </tr>\n",
       "    <tr>\n",
       "      <th>22</th>\n",
       "      <td>nm1783265</td>\n",
       "      <td>Tim Miller</td>\n",
       "      <td>1</td>\n",
       "      <td>8.000000</td>\n",
       "      <td>820847</td>\n",
       "    </tr>\n",
       "    <tr>\n",
       "      <th>23</th>\n",
       "      <td>nm1158544</td>\n",
       "      <td>Jared Bush</td>\n",
       "      <td>1</td>\n",
       "      <td>8.000000</td>\n",
       "      <td>383446</td>\n",
       "    </tr>\n",
       "    <tr>\n",
       "      <th>24</th>\n",
       "      <td>nm0154716</td>\n",
       "      <td>Stephen Chbosky</td>\n",
       "      <td>2</td>\n",
       "      <td>8.000000</td>\n",
       "      <td>422671</td>\n",
       "    </tr>\n",
       "  </tbody>\n",
       "</table>\n",
       "</div>"
      ],
      "text/plain": [
       "    person_id            Director  MoviesMade  Average Rating  numvotes\n",
       "0   nm0000233   Quentin Tarantino           4        8.700000   1211405\n",
       "1   nm2336554         Aditya Dhar           1        8.600000     30292\n",
       "2   nm2130108     Bob Persichetti           1        8.500000    210869\n",
       "3   nm0745247      Rodney Rothman           1        8.500000    210869\n",
       "4   nm0294825          Ron Fricke           1        8.500000     29725\n",
       "5   nm0634240   Christopher Nolan           4        8.437500   1299334\n",
       "6   nm2937122       Adrian Molina           1        8.400000    277194\n",
       "7   nm0881279         Lee Unkrich           2        8.350000    682218\n",
       "8   nm1484791  Joshua Oppenheimer           2        8.250000     31115\n",
       "9   nm0751648           Joe Russo           4        8.246667    666252\n",
       "10  nm0751577       Anthony Russo           4        8.246667    666252\n",
       "11  nm2850440       Bilal Lashari           2        8.233333     28950\n",
       "12  nm0215455   Ronnie Del Carmen           1        8.200000    536181\n",
       "13  nm5256112           Anonymous           1        8.200000     31115\n",
       "14  nm2964327      Christine Cynn           1        8.200000     31115\n",
       "15  nm0070594   Malik Bendjelloul           1        8.200000     58654\n",
       "16  nm0149196   Nuri Bilge Ceylan           3        8.100000     34691\n",
       "17  nm1167933      Damián Szifron           1        8.100000    151123\n",
       "18  nm0000154          Mel Gibson           1        8.100000    366904\n",
       "19  nm3211470       Robert Eggers           2        8.066667    154278\n",
       "20  nm0386246     Rajkumar Hirani           2        8.020000    138012\n",
       "21  nm2612991              Banksy           1        8.000000     58721\n",
       "22  nm1783265          Tim Miller           1        8.000000    820847\n",
       "23  nm1158544          Jared Bush           1        8.000000    383446\n",
       "24  nm0154716     Stephen Chbosky           2        8.000000    422671"
      ]
     },
     "execution_count": 72,
     "metadata": {},
     "output_type": "execute_result"
    }
   ],
   "source": [
    "avg_rating = \"\"\"\n",
    "SELECT person_id , primary_name as Director , COUNT(DISTINCT directors.movie_id) as \"MoviesMade\",  sum(movie_ratings.averagerating) / COUNT(movie_ratings.averagerating) as \"Average Rating\"\n",
    ", movie_ratings.numvotes as numvotes\n",
    "FROM persons\n",
    "JOIN directors \n",
    "  USING (person_id)\n",
    "JOIN movie_basics\n",
    "  USING (movie_id)\n",
    "JOIN movie_ratings\n",
    "  USING (movie_id)\n",
    "GROUP BY person_id \n",
    "HAVING \"Movies Made\" >= 5 AND \"Average Rating\" >= 8 AND numvotes >= 20000\n",
    "ORDER BY \"Average Rating\" DESC\n",
    "\n",
    ";\n",
    "\"\"\"\n",
    "pd.read_sql(avg_rating, conn)"
   ]
  },
  {
   "cell_type": "markdown",
   "metadata": {},
   "source": [
    "\n",
    "\n",
    "# Working with a person outside of our team, I helped Juan Varguez "
   ]
  },
  {
   "cell_type": "markdown",
   "metadata": {},
   "source": [
    "The main activity making his query and how he can solved the problem\n",
    "of the query he was assigned to. The query only requires extra information like the use of the WHERE LIKE %example\n",
    "Also just helped with problems on the Kernel that only was to activate the learn-env"
   ]
  }
 ],
 "metadata": {
  "kernelspec": {
   "display_name": "Python (learn-env)",
   "language": "python",
   "name": "learn-env"
  },
  "language_info": {
   "codemirror_mode": {
    "name": "ipython",
    "version": 3
   },
   "file_extension": ".py",
   "mimetype": "text/x-python",
   "name": "python",
   "nbconvert_exporter": "python",
   "pygments_lexer": "ipython3",
   "version": "3.8.5"
  }
 },
 "nbformat": 4,
 "nbformat_minor": 4
}
