{
 "cells": [
  {
   "cell_type": "markdown",
   "metadata": {},
   "source": [
    "##            🐼 The killer Panda's Capstone Project 🐼"
   ]
  },
  {
   "cell_type": "markdown",
   "metadata": {},
   "source": [
    "# Exploratory data analisys, cleaning, querying  "
   ]
  },
  {
   "cell_type": "markdown",
   "metadata": {},
   "source": [
    "## Introduction\n",
    "Here we are going to explain our code and how we arrived at our results and recommendations to the Computing Vision company.\n",
    "\n",
    "The first dataset we work was the from `tn.movie_budgets.csv` for\n",
    "## Budget/Profit/Earnings"
   ]
  },
  {
   "cell_type": "code",
   "execution_count": null,
   "metadata": {},
   "outputs": [],
   "source": [
    "#First we import the necessary libraries that we need\n",
    "import pandas as pd\n",
    "import sqlite3\n",
    "import matplotlib.pyplot as plt\n",
    "import seaborn\n",
    "\n",
    "tn_budgets = pd.read_csv('data/tn.movie_budgets.csv', index_col=0)\n",
    "\n",
    "#We can make a checkout of the dataset, know their columns and kind of values\n",
    "#Also is useful if we check the information of our dataset\n",
    "#If think you may need see this information, plese uncomment the code below\n",
    "\n",
    "#tn_budgets.info()\n",
    "#tn_budgets.head(10)"
   ]
  },
  {
   "cell_type": "markdown",
   "metadata": {},
   "source": [
    "We can see we do not have missing values, all the type of data is object and we have four columns.\n",
    "As you can see, `production_budget`, `domestic_gross`, `worldwide_gross` are columns for money so we need them in type int, let's make a cleaning delenting the `$ and ,`"
   ]
  },
  {
   "cell_type": "code",
   "execution_count": null,
   "metadata": {},
   "outputs": [],
   "source": [
    "def cleaning(columns):\n",
    "    for x in columns:\n",
    "        tn_budgets[x]=tn_budgets[x].apply(lambda x: x.replace(\",\",\"\").replace(\"$\",\"\"))\n",
    "        tn_budgets[x]=pd.to_numeric(tn_budgets[x])\n",
    "\n",
    "columns =  ['production_budget', 'domestic_gross','worldwide_gross']\n",
    "cleaning(columns)\n",
    "\n",
    "tn_budgets[\"earnings\"]=tn_budgets[\"worldwide_gross\"]-tn_budgets[\"production_budget\"]\n",
    "tn_budgets.sort_values(by=\"earnings\", ascending=False)\n",
    "\n",
    "tn_budgets[\"Profit\"]=(tn_budgets[\"earnings\"]/tn_budgets[\"worldwide_gross\"])*100\n"
   ]
  },
  {
   "cell_type": "markdown",
   "metadata": {},
   "source": [
    "### Ploting with seaborn\n",
    "#### Earning"
   ]
  },
  {
   "cell_type": "code",
   "execution_count": null,
   "metadata": {},
   "outputs": [],
   "source": [
    "tp1=tn_budgets.sort_values(by=\"earnings\", ascending=False).head(10).copy()\n",
    "topten1 = tp1.loc[:,[\"movie\", \"earnings\"]]\n",
    "\n",
    "fig= plt.subplots(figsize=(10, 8))\n",
    "seaborn.barplot(x =\"earnings\", y =\"movie\", data = topten1)\n",
    "plt.title(\"Earning for top 10 movies\")\n",
    "plt.show()"
   ]
  },
  {
   "cell_type": "markdown",
   "metadata": {},
   "source": [
    "#### Profit"
   ]
  },
  {
   "cell_type": "code",
   "execution_count": null,
   "metadata": {},
   "outputs": [],
   "source": [
    "#We also want to see how it see ploting the profit vs the movie\n",
    "tptw=tn_budgets.sort_values(by=\"Profit\", ascending=False).head(20).copy()\n",
    "toptw = tptw.loc[:,[\"movie\", \"Profit\"]]\n",
    "\n",
    "\n",
    "fig= plt.subplots(figsize=(10, 8))\n",
    "seaborn.barplot(x =\"Profit\", y =\"movie\", data = toptw)\n",
    "plt.title(\"Profit for top 20 movies\")\n",
    "plt.show()"
   ]
  },
  {
   "cell_type": "markdown",
   "metadata": {},
   "source": [
    "#### Earning and budget"
   ]
  },
  {
   "cell_type": "code",
   "execution_count": null,
   "metadata": {},
   "outputs": [],
   "source": [
    "tp2 = tp2.sort_values(by=\"earnings\", ascending=False).head(10).copy()\n",
    "topten2 = tp2.loc[:,[\"Movie ID\",\"production_budget\", \"worldwide_gross\"]]\n",
    "\n",
    "MovieID = [\"A\",\"B\",\"C\",\"D\",\"E\",\"F\",\"G\",\"H\",\"I\",\"J\"]\n",
    "tp2[\"Movie ID\"]= MovieID\n",
    "\n",
    "topten2 = topten2.set_index(\"Movie ID\")\n",
    "stopten = topten2.stack().reset_index()\n",
    "stopten.columns = ['Movie ID', 'Gross', 'USD']\n",
    "fig= plt.subplots(figsize=(10, 8))\n",
    "seaborn.barplot(y =\"Movie ID\", x=\"USD\", hue=\"Gross\", data = stopten)\n",
    "plt.title(\"Earning vs budget for top 10 movies\")\n",
    "plt.show()"
   ]
  },
  {
   "cell_type": "markdown",
   "metadata": {},
   "source": [
    "### Genres of the movies"
   ]
  },
  {
   "cell_type": "code",
   "execution_count": null,
   "metadata": {},
   "outputs": [],
   "source": [
    "# DataFrame to explain what is A, B, C etc\n",
    "genres_tp=[\"Action, Adventure, Sci-fi, Fantasy\", \n",
    "           \"Drama\",  \"Action, Sci-fi\",\n",
    "           \"Action, Sci-fi-, Adventure, Fantasy\", \n",
    "           \"Action, Sci-fi-, Thriller, Adventure\",\n",
    "           \"Action, Adventure\", \n",
    "           \"Action, Fantasy, Adventure, Sci-fi\", \n",
    "           \"Adventure, Fantasy, Mystery, Drama\",\n",
    "           \"Action, Fantasy, Adventure, Sci-fi\", \n",
    "           \"Action, Adventure, Sci-Fi\"]\n",
    "\n",
    "director_tp=[\"James Cameron\", \"James Cameron\", \n",
    "             \"Anthony Russo, Joe Russo\", \n",
    "             \"J.J. Abrams\", \"Colin Trevorrow\",\n",
    "             \"James Wan\", \"Joss Whedon\", \"David Yates\", \n",
    "             \"Ryan Coogler\", \"J.A. Bayona\"]\n",
    "\n",
    "title = list(tp2[\"movie\"])\n",
    "\n",
    "ID_df=pd.DataFrame(zip(MovieID,title,genres_tp, director_tp), columns = [\"MovieID\", \"Title\", \"Genre\", \"Director\"])\n",
    "ID_df.set_index(\"MovieID\")"
   ]
  },
  {
   "cell_type": "markdown",
   "metadata": {},
   "source": [
    "## Best movie Category based on Rating and Number of votes"
   ]
  },
  {
   "cell_type": "code",
   "execution_count": null,
   "metadata": {},
   "outputs": [],
   "source": [
    "conn = sqlite3.connect('data/im.db')\n",
    "pd.read_sql(\"\"\"\n",
    "SELECT movie_basics.genres AS Category,\n",
    "       movie_ratings.averagerating AS Rating,\n",
    "       movie_ratings.numvotes as NumberVotes       \n",
    "FROM movie_basics  \n",
    "INNER JOIN movie_ratings ON \n",
    "           movie_basics.movie_id = movie_ratings.movie_id  \n",
    "  WHERE movie_ratings.numvotes >= 900000 \n",
    "  AND movie_ratings.averagerating >= 8.1\n",
    "  GROUP BY movie_basics.genres \n",
    "  ORDER BY Rating  DESC  \n",
    "  ;\"\"\", conn)"
   ]
  }
 ],
 "metadata": {
  "kernelspec": {
   "display_name": "Python (learn-env)",
   "language": "python",
   "name": "learn-env"
  },
  "language_info": {
   "codemirror_mode": {
    "name": "ipython",
    "version": 3
   },
   "file_extension": ".py",
   "mimetype": "text/x-python",
   "name": "python",
   "nbconvert_exporter": "python",
   "pygments_lexer": "ipython3",
   "version": "3.8.5"
  }
 },
 "nbformat": 4,
 "nbformat_minor": 4
}
