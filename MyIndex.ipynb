{
 "cells": [
  {
   "cell_type": "markdown",
   "metadata": {},
   "source": [
    "\n",
    "\n",
    "##            🐼 The killer Panda's Capstone Project 🐼\n"
   ]
  },
  {
   "cell_type": "markdown",
   "metadata": {},
   "source": [
    "#  💸💲Budget/Gross/Profit 💸💲\n",
    "\n",
    "The first dataset we work was the from `tn.movie_budgets.csv`, let's import all the libraries we will need"
   ]
  },
  {
   "cell_type": "code",
   "execution_count": null,
   "metadata": {},
   "outputs": [],
   "source": [
    "import pandas as pd\n",
    "import sqlite3\n",
    "import matplotlib.pyplot as plt\n",
    "import seaborn \n",
    "import numpy as np\n",
    "from scipy import stats\n",
    "\n",
    "tn_budgets = pd.read_csv('data/tn.movie_budgets.csv', index_col=0)\n",
    "\n",
    "#We can make a checkout of the dataset, know their columns and kind of values\n",
    "#Also is useful if we check the information of our dataset\n",
    "#If think you may need see this information, plese uncomment the code below\n",
    "\n",
    "#tn_budgets.info()\n",
    "#tn_budgets.head(10)"
   ]
  },
  {
   "cell_type": "markdown",
   "metadata": {},
   "source": [
    "We can see we do not have missing values, all the type of data is object and we have four columns.\n",
    "As you can see, `production_budget`, `domestic_gross`, `worldwide_gross` are columns for money so we need them in type int, let's make a cleaning delenting the `$ and ,`"
   ]
  },
  {
   "cell_type": "code",
   "execution_count": null,
   "metadata": {},
   "outputs": [],
   "source": [
    "'''\n",
    "We made this funtion to clear all the columns just calling it, in order to reuse it \n",
    "we also set as argument a list call columns, if we had another data ser we couls call\n",
    "the funtion and specify the columns we want to transform\n",
    "'''\n",
    "def cleaning(columns):\n",
    "    for x in columns:\n",
    "        # This part clean the symbols $ and , by replacing them with \"nothing\"\n",
    "        tn_budgets[x]=tn_budgets[x].apply(lambda x: x.replace(\",\",\"\").replace(\"$\",\"\"))\n",
    "        # ecause of the type of this rows and columns and in order we \n",
    "        # want to make some calculation it is needed to transform them to numeric\n",
    "        tn_budgets[x]=pd.to_numeric(tn_budgets[x])\n",
    "\n",
    "#The columns we want to clean are save them in a list\n",
    "columns =  ['production_budget', 'domestic_gross','worldwide_gross']\n",
    "\n",
    "#Call the funtion, and now all the columns are in good formart! :D\n",
    "cleaning(columns)\n",
    "\n",
    "#Now we want to add a column call \"earnings\"\n",
    "tn_budgets[\"earnings\"]=tn_budgets[\"worldwide_gross\"]-tn_budgets[\"production_budget\"]\n",
    "\n",
    "#As well as a column called \"Profit\"\n",
    "tn_budgets[\"Profit\"]=(tn_budgets[\"earnings\"]/tn_budgets[\"worldwide_gross\"])*100\n"
   ]
  },
  {
   "cell_type": "markdown",
   "metadata": {},
   "source": [
    "### Ploting with seaborn\n",
    "\n",
    "We have the new columns and the cleaning have been applied to all the data, but for a preview we only want to see the top ten movie sorted with more earnings\n",
    "\n",
    "#### Earning"
   ]
  },
  {
   "cell_type": "code",
   "execution_count": null,
   "metadata": {},
   "outputs": [],
   "source": [
    "# Making a copy with the first 10 movies, you can use more than only 10 elemnts :D\n",
    "tp1=tn_budgets.sort_values(by=\"earnings\", ascending=False).head(10).copy()\n",
    "\n",
    "#Making a new dataframe with only the required columns\n",
    "topten1 = tp1.loc[:,[\"movie\", \"earnings\"]]\n",
    "\n",
    "fig= plt.subplots(figsize=(10, 8))\n",
    "\n",
    "##We decide to use seaborn and the bar kind\n",
    "seaborn.barplot(x =\"earnings\", y =\"movie\", data = topten1)\n",
    "plt.title(\"Earning for top 10 movies\")\n",
    "plt.show()"
   ]
  },
  {
   "cell_type": "markdown",
   "metadata": {},
   "source": [
    "#### Profit"
   ]
  },
  {
   "cell_type": "code",
   "execution_count": null,
   "metadata": {},
   "outputs": [],
   "source": [
    "#We also want to see how it sees ploting the profit vs the movie\n",
    "tptw=tn_budgets.sort_values(by=\"Profit\", ascending=False).head(20).copy()\n",
    "\n",
    "#Repeat the process for new columns\n",
    "toptw = tptw.loc[:,[\"movie\", \"Profit\"]]\n",
    "\n",
    "\n",
    "fig= plt.subplots(figsize=(10, 8))\n",
    "seaborn.barplot(x =\"Profit\", y =\"movie\", data = toptw)\n",
    "plt.title(\"Profit for top 20 movies\")\n",
    "plt.show()"
   ]
  },
  {
   "cell_type": "markdown",
   "metadata": {},
   "source": [
    "#### Earning and budget\n",
    "\n",
    "Exploring other options for the plotting. The movie's name are large, let's try to use an ID, crating a list with the IDs.\n",
    "\n",
    "* How to use the method stack and how it works for seaborn by <a href=\"https://stackoverflow.com/users/1494637/stefan\">Stefan</a> \n",
    "on <a href=\"https://stackoverflow.com/questions/37174715/using-seaborn-barplot-to-plot-wide-form-dataframes\">Stack**overflow**</a>\n"
   ]
  },
  {
   "cell_type": "code",
   "execution_count": null,
   "metadata": {},
   "outputs": [],
   "source": [
    "MovieID = [\"A\",\"B\",\"C\",\"D\",\"E\",\"F\",\"G\",\"H\",\"I\",\"J\"]\n",
    "tp2 = tp1\n",
    "\n",
    "#adding the IDs to the dataframe\n",
    "tp2[\"Movie ID\"]= MovieID\n",
    "topten2 = tp2.loc[:,[\"Movie ID\",\"production_budget\", \"worldwide_gross\"]]\n",
    "\n",
    "#For this plot we want to plot two values for each movie, so in order to do that we need the \"hue\" expression\n",
    "#In this expression the two values join \n",
    "\n",
    "#First let's set the ID columns as the index\n",
    "topten2 = topten2.set_index(\"Movie ID\")\n",
    "\n",
    "#In order to use \"hue\" we need to chage the structure of the datafram with .stack()\n",
    "stopten = topten2.stack().reset_index()\n",
    "\n",
    "#Settin the columns to the new structured dataframe\n",
    "stopten.columns = ['Movie ID', 'Gross', 'USD']\n",
    "\n",
    "fig= plt.subplots(figsize=(10, 8))\n",
    "seaborn.barplot(y =\"Movie ID\", x=\"USD\", hue=\"Gross\", data = stopten)\n",
    "plt.title(\"Earning vs budget for top 10 movies\")\n",
    "plt.show()"
   ]
  },
  {
   "cell_type": "markdown",
   "metadata": {},
   "source": [
    "#### Genres of the movies\n",
    "\n",
    "For the plot above we have the graph but we do not know what is A or B, etc, let's make a new DataFarame which include the name of the movie as well as the director and their categorie, this information was gathered from the `im.db`"
   ]
  },
  {
   "cell_type": "code",
   "execution_count": null,
   "metadata": {},
   "outputs": [],
   "source": [
    "# DataFrame to explain what is A, B, C etc\n",
    "#First a list with the genres and then the list for directors\n",
    "genres_tp=[\"Action, Adventure, Sci-fi, Fantasy\", \n",
    "           \"Drama\",  \"Action, Sci-fi\",\n",
    "           \"Action, Sci-fi-, Adventure, Fantasy\", \n",
    "           \"Action, Sci-fi-, Thriller, Adventure\",\n",
    "           \"Action, Adventure\", \n",
    "           \"Action, Fantasy, Adventure, Sci-fi\", \n",
    "           \"Adventure, Fantasy, Mystery, Drama\",\n",
    "           \"Action, Fantasy, Adventure, Sci-fi\", \n",
    "           \"Action, Adventure, Sci-Fi\"]\n",
    "\n",
    "director_tp=[\"James Cameron\", \"James Cameron\", \n",
    "             \"Anthony Russo, Joe Russo\", \n",
    "             \"J.J. Abrams\", \"Colin Trevorrow\",\n",
    "             \"James Wan\", \"Joss Whedon\", \"David Yates\", \n",
    "             \"Ryan Coogler\", \"J.A. Bayona\"]\n",
    "\n",
    "#Gather the movie's name list from the previos Df\n",
    "title = list(tp2[\"movie\"])\n",
    "\n",
    "#Creating the new Df using .zip()\n",
    "ID_df=pd.DataFrame(zip(MovieID,title,genres_tp, director_tp), \n",
    "                   columns = [\"MovieID\", \"Title\", \"Genre\", \"Director\"])\n",
    "ID_df.set_index(\"MovieID\")"
   ]
  },
  {
   "cell_type": "markdown",
   "metadata": {},
   "source": [
    "Now a new table for only the MovieID and the Genre"
   ]
  },
  {
   "cell_type": "code",
   "execution_count": null,
   "metadata": {},
   "outputs": [],
   "source": [
    "AB_df=pd.DataFrame(zip(MovieID,genres_tp), columns = [\"MovieID\", \"Genre\"])\n",
    "AB_df.set_index(\"MovieID\")"
   ]
  },
  {
   "cell_type": "markdown",
   "metadata": {},
   "source": [
    "### Plotting whit matplotlib\n",
    "\n",
    "We also want to see how it sees the plot in matplotlib"
   ]
  },
  {
   "cell_type": "code",
   "execution_count": null,
   "metadata": {},
   "outputs": [],
   "source": [
    "topten = tp1.loc[:,[\"movie\", \"earnings\", \"production_budget\"]]\n",
    "topten.plot.bar(figsize=(15,7))\n",
    "plt.xticks(rotation=67)\n",
    "plt.xlabel('Movie')\n",
    "plt.ylabel('MOney')\n",
    "plt.title('Budget for each movie')"
   ]
  },
  {
   "cell_type": "markdown",
   "metadata": {},
   "source": [
    "#  📈 Statistical insights📈"
   ]
  },
  {
   "cell_type": "markdown",
   "metadata": {},
   "source": [
    "For this analysis we use the `im.db` database, so let's start for load the data"
   ]
  },
  {
   "cell_type": "code",
   "execution_count": null,
   "metadata": {},
   "outputs": [],
   "source": [
    "conn = sqlite3.connect('data/im.db')\n",
    "cur = conn.cursor()"
   ]
  },
  {
   "cell_type": "markdown",
   "metadata": {},
   "source": [
    "Now, our first query is for the poblation, so we do not want null values, lets exclude them. In reference to:"
   ]
  },
  {
   "cell_type": "markdown",
   "metadata": {},
   "source": [
    "![erd-im](https://github.com/PaolaMalagon/dsc-ai-academy-semester1-capstone/blob/main/movie_data_erd.jpeg?raw=true)"
   ]
  },
  {
   "cell_type": "markdown",
   "metadata": {},
   "source": [
    "We could know what table join and what is the key"
   ]
  },
  {
   "cell_type": "code",
   "execution_count": null,
   "metadata": {},
   "outputs": [],
   "source": [
    "prueba= pd.read_sql(\"\"\"\n",
    "SELECT \n",
    "    mb.runtime_minutes, mr.numvotes, \n",
    "    mr.averagerating,  mb.original_title, mb.genres\n",
    "  FROM \n",
    "      movie_basics mb\n",
    "  JOIN \n",
    "      movie_ratings mr USING(movie_id) \n",
    "  WHERE \n",
    "      mb.runtime_minutes AND mb.genres IS NOT Null \n",
    "  ;\n",
    "\"\"\", conn)\n",
    "#prueba.info()"
   ]
  },
  {
   "cell_type": "markdown",
   "metadata": {},
   "source": [
    "Ok, now we are sure we have no null values in the columns of our interest, also we can confirm by putting \n",
    "`prueba.info()` because it load as a dataframe, but maybe we have outlier, so in order to check that we can see the sactter between the `numvotes` and `runtime`"
   ]
  },
  {
   "cell_type": "code",
   "execution_count": null,
   "metadata": {},
   "outputs": [],
   "source": [
    "#In order to see the correlation we need the columns of runtime and votes as lists, so let's assing each to a new variables\n",
    "prueba_run=list(prueba[\"runtime_minutes\"])\n",
    "prueba_numv=list(prueba[\"numvotes\"])\n",
    "\n",
    "\n",
    "fig, ax = plt.subplots()\n",
    "#We use the method scatter\n",
    "ax.scatter(prueba_run, prueba_numv)\n",
    "\n",
    "#Setting labels and title\n",
    "ax.set_title(\"Looking outlier\")\n",
    "ax.set_xlabel(\"Runtime\")\n",
    "ax.set_ylabel(\"Number of votes\")"
   ]
  },
  {
   "cell_type": "markdown",
   "metadata": {},
   "source": [
    "We can see there is outliers in our data in runtime as well as in Number of votes, according to `prueba.info()`we have 65720 rows, so we actually do not need this data, let's exclude them in our query, in the chart below we can have and idea of this limits.\n",
    "\n",
    "## Poblation"
   ]
  },
  {
   "cell_type": "code",
   "execution_count": null,
   "metadata": {},
   "outputs": [],
   "source": [
    "poblation= pd.read_sql(\"\"\"\n",
    "SELECT \n",
    "    mb.runtime_minutes, mr.numvotes, \n",
    "    mr.averagerating,  mb.original_title, mb.genres\n",
    "  FROM \n",
    "      movie_basics mb\n",
    "  JOIN \n",
    "      movie_ratings mr USING(movie_id) \n",
    "  WHERE \n",
    "      mb.runtime_minutes AND mb.genres IS NOT Null\n",
    "  AND \n",
    "      mr.numvotes < 948394\n",
    "  AND \n",
    "      mb.runtime_minutes < 600\n",
    "  ORDER \n",
    "      BY mr.numvotes DESC\n",
    "  ;\"\"\", conn)"
   ]
  },
  {
   "cell_type": "markdown",
   "metadata": {},
   "source": [
    "Let's confirm we do not have outliers anymore"
   ]
  },
  {
   "cell_type": "code",
   "execution_count": null,
   "metadata": {},
   "outputs": [],
   "source": [
    "sc_p_run=list(poblation[\"runtime_minutes\"])\n",
    "sc_p_nv=list(poblation[\"numvotes\"])\n",
    "\n",
    "\n",
    "fig, ax = plt.subplots()\n",
    "#We use the method scatter\n",
    "ax.scatter(sc_p_run, sc_p_nv)\n",
    "\n",
    "#Setting labels and title\n",
    "ax.set_title(\"Looking outlier\")\n",
    "ax.set_xlabel(\"Runtime\")\n",
    "ax.set_ylabel(\"Number of votes\")"
   ]
  },
  {
   "cell_type": "markdown",
   "metadata": {},
   "source": [
    "Ok, this data is cotinuos now :D, let's set our sample:\n",
    "## Sample\n",
    "For this query we want to set the proposed interval of time 90-130 minutes"
   ]
  },
  {
   "cell_type": "code",
   "execution_count": null,
   "metadata": {},
   "outputs": [],
   "source": [
    "condition= pd.read_sql(\"\"\"\n",
    "SELECT \n",
    "    mb.runtime_minutes, \n",
    "    mr.numvotes, mr.averagerating\n",
    "FROM\n",
    "    movie_basics mb\n",
    "JOIN \n",
    "    movie_ratings mr USING(movie_id) \n",
    "WHERE \n",
    "    mb.runtime_minutes \n",
    "AND \n",
    "    mb.genres IS NOT Null \n",
    "AND \n",
    "    mb.runtime_minutes < 130 \n",
    "AND\n",
    "    mb.runtime_minutes > 90\n",
    "AND \n",
    "    mr.numvotes < 948394\n",
    "ORDER BY \n",
    "    mb.runtime_minutes DESC\n",
    "  ;\n",
    "\"\"\", conn)"
   ]
  },
  {
   "cell_type": "markdown",
   "metadata": {},
   "source": [
    "But this is not our actual sample because in order to be a sample we need to choose random data from `condition`"
   ]
  },
  {
   "cell_type": "code",
   "execution_count": null,
   "metadata": {},
   "outputs": [],
   "source": [
    "sample1=condition.sample(650)"
   ]
  },
  {
   "cell_type": "markdown",
   "metadata": {},
   "source": [
    "Ok, now let's set our hypothesis:\n",
    "* **$H_a$** :\tThe mean of the number of votes when a movie has a runtime \tbetween 90 and 130 is significantly bigger than the mean of all the \tmovies in our dataset.\n",
    "* **$H_0$** :\tThere is no significantly difference between the sample mean and \tthe poblation mean.\n",
    "* **$\\alpha$** = 0.05."
   ]
  },
  {
   "cell_type": "markdown",
   "metadata": {},
   "source": [
    "## Z-score\n",
    "We can know the mean and standard desviation of our poblation and sample, let's get them"
   ]
  },
  {
   "cell_type": "code",
   "execution_count": null,
   "metadata": {},
   "outputs": [],
   "source": [
    "#In advance we can see the basics for our sample and poblation\n",
    "poblation.describe(), sample1.describe()"
   ]
  },
  {
   "cell_type": "code",
   "execution_count": null,
   "metadata": {},
   "outputs": [],
   "source": [
    "#For the pupulation\n",
    "p_mean=poblation[\"numvotes\"].mean()\n",
    "p_std=poblation[\"numvotes\"].std()\n",
    "\n",
    "#For the sample\n",
    "s_mean=sample1[\"numvotes\"].mean()\n",
    "s_std=sample1[\"numvotes\"].std()\n",
    "\n",
    "#Z equation\n",
    "z = (s_mean - p_mean)/(p_std/np.sqrt(650))\n",
    "\n",
    "#P-value:\n",
    "#Positive z\n",
    "p_value=1 - stats.norm.cdf(z)\n",
    "\n",
    "#Negative z\n",
    "#p_value=1 - stats.norm.cdf(z)\n",
    "\n",
    "print(\"Z is equal to: \" + str(z) + \"\\n And p-value: \" +str(p_value) )"
   ]
  },
  {
   "cell_type": "markdown",
   "metadata": {},
   "source": [
    "With this **P-value** we was able to reject the Null Hypothesis and we can conclude if the movie has a runtime between 90 and 130 minutes will get bigger number of votes."
   ]
  },
  {
   "cell_type": "code",
   "execution_count": null,
   "metadata": {},
   "outputs": [],
   "source": []
  }
 ],
 "metadata": {
  "kernelspec": {
   "display_name": "Python (learn-env)",
   "language": "python",
   "name": "learn-env"
  },
  "language_info": {
   "codemirror_mode": {
    "name": "ipython",
    "version": 3
   },
   "file_extension": ".py",
   "mimetype": "text/x-python",
   "name": "python",
   "nbconvert_exporter": "python",
   "pygments_lexer": "ipython3",
   "version": "3.8.5"
  }
 },
 "nbformat": 4,
 "nbformat_minor": 4
}
