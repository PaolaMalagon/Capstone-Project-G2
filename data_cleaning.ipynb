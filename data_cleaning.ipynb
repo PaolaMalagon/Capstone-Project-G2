{
 "cells": [
  {
   "cell_type": "code",
   "execution_count": 6,
   "id": "2003a53c",
   "metadata": {},
   "outputs": [],
   "source": [
    "import pandas as pd"
   ]
  },
  {
   "cell_type": "code",
   "execution_count": 7,
   "id": "207b0fe8",
   "metadata": {},
   "outputs": [
    {
     "data": {
      "text/html": [
       "<div>\n",
       "<style scoped>\n",
       "    .dataframe tbody tr th:only-of-type {\n",
       "        vertical-align: middle;\n",
       "    }\n",
       "\n",
       "    .dataframe tbody tr th {\n",
       "        vertical-align: top;\n",
       "    }\n",
       "\n",
       "    .dataframe thead th {\n",
       "        text-align: right;\n",
       "    }\n",
       "</style>\n",
       "<table border=\"1\" class=\"dataframe\">\n",
       "  <thead>\n",
       "    <tr style=\"text-align: right;\">\n",
       "      <th></th>\n",
       "      <th>release_date</th>\n",
       "      <th>movie</th>\n",
       "      <th>production_budget</th>\n",
       "      <th>domestic_gross</th>\n",
       "      <th>worldwide_gross</th>\n",
       "    </tr>\n",
       "    <tr>\n",
       "      <th>id</th>\n",
       "      <th></th>\n",
       "      <th></th>\n",
       "      <th></th>\n",
       "      <th></th>\n",
       "      <th></th>\n",
       "    </tr>\n",
       "  </thead>\n",
       "  <tbody>\n",
       "    <tr>\n",
       "      <th>1</th>\n",
       "      <td>Dec 18, 2009</td>\n",
       "      <td>Avatar</td>\n",
       "      <td>$425,000,000</td>\n",
       "      <td>$760,507,625</td>\n",
       "      <td>$2,776,345,279</td>\n",
       "    </tr>\n",
       "    <tr>\n",
       "      <th>2</th>\n",
       "      <td>May 20, 2011</td>\n",
       "      <td>Pirates of the Caribbean: On Stranger Tides</td>\n",
       "      <td>$410,600,000</td>\n",
       "      <td>$241,063,875</td>\n",
       "      <td>$1,045,663,875</td>\n",
       "    </tr>\n",
       "    <tr>\n",
       "      <th>3</th>\n",
       "      <td>Jun 7, 2019</td>\n",
       "      <td>Dark Phoenix</td>\n",
       "      <td>$350,000,000</td>\n",
       "      <td>$42,762,350</td>\n",
       "      <td>$149,762,350</td>\n",
       "    </tr>\n",
       "    <tr>\n",
       "      <th>4</th>\n",
       "      <td>May 1, 2015</td>\n",
       "      <td>Avengers: Age of Ultron</td>\n",
       "      <td>$330,600,000</td>\n",
       "      <td>$459,005,868</td>\n",
       "      <td>$1,403,013,963</td>\n",
       "    </tr>\n",
       "    <tr>\n",
       "      <th>5</th>\n",
       "      <td>Dec 15, 2017</td>\n",
       "      <td>Star Wars Ep. VIII: The Last Jedi</td>\n",
       "      <td>$317,000,000</td>\n",
       "      <td>$620,181,382</td>\n",
       "      <td>$1,316,721,747</td>\n",
       "    </tr>\n",
       "    <tr>\n",
       "      <th>6</th>\n",
       "      <td>Dec 18, 2015</td>\n",
       "      <td>Star Wars Ep. VII: The Force Awakens</td>\n",
       "      <td>$306,000,000</td>\n",
       "      <td>$936,662,225</td>\n",
       "      <td>$2,053,311,220</td>\n",
       "    </tr>\n",
       "    <tr>\n",
       "      <th>7</th>\n",
       "      <td>Apr 27, 2018</td>\n",
       "      <td>Avengers: Infinity War</td>\n",
       "      <td>$300,000,000</td>\n",
       "      <td>$678,815,482</td>\n",
       "      <td>$2,048,134,200</td>\n",
       "    </tr>\n",
       "    <tr>\n",
       "      <th>8</th>\n",
       "      <td>May 24, 2007</td>\n",
       "      <td>Pirates of the Caribbean: At Worldâs End</td>\n",
       "      <td>$300,000,000</td>\n",
       "      <td>$309,420,425</td>\n",
       "      <td>$963,420,425</td>\n",
       "    </tr>\n",
       "    <tr>\n",
       "      <th>9</th>\n",
       "      <td>Nov 17, 2017</td>\n",
       "      <td>Justice League</td>\n",
       "      <td>$300,000,000</td>\n",
       "      <td>$229,024,295</td>\n",
       "      <td>$655,945,209</td>\n",
       "    </tr>\n",
       "    <tr>\n",
       "      <th>10</th>\n",
       "      <td>Nov 6, 2015</td>\n",
       "      <td>Spectre</td>\n",
       "      <td>$300,000,000</td>\n",
       "      <td>$200,074,175</td>\n",
       "      <td>$879,620,923</td>\n",
       "    </tr>\n",
       "  </tbody>\n",
       "</table>\n",
       "</div>"
      ],
      "text/plain": [
       "    release_date                                        movie  \\\n",
       "id                                                              \n",
       "1   Dec 18, 2009                                       Avatar   \n",
       "2   May 20, 2011  Pirates of the Caribbean: On Stranger Tides   \n",
       "3    Jun 7, 2019                                 Dark Phoenix   \n",
       "4    May 1, 2015                      Avengers: Age of Ultron   \n",
       "5   Dec 15, 2017            Star Wars Ep. VIII: The Last Jedi   \n",
       "6   Dec 18, 2015         Star Wars Ep. VII: The Force Awakens   \n",
       "7   Apr 27, 2018                       Avengers: Infinity War   \n",
       "8   May 24, 2007   Pirates of the Caribbean: At Worldâs End   \n",
       "9   Nov 17, 2017                               Justice League   \n",
       "10   Nov 6, 2015                                      Spectre   \n",
       "\n",
       "   production_budget domestic_gross worldwide_gross  \n",
       "id                                                   \n",
       "1       $425,000,000   $760,507,625  $2,776,345,279  \n",
       "2       $410,600,000   $241,063,875  $1,045,663,875  \n",
       "3       $350,000,000    $42,762,350    $149,762,350  \n",
       "4       $330,600,000   $459,005,868  $1,403,013,963  \n",
       "5       $317,000,000   $620,181,382  $1,316,721,747  \n",
       "6       $306,000,000   $936,662,225  $2,053,311,220  \n",
       "7       $300,000,000   $678,815,482  $2,048,134,200  \n",
       "8       $300,000,000   $309,420,425    $963,420,425  \n",
       "9       $300,000,000   $229,024,295    $655,945,209  \n",
       "10      $300,000,000   $200,074,175    $879,620,923  "
      ]
     },
     "execution_count": 7,
     "metadata": {},
     "output_type": "execute_result"
    }
   ],
   "source": [
    "df2 = pd.read_csv('data/tn.movie_budgets.csv.gz', index_col=0)\n",
    "df2.head(10)"
   ]
  },
  {
   "cell_type": "code",
   "execution_count": 195,
   "id": "21c33892",
   "metadata": {},
   "outputs": [],
   "source": [
    "#df3=df2['domestic_gross'].str.extract('$,')\n",
    "#i=[\"$\",\",\"]\n",
    "#df2[\"domestic_gross\"]=df2[\"domestic_gross\"].apply(lambda x: x.replace(i,\"\"))"
   ]
  },
  {
   "cell_type": "code",
   "execution_count": 8,
   "id": "41051d71",
   "metadata": {},
   "outputs": [],
   "source": [
    "# Deleting simbols\n",
    "i=[\"$\",\",\"]\n",
    "for a in i:\n",
    "    df2[\"domestic_gross\"]=df2[\"domestic_gross\"].apply(lambda x: x.replace(a,\"\"))\n",
    "#df2[\"domestic_gross\"]=df2[\"domestic_gross\"].apply(lambda x: x.replace(\",\",\"\").replace(\"$\",\"\"))"
   ]
  },
  {
   "cell_type": "code",
   "execution_count": 9,
   "id": "e54cfb2f",
   "metadata": {},
   "outputs": [],
   "source": [
    "# Converting to int\n",
    "df2[\"domestic_gross\"]=pd.to_numeric(df2['domestic_gross'])"
   ]
  },
  {
   "cell_type": "code",
   "execution_count": 10,
   "id": "53931bb5",
   "metadata": {},
   "outputs": [
    {
     "data": {
      "text/plain": [
       "id\n",
       "6     936662225\n",
       "1     760507625\n",
       "42    700059566\n",
       "7     678815482\n",
       "43    659363944\n",
       "34    652270625\n",
       "27    623279547\n",
       "5     620181382\n",
       "44    608581744\n",
       "75    533720947\n",
       "Name: domestic_gross, dtype: int64"
      ]
     },
     "execution_count": 10,
     "metadata": {},
     "output_type": "execute_result"
    }
   ],
   "source": [
    "# Sorting data\n",
    "df2['domestic_gross'].sort_values(ascending=False).head(10)"
   ]
  },
  {
   "cell_type": "code",
   "execution_count": 36,
   "id": "193ea10f",
   "metadata": {},
   "outputs": [],
   "source": [
    "# function to clean column\n",
    "def clean_order (column):\n",
    "    column=column.apply(lambda x: x.replace(\",\",\"\").replace(\"$\",\"\"))\n",
    "    column=pd.to_numeric(column)\n",
    "    column.sort_values(ascending=False).head(10)\n",
    "    "
   ]
  },
  {
   "cell_type": "code",
   "execution_count": 37,
   "id": "c4523c5c",
   "metadata": {},
   "outputs": [],
   "source": [
    "clean_order (df2['domestic_gross'])"
   ]
  },
  {
   "cell_type": "code",
   "execution_count": 38,
   "id": "276579dd",
   "metadata": {},
   "outputs": [
    {
     "data": {
      "text/html": [
       "<div>\n",
       "<style scoped>\n",
       "    .dataframe tbody tr th:only-of-type {\n",
       "        vertical-align: middle;\n",
       "    }\n",
       "\n",
       "    .dataframe tbody tr th {\n",
       "        vertical-align: top;\n",
       "    }\n",
       "\n",
       "    .dataframe thead th {\n",
       "        text-align: right;\n",
       "    }\n",
       "</style>\n",
       "<table border=\"1\" class=\"dataframe\">\n",
       "  <thead>\n",
       "    <tr style=\"text-align: right;\">\n",
       "      <th></th>\n",
       "      <th>movie</th>\n",
       "      <th>domestic_gross</th>\n",
       "      <th>worldwide_gross</th>\n",
       "    </tr>\n",
       "    <tr>\n",
       "      <th>id</th>\n",
       "      <th></th>\n",
       "      <th></th>\n",
       "      <th></th>\n",
       "    </tr>\n",
       "  </thead>\n",
       "  <tbody>\n",
       "    <tr>\n",
       "      <th>12</th>\n",
       "      <td>AstÃ©rix aux Jeux Olympiques</td>\n",
       "      <td>$999,811</td>\n",
       "      <td>$132,999,811</td>\n",
       "    </tr>\n",
       "    <tr>\n",
       "      <th>6</th>\n",
       "      <td>Gnomeo and Juliet</td>\n",
       "      <td>$99,967,670</td>\n",
       "      <td>$193,737,977</td>\n",
       "    </tr>\n",
       "    <tr>\n",
       "      <th>43</th>\n",
       "      <td>Christopher Robin</td>\n",
       "      <td>$99,215,042</td>\n",
       "      <td>$197,504,758</td>\n",
       "    </tr>\n",
       "    <tr>\n",
       "      <th>74</th>\n",
       "      <td>Desert Blue</td>\n",
       "      <td>$99,147</td>\n",
       "      <td>$99,147</td>\n",
       "    </tr>\n",
       "    <tr>\n",
       "      <th>8</th>\n",
       "      <td>Hercules</td>\n",
       "      <td>$99,112,101</td>\n",
       "      <td>$250,700,000</td>\n",
       "    </tr>\n",
       "    <tr>\n",
       "      <th>43</th>\n",
       "      <td>Twin Falls Idaho</td>\n",
       "      <td>$985,341</td>\n",
       "      <td>$1,027,228</td>\n",
       "    </tr>\n",
       "    <tr>\n",
       "      <th>9</th>\n",
       "      <td>Olympus Has Fallen</td>\n",
       "      <td>$98,927,592</td>\n",
       "      <td>$172,878,928</td>\n",
       "    </tr>\n",
       "    <tr>\n",
       "      <th>4</th>\n",
       "      <td>Heaven Can Wait</td>\n",
       "      <td>$98,800,000</td>\n",
       "      <td>$98,800,000</td>\n",
       "    </tr>\n",
       "    <tr>\n",
       "      <th>29</th>\n",
       "      <td>The Green Hornet</td>\n",
       "      <td>$98,780,042</td>\n",
       "      <td>$229,155,503</td>\n",
       "    </tr>\n",
       "    <tr>\n",
       "      <th>99</th>\n",
       "      <td>Date Night</td>\n",
       "      <td>$98,711,404</td>\n",
       "      <td>$152,269,033</td>\n",
       "    </tr>\n",
       "  </tbody>\n",
       "</table>\n",
       "</div>"
      ],
      "text/plain": [
       "                           movie domestic_gross worldwide_gross\n",
       "id                                                             \n",
       "12  AstÃ©rix aux Jeux Olympiques       $999,811    $132,999,811\n",
       "6              Gnomeo and Juliet    $99,967,670    $193,737,977\n",
       "43             Christopher Robin    $99,215,042    $197,504,758\n",
       "74                   Desert Blue        $99,147         $99,147\n",
       "8                       Hercules    $99,112,101    $250,700,000\n",
       "43              Twin Falls Idaho       $985,341      $1,027,228\n",
       "9             Olympus Has Fallen    $98,927,592    $172,878,928\n",
       "4                Heaven Can Wait    $98,800,000     $98,800,000\n",
       "29              The Green Hornet    $98,780,042    $229,155,503\n",
       "99                    Date Night    $98,711,404    $152,269,033"
      ]
     },
     "execution_count": 38,
     "metadata": {},
     "output_type": "execute_result"
    }
   ],
   "source": [
    "df2[['movie','domestic_gross','worldwide_gross']].sort_values(by='domestic_gross',ascending=False).head(10)"
   ]
  },
  {
   "cell_type": "code",
   "execution_count": 27,
   "id": "cd9e6829",
   "metadata": {},
   "outputs": [
    {
     "data": {
      "text/html": [
       "<div>\n",
       "<style scoped>\n",
       "    .dataframe tbody tr th:only-of-type {\n",
       "        vertical-align: middle;\n",
       "    }\n",
       "\n",
       "    .dataframe tbody tr th {\n",
       "        vertical-align: top;\n",
       "    }\n",
       "\n",
       "    .dataframe thead th {\n",
       "        text-align: right;\n",
       "    }\n",
       "</style>\n",
       "<table border=\"1\" class=\"dataframe\">\n",
       "  <thead>\n",
       "    <tr style=\"text-align: right;\">\n",
       "      <th></th>\n",
       "      <th>movie</th>\n",
       "    </tr>\n",
       "    <tr>\n",
       "      <th>id</th>\n",
       "      <th></th>\n",
       "    </tr>\n",
       "  </thead>\n",
       "  <tbody>\n",
       "    <tr>\n",
       "      <th>1</th>\n",
       "      <td>Avatar</td>\n",
       "    </tr>\n",
       "    <tr>\n",
       "      <th>6</th>\n",
       "      <td>Star Wars Ep. VII: The Force Awakens</td>\n",
       "    </tr>\n",
       "    <tr>\n",
       "      <th>42</th>\n",
       "      <td>Black Panther</td>\n",
       "    </tr>\n",
       "  </tbody>\n",
       "</table>\n",
       "</div>"
      ],
      "text/plain": [
       "                                   movie\n",
       "id                                      \n",
       "1                                 Avatar\n",
       "6   Star Wars Ep. VII: The Force Awakens\n",
       "42                         Black Panther"
      ]
     },
     "execution_count": 27,
     "metadata": {},
     "output_type": "execute_result"
    }
   ],
   "source": [
    "df2.loc[df2['domestic_gross'] > 678815482, [\"movie\"]]"
   ]
  },
  {
   "cell_type": "code",
   "execution_count": 31,
   "id": "99d72eaf",
   "metadata": {},
   "outputs": [
    {
     "data": {
      "text/plain": [
       "title\n",
       "Toy Story 3                                    415000000.0\n",
       "Alice in Wonderland (2010)                     334200000.0\n",
       "Harry Potter and the Deathly Hallows Part 1    296000000.0\n",
       "Inception                                      292600000.0\n",
       "Shrek Forever After                            238700000.0\n",
       "The Twilight Saga: Eclipse                     300500000.0\n",
       "Iron Man 2                                     312400000.0\n",
       "Tangled                                        200800000.0\n",
       "Despicable Me                                  251500000.0\n",
       "How to Train Your Dragon                       217600000.0\n",
       "Name: domestic_gross, dtype: float64"
      ]
     },
     "execution_count": 31,
     "metadata": {},
     "output_type": "execute_result"
    }
   ],
   "source": [
    "# Working with other dataset\n",
    "df3 = pd.read_csv('data/bom.movie_gross.csv.gz', index_col=0)\n",
    "df3['domestic_gross'].head(10)"
   ]
  },
  {
   "cell_type": "code",
   "execution_count": 30,
   "id": "3fc76fb7",
   "metadata": {},
   "outputs": [
    {
     "data": {
      "text/plain": [
       "0           NaN\n",
       "1       600,000\n",
       "2           NaN\n",
       "3           NaN\n",
       "4           NaN\n",
       "5           NaN\n",
       "6    41,032,915\n",
       "7       224,114\n",
       "8       134,904\n",
       "9           NaN\n",
       "Name: box_office, dtype: object"
      ]
     },
     "execution_count": 30,
     "metadata": {},
     "output_type": "execute_result"
    }
   ],
   "source": [
    "df4 = pd.read_csv('data/rt.movie_info.tsv.gz', sep=\"\\t\") #si se abrio\n",
    "df4['box_office'].head(10)"
   ]
  },
  {
   "cell_type": "code",
   "execution_count": 33,
   "id": "19625f4b",
   "metadata": {},
   "outputs": [
    {
     "data": {
      "text/html": [
       "<div>\n",
       "<style scoped>\n",
       "    .dataframe tbody tr th:only-of-type {\n",
       "        vertical-align: middle;\n",
       "    }\n",
       "\n",
       "    .dataframe tbody tr th {\n",
       "        vertical-align: top;\n",
       "    }\n",
       "\n",
       "    .dataframe thead th {\n",
       "        text-align: right;\n",
       "    }\n",
       "</style>\n",
       "<table border=\"1\" class=\"dataframe\">\n",
       "  <thead>\n",
       "    <tr style=\"text-align: right;\">\n",
       "      <th></th>\n",
       "      <th>studio</th>\n",
       "      <th>domestic_gross</th>\n",
       "      <th>foreign_gross</th>\n",
       "      <th>year</th>\n",
       "    </tr>\n",
       "    <tr>\n",
       "      <th>title</th>\n",
       "      <th></th>\n",
       "      <th></th>\n",
       "      <th></th>\n",
       "      <th></th>\n",
       "    </tr>\n",
       "  </thead>\n",
       "  <tbody>\n",
       "    <tr>\n",
       "      <th>Toy Story 3</th>\n",
       "      <td>BV</td>\n",
       "      <td>415000000.0</td>\n",
       "      <td>652000000</td>\n",
       "      <td>2010</td>\n",
       "    </tr>\n",
       "    <tr>\n",
       "      <th>Alice in Wonderland (2010)</th>\n",
       "      <td>BV</td>\n",
       "      <td>334200000.0</td>\n",
       "      <td>691300000</td>\n",
       "      <td>2010</td>\n",
       "    </tr>\n",
       "    <tr>\n",
       "      <th>Harry Potter and the Deathly Hallows Part 1</th>\n",
       "      <td>WB</td>\n",
       "      <td>296000000.0</td>\n",
       "      <td>664300000</td>\n",
       "      <td>2010</td>\n",
       "    </tr>\n",
       "    <tr>\n",
       "      <th>Inception</th>\n",
       "      <td>WB</td>\n",
       "      <td>292600000.0</td>\n",
       "      <td>535700000</td>\n",
       "      <td>2010</td>\n",
       "    </tr>\n",
       "    <tr>\n",
       "      <th>Shrek Forever After</th>\n",
       "      <td>P/DW</td>\n",
       "      <td>238700000.0</td>\n",
       "      <td>513900000</td>\n",
       "      <td>2010</td>\n",
       "    </tr>\n",
       "  </tbody>\n",
       "</table>\n",
       "</div>"
      ],
      "text/plain": [
       "                                            studio  domestic_gross  \\\n",
       "title                                                                \n",
       "Toy Story 3                                     BV     415000000.0   \n",
       "Alice in Wonderland (2010)                      BV     334200000.0   \n",
       "Harry Potter and the Deathly Hallows Part 1     WB     296000000.0   \n",
       "Inception                                       WB     292600000.0   \n",
       "Shrek Forever After                           P/DW     238700000.0   \n",
       "\n",
       "                                            foreign_gross  year  \n",
       "title                                                            \n",
       "Toy Story 3                                     652000000  2010  \n",
       "Alice in Wonderland (2010)                      691300000  2010  \n",
       "Harry Potter and the Deathly Hallows Part 1     664300000  2010  \n",
       "Inception                                       535700000  2010  \n",
       "Shrek Forever After                             513900000  2010  "
      ]
     },
     "execution_count": 33,
     "metadata": {},
     "output_type": "execute_result"
    }
   ],
   "source": [
    "df = pd.read_csv('data/bom.movie_gross.csv.gz', index_col=0)\n",
    "df.head()"
   ]
  },
  {
   "cell_type": "code",
   "execution_count": 257,
   "id": "d8b5924b",
   "metadata": {},
   "outputs": [
    {
     "name": "stdout",
     "output_type": "stream",
     "text": [
      "<class 'pandas.core.frame.DataFrame'>\n",
      "Index: 3387 entries, Toy Story 3 to An Actor Prepares\n",
      "Data columns (total 4 columns):\n",
      " #   Column          Non-Null Count  Dtype  \n",
      "---  ------          --------------  -----  \n",
      " 0   studio          3382 non-null   object \n",
      " 1   domestic_gross  3359 non-null   float64\n",
      " 2   foreign_gross   2037 non-null   object \n",
      " 3   year            3387 non-null   int64  \n",
      "dtypes: float64(1), int64(1), object(2)\n",
      "memory usage: 132.3+ KB\n"
     ]
    }
   ],
   "source": [
    "df.info()"
   ]
  },
  {
   "cell_type": "code",
   "execution_count": 258,
   "id": "22892d3c",
   "metadata": {},
   "outputs": [
    {
     "data": {
      "text/plain": [
       "studio               5\n",
       "domestic_gross      28\n",
       "foreign_gross     1350\n",
       "year                 0\n",
       "dtype: int64"
      ]
     },
     "execution_count": 258,
     "metadata": {},
     "output_type": "execute_result"
    }
   ],
   "source": [
    "df.isna().sum()"
   ]
  },
  {
   "cell_type": "code",
   "execution_count": 259,
   "id": "9acf1202",
   "metadata": {},
   "outputs": [],
   "source": [
    "df5=df.dropna(subset=['foreign_gross','domestic_gross'])"
   ]
  },
  {
   "cell_type": "code",
   "execution_count": 260,
   "id": "18014742",
   "metadata": {},
   "outputs": [
    {
     "data": {
      "text/plain": [
       "studio            2\n",
       "domestic_gross    0\n",
       "foreign_gross     0\n",
       "year              0\n",
       "dtype: int64"
      ]
     },
     "execution_count": 260,
     "metadata": {},
     "output_type": "execute_result"
    }
   ],
   "source": [
    "df5.isna().sum()"
   ]
  },
  {
   "cell_type": "code",
   "execution_count": 239,
   "id": "50687e2f",
   "metadata": {},
   "outputs": [
    {
     "name": "stdout",
     "output_type": "stream",
     "text": [
      "<class 'pandas.core.frame.DataFrame'>\n",
      "Index: 2009 entries, Toy Story 3 to Antonio Lopez 1970: Sex Fashion & Disco\n",
      "Data columns (total 4 columns):\n",
      " #   Column          Non-Null Count  Dtype  \n",
      "---  ------          --------------  -----  \n",
      " 0   studio          2007 non-null   object \n",
      " 1   domestic_gross  2009 non-null   float64\n",
      " 2   foreign_gross   2009 non-null   object \n",
      " 3   year            2009 non-null   int64  \n",
      "dtypes: float64(1), int64(1), object(2)\n",
      "memory usage: 78.5+ KB\n"
     ]
    }
   ],
   "source": [
    "df5.info()"
   ]
  },
  {
   "cell_type": "code",
   "execution_count": 238,
   "id": "a3997f4a",
   "metadata": {},
   "outputs": [
    {
     "data": {
      "text/html": [
       "<div>\n",
       "<style scoped>\n",
       "    .dataframe tbody tr th:only-of-type {\n",
       "        vertical-align: middle;\n",
       "    }\n",
       "\n",
       "    .dataframe tbody tr th {\n",
       "        vertical-align: top;\n",
       "    }\n",
       "\n",
       "    .dataframe thead th {\n",
       "        text-align: right;\n",
       "    }\n",
       "</style>\n",
       "<table border=\"1\" class=\"dataframe\">\n",
       "  <thead>\n",
       "    <tr style=\"text-align: right;\">\n",
       "      <th></th>\n",
       "      <th>studio</th>\n",
       "      <th>domestic_gross</th>\n",
       "      <th>foreign_gross</th>\n",
       "      <th>year</th>\n",
       "    </tr>\n",
       "    <tr>\n",
       "      <th>title</th>\n",
       "      <th></th>\n",
       "      <th></th>\n",
       "      <th></th>\n",
       "      <th></th>\n",
       "    </tr>\n",
       "  </thead>\n",
       "  <tbody>\n",
       "    <tr>\n",
       "      <th>Toy Story 3</th>\n",
       "      <td>BV</td>\n",
       "      <td>415000000.0</td>\n",
       "      <td>652000000</td>\n",
       "      <td>2010</td>\n",
       "    </tr>\n",
       "    <tr>\n",
       "      <th>Alice in Wonderland (2010)</th>\n",
       "      <td>BV</td>\n",
       "      <td>334200000.0</td>\n",
       "      <td>691300000</td>\n",
       "      <td>2010</td>\n",
       "    </tr>\n",
       "    <tr>\n",
       "      <th>Harry Potter and the Deathly Hallows Part 1</th>\n",
       "      <td>WB</td>\n",
       "      <td>296000000.0</td>\n",
       "      <td>664300000</td>\n",
       "      <td>2010</td>\n",
       "    </tr>\n",
       "    <tr>\n",
       "      <th>Inception</th>\n",
       "      <td>WB</td>\n",
       "      <td>292600000.0</td>\n",
       "      <td>535700000</td>\n",
       "      <td>2010</td>\n",
       "    </tr>\n",
       "    <tr>\n",
       "      <th>Shrek Forever After</th>\n",
       "      <td>P/DW</td>\n",
       "      <td>238700000.0</td>\n",
       "      <td>513900000</td>\n",
       "      <td>2010</td>\n",
       "    </tr>\n",
       "    <tr>\n",
       "      <th>...</th>\n",
       "      <td>...</td>\n",
       "      <td>...</td>\n",
       "      <td>...</td>\n",
       "      <td>...</td>\n",
       "    </tr>\n",
       "    <tr>\n",
       "      <th>I Still See You</th>\n",
       "      <td>LGF</td>\n",
       "      <td>1400.0</td>\n",
       "      <td>1500000</td>\n",
       "      <td>2018</td>\n",
       "    </tr>\n",
       "    <tr>\n",
       "      <th>The Catcher Was a Spy</th>\n",
       "      <td>IFC</td>\n",
       "      <td>725000.0</td>\n",
       "      <td>229000</td>\n",
       "      <td>2018</td>\n",
       "    </tr>\n",
       "    <tr>\n",
       "      <th>Time Freak</th>\n",
       "      <td>Grindstone</td>\n",
       "      <td>10000.0</td>\n",
       "      <td>256000</td>\n",
       "      <td>2018</td>\n",
       "    </tr>\n",
       "    <tr>\n",
       "      <th>Reign of Judges: Title of Liberty - Concept Short</th>\n",
       "      <td>Darin Southa</td>\n",
       "      <td>93200.0</td>\n",
       "      <td>5200</td>\n",
       "      <td>2018</td>\n",
       "    </tr>\n",
       "    <tr>\n",
       "      <th>Antonio Lopez 1970: Sex Fashion &amp; Disco</th>\n",
       "      <td>FM</td>\n",
       "      <td>43200.0</td>\n",
       "      <td>30000</td>\n",
       "      <td>2018</td>\n",
       "    </tr>\n",
       "  </tbody>\n",
       "</table>\n",
       "<p>2009 rows × 4 columns</p>\n",
       "</div>"
      ],
      "text/plain": [
       "                                                         studio  \\\n",
       "title                                                             \n",
       "Toy Story 3                                                  BV   \n",
       "Alice in Wonderland (2010)                                   BV   \n",
       "Harry Potter and the Deathly Hallows Part 1                  WB   \n",
       "Inception                                                    WB   \n",
       "Shrek Forever After                                        P/DW   \n",
       "...                                                         ...   \n",
       "I Still See You                                             LGF   \n",
       "The Catcher Was a Spy                                       IFC   \n",
       "Time Freak                                           Grindstone   \n",
       "Reign of Judges: Title of Liberty - Concept Short  Darin Southa   \n",
       "Antonio Lopez 1970: Sex Fashion & Disco                      FM   \n",
       "\n",
       "                                                   domestic_gross  \\\n",
       "title                                                               \n",
       "Toy Story 3                                           415000000.0   \n",
       "Alice in Wonderland (2010)                            334200000.0   \n",
       "Harry Potter and the Deathly Hallows Part 1           296000000.0   \n",
       "Inception                                             292600000.0   \n",
       "Shrek Forever After                                   238700000.0   \n",
       "...                                                           ...   \n",
       "I Still See You                                            1400.0   \n",
       "The Catcher Was a Spy                                    725000.0   \n",
       "Time Freak                                                10000.0   \n",
       "Reign of Judges: Title of Liberty - Concept Short         93200.0   \n",
       "Antonio Lopez 1970: Sex Fashion & Disco                   43200.0   \n",
       "\n",
       "                                                  foreign_gross  year  \n",
       "title                                                                  \n",
       "Toy Story 3                                           652000000  2010  \n",
       "Alice in Wonderland (2010)                            691300000  2010  \n",
       "Harry Potter and the Deathly Hallows Part 1           664300000  2010  \n",
       "Inception                                             535700000  2010  \n",
       "Shrek Forever After                                   513900000  2010  \n",
       "...                                                         ...   ...  \n",
       "I Still See You                                         1500000  2018  \n",
       "The Catcher Was a Spy                                    229000  2018  \n",
       "Time Freak                                               256000  2018  \n",
       "Reign of Judges: Title of Liberty - Concept Short          5200  2018  \n",
       "Antonio Lopez 1970: Sex Fashion & Disco                   30000  2018  \n",
       "\n",
       "[2009 rows x 4 columns]"
      ]
     },
     "execution_count": 238,
     "metadata": {},
     "output_type": "execute_result"
    }
   ],
   "source": [
    "df5"
   ]
  },
  {
   "cell_type": "code",
   "execution_count": 245,
   "id": "40166249",
   "metadata": {},
   "outputs": [],
   "source": [
    "def clean_order2 (column):\n",
    "    \n",
    "    #column=column.apply(lambda x: x.replace(\",\",\"\").replace(\"$\",\"\"))\n",
    "    column=pd.to_numeric(column)\n",
    "    column.sort_values(ascending=False).head(10)"
   ]
  },
  {
   "cell_type": "code",
   "execution_count": 255,
   "id": "54368c0e",
   "metadata": {},
   "outputs": [
    {
     "data": {
      "text/plain": [
       "title\n",
       "Toy Story 3                                    None\n",
       "Alice in Wonderland (2010)                     None\n",
       "Harry Potter and the Deathly Hallows Part 1    None\n",
       "Inception                                      None\n",
       "Shrek Forever After                            None\n",
       "The Twilight Saga: Eclipse                     None\n",
       "Iron Man 2                                     None\n",
       "Tangled                                        None\n",
       "Despicable Me                                  None\n",
       "How to Train Your Dragon                       None\n",
       "Name: domestic_gross, dtype: object"
      ]
     },
     "execution_count": 255,
     "metadata": {},
     "output_type": "execute_result"
    }
   ],
   "source": [
    "df['domestic_gross']=clean_order2 (df['domestic_gross'])\n",
    "df['domestic_gross'].sort_values(ascending=False).head(10)"
   ]
  },
  {
   "cell_type": "code",
   "execution_count": 252,
   "id": "3bae2aef",
   "metadata": {},
   "outputs": [
    {
     "data": {
      "text/plain": [
       "title\n",
       "Toy Story 3                                    652000000\n",
       "Alice in Wonderland (2010)                     691300000\n",
       "Harry Potter and the Deathly Hallows Part 1    664300000\n",
       "Inception                                      535700000\n",
       "Shrek Forever After                            513900000\n",
       "                                                 ...    \n",
       "The Quake                                            NaN\n",
       "Edward II (2018 re-release)                          NaN\n",
       "El Pacto                                             NaN\n",
       "The Swan                                             NaN\n",
       "An Actor Prepares                                    NaN\n",
       "Name: foreign_gross, Length: 3387, dtype: object"
      ]
     },
     "execution_count": 252,
     "metadata": {},
     "output_type": "execute_result"
    }
   ],
   "source": [
    "df['foreign_gross']"
   ]
  },
  {
   "cell_type": "code",
   "execution_count": null,
   "id": "e887aec4",
   "metadata": {},
   "outputs": [],
   "source": []
  }
 ],
 "metadata": {
  "kernelspec": {
   "display_name": "Python 3 (ipykernel)",
   "language": "python",
   "name": "python3"
  },
  "language_info": {
   "codemirror_mode": {
    "name": "ipython",
    "version": 3
   },
   "file_extension": ".py",
   "mimetype": "text/x-python",
   "name": "python",
   "nbconvert_exporter": "python",
   "pygments_lexer": "ipython3",
   "version": "3.9.13"
  }
 },
 "nbformat": 4,
 "nbformat_minor": 5
}
