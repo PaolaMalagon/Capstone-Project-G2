{
 "cells": [
  {
   "cell_type": "markdown",
   "metadata": {},
   "source": [
    "# Budget"
   ]
  },
  {
   "cell_type": "code",
   "execution_count": 52,
   "metadata": {},
   "outputs": [
    {
     "data": {
      "text/html": [
       "<div>\n",
       "<style scoped>\n",
       "    .dataframe tbody tr th:only-of-type {\n",
       "        vertical-align: middle;\n",
       "    }\n",
       "\n",
       "    .dataframe tbody tr th {\n",
       "        vertical-align: top;\n",
       "    }\n",
       "\n",
       "    .dataframe thead th {\n",
       "        text-align: right;\n",
       "    }\n",
       "</style>\n",
       "<table border=\"1\" class=\"dataframe\">\n",
       "  <thead>\n",
       "    <tr style=\"text-align: right;\">\n",
       "      <th></th>\n",
       "      <th>release_date</th>\n",
       "      <th>movie</th>\n",
       "      <th>production_budget</th>\n",
       "      <th>domestic_gross</th>\n",
       "      <th>worldwide_gross</th>\n",
       "    </tr>\n",
       "    <tr>\n",
       "      <th>id</th>\n",
       "      <th></th>\n",
       "      <th></th>\n",
       "      <th></th>\n",
       "      <th></th>\n",
       "      <th></th>\n",
       "    </tr>\n",
       "  </thead>\n",
       "  <tbody>\n",
       "    <tr>\n",
       "      <th>1</th>\n",
       "      <td>Dec 18, 2009</td>\n",
       "      <td>Avatar</td>\n",
       "      <td>$425,000,000</td>\n",
       "      <td>$760,507,625</td>\n",
       "      <td>$2,776,345,279</td>\n",
       "    </tr>\n",
       "    <tr>\n",
       "      <th>2</th>\n",
       "      <td>May 20, 2011</td>\n",
       "      <td>Pirates of the Caribbean: On Stranger Tides</td>\n",
       "      <td>$410,600,000</td>\n",
       "      <td>$241,063,875</td>\n",
       "      <td>$1,045,663,875</td>\n",
       "    </tr>\n",
       "    <tr>\n",
       "      <th>3</th>\n",
       "      <td>Jun 7, 2019</td>\n",
       "      <td>Dark Phoenix</td>\n",
       "      <td>$350,000,000</td>\n",
       "      <td>$42,762,350</td>\n",
       "      <td>$149,762,350</td>\n",
       "    </tr>\n",
       "    <tr>\n",
       "      <th>4</th>\n",
       "      <td>May 1, 2015</td>\n",
       "      <td>Avengers: Age of Ultron</td>\n",
       "      <td>$330,600,000</td>\n",
       "      <td>$459,005,868</td>\n",
       "      <td>$1,403,013,963</td>\n",
       "    </tr>\n",
       "    <tr>\n",
       "      <th>5</th>\n",
       "      <td>Dec 15, 2017</td>\n",
       "      <td>Star Wars Ep. VIII: The Last Jedi</td>\n",
       "      <td>$317,000,000</td>\n",
       "      <td>$620,181,382</td>\n",
       "      <td>$1,316,721,747</td>\n",
       "    </tr>\n",
       "    <tr>\n",
       "      <th>6</th>\n",
       "      <td>Dec 18, 2015</td>\n",
       "      <td>Star Wars Ep. VII: The Force Awakens</td>\n",
       "      <td>$306,000,000</td>\n",
       "      <td>$936,662,225</td>\n",
       "      <td>$2,053,311,220</td>\n",
       "    </tr>\n",
       "    <tr>\n",
       "      <th>7</th>\n",
       "      <td>Apr 27, 2018</td>\n",
       "      <td>Avengers: Infinity War</td>\n",
       "      <td>$300,000,000</td>\n",
       "      <td>$678,815,482</td>\n",
       "      <td>$2,048,134,200</td>\n",
       "    </tr>\n",
       "    <tr>\n",
       "      <th>8</th>\n",
       "      <td>May 24, 2007</td>\n",
       "      <td>Pirates of the Caribbean: At Worldâs End</td>\n",
       "      <td>$300,000,000</td>\n",
       "      <td>$309,420,425</td>\n",
       "      <td>$963,420,425</td>\n",
       "    </tr>\n",
       "    <tr>\n",
       "      <th>9</th>\n",
       "      <td>Nov 17, 2017</td>\n",
       "      <td>Justice League</td>\n",
       "      <td>$300,000,000</td>\n",
       "      <td>$229,024,295</td>\n",
       "      <td>$655,945,209</td>\n",
       "    </tr>\n",
       "    <tr>\n",
       "      <th>10</th>\n",
       "      <td>Nov 6, 2015</td>\n",
       "      <td>Spectre</td>\n",
       "      <td>$300,000,000</td>\n",
       "      <td>$200,074,175</td>\n",
       "      <td>$879,620,923</td>\n",
       "    </tr>\n",
       "  </tbody>\n",
       "</table>\n",
       "</div>"
      ],
      "text/plain": [
       "    release_date                                        movie  \\\n",
       "id                                                              \n",
       "1   Dec 18, 2009                                       Avatar   \n",
       "2   May 20, 2011  Pirates of the Caribbean: On Stranger Tides   \n",
       "3    Jun 7, 2019                                 Dark Phoenix   \n",
       "4    May 1, 2015                      Avengers: Age of Ultron   \n",
       "5   Dec 15, 2017            Star Wars Ep. VIII: The Last Jedi   \n",
       "6   Dec 18, 2015         Star Wars Ep. VII: The Force Awakens   \n",
       "7   Apr 27, 2018                       Avengers: Infinity War   \n",
       "8   May 24, 2007   Pirates of the Caribbean: At Worldâs End   \n",
       "9   Nov 17, 2017                               Justice League   \n",
       "10   Nov 6, 2015                                      Spectre   \n",
       "\n",
       "   production_budget domestic_gross worldwide_gross  \n",
       "id                                                   \n",
       "1       $425,000,000   $760,507,625  $2,776,345,279  \n",
       "2       $410,600,000   $241,063,875  $1,045,663,875  \n",
       "3       $350,000,000    $42,762,350    $149,762,350  \n",
       "4       $330,600,000   $459,005,868  $1,403,013,963  \n",
       "5       $317,000,000   $620,181,382  $1,316,721,747  \n",
       "6       $306,000,000   $936,662,225  $2,053,311,220  \n",
       "7       $300,000,000   $678,815,482  $2,048,134,200  \n",
       "8       $300,000,000   $309,420,425    $963,420,425  \n",
       "9       $300,000,000   $229,024,295    $655,945,209  \n",
       "10      $300,000,000   $200,074,175    $879,620,923  "
      ]
     },
     "execution_count": 52,
     "metadata": {},
     "output_type": "execute_result"
    }
   ],
   "source": [
    "import pandas as pd\n",
    "import sqlite3\n",
    "import matplotlib.pyplot as plt\n",
    "%matplotlib inline\n",
    "import seaborn\n",
    "\n",
    "conn = sqlite3.connect('data/im.db')\n",
    "cur = conn.cursor()\n",
    "\n",
    "tn_budgets = pd.read_csv('data/tn.movie_budgets.csv', index_col=0)\n",
    "tn_budgets.head(10)"
   ]
  },
  {
   "cell_type": "code",
   "execution_count": null,
   "metadata": {},
   "outputs": [],
   "source": [
    "#tn_budgets[\"domestic_gross\"]=tn_budgets[\"domestic_gross\"].apply(lambda x: x.replace(\"$\",\"\"))"
   ]
  },
  {
   "cell_type": "code",
   "execution_count": null,
   "metadata": {},
   "outputs": [],
   "source": [
    "#tn_budgets[\"domestic_gross\"]=tn_budgets[\"domestic_gross\"].apply(lambda x: x.replace(\",\",\"\").replace(\"$\",\"\"))"
   ]
  },
  {
   "cell_type": "code",
   "execution_count": null,
   "metadata": {},
   "outputs": [],
   "source": [
    "tn_budgets.columns"
   ]
  },
  {
   "cell_type": "code",
   "execution_count": 53,
   "metadata": {},
   "outputs": [],
   "source": [
    "columns =  ['production_budget', 'domestic_gross','worldwide_gross']"
   ]
  },
  {
   "cell_type": "code",
   "execution_count": 54,
   "metadata": {},
   "outputs": [],
   "source": [
    "def cleaning(columns):\n",
    "    for x in columns:\n",
    "        tn_budgets[x]=tn_budgets[x].apply(lambda x: x.replace(\",\",\"\").replace(\"$\",\"\"))\n",
    "        tn_budgets[x]=pd.to_numeric(tn_budgets[x])"
   ]
  },
  {
   "cell_type": "code",
   "execution_count": 55,
   "metadata": {},
   "outputs": [],
   "source": [
    "cleaning(columns)"
   ]
  },
  {
   "cell_type": "code",
   "execution_count": null,
   "metadata": {},
   "outputs": [],
   "source": [
    "tn_budgets['worldwide_gross'].head(10)"
   ]
  },
  {
   "cell_type": "code",
   "execution_count": null,
   "metadata": {},
   "outputs": [],
   "source": [
    "\"\"\"\n",
    "def to_int():\n",
    "    for x in ['production_budget', 'domestic_gross','worldwide_gross']:\n",
    "        tn_budgets[x]=pd.to_numeric(tn_budgets[x])\n",
    "    return \n",
    "\"\"\""
   ]
  },
  {
   "cell_type": "code",
   "execution_count": null,
   "metadata": {},
   "outputs": [],
   "source": [
    "tn_budgets[\"domestic_gross\"]"
   ]
  },
  {
   "cell_type": "code",
   "execution_count": null,
   "metadata": {},
   "outputs": [],
   "source": [
    "tn_budgets.sort_values(by=\"domestic_gross\", ascending=False).head(10)"
   ]
  },
  {
   "cell_type": "code",
   "execution_count": 56,
   "metadata": {},
   "outputs": [],
   "source": [
    "tn_budgets[\"total_gross\"]=tn_budgets[\"domestic_gross\"]+tn_budgets[\"worldwide_gross\"]"
   ]
  },
  {
   "cell_type": "code",
   "execution_count": 57,
   "metadata": {
    "scrolled": false
   },
   "outputs": [
    {
     "data": {
      "text/html": [
       "<div>\n",
       "<style scoped>\n",
       "    .dataframe tbody tr th:only-of-type {\n",
       "        vertical-align: middle;\n",
       "    }\n",
       "\n",
       "    .dataframe tbody tr th {\n",
       "        vertical-align: top;\n",
       "    }\n",
       "\n",
       "    .dataframe thead th {\n",
       "        text-align: right;\n",
       "    }\n",
       "</style>\n",
       "<table border=\"1\" class=\"dataframe\">\n",
       "  <thead>\n",
       "    <tr style=\"text-align: right;\">\n",
       "      <th></th>\n",
       "      <th>release_date</th>\n",
       "      <th>movie</th>\n",
       "      <th>production_budget</th>\n",
       "      <th>domestic_gross</th>\n",
       "      <th>worldwide_gross</th>\n",
       "      <th>total_gross</th>\n",
       "      <th>earnings</th>\n",
       "    </tr>\n",
       "    <tr>\n",
       "      <th>id</th>\n",
       "      <th></th>\n",
       "      <th></th>\n",
       "      <th></th>\n",
       "      <th></th>\n",
       "      <th></th>\n",
       "      <th></th>\n",
       "      <th></th>\n",
       "    </tr>\n",
       "  </thead>\n",
       "  <tbody>\n",
       "    <tr>\n",
       "      <th>1</th>\n",
       "      <td>Dec 18, 2009</td>\n",
       "      <td>Avatar</td>\n",
       "      <td>425000000</td>\n",
       "      <td>760507625</td>\n",
       "      <td>2776345279</td>\n",
       "      <td>3536852904</td>\n",
       "      <td>3111852904</td>\n",
       "    </tr>\n",
       "    <tr>\n",
       "      <th>6</th>\n",
       "      <td>Dec 18, 2015</td>\n",
       "      <td>Star Wars Ep. VII: The Force Awakens</td>\n",
       "      <td>306000000</td>\n",
       "      <td>936662225</td>\n",
       "      <td>2053311220</td>\n",
       "      <td>2989973445</td>\n",
       "      <td>2683973445</td>\n",
       "    </tr>\n",
       "    <tr>\n",
       "      <th>43</th>\n",
       "      <td>Dec 19, 1997</td>\n",
       "      <td>Titanic</td>\n",
       "      <td>200000000</td>\n",
       "      <td>659363944</td>\n",
       "      <td>2208208395</td>\n",
       "      <td>2867572339</td>\n",
       "      <td>2667572339</td>\n",
       "    </tr>\n",
       "    <tr>\n",
       "      <th>7</th>\n",
       "      <td>Apr 27, 2018</td>\n",
       "      <td>Avengers: Infinity War</td>\n",
       "      <td>300000000</td>\n",
       "      <td>678815482</td>\n",
       "      <td>2048134200</td>\n",
       "      <td>2726949682</td>\n",
       "      <td>2426949682</td>\n",
       "    </tr>\n",
       "    <tr>\n",
       "      <th>34</th>\n",
       "      <td>Jun 12, 2015</td>\n",
       "      <td>Jurassic World</td>\n",
       "      <td>215000000</td>\n",
       "      <td>652270625</td>\n",
       "      <td>1648854864</td>\n",
       "      <td>2301125489</td>\n",
       "      <td>2086125489</td>\n",
       "    </tr>\n",
       "    <tr>\n",
       "      <th>27</th>\n",
       "      <td>May 4, 2012</td>\n",
       "      <td>The Avengers</td>\n",
       "      <td>225000000</td>\n",
       "      <td>623279547</td>\n",
       "      <td>1517935897</td>\n",
       "      <td>2141215444</td>\n",
       "      <td>1916215444</td>\n",
       "    </tr>\n",
       "    <tr>\n",
       "      <th>42</th>\n",
       "      <td>Feb 16, 2018</td>\n",
       "      <td>Black Panther</td>\n",
       "      <td>200000000</td>\n",
       "      <td>700059566</td>\n",
       "      <td>1348258224</td>\n",
       "      <td>2048317790</td>\n",
       "      <td>1848317790</td>\n",
       "    </tr>\n",
       "    <tr>\n",
       "      <th>67</th>\n",
       "      <td>Apr 3, 2015</td>\n",
       "      <td>Furious 7</td>\n",
       "      <td>190000000</td>\n",
       "      <td>353007020</td>\n",
       "      <td>1518722794</td>\n",
       "      <td>1871729814</td>\n",
       "      <td>1681729814</td>\n",
       "    </tr>\n",
       "    <tr>\n",
       "      <th>44</th>\n",
       "      <td>Jun 15, 2018</td>\n",
       "      <td>Incredibles 2</td>\n",
       "      <td>200000000</td>\n",
       "      <td>608581744</td>\n",
       "      <td>1242520711</td>\n",
       "      <td>1851102455</td>\n",
       "      <td>1651102455</td>\n",
       "    </tr>\n",
       "    <tr>\n",
       "      <th>5</th>\n",
       "      <td>Dec 15, 2017</td>\n",
       "      <td>Star Wars Ep. VIII: The Last Jedi</td>\n",
       "      <td>317000000</td>\n",
       "      <td>620181382</td>\n",
       "      <td>1316721747</td>\n",
       "      <td>1936903129</td>\n",
       "      <td>1619903129</td>\n",
       "    </tr>\n",
       "  </tbody>\n",
       "</table>\n",
       "</div>"
      ],
      "text/plain": [
       "    release_date                                 movie  production_budget  \\\n",
       "id                                                                          \n",
       "1   Dec 18, 2009                                Avatar          425000000   \n",
       "6   Dec 18, 2015  Star Wars Ep. VII: The Force Awakens          306000000   \n",
       "43  Dec 19, 1997                               Titanic          200000000   \n",
       "7   Apr 27, 2018                Avengers: Infinity War          300000000   \n",
       "34  Jun 12, 2015                        Jurassic World          215000000   \n",
       "27   May 4, 2012                          The Avengers          225000000   \n",
       "42  Feb 16, 2018                         Black Panther          200000000   \n",
       "67   Apr 3, 2015                             Furious 7          190000000   \n",
       "44  Jun 15, 2018                         Incredibles 2          200000000   \n",
       "5   Dec 15, 2017     Star Wars Ep. VIII: The Last Jedi          317000000   \n",
       "\n",
       "    domestic_gross  worldwide_gross  total_gross    earnings  \n",
       "id                                                            \n",
       "1        760507625       2776345279   3536852904  3111852904  \n",
       "6        936662225       2053311220   2989973445  2683973445  \n",
       "43       659363944       2208208395   2867572339  2667572339  \n",
       "7        678815482       2048134200   2726949682  2426949682  \n",
       "34       652270625       1648854864   2301125489  2086125489  \n",
       "27       623279547       1517935897   2141215444  1916215444  \n",
       "42       700059566       1348258224   2048317790  1848317790  \n",
       "67       353007020       1518722794   1871729814  1681729814  \n",
       "44       608581744       1242520711   1851102455  1651102455  \n",
       "5        620181382       1316721747   1936903129  1619903129  "
      ]
     },
     "execution_count": 57,
     "metadata": {},
     "output_type": "execute_result"
    }
   ],
   "source": [
    "tn_budgets[\"earnings\"]=tn_budgets[\"total_gross\"]-tn_budgets[\"production_budget\"]\n",
    "tn_budgets.sort_values(by=\"earnings\", ascending=False).head(10)"
   ]
  },
  {
   "cell_type": "code",
   "execution_count": 118,
   "metadata": {},
   "outputs": [],
   "source": [
    "topten_0 = tn_budgets.sort_values(by=\"earnings\", ascending=False).head(10)\n",
    "topten = topten_0.loc[:,[\"movie\",\"production_budget\", \"earnings\"]]\n",
    "topten = topten.set_index(\"movie\")"
   ]
  },
  {
   "cell_type": "code",
   "execution_count": 120,
   "metadata": {},
   "outputs": [],
   "source": [
    "#name_movies = list(topten[\"movie\"].values)\n",
    "#name_movies"
   ]
  },
  {
   "cell_type": "code",
   "execution_count": 81,
   "metadata": {},
   "outputs": [
    {
     "data": {
      "text/plain": [
       "(array([0, 1, 2, 3, 4, 5, 6, 7, 8, 9]),\n",
       " [Text(0, 0, 'Avatar'),\n",
       "  Text(1, 0, 'Star Wars Ep. VII: The Force Awakens'),\n",
       "  Text(2, 0, 'Titanic'),\n",
       "  Text(3, 0, 'Avengers: Infinity War'),\n",
       "  Text(4, 0, 'Jurassic World'),\n",
       "  Text(5, 0, 'The Avengers'),\n",
       "  Text(6, 0, 'Black Panther'),\n",
       "  Text(7, 0, 'Furious 7'),\n",
       "  Text(8, 0, 'Incredibles 2'),\n",
       "  Text(9, 0, 'Star Wars Ep. VIII: The Last Jedi')])"
      ]
     },
     "execution_count": 81,
     "metadata": {},
     "output_type": "execute_result"
    },
    {
     "data": {
      "image/png": "[encoded data removed]",
      "text/plain": [
       "<Figure size 432x288 with 1 Axes>"
      ]
     },
     "metadata": {
      "needs_background": "light"
     },
     "output_type": "display_data"
    }
   ],
   "source": [
    "seaborn.barplot(x =\"movie\", y =\"production_budget\", data = topten)\n",
    "plt.xticks(rotation=84)"
   ]
  },
  {
   "cell_type": "code",
   "execution_count": 117,
   "metadata": {},
   "outputs": [
    {
     "data": {
      "text/html": [
       "<div>\n",
       "<style scoped>\n",
       "    .dataframe tbody tr th:only-of-type {\n",
       "        vertical-align: middle;\n",
       "    }\n",
       "\n",
       "    .dataframe tbody tr th {\n",
       "        vertical-align: top;\n",
       "    }\n",
       "\n",
       "    .dataframe thead th {\n",
       "        text-align: right;\n",
       "    }\n",
       "</style>\n",
       "<table border=\"1\" class=\"dataframe\">\n",
       "  <thead>\n",
       "    <tr style=\"text-align: right;\">\n",
       "      <th></th>\n",
       "      <th>production_budget</th>\n",
       "      <th>earnings</th>\n",
       "    </tr>\n",
       "    <tr>\n",
       "      <th>movie</th>\n",
       "      <th></th>\n",
       "      <th></th>\n",
       "    </tr>\n",
       "  </thead>\n",
       "  <tbody>\n",
       "    <tr>\n",
       "      <th>Avatar</th>\n",
       "      <td>425000000</td>\n",
       "      <td>3111852904</td>\n",
       "    </tr>\n",
       "    <tr>\n",
       "      <th>Star Wars Ep. VII: The Force Awakens</th>\n",
       "      <td>306000000</td>\n",
       "      <td>2683973445</td>\n",
       "    </tr>\n",
       "    <tr>\n",
       "      <th>Titanic</th>\n",
       "      <td>200000000</td>\n",
       "      <td>2667572339</td>\n",
       "    </tr>\n",
       "    <tr>\n",
       "      <th>Avengers: Infinity War</th>\n",
       "      <td>300000000</td>\n",
       "      <td>2426949682</td>\n",
       "    </tr>\n",
       "    <tr>\n",
       "      <th>Jurassic World</th>\n",
       "      <td>215000000</td>\n",
       "      <td>2086125489</td>\n",
       "    </tr>\n",
       "    <tr>\n",
       "      <th>The Avengers</th>\n",
       "      <td>225000000</td>\n",
       "      <td>1916215444</td>\n",
       "    </tr>\n",
       "    <tr>\n",
       "      <th>Black Panther</th>\n",
       "      <td>200000000</td>\n",
       "      <td>1848317790</td>\n",
       "    </tr>\n",
       "    <tr>\n",
       "      <th>Furious 7</th>\n",
       "      <td>190000000</td>\n",
       "      <td>1681729814</td>\n",
       "    </tr>\n",
       "    <tr>\n",
       "      <th>Incredibles 2</th>\n",
       "      <td>200000000</td>\n",
       "      <td>1651102455</td>\n",
       "    </tr>\n",
       "    <tr>\n",
       "      <th>Star Wars Ep. VIII: The Last Jedi</th>\n",
       "      <td>317000000</td>\n",
       "      <td>1619903129</td>\n",
       "    </tr>\n",
       "  </tbody>\n",
       "</table>\n",
       "</div>"
      ],
      "text/plain": [
       "                                      production_budget    earnings\n",
       "movie                                                              \n",
       "Avatar                                        425000000  3111852904\n",
       "Star Wars Ep. VII: The Force Awakens          306000000  2683973445\n",
       "Titanic                                       200000000  2667572339\n",
       "Avengers: Infinity War                        300000000  2426949682\n",
       "Jurassic World                                215000000  2086125489\n",
       "The Avengers                                  225000000  1916215444\n",
       "Black Panther                                 200000000  1848317790\n",
       "Furious 7                                     190000000  1681729814\n",
       "Incredibles 2                                 200000000  1651102455\n",
       "Star Wars Ep. VIII: The Last Jedi             317000000  1619903129"
      ]
     },
     "execution_count": 117,
     "metadata": {},
     "output_type": "execute_result"
    }
   ],
   "source": [
    "topten"
   ]
  },
  {
   "cell_type": "code",
   "execution_count": 121,
   "metadata": {},
   "outputs": [
    {
     "data": {
      "text/plain": [
       "Text(0.5, 1.0, 'Budget for each movie')"
      ]
     },
     "execution_count": 121,
     "metadata": {},
     "output_type": "execute_result"
    },
    {
     "data": {
      "image/png": "[encoded data removed]",
      "text/plain": [
       "<Figure size 1080x504 with 1 Axes>"
      ]
     },
     "metadata": {
      "needs_background": "light"
     },
     "output_type": "display_data"
    }
   ],
   "source": [
    "topten.plot.bar(figsize=(15,7))\n",
    "plt.xticks(rotation=67)\n",
    "plt.xlabel('Movie')\n",
    "plt.ylabel('MOney')\n",
    "plt.title('Budget for each movie')"
   ]
  },
  {
   "cell_type": "markdown",
   "metadata": {},
   "source": [
    "\n",
    "# Gross\n"
   ]
  },
  {
   "cell_type": "code",
   "execution_count": null,
   "metadata": {},
   "outputs": [],
   "source": [
    "bom_gross = pd.read_csv('data/bom.movie_gross.csv')\n",
    "bom_gross.head(10)"
   ]
  },
  {
   "cell_type": "code",
   "execution_count": null,
   "metadata": {},
   "outputs": [],
   "source": [
    "bom_gross[\"foreign_gross\"].dropna(inplace=True)"
   ]
  },
  {
   "cell_type": "code",
   "execution_count": null,
   "metadata": {},
   "outputs": [],
   "source": [
    "bom_gross[\"foreign_gross\"].isna().sum()"
   ]
  },
  {
   "cell_type": "code",
   "execution_count": null,
   "metadata": {},
   "outputs": [],
   "source": [
    "bom_gross[\"foreign_gross\"]"
   ]
  },
  {
   "cell_type": "code",
   "execution_count": null,
   "metadata": {},
   "outputs": [],
   "source": [
    "bom_gross.info()\n"
   ]
  },
  {
   "cell_type": "code",
   "execution_count": null,
   "metadata": {},
   "outputs": [],
   "source": [
    "rt_info = pd.read_csv('data/rt.movie_info.tsv', sep='\\t', index_col=0)\n",
    "rt_info.head(10)"
   ]
  },
  {
   "cell_type": "code",
   "execution_count": null,
   "metadata": {},
   "outputs": [],
   "source": []
  }
 ],
 "metadata": {
  "kernelspec": {
   "display_name": "Python (learn-env)",
   "language": "python",
   "name": "learn-env"
  },
  "language_info": {
   "codemirror_mode": {
    "name": "ipython",
    "version": 3
   },
   "file_extension": ".py",
   "mimetype": "text/x-python",
   "name": "python",
   "nbconvert_exporter": "python",
   "pygments_lexer": "ipython3",
   "version": "3.8.5"
  }
 },
 "nbformat": 4,
 "nbformat_minor": 4
}
