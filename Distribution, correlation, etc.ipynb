{
 "cells": [
  {
   "cell_type": "code",
   "execution_count": 175,
   "metadata": {},
   "outputs": [],
   "source": [
    "import pandas as pd\n",
    "import sqlite3\n",
    "conn = sqlite3.connect('data/im.db')\n",
    "cur = conn.cursor()\n",
    "import seaborn as sbn\n",
    "from scipy import stats\n",
    "import matplotlib.pyplot as plt\n",
    "%matplotlib inline\n",
    "\n",
    "import numpy as np\n"
   ]
  },
  {
   "cell_type": "markdown",
   "metadata": {},
   "source": [
    "# Poblation"
   ]
  },
  {
   "cell_type": "code",
   "execution_count": 425,
   "metadata": {},
   "outputs": [
    {
     "name": "stdout",
     "output_type": "stream",
     "text": [
      "<class 'pandas.core.frame.DataFrame'>\n",
      "RangeIndex: 65702 entries, 0 to 65701\n",
      "Data columns (total 5 columns):\n",
      " #   Column           Non-Null Count  Dtype  \n",
      "---  ------           --------------  -----  \n",
      " 0   runtime_minutes  65702 non-null  float64\n",
      " 1   numvotes         65702 non-null  int64  \n",
      " 2   averagerating    65702 non-null  float64\n",
      " 3   original_title   65702 non-null  object \n",
      " 4   genres           65702 non-null  object \n",
      "dtypes: float64(2), int64(1), object(2)\n",
      "memory usage: 2.5+ MB\n"
     ]
    }
   ],
   "source": [
    "poblation= pd.read_sql(\"\"\"\n",
    "SELECT mb.runtime_minutes, mr.numvotes, mr.averagerating,  mb.original_title, mb.genres\n",
    "  FROM movie_basics mb\n",
    "  JOIN movie_ratings mr USING(movie_id) \n",
    "  WHERE mb.runtime_minutes AND mb.genres IS NOT Null\n",
    "  AND mr.numvotes < 948394\n",
    "  AND mb.runtime_minutes < 600\n",
    "  ORDER BY mr.numvotes DESC\n",
    "  \n",
    "\n",
    "\n",
    "  \n",
    "  \n",
    "  ;\n",
    "\"\"\", conn)\n",
    "#  AND mr.numvotes < 948394\n",
    "#  AND mb.runtime_minutes < 300 AND mb.runtime_minutes > 30\n",
    "#  AND mr.numvotes > 100000\n",
    "#ORDER BY mr.numvotes, mb.runtime_minutes DESC\n",
    "#AND mr.numvotes > 400000\n",
    "#  AND mr.averagerating > 6\n",
    "poblation.info()\n",
    "#poblation.head(20)"
   ]
  },
  {
   "cell_type": "code",
   "execution_count": 426,
   "metadata": {},
   "outputs": [
    {
     "data": {
      "text/html": [
       "<div>\n",
       "<style scoped>\n",
       "    .dataframe tbody tr th:only-of-type {\n",
       "        vertical-align: middle;\n",
       "    }\n",
       "\n",
       "    .dataframe tbody tr th {\n",
       "        vertical-align: top;\n",
       "    }\n",
       "\n",
       "    .dataframe thead th {\n",
       "        text-align: right;\n",
       "    }\n",
       "</style>\n",
       "<table border=\"1\" class=\"dataframe\">\n",
       "  <thead>\n",
       "    <tr style=\"text-align: right;\">\n",
       "      <th></th>\n",
       "      <th>runtime_minutes</th>\n",
       "      <th>numvotes</th>\n",
       "      <th>averagerating</th>\n",
       "    </tr>\n",
       "  </thead>\n",
       "  <tbody>\n",
       "    <tr>\n",
       "      <th>count</th>\n",
       "      <td>65702.000000</td>\n",
       "      <td>65702.000000</td>\n",
       "      <td>65702.000000</td>\n",
       "    </tr>\n",
       "    <tr>\n",
       "      <th>mean</th>\n",
       "      <td>93.635064</td>\n",
       "      <td>3804.866427</td>\n",
       "      <td>6.320407</td>\n",
       "    </tr>\n",
       "    <tr>\n",
       "      <th>std</th>\n",
       "      <td>23.713557</td>\n",
       "      <td>28903.896286</td>\n",
       "      <td>1.458682</td>\n",
       "    </tr>\n",
       "    <tr>\n",
       "      <th>min</th>\n",
       "      <td>3.000000</td>\n",
       "      <td>5.000000</td>\n",
       "      <td>1.000000</td>\n",
       "    </tr>\n",
       "    <tr>\n",
       "      <th>25%</th>\n",
       "      <td>81.000000</td>\n",
       "      <td>16.000000</td>\n",
       "      <td>5.500000</td>\n",
       "    </tr>\n",
       "    <tr>\n",
       "      <th>50%</th>\n",
       "      <td>91.000000</td>\n",
       "      <td>62.000000</td>\n",
       "      <td>6.500000</td>\n",
       "    </tr>\n",
       "    <tr>\n",
       "      <th>75%</th>\n",
       "      <td>104.000000</td>\n",
       "      <td>352.000000</td>\n",
       "      <td>7.300000</td>\n",
       "    </tr>\n",
       "    <tr>\n",
       "      <th>max</th>\n",
       "      <td>500.000000</td>\n",
       "      <td>820847.000000</td>\n",
       "      <td>10.000000</td>\n",
       "    </tr>\n",
       "  </tbody>\n",
       "</table>\n",
       "</div>"
      ],
      "text/plain": [
       "       runtime_minutes       numvotes  averagerating\n",
       "count     65702.000000   65702.000000   65702.000000\n",
       "mean         93.635064    3804.866427       6.320407\n",
       "std          23.713557   28903.896286       1.458682\n",
       "min           3.000000       5.000000       1.000000\n",
       "25%          81.000000      16.000000       5.500000\n",
       "50%          91.000000      62.000000       6.500000\n",
       "75%         104.000000     352.000000       7.300000\n",
       "max         500.000000  820847.000000      10.000000"
      ]
     },
     "execution_count": 426,
     "metadata": {},
     "output_type": "execute_result"
    }
   ],
   "source": [
    "poblation.describe()"
   ]
  },
  {
   "cell_type": "code",
   "execution_count": 427,
   "metadata": {},
   "outputs": [
    {
     "name": "stdout",
     "output_type": "stream",
     "text": [
      "3804.866427201607 28903.89628592919\n"
     ]
    }
   ],
   "source": [
    "p_mean=poblation[\"numvotes\"].mean()\n",
    "p_std=poblation[\"numvotes\"].std()\n",
    "print(p_mean,p_std)"
   ]
  },
  {
   "cell_type": "markdown",
   "metadata": {},
   "source": [
    "# Sample"
   ]
  },
  {
   "cell_type": "code",
   "execution_count": 434,
   "metadata": {},
   "outputs": [
    {
     "name": "stdout",
     "output_type": "stream",
     "text": [
      "<class 'pandas.core.frame.DataFrame'>\n",
      "RangeIndex: 28839 entries, 0 to 28838\n",
      "Data columns (total 3 columns):\n",
      " #   Column           Non-Null Count  Dtype  \n",
      "---  ------           --------------  -----  \n",
      " 0   runtime_minutes  28839 non-null  float64\n",
      " 1   numvotes         28839 non-null  int64  \n",
      " 2   averagerating    28839 non-null  float64\n",
      "dtypes: float64(2), int64(1)\n",
      "memory usage: 676.0 KB\n"
     ]
    }
   ],
   "source": [
    "condition= pd.read_sql(\"\"\"\n",
    "SELECT mb.runtime_minutes, mr.numvotes, mr.averagerating\n",
    "  FROM movie_basics mb\n",
    "  JOIN movie_ratings mr USING(movie_id) \n",
    "  WHERE mb.runtime_minutes AND mb.genres IS NOT Null \n",
    "  AND mb.runtime_minutes < 130 AND mb.runtime_minutes > 90\n",
    "  AND mr.numvotes < 948394\n",
    "  ORDER BY mb.runtime_minutes DESC\n",
    "  ;\n",
    "\"\"\", conn)\n",
    "#  AND mr.numvotes < 948394\n",
    "#  AND mr.numvotes > 250000\n",
    "#ORDER BY mr.numvotes, mb.runtime_minutes DESC\n",
    "#AND mr.numvotes > 400000\n",
    "#  AND mr.averagerating > 6\n",
    "condition.info()\n",
    "#poblation.tail()"
   ]
  },
  {
   "cell_type": "code",
   "execution_count": 439,
   "metadata": {},
   "outputs": [
    {
     "data": {
      "text/html": [
       "<div>\n",
       "<style scoped>\n",
       "    .dataframe tbody tr th:only-of-type {\n",
       "        vertical-align: middle;\n",
       "    }\n",
       "\n",
       "    .dataframe tbody tr th {\n",
       "        vertical-align: top;\n",
       "    }\n",
       "\n",
       "    .dataframe thead th {\n",
       "        text-align: right;\n",
       "    }\n",
       "</style>\n",
       "<table border=\"1\" class=\"dataframe\">\n",
       "  <thead>\n",
       "    <tr style=\"text-align: right;\">\n",
       "      <th></th>\n",
       "      <th>runtime_minutes</th>\n",
       "      <th>numvotes</th>\n",
       "      <th>averagerating</th>\n",
       "    </tr>\n",
       "  </thead>\n",
       "  <tbody>\n",
       "    <tr>\n",
       "      <th>count</th>\n",
       "      <td>650.000000</td>\n",
       "      <td>650.000000</td>\n",
       "      <td>650.000000</td>\n",
       "    </tr>\n",
       "    <tr>\n",
       "      <th>mean</th>\n",
       "      <td>104.440000</td>\n",
       "      <td>7984.824615</td>\n",
       "      <td>6.313846</td>\n",
       "    </tr>\n",
       "    <tr>\n",
       "      <th>std</th>\n",
       "      <td>10.067581</td>\n",
       "      <td>45358.106995</td>\n",
       "      <td>1.304145</td>\n",
       "    </tr>\n",
       "    <tr>\n",
       "      <th>min</th>\n",
       "      <td>91.000000</td>\n",
       "      <td>5.000000</td>\n",
       "      <td>1.000000</td>\n",
       "    </tr>\n",
       "    <tr>\n",
       "      <th>25%</th>\n",
       "      <td>96.000000</td>\n",
       "      <td>25.000000</td>\n",
       "      <td>5.600000</td>\n",
       "    </tr>\n",
       "    <tr>\n",
       "      <th>50%</th>\n",
       "      <td>102.000000</td>\n",
       "      <td>140.000000</td>\n",
       "      <td>6.450000</td>\n",
       "    </tr>\n",
       "    <tr>\n",
       "      <th>75%</th>\n",
       "      <td>111.000000</td>\n",
       "      <td>719.250000</td>\n",
       "      <td>7.200000</td>\n",
       "    </tr>\n",
       "    <tr>\n",
       "      <th>max</th>\n",
       "      <td>129.000000</td>\n",
       "      <td>553751.000000</td>\n",
       "      <td>9.400000</td>\n",
       "    </tr>\n",
       "  </tbody>\n",
       "</table>\n",
       "</div>"
      ],
      "text/plain": [
       "       runtime_minutes       numvotes  averagerating\n",
       "count       650.000000     650.000000     650.000000\n",
       "mean        104.440000    7984.824615       6.313846\n",
       "std          10.067581   45358.106995       1.304145\n",
       "min          91.000000       5.000000       1.000000\n",
       "25%          96.000000      25.000000       5.600000\n",
       "50%         102.000000     140.000000       6.450000\n",
       "75%         111.000000     719.250000       7.200000\n",
       "max         129.000000  553751.000000       9.400000"
      ]
     },
     "execution_count": 439,
     "metadata": {},
     "output_type": "execute_result"
    }
   ],
   "source": [
    "#condition.describe()\n",
    "sample1=condition.sample(650)\n",
    "sample1.describe()"
   ]
  },
  {
   "cell_type": "code",
   "execution_count": 440,
   "metadata": {
    "scrolled": true
   },
   "outputs": [
    {
     "name": "stdout",
     "output_type": "stream",
     "text": [
      "7984.824615384616 45358.10699455434\n"
     ]
    }
   ],
   "source": [
    "s_mean=sample1[\"numvotes\"].mean()\n",
    "s_std=sample1[\"numvotes\"].std()\n",
    "print(s_mean,s_std)"
   ]
  },
  {
   "cell_type": "markdown",
   "metadata": {},
   "source": [
    "# Z-score"
   ]
  },
  {
   "cell_type": "code",
   "execution_count": 441,
   "metadata": {},
   "outputs": [
    {
     "data": {
      "text/plain": [
       "3.6869922581895818"
      ]
     },
     "execution_count": 441,
     "metadata": {},
     "output_type": "execute_result"
    }
   ],
   "source": [
    "z = (s_mean - p_mean)/(p_std/np.sqrt(650))\n",
    "z"
   ]
  },
  {
   "cell_type": "code",
   "execution_count": 442,
   "metadata": {
    "scrolled": true
   },
   "outputs": [
    {
     "name": "stdout",
     "output_type": "stream",
     "text": [
      "0.00011346012886293\n"
     ]
    }
   ],
   "source": [
    "print(1 - stats.norm.cdf(z))"
   ]
  },
  {
   "cell_type": "code",
   "execution_count": 433,
   "metadata": {},
   "outputs": [
    {
     "data": {
      "text/plain": [
       "0.7247440228024473"
      ]
     },
     "execution_count": 433,
     "metadata": {},
     "output_type": "execute_result"
    }
   ],
   "source": [
    "stats.norm.cdf(z)"
   ]
  },
  {
   "cell_type": "markdown",
   "metadata": {},
   "source": [
    "# Correlation"
   ]
  },
  {
   "cell_type": "markdown",
   "metadata": {},
   "source": [
    "## Sample"
   ]
  },
  {
   "cell_type": "code",
   "execution_count": 443,
   "metadata": {},
   "outputs": [],
   "source": [
    "cr_s_run=list(sample1[\"runtime_minutes\"])\n",
    "\n",
    "cr_s_rat=list(sample1[\"numvotes\"])\n",
    "#print(cr_s_run,cr_s_votes)"
   ]
  },
  {
   "cell_type": "code",
   "execution_count": 444,
   "metadata": {
    "scrolled": true
   },
   "outputs": [
    {
     "name": "stderr",
     "output_type": "stream",
     "text": [
      "No handles with labels found to put in legend.\n"
     ]
    },
    {
     "data": {
      "image/png": "[encoded data removed]",
      "text/plain": [
       "<Figure size 432x288 with 1 Axes>"
      ]
     },
     "metadata": {
      "needs_background": "light"
     },
     "output_type": "display_data"
    }
   ],
   "source": [
    "fig, ax = plt.subplots()\n",
    "\n",
    "ax.scatter(cr_s_run, cr_s_rat)\n",
    "#label=\"actual data\"\n",
    "\n",
    "#ax.plot(cr_s_run, y_bounds, \"--\", label=\"perfect correlation\")\n",
    "\n",
    "ax.set_title(\"-\")\n",
    "ax.set_xlabel(\"Runtime\")\n",
    "ax.set_ylabel(\"Number of votes\")\n",
    "\n",
    "ax.legend();"
   ]
  },
  {
   "cell_type": "markdown",
   "metadata": {},
   "source": [
    "## Poblation"
   ]
  },
  {
   "cell_type": "code",
   "execution_count": 395,
   "metadata": {},
   "outputs": [
    {
     "data": {
      "text/plain": [
       "65702"
      ]
     },
     "execution_count": 395,
     "metadata": {},
     "output_type": "execute_result"
    }
   ],
   "source": [
    "cr_p_run=list(poblation[\"runtime_minutes\"])\n",
    "cr_p_rat=list(poblation[\"numvotes\"])\n",
    "len(cr_p_run)\n",
    "#print(cr_s_run,cr_s_votes)"
   ]
  },
  {
   "cell_type": "code",
   "execution_count": 396,
   "metadata": {},
   "outputs": [
    {
     "name": "stderr",
     "output_type": "stream",
     "text": [
      "No handles with labels found to put in legend.\n"
     ]
    },
    {
     "data": {
      "image/png": "[encoded data removed]",
      "text/plain": [
       "<Figure size 432x288 with 1 Axes>"
      ]
     },
     "metadata": {
      "needs_background": "light"
     },
     "output_type": "display_data"
    }
   ],
   "source": [
    "fig, ax = plt.subplots()\n",
    "\n",
    "ax.scatter(cr_p_run, cr_p_rat)\n",
    "#label=\"actual data\"\n",
    "\n",
    "\n",
    "ax.set_title(\"-\")\n",
    "ax.set_xlabel(\"Runtime\")\n",
    "ax.set_ylabel(\"Number of votes\")\n",
    "\n",
    "ax.legend();"
   ]
  },
  {
   "cell_type": "code",
   "execution_count": 92,
   "metadata": {},
   "outputs": [
    {
     "data": {
      "text/html": [
       "<div>\n",
       "<style scoped>\n",
       "    .dataframe tbody tr th:only-of-type {\n",
       "        vertical-align: middle;\n",
       "    }\n",
       "\n",
       "    .dataframe tbody tr th {\n",
       "        vertical-align: top;\n",
       "    }\n",
       "\n",
       "    .dataframe thead th {\n",
       "        text-align: right;\n",
       "    }\n",
       "</style>\n",
       "<table border=\"1\" class=\"dataframe\">\n",
       "  <thead>\n",
       "    <tr style=\"text-align: right;\">\n",
       "      <th></th>\n",
       "      <th>averagerating</th>\n",
       "    </tr>\n",
       "  </thead>\n",
       "  <tbody>\n",
       "    <tr>\n",
       "      <th>0</th>\n",
       "      <td>8.6</td>\n",
       "    </tr>\n",
       "    <tr>\n",
       "      <th>1</th>\n",
       "      <td>5.8</td>\n",
       "    </tr>\n",
       "    <tr>\n",
       "      <th>2</th>\n",
       "      <td>7.2</td>\n",
       "    </tr>\n",
       "    <tr>\n",
       "      <th>3</th>\n",
       "      <td>8.0</td>\n",
       "    </tr>\n",
       "    <tr>\n",
       "      <th>4</th>\n",
       "      <td>6.8</td>\n",
       "    </tr>\n",
       "  </tbody>\n",
       "</table>\n",
       "</div>"
      ],
      "text/plain": [
       "   averagerating\n",
       "0            8.6\n",
       "1            5.8\n",
       "2            7.2\n",
       "3            8.0\n",
       "4            6.8"
      ]
     },
     "execution_count": 92,
     "metadata": {},
     "output_type": "execute_result"
    }
   ],
   "source": [
    "nueva1= pd.read_sql(\"\"\"\n",
    "SELECT mr.averagerating\n",
    "  FROM movie_basics mb\n",
    "  JOIN movie_ratings mr USING(movie_id) \n",
    "  WHERE mb.runtime_minutes AND mb.genres IS NOT Null \n",
    " \n",
    "  ORDER BY mr.numvotes, mb.runtime_minutes DESC\n",
    "  \n",
    "  \n",
    "  ;\n",
    "\"\"\", conn)\n",
    "#\n",
    "nueva1.head()"
   ]
  },
  {
   "cell_type": "code",
   "execution_count": 106,
   "metadata": {},
   "outputs": [
    {
     "data": {
      "text/html": [
       "<div>\n",
       "<style scoped>\n",
       "    .dataframe tbody tr th:only-of-type {\n",
       "        vertical-align: middle;\n",
       "    }\n",
       "\n",
       "    .dataframe tbody tr th {\n",
       "        vertical-align: top;\n",
       "    }\n",
       "\n",
       "    .dataframe thead th {\n",
       "        text-align: right;\n",
       "    }\n",
       "</style>\n",
       "<table border=\"1\" class=\"dataframe\">\n",
       "  <thead>\n",
       "    <tr style=\"text-align: right;\">\n",
       "      <th></th>\n",
       "      <th>runtime_minutes</th>\n",
       "      <th>numvotes</th>\n",
       "      <th>averagerating</th>\n",
       "      <th>genres</th>\n",
       "    </tr>\n",
       "  </thead>\n",
       "  <tbody>\n",
       "    <tr>\n",
       "      <th>0</th>\n",
       "      <td>51420.0</td>\n",
       "      <td>17</td>\n",
       "      <td>5.0</td>\n",
       "      <td>Documentary</td>\n",
       "    </tr>\n",
       "    <tr>\n",
       "      <th>1</th>\n",
       "      <td>14400.0</td>\n",
       "      <td>69</td>\n",
       "      <td>6.2</td>\n",
       "      <td>Documentary</td>\n",
       "    </tr>\n",
       "    <tr>\n",
       "      <th>2</th>\n",
       "      <td>1440.0</td>\n",
       "      <td>219</td>\n",
       "      <td>8.9</td>\n",
       "      <td>Drama</td>\n",
       "    </tr>\n",
       "    <tr>\n",
       "      <th>3</th>\n",
       "      <td>1100.0</td>\n",
       "      <td>5</td>\n",
       "      <td>8.6</td>\n",
       "      <td>Comedy,History</td>\n",
       "    </tr>\n",
       "    <tr>\n",
       "      <th>4</th>\n",
       "      <td>808.0</td>\n",
       "      <td>100</td>\n",
       "      <td>8.5</td>\n",
       "      <td>Drama,Fantasy,Musical</td>\n",
       "    </tr>\n",
       "    <tr>\n",
       "      <th>5</th>\n",
       "      <td>746.0</td>\n",
       "      <td>162</td>\n",
       "      <td>8.2</td>\n",
       "      <td>Documentary</td>\n",
       "    </tr>\n",
       "    <tr>\n",
       "      <th>6</th>\n",
       "      <td>724.0</td>\n",
       "      <td>59</td>\n",
       "      <td>8.5</td>\n",
       "      <td>Documentary</td>\n",
       "    </tr>\n",
       "    <tr>\n",
       "      <th>7</th>\n",
       "      <td>720.0</td>\n",
       "      <td>19</td>\n",
       "      <td>7.8</td>\n",
       "      <td>Documentary</td>\n",
       "    </tr>\n",
       "    <tr>\n",
       "      <th>8</th>\n",
       "      <td>607.0</td>\n",
       "      <td>218</td>\n",
       "      <td>9.3</td>\n",
       "      <td>Documentary</td>\n",
       "    </tr>\n",
       "    <tr>\n",
       "      <th>9</th>\n",
       "      <td>601.0</td>\n",
       "      <td>22</td>\n",
       "      <td>8.6</td>\n",
       "      <td>Drama</td>\n",
       "    </tr>\n",
       "    <tr>\n",
       "      <th>10</th>\n",
       "      <td>500.0</td>\n",
       "      <td>13</td>\n",
       "      <td>6.1</td>\n",
       "      <td>Documentary</td>\n",
       "    </tr>\n",
       "    <tr>\n",
       "      <th>11</th>\n",
       "      <td>495.0</td>\n",
       "      <td>96</td>\n",
       "      <td>8.3</td>\n",
       "      <td>Documentary</td>\n",
       "    </tr>\n",
       "    <tr>\n",
       "      <th>12</th>\n",
       "      <td>485.0</td>\n",
       "      <td>150</td>\n",
       "      <td>7.8</td>\n",
       "      <td>Adventure,Drama,Fantasy</td>\n",
       "    </tr>\n",
       "    <tr>\n",
       "      <th>13</th>\n",
       "      <td>480.0</td>\n",
       "      <td>26</td>\n",
       "      <td>4.2</td>\n",
       "      <td>Drama</td>\n",
       "    </tr>\n",
       "    <tr>\n",
       "      <th>14</th>\n",
       "      <td>480.0</td>\n",
       "      <td>6</td>\n",
       "      <td>6.8</td>\n",
       "      <td>Documentary</td>\n",
       "    </tr>\n",
       "    <tr>\n",
       "      <th>15</th>\n",
       "      <td>476.0</td>\n",
       "      <td>247</td>\n",
       "      <td>6.4</td>\n",
       "      <td>Documentary</td>\n",
       "    </tr>\n",
       "    <tr>\n",
       "      <th>16</th>\n",
       "      <td>467.0</td>\n",
       "      <td>14946</td>\n",
       "      <td>8.9</td>\n",
       "      <td>Biography,Crime,Documentary</td>\n",
       "    </tr>\n",
       "    <tr>\n",
       "      <th>17</th>\n",
       "      <td>450.0</td>\n",
       "      <td>43</td>\n",
       "      <td>6.7</td>\n",
       "      <td>Biography,Documentary,History</td>\n",
       "    </tr>\n",
       "    <tr>\n",
       "      <th>18</th>\n",
       "      <td>416.0</td>\n",
       "      <td>9</td>\n",
       "      <td>8.4</td>\n",
       "      <td>Documentary</td>\n",
       "    </tr>\n",
       "    <tr>\n",
       "      <th>19</th>\n",
       "      <td>383.0</td>\n",
       "      <td>6</td>\n",
       "      <td>9.2</td>\n",
       "      <td>Music</td>\n",
       "    </tr>\n",
       "  </tbody>\n",
       "</table>\n",
       "</div>"
      ],
      "text/plain": [
       "    runtime_minutes  numvotes  averagerating                         genres\n",
       "0           51420.0        17            5.0                    Documentary\n",
       "1           14400.0        69            6.2                    Documentary\n",
       "2            1440.0       219            8.9                          Drama\n",
       "3            1100.0         5            8.6                 Comedy,History\n",
       "4             808.0       100            8.5          Drama,Fantasy,Musical\n",
       "5             746.0       162            8.2                    Documentary\n",
       "6             724.0        59            8.5                    Documentary\n",
       "7             720.0        19            7.8                    Documentary\n",
       "8             607.0       218            9.3                    Documentary\n",
       "9             601.0        22            8.6                          Drama\n",
       "10            500.0        13            6.1                    Documentary\n",
       "11            495.0        96            8.3                    Documentary\n",
       "12            485.0       150            7.8        Adventure,Drama,Fantasy\n",
       "13            480.0        26            4.2                          Drama\n",
       "14            480.0         6            6.8                    Documentary\n",
       "15            476.0       247            6.4                    Documentary\n",
       "16            467.0     14946            8.9    Biography,Crime,Documentary\n",
       "17            450.0        43            6.7  Biography,Documentary,History\n",
       "18            416.0         9            8.4                    Documentary\n",
       "19            383.0         6            9.2                          Music"
      ]
     },
     "execution_count": 106,
     "metadata": {},
     "output_type": "execute_result"
    }
   ],
   "source": [
    "allruntime= pd.read_sql(\"\"\"\n",
    "SELECT mb.runtime_minutes, mr.numvotes, mr.averagerating, mb.genres\n",
    "  FROM movie_basics mb\n",
    "  JOIN movie_ratings mr USING(movie_id) \n",
    "  WHERE mb.runtime_minutes AND mb.genres IS NOT Null \n",
    " \n",
    "  ORDER BY mb.runtime_minutes DESC\n",
    "  \n",
    "  \n",
    "  ;\n",
    "\"\"\", conn)\n",
    "#\n",
    "allruntime.head(20)\n",
    "# AND mr.numvotes > 40000\n",
    "# GROUP BY mb.genres"
   ]
  },
  {
   "cell_type": "code",
   "execution_count": 56,
   "metadata": {},
   "outputs": [
    {
     "data": {
      "text/plain": [
       "0.01242764319536531"
      ]
     },
     "execution_count": 56,
     "metadata": {},
     "output_type": "execute_result"
    }
   ],
   "source": [
    "run=list(allruntime[\"runtime_minutes\"])\n",
    "votes=list(allruntime[\"numvotes\"])\n",
    "#print(run,rat)\n",
    "correlation = np.corrcoef(run,votes)\n",
    "correlation[0][1]"
   ]
  },
  {
   "cell_type": "code",
   "execution_count": 57,
   "metadata": {},
   "outputs": [
    {
     "data": {
      "text/plain": [
       "83495.60323921194"
      ]
     },
     "execution_count": 57,
     "metadata": {},
     "output_type": "execute_result"
    }
   ],
   "source": [
    "covariance = np.cov(run,votes)\n",
    "covariance[0][1]"
   ]
  },
  {
   "cell_type": "code",
   "execution_count": 58,
   "metadata": {},
   "outputs": [
    {
     "data": {
      "text/plain": [
       "209.37542392280452"
      ]
     },
     "execution_count": 58,
     "metadata": {},
     "output_type": "execute_result"
    }
   ],
   "source": [
    "rm=sum(run)/65720\n",
    "rst=np.std(run)\n",
    "rst"
   ]
  },
  {
   "cell_type": "code",
   "execution_count": 59,
   "metadata": {},
   "outputs": [
    {
     "data": {
      "text/plain": [
       "94.7322732805843"
      ]
     },
     "execution_count": 59,
     "metadata": {},
     "output_type": "execute_result"
    }
   ],
   "source": [
    "rm"
   ]
  },
  {
   "cell_type": "code",
   "execution_count": 61,
   "metadata": {},
   "outputs": [
    {
     "name": "stdout",
     "output_type": "stream",
     "text": [
      "3954.6738435788193 32087.99038387164\n"
     ]
    }
   ],
   "source": [
    "vm=sum(votes)/65720\n",
    "vst=np.std(votes)\n",
    "print(vm, vst)"
   ]
  },
  {
   "cell_type": "code",
   "execution_count": 83,
   "metadata": {},
   "outputs": [],
   "source": [
    "# plotrun=allruntime[\"runtime_minutes\"]\n",
    "# plotrun.info()"
   ]
  },
  {
   "cell_type": "code",
   "execution_count": 449,
   "metadata": {},
   "outputs": [
    {
     "data": {
      "text/plain": [
       "<seaborn.axisgrid.FacetGrid at 0x2d6ad2fa400>"
      ]
     },
     "execution_count": 449,
     "metadata": {},
     "output_type": "execute_result"
    },
    {
     "data": {
      "image/png": "[encoded data removed]",
      "text/plain": [
       "<Figure size 360x360 with 1 Axes>"
      ]
     },
     "metadata": {},
     "output_type": "display_data"
    }
   ],
   "source": [
    "sbn.set(style='dark',)\n",
    "sbn.displot(cr_p_run, color='purple')"
   ]
  },
  {
   "cell_type": "markdown",
   "metadata": {},
   "source": [
    "## Hypothesis"
   ]
  }
 ],
 "metadata": {
  "kernelspec": {
   "display_name": "Python (learn-env)",
   "language": "python",
   "name": "learn-env"
  },
  "language_info": {
   "codemirror_mode": {
    "name": "ipython",
    "version": 3
   },
   "file_extension": ".py",
   "mimetype": "text/x-python",
   "name": "python",
   "nbconvert_exporter": "python",
   "pygments_lexer": "ipython3",
   "version": "3.8.5"
  }
 },
 "nbformat": 4,
 "nbformat_minor": 4
}
