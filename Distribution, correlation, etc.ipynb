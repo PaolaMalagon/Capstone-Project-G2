{
 "cells": [
  {
   "cell_type": "code",
   "execution_count": 175,
   "metadata": {},
   "outputs": [],
   "source": [
    "import pandas as pd\n",
    "import sqlite3\n",
    "conn = sqlite3.connect('data/im.db')\n",
    "cur = conn.cursor()\n",
    "import seaborn as sbn\n",
    "from scipy import stats\n",
    "import matplotlib.pyplot as plt\n",
    "%matplotlib inline\n",
    "\n",
    "import numpy as np\n"
   ]
  },
  {
   "cell_type": "markdown",
   "metadata": {},
   "source": [
    "# Poblation"
   ]
  },
  {
   "cell_type": "code",
   "execution_count": 168,
   "metadata": {},
   "outputs": [
    {
     "name": "stdout",
     "output_type": "stream",
     "text": [
      "<class 'pandas.core.frame.DataFrame'>\n",
      "RangeIndex: 217 entries, 0 to 216\n",
      "Data columns (total 3 columns):\n",
      " #   Column           Non-Null Count  Dtype  \n",
      "---  ------           --------------  -----  \n",
      " 0   runtime_minutes  217 non-null    float64\n",
      " 1   numvotes         217 non-null    int64  \n",
      " 2   averagerating    217 non-null    float64\n",
      "dtypes: float64(2), int64(1)\n",
      "memory usage: 5.2 KB\n"
     ]
    }
   ],
   "source": [
    "poblation= pd.read_sql(\"\"\"\n",
    "SELECT mb.runtime_minutes, mr.numvotes, mr.averagerating\n",
    "  FROM movie_basics mb\n",
    "  JOIN movie_ratings mr USING(movie_id) \n",
    "  WHERE mb.runtime_minutes AND mb.genres IS NOT Null \n",
    "  AND mb.runtime_minutes < 210 AND mb.runtime_minutes > 30\n",
    "  AND mr.numvotes > 250000\n",
    "  \n",
    "  \n",
    "  ;\n",
    "\"\"\", conn)\n",
    "#ORDER BY mr.numvotes, mb.runtime_minutes DESC\n",
    "#AND mr.numvotes > 400000\n",
    "#  AND mr.averagerating > 6\n",
    "poblation.info()\n",
    "#poblation.tail()"
   ]
  },
  {
   "cell_type": "code",
   "execution_count": 166,
   "metadata": {},
   "outputs": [
    {
     "data": {
      "text/html": [
       "<div>\n",
       "<style scoped>\n",
       "    .dataframe tbody tr th:only-of-type {\n",
       "        vertical-align: middle;\n",
       "    }\n",
       "\n",
       "    .dataframe tbody tr th {\n",
       "        vertical-align: top;\n",
       "    }\n",
       "\n",
       "    .dataframe thead th {\n",
       "        text-align: right;\n",
       "    }\n",
       "</style>\n",
       "<table border=\"1\" class=\"dataframe\">\n",
       "  <thead>\n",
       "    <tr style=\"text-align: right;\">\n",
       "      <th></th>\n",
       "      <th>runtime_minutes</th>\n",
       "      <th>numvotes</th>\n",
       "      <th>averagerating</th>\n",
       "    </tr>\n",
       "  </thead>\n",
       "  <tbody>\n",
       "    <tr>\n",
       "      <th>count</th>\n",
       "      <td>217.000000</td>\n",
       "      <td>2.170000e+02</td>\n",
       "      <td>217.000000</td>\n",
       "    </tr>\n",
       "    <tr>\n",
       "      <th>mean</th>\n",
       "      <td>123.387097</td>\n",
       "      <td>4.543959e+05</td>\n",
       "      <td>7.395853</td>\n",
       "    </tr>\n",
       "    <tr>\n",
       "      <th>std</th>\n",
       "      <td>19.746951</td>\n",
       "      <td>2.101956e+05</td>\n",
       "      <td>0.653149</td>\n",
       "    </tr>\n",
       "    <tr>\n",
       "      <th>min</th>\n",
       "      <td>83.000000</td>\n",
       "      <td>2.509760e+05</td>\n",
       "      <td>4.100000</td>\n",
       "    </tr>\n",
       "    <tr>\n",
       "      <th>25%</th>\n",
       "      <td>108.000000</td>\n",
       "      <td>3.155840e+05</td>\n",
       "      <td>7.000000</td>\n",
       "    </tr>\n",
       "    <tr>\n",
       "      <th>50%</th>\n",
       "      <td>123.000000</td>\n",
       "      <td>3.955720e+05</td>\n",
       "      <td>7.500000</td>\n",
       "    </tr>\n",
       "    <tr>\n",
       "      <th>75%</th>\n",
       "      <td>136.000000</td>\n",
       "      <td>5.358360e+05</td>\n",
       "      <td>7.800000</td>\n",
       "    </tr>\n",
       "    <tr>\n",
       "      <th>max</th>\n",
       "      <td>181.000000</td>\n",
       "      <td>1.841066e+06</td>\n",
       "      <td>8.800000</td>\n",
       "    </tr>\n",
       "  </tbody>\n",
       "</table>\n",
       "</div>"
      ],
      "text/plain": [
       "       runtime_minutes      numvotes  averagerating\n",
       "count       217.000000  2.170000e+02     217.000000\n",
       "mean        123.387097  4.543959e+05       7.395853\n",
       "std          19.746951  2.101956e+05       0.653149\n",
       "min          83.000000  2.509760e+05       4.100000\n",
       "25%         108.000000  3.155840e+05       7.000000\n",
       "50%         123.000000  3.955720e+05       7.500000\n",
       "75%         136.000000  5.358360e+05       7.800000\n",
       "max         181.000000  1.841066e+06       8.800000"
      ]
     },
     "execution_count": 166,
     "metadata": {},
     "output_type": "execute_result"
    }
   ],
   "source": [
    "poblation.describe()"
   ]
  },
  {
   "cell_type": "code",
   "execution_count": 167,
   "metadata": {},
   "outputs": [
    {
     "name": "stdout",
     "output_type": "stream",
     "text": [
      "123.38709677419355 19.746950523009474\n"
     ]
    }
   ],
   "source": [
    "p_mean=poblation[\"runtime_minutes\"].mean()\n",
    "p_std=poblation[\"runtime_minutes\"].std()\n",
    "print(p_mean,p_std)"
   ]
  },
  {
   "cell_type": "markdown",
   "metadata": {},
   "source": [
    "# Sample"
   ]
  },
  {
   "cell_type": "code",
   "execution_count": 193,
   "metadata": {},
   "outputs": [
    {
     "name": "stdout",
     "output_type": "stream",
     "text": [
      "<class 'pandas.core.frame.DataFrame'>\n",
      "RangeIndex: 131 entries, 0 to 130\n",
      "Data columns (total 3 columns):\n",
      " #   Column           Non-Null Count  Dtype  \n",
      "---  ------           --------------  -----  \n",
      " 0   runtime_minutes  131 non-null    float64\n",
      " 1   numvotes         131 non-null    int64  \n",
      " 2   averagerating    131 non-null    float64\n",
      "dtypes: float64(2), int64(1)\n",
      "memory usage: 3.2 KB\n"
     ]
    }
   ],
   "source": [
    "sample= pd.read_sql(\"\"\"\n",
    "SELECT mb.runtime_minutes, mr.numvotes, mr.averagerating\n",
    "  FROM movie_basics mb\n",
    "  JOIN movie_ratings mr USING(movie_id) \n",
    "  WHERE mb.runtime_minutes AND mb.genres IS NOT Null \n",
    "  AND mb.runtime_minutes < 130 AND mb.runtime_minutes > 90\n",
    "  AND mr.numvotes > 250000\n",
    "  \n",
    "  \n",
    "  ;\n",
    "\"\"\", conn)\n",
    "#ORDER BY mr.numvotes, mb.runtime_minutes DESC\n",
    "#AND mr.numvotes > 400000\n",
    "#  AND mr.averagerating > 6\n",
    "sample.info()\n",
    "#poblation.tail()"
   ]
  },
  {
   "cell_type": "code",
   "execution_count": 194,
   "metadata": {},
   "outputs": [
    {
     "data": {
      "text/html": [
       "<div>\n",
       "<style scoped>\n",
       "    .dataframe tbody tr th:only-of-type {\n",
       "        vertical-align: middle;\n",
       "    }\n",
       "\n",
       "    .dataframe tbody tr th {\n",
       "        vertical-align: top;\n",
       "    }\n",
       "\n",
       "    .dataframe thead th {\n",
       "        text-align: right;\n",
       "    }\n",
       "</style>\n",
       "<table border=\"1\" class=\"dataframe\">\n",
       "  <thead>\n",
       "    <tr style=\"text-align: right;\">\n",
       "      <th></th>\n",
       "      <th>runtime_minutes</th>\n",
       "      <th>numvotes</th>\n",
       "      <th>averagerating</th>\n",
       "    </tr>\n",
       "  </thead>\n",
       "  <tbody>\n",
       "    <tr>\n",
       "      <th>count</th>\n",
       "      <td>131.000000</td>\n",
       "      <td>131.000000</td>\n",
       "      <td>131.000000</td>\n",
       "    </tr>\n",
       "    <tr>\n",
       "      <th>mean</th>\n",
       "      <td>111.366412</td>\n",
       "      <td>413693.473282</td>\n",
       "      <td>7.303817</td>\n",
       "    </tr>\n",
       "    <tr>\n",
       "      <th>std</th>\n",
       "      <td>10.316683</td>\n",
       "      <td>138300.815311</td>\n",
       "      <td>0.678959</td>\n",
       "    </tr>\n",
       "    <tr>\n",
       "      <th>min</th>\n",
       "      <td>91.000000</td>\n",
       "      <td>252281.000000</td>\n",
       "      <td>4.100000</td>\n",
       "    </tr>\n",
       "    <tr>\n",
       "      <th>25%</th>\n",
       "      <td>103.000000</td>\n",
       "      <td>305005.500000</td>\n",
       "      <td>6.900000</td>\n",
       "    </tr>\n",
       "    <tr>\n",
       "      <th>50%</th>\n",
       "      <td>112.000000</td>\n",
       "      <td>371204.000000</td>\n",
       "      <td>7.400000</td>\n",
       "    </tr>\n",
       "    <tr>\n",
       "      <th>75%</th>\n",
       "      <td>120.000000</td>\n",
       "      <td>514996.500000</td>\n",
       "      <td>7.800000</td>\n",
       "    </tr>\n",
       "    <tr>\n",
       "      <th>max</th>\n",
       "      <td>129.000000</td>\n",
       "      <td>948394.000000</td>\n",
       "      <td>8.500000</td>\n",
       "    </tr>\n",
       "  </tbody>\n",
       "</table>\n",
       "</div>"
      ],
      "text/plain": [
       "       runtime_minutes       numvotes  averagerating\n",
       "count       131.000000     131.000000     131.000000\n",
       "mean        111.366412  413693.473282       7.303817\n",
       "std          10.316683  138300.815311       0.678959\n",
       "min          91.000000  252281.000000       4.100000\n",
       "25%         103.000000  305005.500000       6.900000\n",
       "50%         112.000000  371204.000000       7.400000\n",
       "75%         120.000000  514996.500000       7.800000\n",
       "max         129.000000  948394.000000       8.500000"
      ]
     },
     "execution_count": 194,
     "metadata": {},
     "output_type": "execute_result"
    }
   ],
   "source": [
    "sample.describe()"
   ]
  },
  {
   "cell_type": "code",
   "execution_count": 195,
   "metadata": {
    "scrolled": true
   },
   "outputs": [
    {
     "name": "stdout",
     "output_type": "stream",
     "text": [
      "111.36641221374046 10.31668261146459\n"
     ]
    }
   ],
   "source": [
    "s_mean=sample[\"runtime_minutes\"].mean()\n",
    "s_std=sample[\"runtime_minutes\"].std()\n",
    "print(s_mean,s_std)"
   ]
  },
  {
   "cell_type": "markdown",
   "metadata": {},
   "source": [
    "# Z-score"
   ]
  },
  {
   "cell_type": "code",
   "execution_count": 198,
   "metadata": {},
   "outputs": [
    {
     "data": {
      "text/plain": [
       "-5.37621296836578"
      ]
     },
     "execution_count": 198,
     "metadata": {},
     "output_type": "execute_result"
    }
   ],
   "source": [
    "z = (s_mean - p_mean)/(p_std/np.sqrt(78))\n",
    "z"
   ]
  },
  {
   "cell_type": "code",
   "execution_count": 199,
   "metadata": {},
   "outputs": [
    {
     "data": {
      "text/plain": [
       "3.803440506093555e-08"
      ]
     },
     "execution_count": 199,
     "metadata": {},
     "output_type": "execute_result"
    }
   ],
   "source": [
    "stats.norm.cdf(z)"
   ]
  },
  {
   "cell_type": "code",
   "execution_count": 197,
   "metadata": {},
   "outputs": [
    {
     "name": "stdout",
     "output_type": "stream",
     "text": [
      "0.9999999619655949\n"
     ]
    }
   ],
   "source": [
    "print(1 - stats.norm.cdf(z))"
   ]
  },
  {
   "cell_type": "markdown",
   "metadata": {},
   "source": [
    "# Pruebas"
   ]
  },
  {
   "cell_type": "code",
   "execution_count": 181,
   "metadata": {},
   "outputs": [
    {
     "data": {
      "text/plain": [
       "(0.03593031911292577, 1.8, 536.0)"
      ]
     },
     "execution_count": 181,
     "metadata": {},
     "output_type": "execute_result"
    }
   ],
   "source": [
    "import numpy as np \n",
    "x = np.array([434, 694, 457, 534, 720, 400, 484, 478, 610, 641, 425, 636, 454,\n",
    "514, 563, 370, 499, 640, 501, 625, 612, 471, 598, 509, 531])\n",
    "x_bar = x.mean()\n",
    "n = len(x)\n",
    "mu = 500\n",
    "sigma = 100\n",
    "z = (x_bar - mu)/(sigma/np.sqrt(n))\n",
    "p = 1 - stats.norm.cdf(z)\n",
    "p,z, x.mean()\n"
   ]
  },
  {
   "cell_type": "code",
   "execution_count": 92,
   "metadata": {},
   "outputs": [
    {
     "data": {
      "text/html": [
       "<div>\n",
       "<style scoped>\n",
       "    .dataframe tbody tr th:only-of-type {\n",
       "        vertical-align: middle;\n",
       "    }\n",
       "\n",
       "    .dataframe tbody tr th {\n",
       "        vertical-align: top;\n",
       "    }\n",
       "\n",
       "    .dataframe thead th {\n",
       "        text-align: right;\n",
       "    }\n",
       "</style>\n",
       "<table border=\"1\" class=\"dataframe\">\n",
       "  <thead>\n",
       "    <tr style=\"text-align: right;\">\n",
       "      <th></th>\n",
       "      <th>averagerating</th>\n",
       "    </tr>\n",
       "  </thead>\n",
       "  <tbody>\n",
       "    <tr>\n",
       "      <th>0</th>\n",
       "      <td>8.6</td>\n",
       "    </tr>\n",
       "    <tr>\n",
       "      <th>1</th>\n",
       "      <td>5.8</td>\n",
       "    </tr>\n",
       "    <tr>\n",
       "      <th>2</th>\n",
       "      <td>7.2</td>\n",
       "    </tr>\n",
       "    <tr>\n",
       "      <th>3</th>\n",
       "      <td>8.0</td>\n",
       "    </tr>\n",
       "    <tr>\n",
       "      <th>4</th>\n",
       "      <td>6.8</td>\n",
       "    </tr>\n",
       "  </tbody>\n",
       "</table>\n",
       "</div>"
      ],
      "text/plain": [
       "   averagerating\n",
       "0            8.6\n",
       "1            5.8\n",
       "2            7.2\n",
       "3            8.0\n",
       "4            6.8"
      ]
     },
     "execution_count": 92,
     "metadata": {},
     "output_type": "execute_result"
    }
   ],
   "source": [
    "nueva1= pd.read_sql(\"\"\"\n",
    "SELECT mr.averagerating\n",
    "  FROM movie_basics mb\n",
    "  JOIN movie_ratings mr USING(movie_id) \n",
    "  WHERE mb.runtime_minutes AND mb.genres IS NOT Null \n",
    " \n",
    "  ORDER BY mr.numvotes, mb.runtime_minutes DESC\n",
    "  \n",
    "  \n",
    "  ;\n",
    "\"\"\", conn)\n",
    "#\n",
    "nueva1.head()"
   ]
  },
  {
   "cell_type": "code",
   "execution_count": null,
   "metadata": {},
   "outputs": [],
   "source": []
  },
  {
   "cell_type": "code",
   "execution_count": 106,
   "metadata": {},
   "outputs": [
    {
     "data": {
      "text/html": [
       "<div>\n",
       "<style scoped>\n",
       "    .dataframe tbody tr th:only-of-type {\n",
       "        vertical-align: middle;\n",
       "    }\n",
       "\n",
       "    .dataframe tbody tr th {\n",
       "        vertical-align: top;\n",
       "    }\n",
       "\n",
       "    .dataframe thead th {\n",
       "        text-align: right;\n",
       "    }\n",
       "</style>\n",
       "<table border=\"1\" class=\"dataframe\">\n",
       "  <thead>\n",
       "    <tr style=\"text-align: right;\">\n",
       "      <th></th>\n",
       "      <th>runtime_minutes</th>\n",
       "      <th>numvotes</th>\n",
       "      <th>averagerating</th>\n",
       "      <th>genres</th>\n",
       "    </tr>\n",
       "  </thead>\n",
       "  <tbody>\n",
       "    <tr>\n",
       "      <th>0</th>\n",
       "      <td>51420.0</td>\n",
       "      <td>17</td>\n",
       "      <td>5.0</td>\n",
       "      <td>Documentary</td>\n",
       "    </tr>\n",
       "    <tr>\n",
       "      <th>1</th>\n",
       "      <td>14400.0</td>\n",
       "      <td>69</td>\n",
       "      <td>6.2</td>\n",
       "      <td>Documentary</td>\n",
       "    </tr>\n",
       "    <tr>\n",
       "      <th>2</th>\n",
       "      <td>1440.0</td>\n",
       "      <td>219</td>\n",
       "      <td>8.9</td>\n",
       "      <td>Drama</td>\n",
       "    </tr>\n",
       "    <tr>\n",
       "      <th>3</th>\n",
       "      <td>1100.0</td>\n",
       "      <td>5</td>\n",
       "      <td>8.6</td>\n",
       "      <td>Comedy,History</td>\n",
       "    </tr>\n",
       "    <tr>\n",
       "      <th>4</th>\n",
       "      <td>808.0</td>\n",
       "      <td>100</td>\n",
       "      <td>8.5</td>\n",
       "      <td>Drama,Fantasy,Musical</td>\n",
       "    </tr>\n",
       "    <tr>\n",
       "      <th>5</th>\n",
       "      <td>746.0</td>\n",
       "      <td>162</td>\n",
       "      <td>8.2</td>\n",
       "      <td>Documentary</td>\n",
       "    </tr>\n",
       "    <tr>\n",
       "      <th>6</th>\n",
       "      <td>724.0</td>\n",
       "      <td>59</td>\n",
       "      <td>8.5</td>\n",
       "      <td>Documentary</td>\n",
       "    </tr>\n",
       "    <tr>\n",
       "      <th>7</th>\n",
       "      <td>720.0</td>\n",
       "      <td>19</td>\n",
       "      <td>7.8</td>\n",
       "      <td>Documentary</td>\n",
       "    </tr>\n",
       "    <tr>\n",
       "      <th>8</th>\n",
       "      <td>607.0</td>\n",
       "      <td>218</td>\n",
       "      <td>9.3</td>\n",
       "      <td>Documentary</td>\n",
       "    </tr>\n",
       "    <tr>\n",
       "      <th>9</th>\n",
       "      <td>601.0</td>\n",
       "      <td>22</td>\n",
       "      <td>8.6</td>\n",
       "      <td>Drama</td>\n",
       "    </tr>\n",
       "    <tr>\n",
       "      <th>10</th>\n",
       "      <td>500.0</td>\n",
       "      <td>13</td>\n",
       "      <td>6.1</td>\n",
       "      <td>Documentary</td>\n",
       "    </tr>\n",
       "    <tr>\n",
       "      <th>11</th>\n",
       "      <td>495.0</td>\n",
       "      <td>96</td>\n",
       "      <td>8.3</td>\n",
       "      <td>Documentary</td>\n",
       "    </tr>\n",
       "    <tr>\n",
       "      <th>12</th>\n",
       "      <td>485.0</td>\n",
       "      <td>150</td>\n",
       "      <td>7.8</td>\n",
       "      <td>Adventure,Drama,Fantasy</td>\n",
       "    </tr>\n",
       "    <tr>\n",
       "      <th>13</th>\n",
       "      <td>480.0</td>\n",
       "      <td>26</td>\n",
       "      <td>4.2</td>\n",
       "      <td>Drama</td>\n",
       "    </tr>\n",
       "    <tr>\n",
       "      <th>14</th>\n",
       "      <td>480.0</td>\n",
       "      <td>6</td>\n",
       "      <td>6.8</td>\n",
       "      <td>Documentary</td>\n",
       "    </tr>\n",
       "    <tr>\n",
       "      <th>15</th>\n",
       "      <td>476.0</td>\n",
       "      <td>247</td>\n",
       "      <td>6.4</td>\n",
       "      <td>Documentary</td>\n",
       "    </tr>\n",
       "    <tr>\n",
       "      <th>16</th>\n",
       "      <td>467.0</td>\n",
       "      <td>14946</td>\n",
       "      <td>8.9</td>\n",
       "      <td>Biography,Crime,Documentary</td>\n",
       "    </tr>\n",
       "    <tr>\n",
       "      <th>17</th>\n",
       "      <td>450.0</td>\n",
       "      <td>43</td>\n",
       "      <td>6.7</td>\n",
       "      <td>Biography,Documentary,History</td>\n",
       "    </tr>\n",
       "    <tr>\n",
       "      <th>18</th>\n",
       "      <td>416.0</td>\n",
       "      <td>9</td>\n",
       "      <td>8.4</td>\n",
       "      <td>Documentary</td>\n",
       "    </tr>\n",
       "    <tr>\n",
       "      <th>19</th>\n",
       "      <td>383.0</td>\n",
       "      <td>6</td>\n",
       "      <td>9.2</td>\n",
       "      <td>Music</td>\n",
       "    </tr>\n",
       "  </tbody>\n",
       "</table>\n",
       "</div>"
      ],
      "text/plain": [
       "    runtime_minutes  numvotes  averagerating                         genres\n",
       "0           51420.0        17            5.0                    Documentary\n",
       "1           14400.0        69            6.2                    Documentary\n",
       "2            1440.0       219            8.9                          Drama\n",
       "3            1100.0         5            8.6                 Comedy,History\n",
       "4             808.0       100            8.5          Drama,Fantasy,Musical\n",
       "5             746.0       162            8.2                    Documentary\n",
       "6             724.0        59            8.5                    Documentary\n",
       "7             720.0        19            7.8                    Documentary\n",
       "8             607.0       218            9.3                    Documentary\n",
       "9             601.0        22            8.6                          Drama\n",
       "10            500.0        13            6.1                    Documentary\n",
       "11            495.0        96            8.3                    Documentary\n",
       "12            485.0       150            7.8        Adventure,Drama,Fantasy\n",
       "13            480.0        26            4.2                          Drama\n",
       "14            480.0         6            6.8                    Documentary\n",
       "15            476.0       247            6.4                    Documentary\n",
       "16            467.0     14946            8.9    Biography,Crime,Documentary\n",
       "17            450.0        43            6.7  Biography,Documentary,History\n",
       "18            416.0         9            8.4                    Documentary\n",
       "19            383.0         6            9.2                          Music"
      ]
     },
     "execution_count": 106,
     "metadata": {},
     "output_type": "execute_result"
    }
   ],
   "source": [
    "allruntime= pd.read_sql(\"\"\"\n",
    "SELECT mb.runtime_minutes, mr.numvotes, mr.averagerating, mb.genres\n",
    "  FROM movie_basics mb\n",
    "  JOIN movie_ratings mr USING(movie_id) \n",
    "  WHERE mb.runtime_minutes AND mb.genres IS NOT Null \n",
    " \n",
    "  ORDER BY mb.runtime_minutes DESC\n",
    "  \n",
    "  \n",
    "  ;\n",
    "\"\"\", conn)\n",
    "#\n",
    "allruntime.head(20)\n",
    "# AND mr.numvotes > 40000\n",
    "# GROUP BY mb.genres"
   ]
  },
  {
   "cell_type": "code",
   "execution_count": 56,
   "metadata": {},
   "outputs": [
    {
     "data": {
      "text/plain": [
       "0.01242764319536531"
      ]
     },
     "execution_count": 56,
     "metadata": {},
     "output_type": "execute_result"
    }
   ],
   "source": [
    "run=list(allruntime[\"runtime_minutes\"])\n",
    "votes=list(allruntime[\"numvotes\"])\n",
    "#print(run,rat)\n",
    "correlation = np.corrcoef(run,votes)\n",
    "correlation[0][1]"
   ]
  },
  {
   "cell_type": "code",
   "execution_count": 57,
   "metadata": {},
   "outputs": [
    {
     "data": {
      "text/plain": [
       "83495.60323921194"
      ]
     },
     "execution_count": 57,
     "metadata": {},
     "output_type": "execute_result"
    }
   ],
   "source": [
    "covariance = np.cov(run,votes)\n",
    "covariance[0][1]"
   ]
  },
  {
   "cell_type": "code",
   "execution_count": 58,
   "metadata": {},
   "outputs": [
    {
     "data": {
      "text/plain": [
       "209.37542392280452"
      ]
     },
     "execution_count": 58,
     "metadata": {},
     "output_type": "execute_result"
    }
   ],
   "source": [
    "rm=sum(run)/65720\n",
    "rst=np.std(run)\n",
    "rst"
   ]
  },
  {
   "cell_type": "code",
   "execution_count": 59,
   "metadata": {},
   "outputs": [
    {
     "data": {
      "text/plain": [
       "94.7322732805843"
      ]
     },
     "execution_count": 59,
     "metadata": {},
     "output_type": "execute_result"
    }
   ],
   "source": [
    "rm"
   ]
  },
  {
   "cell_type": "code",
   "execution_count": 61,
   "metadata": {},
   "outputs": [
    {
     "name": "stdout",
     "output_type": "stream",
     "text": [
      "3954.6738435788193 32087.99038387164\n"
     ]
    }
   ],
   "source": [
    "vm=sum(votes)/65720\n",
    "vst=np.std(votes)\n",
    "print(vm, vst)"
   ]
  },
  {
   "cell_type": "code",
   "execution_count": 83,
   "metadata": {},
   "outputs": [],
   "source": [
    "# plotrun=allruntime[\"runtime_minutes\"]\n",
    "# plotrun.info()"
   ]
  },
  {
   "cell_type": "code",
   "execution_count": 151,
   "metadata": {},
   "outputs": [
    {
     "name": "stdout",
     "output_type": "stream",
     "text": [
      "<class 'pandas.core.frame.DataFrame'>\n",
      "RangeIndex: 618 entries, 0 to 617\n",
      "Data columns (total 1 columns):\n",
      " #   Column         Non-Null Count  Dtype  \n",
      "---  ------         --------------  -----  \n",
      " 0   averagerating  618 non-null    float64\n",
      "dtypes: float64(1)\n",
      "memory usage: 5.0 KB\n"
     ]
    },
    {
     "data": {
      "text/html": [
       "<div>\n",
       "<style scoped>\n",
       "    .dataframe tbody tr th:only-of-type {\n",
       "        vertical-align: middle;\n",
       "    }\n",
       "\n",
       "    .dataframe tbody tr th {\n",
       "        vertical-align: top;\n",
       "    }\n",
       "\n",
       "    .dataframe thead th {\n",
       "        text-align: right;\n",
       "    }\n",
       "</style>\n",
       "<table border=\"1\" class=\"dataframe\">\n",
       "  <thead>\n",
       "    <tr style=\"text-align: right;\">\n",
       "      <th></th>\n",
       "      <th>averagerating</th>\n",
       "    </tr>\n",
       "  </thead>\n",
       "  <tbody>\n",
       "    <tr>\n",
       "      <th>613</th>\n",
       "      <td>6.8</td>\n",
       "    </tr>\n",
       "    <tr>\n",
       "      <th>614</th>\n",
       "      <td>7.1</td>\n",
       "    </tr>\n",
       "    <tr>\n",
       "      <th>615</th>\n",
       "      <td>8.3</td>\n",
       "    </tr>\n",
       "    <tr>\n",
       "      <th>616</th>\n",
       "      <td>7.5</td>\n",
       "    </tr>\n",
       "    <tr>\n",
       "      <th>617</th>\n",
       "      <td>7.3</td>\n",
       "    </tr>\n",
       "  </tbody>\n",
       "</table>\n",
       "</div>"
      ],
      "text/plain": [
       "     averagerating\n",
       "613            6.8\n",
       "614            7.1\n",
       "615            8.3\n",
       "616            7.5\n",
       "617            7.3"
      ]
     },
     "execution_count": 151,
     "metadata": {},
     "output_type": "execute_result"
    }
   ],
   "source": [
    "rat= pd.read_sql(\"\"\"\n",
    "SELECT mr.averagerating\n",
    "  FROM movie_basics mb\n",
    "  JOIN movie_ratings mr USING(movie_id) \n",
    "  WHERE mb.runtime_minutes AND mb.genres IS NOT Null \n",
    "  AND mb.runtime_minutes < 200 AND mb.runtime_minutes > 40\n",
    "  AND mr.numvotes > 100000\n",
    "  \n",
    "  \n",
    "  ;\n",
    "\"\"\", conn)\n",
    "#ORDER BY mr.numvotes, mb.runtime_minutes DESC\n",
    "#AND mr.numvotes > 400000\n",
    "#  AND mr.averagerating > 6\n",
    "rat.info()\n",
    "rat.tail()"
   ]
  },
  {
   "cell_type": "code",
   "execution_count": 152,
   "metadata": {},
   "outputs": [
    {
     "name": "stderr",
     "output_type": "stream",
     "text": [
      "C:\\Users\\amalagonsanchez\\Anaconda3\\envs\\learn-env\\lib\\site-packages\\seaborn\\distributions.py:2551: FutureWarning: `distplot` is a deprecated function and will be removed in a future version. Please adapt your code to use either `displot` (a figure-level function with similar flexibility) or `histplot` (an axes-level function for histograms).\n",
      "  warnings.warn(msg, FutureWarning)\n"
     ]
    },
    {
     "data": {
      "text/plain": [
       "<AxesSubplot:ylabel='Density'>"
      ]
     },
     "execution_count": 152,
     "metadata": {},
     "output_type": "execute_result"
    },
    {
     "data": {
      "image/png": "[encoded data removed]",
      "text/plain": [
       "<Figure size 432x288 with 1 Axes>"
      ]
     },
     "metadata": {
      "needs_background": "light"
     },
     "output_type": "display_data"
    }
   ],
   "source": [
    "sbn.distplot(rat)"
   ]
  },
  {
   "cell_type": "code",
   "execution_count": null,
   "metadata": {},
   "outputs": [],
   "source": []
  },
  {
   "cell_type": "code",
   "execution_count": null,
   "metadata": {},
   "outputs": [],
   "source": []
  }
 ],
 "metadata": {
  "kernelspec": {
   "display_name": "Python (learn-env)",
   "language": "python",
   "name": "learn-env"
  },
  "language_info": {
   "codemirror_mode": {
    "name": "ipython",
    "version": 3
   },
   "file_extension": ".py",
   "mimetype": "text/x-python",
   "name": "python",
   "nbconvert_exporter": "python",
   "pygments_lexer": "ipython3",
   "version": "3.8.5"
  }
 },
 "nbformat": 4,
 "nbformat_minor": 4
}
