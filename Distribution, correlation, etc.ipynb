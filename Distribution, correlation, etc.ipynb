{
 "cells": [
  {
   "cell_type": "code",
   "execution_count": 175,
   "metadata": {},
   "outputs": [],
   "source": [
    "import pandas as pd\n",
    "import sqlite3\n",
    "conn = sqlite3.connect('data/im.db')\n",
    "cur = conn.cursor()\n",
    "import seaborn as sbn\n",
    "from scipy import stats\n",
    "import matplotlib.pyplot as plt\n",
    "%matplotlib inline\n",
    "\n",
    "import numpy as np\n"
   ]
  },
  {
   "cell_type": "markdown",
   "metadata": {},
   "source": [
    "# Poblation"
   ]
  },
  {
   "cell_type": "code",
   "execution_count": 229,
   "metadata": {},
   "outputs": [
    {
     "name": "stdout",
     "output_type": "stream",
     "text": [
      "<class 'pandas.core.frame.DataFrame'>\n",
      "RangeIndex: 217 entries, 0 to 216\n",
      "Data columns (total 3 columns):\n",
      " #   Column           Non-Null Count  Dtype  \n",
      "---  ------           --------------  -----  \n",
      " 0   runtime_minutes  217 non-null    float64\n",
      " 1   numvotes         217 non-null    int64  \n",
      " 2   averagerating    217 non-null    float64\n",
      "dtypes: float64(2), int64(1)\n",
      "memory usage: 5.2 KB\n"
     ]
    }
   ],
   "source": [
    "poblation= pd.read_sql(\"\"\"\n",
    "SELECT mb.runtime_minutes, mr.numvotes, mr.averagerating\n",
    "  FROM movie_basics mb\n",
    "  JOIN movie_ratings mr USING(movie_id) \n",
    "  WHERE mb.runtime_minutes AND mb.genres IS NOT Null \n",
    "  AND mb.runtime_minutes < 300 AND mb.runtime_minutes > 30\n",
    "  AND mr.numvotes > 250000\n",
    "  \n",
    "  \n",
    "  ;\n",
    "\"\"\", conn)\n",
    "#ORDER BY mr.numvotes, mb.runtime_minutes DESC\n",
    "#AND mr.numvotes > 400000\n",
    "#  AND mr.averagerating > 6\n",
    "poblation.info()\n",
    "#poblation.tail()"
   ]
  },
  {
   "cell_type": "code",
   "execution_count": 230,
   "metadata": {},
   "outputs": [
    {
     "data": {
      "text/html": [
       "<div>\n",
       "<style scoped>\n",
       "    .dataframe tbody tr th:only-of-type {\n",
       "        vertical-align: middle;\n",
       "    }\n",
       "\n",
       "    .dataframe tbody tr th {\n",
       "        vertical-align: top;\n",
       "    }\n",
       "\n",
       "    .dataframe thead th {\n",
       "        text-align: right;\n",
       "    }\n",
       "</style>\n",
       "<table border=\"1\" class=\"dataframe\">\n",
       "  <thead>\n",
       "    <tr style=\"text-align: right;\">\n",
       "      <th></th>\n",
       "      <th>runtime_minutes</th>\n",
       "      <th>numvotes</th>\n",
       "      <th>averagerating</th>\n",
       "    </tr>\n",
       "  </thead>\n",
       "  <tbody>\n",
       "    <tr>\n",
       "      <th>count</th>\n",
       "      <td>217.000000</td>\n",
       "      <td>2.170000e+02</td>\n",
       "      <td>217.000000</td>\n",
       "    </tr>\n",
       "    <tr>\n",
       "      <th>mean</th>\n",
       "      <td>123.387097</td>\n",
       "      <td>4.543959e+05</td>\n",
       "      <td>7.395853</td>\n",
       "    </tr>\n",
       "    <tr>\n",
       "      <th>std</th>\n",
       "      <td>19.746951</td>\n",
       "      <td>2.101956e+05</td>\n",
       "      <td>0.653149</td>\n",
       "    </tr>\n",
       "    <tr>\n",
       "      <th>min</th>\n",
       "      <td>83.000000</td>\n",
       "      <td>2.509760e+05</td>\n",
       "      <td>4.100000</td>\n",
       "    </tr>\n",
       "    <tr>\n",
       "      <th>25%</th>\n",
       "      <td>108.000000</td>\n",
       "      <td>3.155840e+05</td>\n",
       "      <td>7.000000</td>\n",
       "    </tr>\n",
       "    <tr>\n",
       "      <th>50%</th>\n",
       "      <td>123.000000</td>\n",
       "      <td>3.955720e+05</td>\n",
       "      <td>7.500000</td>\n",
       "    </tr>\n",
       "    <tr>\n",
       "      <th>75%</th>\n",
       "      <td>136.000000</td>\n",
       "      <td>5.358360e+05</td>\n",
       "      <td>7.800000</td>\n",
       "    </tr>\n",
       "    <tr>\n",
       "      <th>max</th>\n",
       "      <td>181.000000</td>\n",
       "      <td>1.841066e+06</td>\n",
       "      <td>8.800000</td>\n",
       "    </tr>\n",
       "  </tbody>\n",
       "</table>\n",
       "</div>"
      ],
      "text/plain": [
       "       runtime_minutes      numvotes  averagerating\n",
       "count       217.000000  2.170000e+02     217.000000\n",
       "mean        123.387097  4.543959e+05       7.395853\n",
       "std          19.746951  2.101956e+05       0.653149\n",
       "min          83.000000  2.509760e+05       4.100000\n",
       "25%         108.000000  3.155840e+05       7.000000\n",
       "50%         123.000000  3.955720e+05       7.500000\n",
       "75%         136.000000  5.358360e+05       7.800000\n",
       "max         181.000000  1.841066e+06       8.800000"
      ]
     },
     "execution_count": 230,
     "metadata": {},
     "output_type": "execute_result"
    }
   ],
   "source": [
    "poblation.describe()"
   ]
  },
  {
   "cell_type": "code",
   "execution_count": 231,
   "metadata": {},
   "outputs": [
    {
     "name": "stdout",
     "output_type": "stream",
     "text": [
      "123.38709677419355 19.746950523009474\n"
     ]
    }
   ],
   "source": [
    "p_mean=poblation[\"runtime_minutes\"].mean()\n",
    "p_std=poblation[\"runtime_minutes\"].std()\n",
    "print(p_mean,p_std)"
   ]
  },
  {
   "cell_type": "markdown",
   "metadata": {},
   "source": [
    "# Sample"
   ]
  },
  {
   "cell_type": "code",
   "execution_count": 232,
   "metadata": {},
   "outputs": [
    {
     "name": "stdout",
     "output_type": "stream",
     "text": [
      "<class 'pandas.core.frame.DataFrame'>\n",
      "RangeIndex: 194 entries, 0 to 193\n",
      "Data columns (total 3 columns):\n",
      " #   Column           Non-Null Count  Dtype  \n",
      "---  ------           --------------  -----  \n",
      " 0   runtime_minutes  194 non-null    float64\n",
      " 1   numvotes         194 non-null    int64  \n",
      " 2   averagerating    194 non-null    float64\n",
      "dtypes: float64(2), int64(1)\n",
      "memory usage: 4.7 KB\n"
     ]
    }
   ],
   "source": [
    "sample= pd.read_sql(\"\"\"\n",
    "SELECT mb.runtime_minutes, mr.numvotes, mr.averagerating\n",
    "  FROM movie_basics mb\n",
    "  JOIN movie_ratings mr USING(movie_id) \n",
    "  WHERE mb.runtime_minutes AND mb.genres IS NOT Null \n",
    "  AND mb.runtime_minutes < 150 AND mb.runtime_minutes > 90\n",
    "  AND mr.numvotes > 250000\n",
    "  \n",
    "  \n",
    "  ;\n",
    "\"\"\", conn)\n",
    "#ORDER BY mr.numvotes, mb.runtime_minutes DESC\n",
    "#AND mr.numvotes > 400000\n",
    "#  AND mr.averagerating > 6\n",
    "sample.info()\n",
    "#poblation.tail()"
   ]
  },
  {
   "cell_type": "code",
   "execution_count": 233,
   "metadata": {},
   "outputs": [
    {
     "data": {
      "text/html": [
       "<div>\n",
       "<style scoped>\n",
       "    .dataframe tbody tr th:only-of-type {\n",
       "        vertical-align: middle;\n",
       "    }\n",
       "\n",
       "    .dataframe tbody tr th {\n",
       "        vertical-align: top;\n",
       "    }\n",
       "\n",
       "    .dataframe thead th {\n",
       "        text-align: right;\n",
       "    }\n",
       "</style>\n",
       "<table border=\"1\" class=\"dataframe\">\n",
       "  <thead>\n",
       "    <tr style=\"text-align: right;\">\n",
       "      <th></th>\n",
       "      <th>runtime_minutes</th>\n",
       "      <th>numvotes</th>\n",
       "      <th>averagerating</th>\n",
       "    </tr>\n",
       "  </thead>\n",
       "  <tbody>\n",
       "    <tr>\n",
       "      <th>count</th>\n",
       "      <td>194.000000</td>\n",
       "      <td>1.940000e+02</td>\n",
       "      <td>194.000000</td>\n",
       "    </tr>\n",
       "    <tr>\n",
       "      <th>mean</th>\n",
       "      <td>119.850515</td>\n",
       "      <td>4.421106e+05</td>\n",
       "      <td>7.375773</td>\n",
       "    </tr>\n",
       "    <tr>\n",
       "      <th>std</th>\n",
       "      <td>15.259528</td>\n",
       "      <td>1.858725e+05</td>\n",
       "      <td>0.629566</td>\n",
       "    </tr>\n",
       "    <tr>\n",
       "      <th>min</th>\n",
       "      <td>91.000000</td>\n",
       "      <td>2.522810e+05</td>\n",
       "      <td>4.100000</td>\n",
       "    </tr>\n",
       "    <tr>\n",
       "      <th>25%</th>\n",
       "      <td>108.000000</td>\n",
       "      <td>3.154860e+05</td>\n",
       "      <td>7.000000</td>\n",
       "    </tr>\n",
       "    <tr>\n",
       "      <th>50%</th>\n",
       "      <td>120.000000</td>\n",
       "      <td>3.938130e+05</td>\n",
       "      <td>7.500000</td>\n",
       "    </tr>\n",
       "    <tr>\n",
       "      <th>75%</th>\n",
       "      <td>132.000000</td>\n",
       "      <td>5.311872e+05</td>\n",
       "      <td>7.800000</td>\n",
       "    </tr>\n",
       "    <tr>\n",
       "      <th>max</th>\n",
       "      <td>149.000000</td>\n",
       "      <td>1.841066e+06</td>\n",
       "      <td>8.800000</td>\n",
       "    </tr>\n",
       "  </tbody>\n",
       "</table>\n",
       "</div>"
      ],
      "text/plain": [
       "       runtime_minutes      numvotes  averagerating\n",
       "count       194.000000  1.940000e+02     194.000000\n",
       "mean        119.850515  4.421106e+05       7.375773\n",
       "std          15.259528  1.858725e+05       0.629566\n",
       "min          91.000000  2.522810e+05       4.100000\n",
       "25%         108.000000  3.154860e+05       7.000000\n",
       "50%         120.000000  3.938130e+05       7.500000\n",
       "75%         132.000000  5.311872e+05       7.800000\n",
       "max         149.000000  1.841066e+06       8.800000"
      ]
     },
     "execution_count": 233,
     "metadata": {},
     "output_type": "execute_result"
    }
   ],
   "source": [
    "sample.describe()"
   ]
  },
  {
   "cell_type": "code",
   "execution_count": 234,
   "metadata": {
    "scrolled": true
   },
   "outputs": [
    {
     "name": "stdout",
     "output_type": "stream",
     "text": [
      "119.85051546391753 15.259527720785385\n"
     ]
    }
   ],
   "source": [
    "s_mean=sample[\"runtime_minutes\"].mean()\n",
    "s_std=sample[\"runtime_minutes\"].std()\n",
    "print(s_mean,s_std)"
   ]
  },
  {
   "cell_type": "markdown",
   "metadata": {},
   "source": [
    "# Z-score"
   ]
  },
  {
   "cell_type": "code",
   "execution_count": 235,
   "metadata": {},
   "outputs": [
    {
     "data": {
      "text/plain": [
       "-1.5817247518946056"
      ]
     },
     "execution_count": 235,
     "metadata": {},
     "output_type": "execute_result"
    }
   ],
   "source": [
    "z = (s_mean - p_mean)/(p_std/np.sqrt(78))\n",
    "z"
   ]
  },
  {
   "cell_type": "code",
   "execution_count": 236,
   "metadata": {},
   "outputs": [
    {
     "data": {
      "text/plain": [
       "0.05685620981403068"
      ]
     },
     "execution_count": 236,
     "metadata": {},
     "output_type": "execute_result"
    }
   ],
   "source": [
    "stats.norm.cdf(z)"
   ]
  },
  {
   "cell_type": "code",
   "execution_count": 197,
   "metadata": {},
   "outputs": [
    {
     "name": "stdout",
     "output_type": "stream",
     "text": [
      "0.9999999619655949\n"
     ]
    }
   ],
   "source": [
    "print(1 - stats.norm.cdf(z))"
   ]
  },
  {
   "cell_type": "markdown",
   "metadata": {},
   "source": [
    "# Testing\n"
   ]
  },
  {
   "cell_type": "code",
   "execution_count": 181,
   "metadata": {},
   "outputs": [
    {
     "data": {
      "text/plain": [
       "(0.03593031911292577, 1.8, 536.0)"
      ]
     },
     "execution_count": 181,
     "metadata": {},
     "output_type": "execute_result"
    }
   ],
   "source": [
    "import numpy as np \n",
    "x = np.array([434, 694, 457, 534, 720, 400, 484, 478, 610, 641, 425, 636, 454,\n",
    "514, 563, 370, 499, 640, 501, 625, 612, 471, 598, 509, 531])\n",
    "x_bar = x.mean()\n",
    "n = len(x)\n",
    "mu = 500\n",
    "sigma = 100\n",
    "z = (x_bar - mu)/(sigma/np.sqrt(n))\n",
    "p = 1 - stats.norm.cdf(z)\n",
    "p,z, x.mean()\n"
   ]
  },
  {
   "cell_type": "markdown",
   "metadata": {},
   "source": [
    "# Correlation"
   ]
  },
  {
   "cell_type": "markdown",
   "metadata": {},
   "source": [
    "## Sample"
   ]
  },
  {
   "cell_type": "code",
   "execution_count": 237,
   "metadata": {},
   "outputs": [],
   "source": [
    "cr_s_run=list(sample[\"runtime_minutes\"])\n",
    "cr_s_rat=list(sample[\"numvotes\"])\n",
    "#print(cr_s_run,cr_s_votes)"
   ]
  },
  {
   "cell_type": "code",
   "execution_count": 244,
   "metadata": {
    "scrolled": true
   },
   "outputs": [
    {
     "name": "stderr",
     "output_type": "stream",
     "text": [
      "No handles with labels found to put in legend.\n"
     ]
    },
    {
     "data": {
      "image/png": "[encoded data removed]",
      "text/plain": [
       "<Figure size 432x288 with 1 Axes>"
      ]
     },
     "metadata": {
      "needs_background": "light"
     },
     "output_type": "display_data"
    }
   ],
   "source": [
    "fig, ax = plt.subplots()\n",
    "\n",
    "ax.scatter(cr_s_run, cr_s_rat)\n",
    "#label=\"actual data\"\n",
    "\n",
    "x_bounds = [min(cr_s_run), max(cr_s_run)]\n",
    "y_bounds = [800000,800000]\n",
    "\n",
    "#ax.plot(cr_s_run, y_bounds, \"--\", label=\"perfect correlation\")\n",
    "\n",
    "ax.set_title(\"-\")\n",
    "ax.set_xlabel(\"Runtime\")\n",
    "ax.set_ylabel(\"Number of votes\")\n",
    "\n",
    "ax.legend();"
   ]
  },
  {
   "cell_type": "markdown",
   "metadata": {},
   "source": [
    "## Poblation"
   ]
  },
  {
   "cell_type": "code",
   "execution_count": 240,
   "metadata": {},
   "outputs": [
    {
     "data": {
      "text/plain": [
       "217"
      ]
     },
     "execution_count": 240,
     "metadata": {},
     "output_type": "execute_result"
    }
   ],
   "source": [
    "cr_p_run=list(poblation[\"runtime_minutes\"])\n",
    "cr_p_rat=list(poblation[\"numvotes\"])\n",
    "len(cr_p_run)\n",
    "#print(cr_s_run,cr_s_votes)"
   ]
  },
  {
   "cell_type": "code",
   "execution_count": 241,
   "metadata": {},
   "outputs": [
    {
     "name": "stderr",
     "output_type": "stream",
     "text": [
      "No handles with labels found to put in legend.\n"
     ]
    },
    {
     "data": {
      "image/png": "[encoded data removed]",
      "text/plain": [
       "<Figure size 432x288 with 1 Axes>"
      ]
     },
     "metadata": {
      "needs_background": "light"
     },
     "output_type": "display_data"
    }
   ],
   "source": [
    "fig, ax = plt.subplots()\n",
    "\n",
    "ax.scatter(cr_p_run, cr_p_rat)\n",
    "#label=\"actual data\"\n",
    "\n",
    "x_bounds = [min(cr_p_run), max(cr_p_run)]\n",
    "y_bounds = [min(cr_p_rat), max(cr_p_rat)]\n",
    "\n",
    "#ax.plot(x_bounds, y_bounds, \"--\", label=\"perfect correlation\")\n",
    "\n",
    "ax.set_title(\"-\")\n",
    "ax.set_xlabel(\"Runtime\")\n",
    "ax.set_ylabel(\"Number of votes\")\n",
    "\n",
    "ax.legend();"
   ]
  },
  {
   "cell_type": "code",
   "execution_count": 92,
   "metadata": {},
   "outputs": [
    {
     "data": {
      "text/html": [
       "<div>\n",
       "<style scoped>\n",
       "    .dataframe tbody tr th:only-of-type {\n",
       "        vertical-align: middle;\n",
       "    }\n",
       "\n",
       "    .dataframe tbody tr th {\n",
       "        vertical-align: top;\n",
       "    }\n",
       "\n",
       "    .dataframe thead th {\n",
       "        text-align: right;\n",
       "    }\n",
       "</style>\n",
       "<table border=\"1\" class=\"dataframe\">\n",
       "  <thead>\n",
       "    <tr style=\"text-align: right;\">\n",
       "      <th></th>\n",
       "      <th>averagerating</th>\n",
       "    </tr>\n",
       "  </thead>\n",
       "  <tbody>\n",
       "    <tr>\n",
       "      <th>0</th>\n",
       "      <td>8.6</td>\n",
       "    </tr>\n",
       "    <tr>\n",
       "      <th>1</th>\n",
       "      <td>5.8</td>\n",
       "    </tr>\n",
       "    <tr>\n",
       "      <th>2</th>\n",
       "      <td>7.2</td>\n",
       "    </tr>\n",
       "    <tr>\n",
       "      <th>3</th>\n",
       "      <td>8.0</td>\n",
       "    </tr>\n",
       "    <tr>\n",
       "      <th>4</th>\n",
       "      <td>6.8</td>\n",
       "    </tr>\n",
       "  </tbody>\n",
       "</table>\n",
       "</div>"
      ],
      "text/plain": [
       "   averagerating\n",
       "0            8.6\n",
       "1            5.8\n",
       "2            7.2\n",
       "3            8.0\n",
       "4            6.8"
      ]
     },
     "execution_count": 92,
     "metadata": {},
     "output_type": "execute_result"
    }
   ],
   "source": [
    "nueva1= pd.read_sql(\"\"\"\n",
    "SELECT mr.averagerating\n",
    "  FROM movie_basics mb\n",
    "  JOIN movie_ratings mr USING(movie_id) \n",
    "  WHERE mb.runtime_minutes AND mb.genres IS NOT Null \n",
    " \n",
    "  ORDER BY mr.numvotes, mb.runtime_minutes DESC\n",
    "  \n",
    "  \n",
    "  ;\n",
    "\"\"\", conn)\n",
    "#\n",
    "nueva1.head()"
   ]
  },
  {
   "cell_type": "code",
   "execution_count": 106,
   "metadata": {},
   "outputs": [
    {
     "data": {
      "text/html": [
       "<div>\n",
       "<style scoped>\n",
       "    .dataframe tbody tr th:only-of-type {\n",
       "        vertical-align: middle;\n",
       "    }\n",
       "\n",
       "    .dataframe tbody tr th {\n",
       "        vertical-align: top;\n",
       "    }\n",
       "\n",
       "    .dataframe thead th {\n",
       "        text-align: right;\n",
       "    }\n",
       "</style>\n",
       "<table border=\"1\" class=\"dataframe\">\n",
       "  <thead>\n",
       "    <tr style=\"text-align: right;\">\n",
       "      <th></th>\n",
       "      <th>runtime_minutes</th>\n",
       "      <th>numvotes</th>\n",
       "      <th>averagerating</th>\n",
       "      <th>genres</th>\n",
       "    </tr>\n",
       "  </thead>\n",
       "  <tbody>\n",
       "    <tr>\n",
       "      <th>0</th>\n",
       "      <td>51420.0</td>\n",
       "      <td>17</td>\n",
       "      <td>5.0</td>\n",
       "      <td>Documentary</td>\n",
       "    </tr>\n",
       "    <tr>\n",
       "      <th>1</th>\n",
       "      <td>14400.0</td>\n",
       "      <td>69</td>\n",
       "      <td>6.2</td>\n",
       "      <td>Documentary</td>\n",
       "    </tr>\n",
       "    <tr>\n",
       "      <th>2</th>\n",
       "      <td>1440.0</td>\n",
       "      <td>219</td>\n",
       "      <td>8.9</td>\n",
       "      <td>Drama</td>\n",
       "    </tr>\n",
       "    <tr>\n",
       "      <th>3</th>\n",
       "      <td>1100.0</td>\n",
       "      <td>5</td>\n",
       "      <td>8.6</td>\n",
       "      <td>Comedy,History</td>\n",
       "    </tr>\n",
       "    <tr>\n",
       "      <th>4</th>\n",
       "      <td>808.0</td>\n",
       "      <td>100</td>\n",
       "      <td>8.5</td>\n",
       "      <td>Drama,Fantasy,Musical</td>\n",
       "    </tr>\n",
       "    <tr>\n",
       "      <th>5</th>\n",
       "      <td>746.0</td>\n",
       "      <td>162</td>\n",
       "      <td>8.2</td>\n",
       "      <td>Documentary</td>\n",
       "    </tr>\n",
       "    <tr>\n",
       "      <th>6</th>\n",
       "      <td>724.0</td>\n",
       "      <td>59</td>\n",
       "      <td>8.5</td>\n",
       "      <td>Documentary</td>\n",
       "    </tr>\n",
       "    <tr>\n",
       "      <th>7</th>\n",
       "      <td>720.0</td>\n",
       "      <td>19</td>\n",
       "      <td>7.8</td>\n",
       "      <td>Documentary</td>\n",
       "    </tr>\n",
       "    <tr>\n",
       "      <th>8</th>\n",
       "      <td>607.0</td>\n",
       "      <td>218</td>\n",
       "      <td>9.3</td>\n",
       "      <td>Documentary</td>\n",
       "    </tr>\n",
       "    <tr>\n",
       "      <th>9</th>\n",
       "      <td>601.0</td>\n",
       "      <td>22</td>\n",
       "      <td>8.6</td>\n",
       "      <td>Drama</td>\n",
       "    </tr>\n",
       "    <tr>\n",
       "      <th>10</th>\n",
       "      <td>500.0</td>\n",
       "      <td>13</td>\n",
       "      <td>6.1</td>\n",
       "      <td>Documentary</td>\n",
       "    </tr>\n",
       "    <tr>\n",
       "      <th>11</th>\n",
       "      <td>495.0</td>\n",
       "      <td>96</td>\n",
       "      <td>8.3</td>\n",
       "      <td>Documentary</td>\n",
       "    </tr>\n",
       "    <tr>\n",
       "      <th>12</th>\n",
       "      <td>485.0</td>\n",
       "      <td>150</td>\n",
       "      <td>7.8</td>\n",
       "      <td>Adventure,Drama,Fantasy</td>\n",
       "    </tr>\n",
       "    <tr>\n",
       "      <th>13</th>\n",
       "      <td>480.0</td>\n",
       "      <td>26</td>\n",
       "      <td>4.2</td>\n",
       "      <td>Drama</td>\n",
       "    </tr>\n",
       "    <tr>\n",
       "      <th>14</th>\n",
       "      <td>480.0</td>\n",
       "      <td>6</td>\n",
       "      <td>6.8</td>\n",
       "      <td>Documentary</td>\n",
       "    </tr>\n",
       "    <tr>\n",
       "      <th>15</th>\n",
       "      <td>476.0</td>\n",
       "      <td>247</td>\n",
       "      <td>6.4</td>\n",
       "      <td>Documentary</td>\n",
       "    </tr>\n",
       "    <tr>\n",
       "      <th>16</th>\n",
       "      <td>467.0</td>\n",
       "      <td>14946</td>\n",
       "      <td>8.9</td>\n",
       "      <td>Biography,Crime,Documentary</td>\n",
       "    </tr>\n",
       "    <tr>\n",
       "      <th>17</th>\n",
       "      <td>450.0</td>\n",
       "      <td>43</td>\n",
       "      <td>6.7</td>\n",
       "      <td>Biography,Documentary,History</td>\n",
       "    </tr>\n",
       "    <tr>\n",
       "      <th>18</th>\n",
       "      <td>416.0</td>\n",
       "      <td>9</td>\n",
       "      <td>8.4</td>\n",
       "      <td>Documentary</td>\n",
       "    </tr>\n",
       "    <tr>\n",
       "      <th>19</th>\n",
       "      <td>383.0</td>\n",
       "      <td>6</td>\n",
       "      <td>9.2</td>\n",
       "      <td>Music</td>\n",
       "    </tr>\n",
       "  </tbody>\n",
       "</table>\n",
       "</div>"
      ],
      "text/plain": [
       "    runtime_minutes  numvotes  averagerating                         genres\n",
       "0           51420.0        17            5.0                    Documentary\n",
       "1           14400.0        69            6.2                    Documentary\n",
       "2            1440.0       219            8.9                          Drama\n",
       "3            1100.0         5            8.6                 Comedy,History\n",
       "4             808.0       100            8.5          Drama,Fantasy,Musical\n",
       "5             746.0       162            8.2                    Documentary\n",
       "6             724.0        59            8.5                    Documentary\n",
       "7             720.0        19            7.8                    Documentary\n",
       "8             607.0       218            9.3                    Documentary\n",
       "9             601.0        22            8.6                          Drama\n",
       "10            500.0        13            6.1                    Documentary\n",
       "11            495.0        96            8.3                    Documentary\n",
       "12            485.0       150            7.8        Adventure,Drama,Fantasy\n",
       "13            480.0        26            4.2                          Drama\n",
       "14            480.0         6            6.8                    Documentary\n",
       "15            476.0       247            6.4                    Documentary\n",
       "16            467.0     14946            8.9    Biography,Crime,Documentary\n",
       "17            450.0        43            6.7  Biography,Documentary,History\n",
       "18            416.0         9            8.4                    Documentary\n",
       "19            383.0         6            9.2                          Music"
      ]
     },
     "execution_count": 106,
     "metadata": {},
     "output_type": "execute_result"
    }
   ],
   "source": [
    "allruntime= pd.read_sql(\"\"\"\n",
    "SELECT mb.runtime_minutes, mr.numvotes, mr.averagerating, mb.genres\n",
    "  FROM movie_basics mb\n",
    "  JOIN movie_ratings mr USING(movie_id) \n",
    "  WHERE mb.runtime_minutes AND mb.genres IS NOT Null \n",
    " \n",
    "  ORDER BY mb.runtime_minutes DESC\n",
    "  \n",
    "  \n",
    "  ;\n",
    "\"\"\", conn)\n",
    "#\n",
    "allruntime.head(20)\n",
    "# AND mr.numvotes > 40000\n",
    "# GROUP BY mb.genres"
   ]
  },
  {
   "cell_type": "code",
   "execution_count": 56,
   "metadata": {},
   "outputs": [
    {
     "data": {
      "text/plain": [
       "0.01242764319536531"
      ]
     },
     "execution_count": 56,
     "metadata": {},
     "output_type": "execute_result"
    }
   ],
   "source": [
    "run=list(allruntime[\"runtime_minutes\"])\n",
    "votes=list(allruntime[\"numvotes\"])\n",
    "#print(run,rat)\n",
    "correlation = np.corrcoef(run,votes)\n",
    "correlation[0][1]"
   ]
  },
  {
   "cell_type": "code",
   "execution_count": 57,
   "metadata": {},
   "outputs": [
    {
     "data": {
      "text/plain": [
       "83495.60323921194"
      ]
     },
     "execution_count": 57,
     "metadata": {},
     "output_type": "execute_result"
    }
   ],
   "source": [
    "covariance = np.cov(run,votes)\n",
    "covariance[0][1]"
   ]
  },
  {
   "cell_type": "code",
   "execution_count": 58,
   "metadata": {},
   "outputs": [
    {
     "data": {
      "text/plain": [
       "209.37542392280452"
      ]
     },
     "execution_count": 58,
     "metadata": {},
     "output_type": "execute_result"
    }
   ],
   "source": [
    "rm=sum(run)/65720\n",
    "rst=np.std(run)\n",
    "rst"
   ]
  },
  {
   "cell_type": "code",
   "execution_count": 59,
   "metadata": {},
   "outputs": [
    {
     "data": {
      "text/plain": [
       "94.7322732805843"
      ]
     },
     "execution_count": 59,
     "metadata": {},
     "output_type": "execute_result"
    }
   ],
   "source": [
    "rm"
   ]
  },
  {
   "cell_type": "code",
   "execution_count": 61,
   "metadata": {},
   "outputs": [
    {
     "name": "stdout",
     "output_type": "stream",
     "text": [
      "3954.6738435788193 32087.99038387164\n"
     ]
    }
   ],
   "source": [
    "vm=sum(votes)/65720\n",
    "vst=np.std(votes)\n",
    "print(vm, vst)"
   ]
  },
  {
   "cell_type": "code",
   "execution_count": 83,
   "metadata": {},
   "outputs": [],
   "source": [
    "# plotrun=allruntime[\"runtime_minutes\"]\n",
    "# plotrun.info()"
   ]
  },
  {
   "cell_type": "code",
   "execution_count": 247,
   "metadata": {},
   "outputs": [
    {
     "name": "stdout",
     "output_type": "stream",
     "text": [
      "<class 'pandas.core.frame.DataFrame'>\n",
      "RangeIndex: 15 entries, 0 to 14\n",
      "Data columns (total 1 columns):\n",
      " #   Column           Non-Null Count  Dtype  \n",
      "---  ------           --------------  -----  \n",
      " 0   runtime_minutes  15 non-null     float64\n",
      "dtypes: float64(1)\n",
      "memory usage: 248.0 bytes\n"
     ]
    },
    {
     "data": {
      "text/html": [
       "<div>\n",
       "<style scoped>\n",
       "    .dataframe tbody tr th:only-of-type {\n",
       "        vertical-align: middle;\n",
       "    }\n",
       "\n",
       "    .dataframe tbody tr th {\n",
       "        vertical-align: top;\n",
       "    }\n",
       "\n",
       "    .dataframe thead th {\n",
       "        text-align: right;\n",
       "    }\n",
       "</style>\n",
       "<table border=\"1\" class=\"dataframe\">\n",
       "  <thead>\n",
       "    <tr style=\"text-align: right;\">\n",
       "      <th></th>\n",
       "      <th>runtime_minutes</th>\n",
       "    </tr>\n",
       "  </thead>\n",
       "  <tbody>\n",
       "    <tr>\n",
       "      <th>10</th>\n",
       "      <td>91.0</td>\n",
       "    </tr>\n",
       "    <tr>\n",
       "      <th>11</th>\n",
       "      <td>165.0</td>\n",
       "    </tr>\n",
       "    <tr>\n",
       "      <th>12</th>\n",
       "      <td>121.0</td>\n",
       "    </tr>\n",
       "    <tr>\n",
       "      <th>13</th>\n",
       "      <td>149.0</td>\n",
       "    </tr>\n",
       "    <tr>\n",
       "      <th>14</th>\n",
       "      <td>136.0</td>\n",
       "    </tr>\n",
       "  </tbody>\n",
       "</table>\n",
       "</div>"
      ],
      "text/plain": [
       "    runtime_minutes\n",
       "10             91.0\n",
       "11            165.0\n",
       "12            121.0\n",
       "13            149.0\n",
       "14            136.0"
      ]
     },
     "execution_count": 247,
     "metadata": {},
     "output_type": "execute_result"
    }
   ],
   "source": [
    "rat= pd.read_sql(\"\"\"\n",
    "SELECT mb.runtime_minutes\n",
    "  FROM movie_basics mb\n",
    "  JOIN movie_ratings mr USING(movie_id) \n",
    "  WHERE mb.runtime_minutes AND mb.genres IS NOT Null \n",
    "  AND mb.runtime_minutes < 400 AND mb.runtime_minutes > 40\n",
    "  AND mr.numvotes > 700000\n",
    "  \n",
    "  \n",
    "  ;\n",
    "\"\"\", conn)\n",
    "#ORDER BY mr.numvotes, mb.runtime_minutes DESC\n",
    "#AND mr.numvotes > 400000\n",
    "#  AND mr.averagerating > 6\n",
    "rat.info()\n",
    "rat.tail()"
   ]
  },
  {
   "cell_type": "code",
   "execution_count": 228,
   "metadata": {},
   "outputs": [
    {
     "data": {
      "text/plain": [
       "[<matplotlib.lines.Line2D at 0x2d6aafc9490>]"
      ]
     },
     "execution_count": 228,
     "metadata": {},
     "output_type": "execute_result"
    },
    {
     "data": {
      "image/png": "[encoded data removed]",
      "text/plain": [
       "<Figure size 432x288 with 1 Axes>"
      ]
     },
     "metadata": {
      "needs_background": "light"
     },
     "output_type": "display_data"
    }
   ],
   "source": [
    "\n",
    "vo=list(rat[\"numvotes\"])\n",
    "minu=list(rat[\"runtime_minutes\"])\n",
    "plt.plot(vo,minu,linestyle='dotted')"
   ]
  },
  {
   "cell_type": "code",
   "execution_count": 248,
   "metadata": {},
   "outputs": [
    {
     "name": "stderr",
     "output_type": "stream",
     "text": [
      "C:\\Users\\amalagonsanchez\\Anaconda3\\envs\\learn-env\\lib\\site-packages\\seaborn\\distributions.py:2551: FutureWarning: `distplot` is a deprecated function and will be removed in a future version. Please adapt your code to use either `displot` (a figure-level function with similar flexibility) or `histplot` (an axes-level function for histograms).\n",
      "  warnings.warn(msg, FutureWarning)\n"
     ]
    },
    {
     "data": {
      "text/plain": [
       "<AxesSubplot:ylabel='Density'>"
      ]
     },
     "execution_count": 248,
     "metadata": {},
     "output_type": "execute_result"
    },
    {
     "data": {
      "image/png": "[encoded data removed]",
      "text/plain": [
       "<Figure size 432x288 with 1 Axes>"
      ]
     },
     "metadata": {
      "needs_background": "light"
     },
     "output_type": "display_data"
    }
   ],
   "source": [
    "sbn.distplot(rat)"
   ]
  },
  {
   "cell_type": "markdown",
   "metadata": {},
   "source": [
    "## Hypothesis"
   ]
  },
  {
   "cell_type": "markdown",
   "metadata": {},
   "source": [
    "H0 A movie with a duration of 120 min will have more than 250 000 votes as well as a big audience\n",
    "HA A movie with a duration of 120 min doesn't have more than 250 000 votes as well as a big audience"
   ]
  }
 ],
 "metadata": {
  "kernelspec": {
   "display_name": "Python (learn-env)",
   "language": "python",
   "name": "learn-env"
  },
  "language_info": {
   "codemirror_mode": {
    "name": "ipython",
    "version": 3
   },
   "file_extension": ".py",
   "mimetype": "text/x-python",
   "name": "python",
   "nbconvert_exporter": "python",
   "pygments_lexer": "ipython3",
   "version": "3.8.5"
  }
 },
 "nbformat": 4,
 "nbformat_minor": 4
}
